{
 "cells": [
  {
   "cell_type": "markdown",
   "metadata": {},
   "source": [
    "# Homework 4\n",
    "\n",
    "Let's get some more practice with lists and dictionaries. In the dictionary lecture, I used an address book as an example. Let's make a more comprehensive address book. First we will organize our information into lists. I'll get you started. Below I'm going to load 2 text files: the baby names that you saw in the previous homework, and \"lastnames.txt\", a list of common last names in the US, taken from here: <http://names.mongabay.com/data/1000.html>. You should copy both files into the same folder as this notebook. \n",
    "\n"
   ]
  },
  {
   "cell_type": "code",
   "execution_count": null,
   "metadata": {
    "collapsed": false
   },
   "outputs": [],
   "source": [
    "#read in the baby names\n",
    "with open('names.txt') as f:\n",
    "    firstnames = f.readlines()\n",
    "\n",
    "#read in the list of last names\n",
    "with open('lastnames.txt') as f:\n",
    "    lastnames = f.readlines()\n",
    "    \n",
    "#print the first 10\n",
    "print firstnames[:10]\n",
    "print lastnames[:10]\n"
   ]
  },
  {
   "cell_type": "code",
   "execution_count": null,
   "metadata": {
    "collapsed": false
   },
   "outputs": [],
   "source": []
  },
  {
   "cell_type": "markdown",
   "metadata": {},
   "source": [
    "### Problem 1\n",
    "\n",
    "a. First, clean up the 2 lists so they don't have any \\n characters, and so they're all uppercase. Make sure you're modifying the items in the original list, not creating a new one. So, you refer to each item by *position*, not by its *value*. Print the first 10 names of each list when you're done"
   ]
  },
  {
   "cell_type": "code",
   "execution_count": null,
   "metadata": {
    "collapsed": false
   },
   "outputs": [],
   "source": []
  },
  {
   "cell_type": "code",
   "execution_count": null,
   "metadata": {
    "collapsed": false
   },
   "outputs": [],
   "source": []
  },
  {
   "cell_type": "code",
   "execution_count": null,
   "metadata": {
    "collapsed": true
   },
   "outputs": [],
   "source": []
  },
  {
   "cell_type": "markdown",
   "metadata": {},
   "source": [
    "b.  Now use the `shuffle` function from the `random` package to shuffle each of the lists. Hint: this function does the shuffling in-place, so you **don't** need to say `firstnames = shuffle(firstnames)`. Print the first 10 names of each again. You should notice they're different now. "
   ]
  },
  {
   "cell_type": "code",
   "execution_count": null,
   "metadata": {
    "collapsed": false
   },
   "outputs": [],
   "source": []
  },
  {
   "cell_type": "markdown",
   "metadata": {},
   "source": [
    "c. Look at the lengths of each list. Which one is longer? If we wanted to combine the first and last names, do we have enough? Let's make things easy on ourselves. We want the lists to be the same length. Use the `sample` function from the `random` package to pull a random sample from the longer list that is the same length as our shorter list. Save this sample in a variable `shortfirst`. "
   ]
  },
  {
   "cell_type": "code",
   "execution_count": null,
   "metadata": {
    "collapsed": false
   },
   "outputs": [],
   "source": []
  },
  {
   "cell_type": "markdown",
   "metadata": {},
   "source": [
    "d. Now combine the first and last names using the `zip` function, saving the result into a variable called `fullnames`. Loop through `fullnames` and print the full name nicely. What is the data type of each element in fullnames?"
   ]
  },
  {
   "cell_type": "code",
   "execution_count": null,
   "metadata": {
    "collapsed": false
   },
   "outputs": [],
   "source": []
  },
  {
   "cell_type": "markdown",
   "metadata": {},
   "source": [
    "### Problem 2\n",
    "\n",
    "a. Now let's generate some random phone numbers for our address book. There is 1 more file you need, \"areacodes_states.csv\". Copy my code that reads in the file, but adapt it to load the csv file, and save the result in a list called `areacodes`. "
   ]
  },
  {
   "cell_type": "code",
   "execution_count": null,
   "metadata": {
    "collapsed": false
   },
   "outputs": [],
   "source": [
    "with open('areacodes_states.csv') as f:\n",
    "    areacodes = f.readlines()\n"
   ]
  },
  {
   "cell_type": "markdown",
   "metadata": {},
   "source": [
    "b. Notice that areacodes has the usual \\r\\n garbage for each line. We want to clean it up. First make a `for` loop that strips each line and saves the result into a list `cleaned`."
   ]
  },
  {
   "cell_type": "code",
   "execution_count": null,
   "metadata": {
    "collapsed": false
   },
   "outputs": [],
   "source": []
  },
  {
   "cell_type": "markdown",
   "metadata": {},
   "source": [
    "Hopefully you have a good handle on this process. Notice we need to do it a lot. Let me introduce you to a handy new function, called `map`. It is useful if you have to perform a function on each element of a list and save the result in a new list, like you just did above. Try this, and see if you get the same result: \n",
    "\n",
    "```python\n",
    "cleaned2 = map(str.strip,areacodes) #go through each element of areacodes, and do the strip method on it.\n",
    "cleaned2==cleaned #True or False\n",
    "```\n",
    "\n",
    "Yet another method is to use \"list comprehension\". The syntax goes like this: \n",
    "\n",
    "```python\n",
    "cleaned3 = [i.strip() for i in areacodes] #for each element in areacodes, call it i, and do i.strip() \n",
    "cleaned3==cleaned2 #True or False\n",
    "```\n",
    "\n",
    "Notice that these are more concise ways of doing the same thing as your loop. The list comprehension looks almost like your original loop, but flipped around. We will cover these in much more detail later, so don't worry if it's confusing.  Feel free to use the `map` function or list comprehension instead of a loop. If the loop is easier for you to understand, then keep looping! We will have a full lecture about these topics later.  "
   ]
  },
  {
   "cell_type": "code",
   "execution_count": null,
   "metadata": {
    "collapsed": false
   },
   "outputs": [],
   "source": []
  },
  {
   "cell_type": "code",
   "execution_count": null,
   "metadata": {
    "collapsed": false
   },
   "outputs": [],
   "source": []
  },
  {
   "cell_type": "markdown",
   "metadata": {},
   "source": [
    "c. Notice how each element of our list is organized. There is an abbreviation for a state (this includes all states in the Northwest), a comma, and an areacode-prefix combination. All this information is contained in a single string, so it's hard to extract just the state or just the areacode/prefix. Let's split it up. Use the `split` method on each element of `cleaned` to split the state and phone number information. Hint: you should end up with something similar to `fullnames`. Also, `map` will not quite work in this case, so use the looping method. "
   ]
  },
  {
   "cell_type": "code",
   "execution_count": null,
   "metadata": {
    "collapsed": false
   },
   "outputs": [],
   "source": []
  },
  {
   "cell_type": "markdown",
   "metadata": {},
   "source": [
    "d. Now use the `sample` function again to pull a random sample from state_number that will match the length of our `fullnames` list. Save into the variable `numbers`. Next,loop through `numbers` and add a random 4-digit number to the end of the phone number, so it's a full one. The minimum should be 900, and the maximum will be 9999 (you rarely see a phone number that ends in '0001'). "
   ]
  },
  {
   "cell_type": "code",
   "execution_count": null,
   "metadata": {
    "collapsed": false
   },
   "outputs": [],
   "source": []
  },
  {
   "cell_type": "code",
   "execution_count": null,
   "metadata": {
    "collapsed": false
   },
   "outputs": [],
   "source": []
  },
  {
   "cell_type": "markdown",
   "metadata": {},
   "source": [
    "e. Finally let's combine our name, state, and phone number information to make our contact list. Each element should be a lists that has [First,Last,State,Phonenumber]. We want to line up `fullnames` and `numbers` and squish them together into the same list. How do we do this? Well, if we use the `zip` function as part of a loop, it allows us to loop through 2 lists at once! \n",
    "\n",
    "I'll give you the basic setup. You want to combine the different bits of information into our list `contacts`.\n",
    "\n",
    "Hint: We know how to combine 2 lists, but each element in `fullnames` will be a tuple. Just convert to a list using the `list` function.\n"
   ]
  },
  {
   "cell_type": "code",
   "execution_count": null,
   "metadata": {
    "collapsed": false
   },
   "outputs": [],
   "source": [
    "contacts =[] #each element should be [first,last,state,phone]\n",
    "\n",
    "for names,nums in zip(fullnames,numbers):\n",
    "    print names,nums\n",
    "   "
   ]
  },
  {
   "cell_type": "markdown",
   "metadata": {},
   "source": [
    "### Problem 3\n",
    "\n",
    "a. We have a nice contact list now, but nothing is labelled. We would also like to add other things like Occupation or email address later on. Python dictionaries are better for this. Let's start with our `contacts` list, and create a new list `contactsD` where each element is a dictionary. First see if you can make a single contact dictionary by hand, using the information below. Do this using the curly-bracket {} method. The key names should be 'First','Last','State',and 'Phone'. Confirm that you can reference each bit of information (first name, phone number, etc.) from your dictionary, like this: \n",
    "```python\n",
    "personD['First']\n",
    "personD['Last']\n",
    "personD['State']\n",
    "personD['Phone']\n",
    "```"
   ]
  },
  {
   "cell_type": "code",
   "execution_count": null,
   "metadata": {
    "collapsed": false
   },
   "outputs": [],
   "source": [
    "#one of our elements from contacts will look like this\n",
    "person = ['Jason','Hubbard','OR','541-555-1234']\n",
    "\n",
    "personD = {#do your magic}\n"
   ]
  },
  {
   "cell_type": "markdown",
   "metadata": {},
   "source": [
    "b. Now do it using the `zip` function that \"zips\" together the key names and corresponding information."
   ]
  },
  {
   "cell_type": "code",
   "execution_count": null,
   "metadata": {
    "collapsed": false
   },
   "outputs": [],
   "source": [
    "#one of our elements from contacts will look like this\n",
    "person = ['Jason','Hubbard','OR','541-555-1234']\n",
    "# here is a list of our key names\n",
    "keynames = ['First','Last','State','Phone']\n",
    "\n"
   ]
  },
  {
   "cell_type": "markdown",
   "metadata": {},
   "source": [
    "c. You can do one, now see if you can do it for all your contacts. Loop through the original `contacts` list, create a dictionary out of each element, and save into a new `contactsD` list. "
   ]
  },
  {
   "cell_type": "code",
   "execution_count": null,
   "metadata": {
    "collapsed": false
   },
   "outputs": [],
   "source": [
    "contactsD = []\n"
   ]
  },
  {
   "cell_type": "markdown",
   "metadata": {},
   "source": [
    "d. Given the list of potential jobs below, give each one of your contacts a random 'Occupation'."
   ]
  },
  {
   "cell_type": "code",
   "execution_count": null,
   "metadata": {
    "collapsed": true
   },
   "outputs": [],
   "source": [
    "jobs = ['Baker','Plumber','Executive','Astronaut']\n",
    "\n"
   ]
  },
  {
   "cell_type": "markdown",
   "metadata": {},
   "source": [
    "e. As a last step, loop through the first 100 contacts and print out their information nicely. It should print first and last name on one line, then occupation, then state and phone number. Also print an empty line between each contact. "
   ]
  },
  {
   "cell_type": "code",
   "execution_count": null,
   "metadata": {
    "collapsed": false
   },
   "outputs": [],
   "source": []
  },
  {
   "cell_type": "code",
   "execution_count": null,
   "metadata": {
    "collapsed": true
   },
   "outputs": [],
   "source": []
  },
  {
   "cell_type": "code",
   "execution_count": null,
   "metadata": {
    "collapsed": true
   },
   "outputs": [],
   "source": []
  }
 ],
 "metadata": {
  "kernelspec": {
   "display_name": "Python 2",
   "language": "python",
   "name": "python2"
  },
  "language_info": {
   "codemirror_mode": {
    "name": "ipython",
    "version": 2
   },
   "file_extension": ".py",
   "mimetype": "text/x-python",
   "name": "python",
   "nbconvert_exporter": "python",
   "pygments_lexer": "ipython2",
   "version": "2.7.11"
  }
 },
 "nbformat": 4,
 "nbformat_minor": 0
}
