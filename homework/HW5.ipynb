{
 "cells": [
  {
   "cell_type": "markdown",
   "metadata": {},
   "source": [
    "## Homework 5"
   ]
  },
  {
   "cell_type": "markdown",
   "metadata": {},
   "source": [
    "### Problem 1\n",
    "\n",
    "Let's start by reading in some data in a csv file. We will start with a pretty simple one, but introduce a new fucntion. First, read in the file located at: \n",
    "\n",
    "R:\\Psy407_9\\Class_Data\\datasets\\ufo_sightings.csv\n",
    "\n",
    "a. This is a list of the number of recorded UFO sightings over time. Read the file in using the csv package save it into a list called `ufo`. Print `ufo` when done. "
   ]
  },
  {
   "cell_type": "code",
   "execution_count": null,
   "metadata": {
    "collapsed": false
   },
   "outputs": [],
   "source": []
  },
  {
   "cell_type": "markdown",
   "metadata": {},
   "source": [
    "b. Tell me a little bit about the organization (answer using code and comments in the cell below): \n",
    "\n",
    "* How many elements are in our ufo list? \n",
    "* What is the data type of each element in the list? \n",
    "* How many elements does each *element* have? \n",
    "    * What are their data types? "
   ]
  },
  {
   "cell_type": "code",
   "execution_count": null,
   "metadata": {
    "collapsed": true
   },
   "outputs": [],
   "source": []
  },
  {
   "cell_type": "markdown",
   "metadata": {},
   "source": [
    "Let's clean this up a bit. First, notice that each report is listed as a specific day, but really these are monthly reports. Knowing whether it's the 30th or 31st of the month is irrelevant. Here I'll introduce you to the `dateutil` package. It's designed for taking dates and parsing the relevant information from them. I'll first show you a simple example: "
   ]
  },
  {
   "cell_type": "code",
   "execution_count": null,
   "metadata": {
    "collapsed": false
   },
   "outputs": [],
   "source": [
    "from dateutil.parser import parse\n",
    "\n",
    "mydate = '2016-04-01' #this is just a string\n",
    "\n",
    "result = parse(mydate) #now we parse it as a date\n",
    "\n",
    "print type(result)\n"
   ]
  },
  {
   "cell_type": "markdown",
   "metadata": {},
   "source": [
    "Notice that the data type of result is something weird- 'datetime.datetime'. It has converted it to a special datetime object. The nice thing is, this object has convenient ways to get the information we want: "
   ]
  },
  {
   "cell_type": "code",
   "execution_count": null,
   "metadata": {
    "collapsed": false
   },
   "outputs": [],
   "source": [
    "print result.day\n",
    "print result.month\n",
    "print result.year"
   ]
  },
  {
   "cell_type": "markdown",
   "metadata": {},
   "source": [
    "c. Before we use `dateutil` to clean up our dates, see if you can use the built-in string methods to *split* the month, day, and year from `otherdate` below. "
   ]
  },
  {
   "cell_type": "code",
   "execution_count": null,
   "metadata": {
    "collapsed": false
   },
   "outputs": [],
   "source": [
    "otherdate = '2017-04-31'\n"
   ]
  },
  {
   "cell_type": "markdown",
   "metadata": {},
   "source": [
    "d. See if you can do the reverse. I have given you `datelist` below. See if you can take that and turn it into a string that's 'year-month-day' like the examples above"
   ]
  },
  {
   "cell_type": "code",
   "execution_count": null,
   "metadata": {
    "collapsed": false
   },
   "outputs": [],
   "source": [
    "datelist =['2018','04','28']\n",
    "\n"
   ]
  },
  {
   "cell_type": "markdown",
   "metadata": {},
   "source": [
    "So we can do it with built-in string methods, but it's nice to be able to say `mydate.year` to get the year. It's more meaningful to us humans. \n",
    "\n",
    "d. Now create another list, called `ufo_month` that is similar to `ufo`, except each entry will be 3 elements: the year, month, and count. Year and month should be strings, and count should be an `int`. So it should be something like this: \n",
    "\n",
    "In `ufo` it's like this:\n",
    "```python\n",
    "['1997-12-31', '500.0']\n",
    "```\n",
    "In `ufo_month` it will be this: \n",
    "```python\n",
    "['1997','12', 500]\n",
    "```\n",
    "\n",
    "\n",
    "You will use the `parse` function from `dateutil.parser` to split the date up into the year and month (HINT: by default it gives you the year and month as an `int`, but we want a `str`). You might have trouble converting a string like '50.0' to an int directly. You should convert to a `float` first. Notice your `ufo` list has the column names as the first element in the list-- this may cause problems. "
   ]
  },
  {
   "cell_type": "code",
   "execution_count": null,
   "metadata": {
    "collapsed": false
   },
   "outputs": [],
   "source": []
  },
  {
   "cell_type": "markdown",
   "metadata": {},
   "source": [
    "e. This is a nicer organization. Let's write the result to a new csv file using `csv.writer`. Save the file as: \n",
    "\n",
    "R:\\Psy407_9\\Student_Data\\MYDUCKID\\ufo_bymonth.csv\n",
    "\n",
    "Make sure to give it column names at the top of the file! "
   ]
  },
  {
   "cell_type": "code",
   "execution_count": null,
   "metadata": {
    "collapsed": false
   },
   "outputs": [],
   "source": []
  },
  {
   "cell_type": "markdown",
   "metadata": {},
   "source": [
    "f. Now let's organize the same information in a dictionary. I want to be able to access the information by year like this: \n",
    "\n",
    "```python\n",
    "ufoD['1987']['months']\n",
    "ufoD['1987']['counts']\n",
    "\n",
    "```\n",
    "\n",
    "Each statement above should return a list. \n",
    "\n",
    "This will require you to loop through `ufo_month` and add your information to your new dictionary, `ufoD`. The problem is, you will have multiple entries for the year. You can check if a key already exists in a dictionary like this: \n",
    "\n",
    "```python\n",
    "\n",
    "'1987' in ufoD\n",
    "\n",
    "```\n",
    "\n",
    "It will output `True` or `False`. That means you can use it as part of an `if` statement. Think about what you do differently when you come across the first entry for 1987, versus the 10th entry. "
   ]
  },
  {
   "cell_type": "code",
   "execution_count": null,
   "metadata": {
    "collapsed": false
   },
   "outputs": [],
   "source": []
  },
  {
   "cell_type": "markdown",
   "metadata": {},
   "source": [
    "g. Let's make use of the new organization. How many total UFO sightings were there in your birth year? You can use the built-in `sum` function to get the sum of numbers in a list. How many were there in 1992 (if that wasn't your birth year)? "
   ]
  },
  {
   "cell_type": "code",
   "execution_count": null,
   "metadata": {
    "collapsed": false
   },
   "outputs": [],
   "source": [
    "#assuming you were born in 1992\n",
    "\n"
   ]
  },
  {
   "cell_type": "markdown",
   "metadata": {},
   "source": [
    "h. Lastly, add up the total number of UFO sightings that have occurred since 1992"
   ]
  },
  {
   "cell_type": "code",
   "execution_count": null,
   "metadata": {
    "collapsed": false
   },
   "outputs": [],
   "source": []
  },
  {
   "cell_type": "markdown",
   "metadata": {
    "collapsed": true
   },
   "source": [
    "### Problem 2\n",
    "\n",
    "Often times, you want to combine information across many files. Let's get some practice doing this. First, we need to move to the proper folder where a bunch of text files are kept. \n",
    "\n",
    "a. use the `os.chdir` function to move to **R:\\Class_Data\\datasets\\baby_names_all\\ ** then use the `%pwd` function to print your current directory"
   ]
  },
  {
   "cell_type": "code",
   "execution_count": null,
   "metadata": {
    "collapsed": false
   },
   "outputs": [],
   "source": []
  },
  {
   "cell_type": "markdown",
   "metadata": {},
   "source": [
    "b. Now use the `%ls` function to print out all files in the folder. Tell me in the comments what's in there. "
   ]
  },
  {
   "cell_type": "code",
   "execution_count": null,
   "metadata": {
    "collapsed": true
   },
   "outputs": [],
   "source": []
  },
  {
   "cell_type": "markdown",
   "metadata": {},
   "source": [
    "c. Now use the `glob` function to save the names of all the `.txt` files as a list caled `txtfiles`."
   ]
  },
  {
   "cell_type": "code",
   "execution_count": null,
   "metadata": {
    "collapsed": true
   },
   "outputs": [],
   "source": []
  },
  {
   "cell_type": "markdown",
   "metadata": {},
   "source": [
    "d. Now read in the first txt file and use the `readlines` function to save its contents into a list called `test`. Print the first 10 elements. "
   ]
  },
  {
   "cell_type": "code",
   "execution_count": null,
   "metadata": {
    "collapsed": true
   },
   "outputs": [],
   "source": []
  },
  {
   "cell_type": "markdown",
   "metadata": {},
   "source": [
    "### Problem 3\n",
    "\n",
    "What information is this? Well, this is more baby names. All of these files come from a database that the social security administration has kept since the 1800s of (almost) all baby names registered in the US. Each name has a corresponding gender, and a frequency of how often it occurred. I say it contains almost all names because it doesn't include ones with really low frequencies. \n",
    "\n",
    "The file name tells you the \"year of birth\" (yob), and the contents are the actual information. Each file has 3 \"columns\" of data: name, gender, and frequency. These are separated by commas. \n",
    "\n",
    "There's a straightforward way to organize this information. Let's make a dictionary called `babynames`. \n",
    "* Each key in that dictionary will be a year. \n",
    "* The value will be another dictionary with the keys \"names\", \"genders\", and \"frequencies\"\n",
    "* Each of those will be a list of the names, genders, and frequencies for that year\n",
    "\n",
    "So, when I want to list all names, genders, and frequencies from the year 1992, I should be able to do this: \n",
    "\n",
    "```python\n",
    "all92names = babynames['1992']['names']\n",
    "all92genders = babynames['1992']['genders']\n",
    "all92frequencies = babynames['1992']['frequencies']\n",
    "```\n",
    "\n",
    "`all92names`, `all92genders`, and `all92frequncies` would be all be lists, and they should be the same length!\n",
    "\n",
    "Time to take the training wheels off. I'm not giving any guidance here. Try to think through the problem and make it happen! Hint: start by making it work with 1 file. Once you do that, then wrap a loop around it so it loops through all files. \n",
    "\n",
    "Once you get it to work, print the first 50 names, genders, and frequencies from the year 1995. "
   ]
  },
  {
   "cell_type": "code",
   "execution_count": null,
   "metadata": {
    "collapsed": true
   },
   "outputs": [],
   "source": []
  },
  {
   "cell_type": "code",
   "execution_count": null,
   "metadata": {
    "collapsed": true
   },
   "outputs": [],
   "source": []
  },
  {
   "cell_type": "code",
   "execution_count": null,
   "metadata": {
    "collapsed": true
   },
   "outputs": [],
   "source": []
  },
  {
   "cell_type": "markdown",
   "metadata": {},
   "source": [
    "### Problem 4\n",
    "\n",
    "Once you have that, see if you can give me some information from `babynames`.\n",
    "\n",
    "* a. All girl names from 1984\n",
    "* b. All names in 1990 where the frequency is greater than 5000\n",
    "* c. The most popular name in 1965\n",
    "* d. The least popular name in 1950"
   ]
  },
  {
   "cell_type": "code",
   "execution_count": null,
   "metadata": {
    "collapsed": true
   },
   "outputs": [],
   "source": []
  },
  {
   "cell_type": "markdown",
   "metadata": {},
   "source": [
    "d. Lastly, let's combine all the information. Create 2 lists: `allgirls` and `allboys`. These lists will contain all the **unique** female and male names from **all years**. "
   ]
  },
  {
   "cell_type": "code",
   "execution_count": null,
   "metadata": {
    "collapsed": true
   },
   "outputs": [],
   "source": []
  },
  {
   "cell_type": "code",
   "execution_count": null,
   "metadata": {
    "collapsed": true
   },
   "outputs": [],
   "source": []
  },
  {
   "cell_type": "code",
   "execution_count": null,
   "metadata": {
    "collapsed": true
   },
   "outputs": [],
   "source": []
  }
 ],
 "metadata": {
  "kernelspec": {
   "display_name": "Python 2",
   "language": "python",
   "name": "python2"
  },
  "language_info": {
   "codemirror_mode": {
    "name": "ipython",
    "version": 2
   },
   "file_extension": ".py",
   "mimetype": "text/x-python",
   "name": "python",
   "nbconvert_exporter": "python",
   "pygments_lexer": "ipython2",
   "version": "2.7.11"
  }
 },
 "nbformat": 4,
 "nbformat_minor": 0
}
