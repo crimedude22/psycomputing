{
 "cells": [
  {
   "cell_type": "markdown",
   "metadata": {
    "collapsed": true
   },
   "source": [
    "# Homework 3 Answers\n",
    "\n",
    "### Problem 1\n",
    "\n",
    "Let's get some more practice dealing with lists and strings. First, I will give you the code to load in a text file and save the contents as a list (we will learn about this next week!). The file is a list of (almost) all baby names in the US for babies born in the year 2014. "
   ]
  },
  {
   "cell_type": "code",
   "execution_count": null,
   "metadata": {
    "collapsed": false
   },
   "outputs": [],
   "source": [
    "\n",
    "with open('./names.txt') as f:\n",
    "    names = f.readlines()\n",
    "    "
   ]
  },
  {
   "cell_type": "markdown",
   "metadata": {},
   "source": [
    "Print the following features of the list \"`names`\". Put each answer in a separate cell\n",
    "\n",
    "* a. The first 10 elements\n",
    "* b. The last 10 elements\n",
    "* c. Every 20th element\n",
    "* d. Starting from the last element, print every 100th one\n",
    "* e. The length of the list\n",
    "* f. The first 3 letters of the first element of the list"
   ]
  },
  {
   "cell_type": "code",
   "execution_count": null,
   "metadata": {
    "collapsed": false
   },
   "outputs": [],
   "source": [
    "#a\n",
    "\n",
    "names[:10]"
   ]
  },
  {
   "cell_type": "code",
   "execution_count": null,
   "metadata": {
    "collapsed": false
   },
   "outputs": [],
   "source": [
    "#b\n",
    "names[-10:]"
   ]
  },
  {
   "cell_type": "code",
   "execution_count": null,
   "metadata": {
    "collapsed": false
   },
   "outputs": [],
   "source": [
    "#c\n",
    "\n",
    "names[::20]"
   ]
  },
  {
   "cell_type": "code",
   "execution_count": null,
   "metadata": {
    "collapsed": false
   },
   "outputs": [],
   "source": [
    "#d\n",
    "names[::-100]"
   ]
  },
  {
   "cell_type": "code",
   "execution_count": null,
   "metadata": {
    "collapsed": false
   },
   "outputs": [],
   "source": [
    "#e\n",
    "len(names)"
   ]
  },
  {
   "cell_type": "code",
   "execution_count": null,
   "metadata": {
    "collapsed": false
   },
   "outputs": [],
   "source": [
    "#f\n",
    "\n",
    "names[0][:3]"
   ]
  },
  {
   "cell_type": "markdown",
   "metadata": {},
   "source": [
    "### Problem 2\n",
    "\n",
    "Let's make a copy of the larger list and manipulate it in different ways. First we create the copy: \n"
   ]
  },
  {
   "cell_type": "code",
   "execution_count": null,
   "metadata": {
    "collapsed": false
   },
   "outputs": [],
   "source": [
    "shortlist = names[:10]\n",
    "print shortlist"
   ]
  },
  {
   "cell_type": "markdown",
   "metadata": {},
   "source": [
    "a. First, clean up the list by removing all the \\n characters. In your comments, tell me what these are. Save the result into the variable `shortnames` and print the result. "
   ]
  },
  {
   "cell_type": "code",
   "execution_count": null,
   "metadata": {
    "collapsed": false
   },
   "outputs": [],
   "source": [
    "shortnames = []\n",
    "\n",
    "for i in shortlist:\n",
    "    shortnames.append(i.strip())\n",
    "\n",
    "print shortnames"
   ]
  },
  {
   "cell_type": "markdown",
   "metadata": {},
   "source": [
    "b. Now use the `sort` method to sort `shortnames` in alphabeitcal order. "
   ]
  },
  {
   "cell_type": "code",
   "execution_count": null,
   "metadata": {
    "collapsed": false
   },
   "outputs": [],
   "source": [
    "shortnames.sort()\n",
    "print shortnames"
   ]
  },
  {
   "cell_type": "markdown",
   "metadata": {},
   "source": [
    "c. Now change the list so the first 3 elements are \"Joseph\", \"Gordon\", \"Levitt\" and re-sort it so it's still in alphabetical order. "
   ]
  },
  {
   "cell_type": "code",
   "execution_count": null,
   "metadata": {
    "collapsed": false
   },
   "outputs": [],
   "source": [
    "shortnames[0:2] = ['Joseph','Gordon','Levitt']\n",
    "shortnames.sort()\n",
    "print shortnames"
   ]
  },
  {
   "cell_type": "markdown",
   "metadata": {},
   "source": [
    "d. Now make a new shorter list. This one will be the *last* 10 elements of our original `names` list. Make sure and remove the \\n characters, then combine it with the `shortnames` list. Re-sort the list, then print the list and the length. "
   ]
  },
  {
   "cell_type": "code",
   "execution_count": null,
   "metadata": {
    "collapsed": false
   },
   "outputs": [],
   "source": [
    "temp = names[-10:]\n",
    "newshort = []\n",
    "\n",
    "for i in temp:\n",
    "    newshort.append(i.strip())\n",
    "\n",
    "\n",
    "shortnames.extend(newshort)\n",
    "shortnames.sort()\n",
    "print shortnames\n",
    "print len(shortnames)\n",
    "\n"
   ]
  },
  {
   "cell_type": "markdown",
   "metadata": {},
   "source": [
    "### Problem 3\n",
    "\n",
    "a. Now back to the full list. Remove all the \\n characters, and capitalize all names, and save the result into the variable `names_clean`. Print the first 10 elements to make sure it worked"
   ]
  },
  {
   "cell_type": "code",
   "execution_count": null,
   "metadata": {
    "collapsed": false
   },
   "outputs": [],
   "source": [
    "names_clean = []\n",
    "\n",
    "for i in names:\n",
    "    names_clean.append(i.strip().upper())\n",
    "    \n",
    "print names_clean[:10]"
   ]
  },
  {
   "cell_type": "markdown",
   "metadata": {},
   "source": [
    "b. Now make a list called `a_names` that contains only the names that start with the letter A. Print the first 20 elements of `a_names` to make sure it works. How many names are there? "
   ]
  },
  {
   "cell_type": "code",
   "execution_count": null,
   "metadata": {
    "collapsed": false
   },
   "outputs": [],
   "source": [
    "a_names = []\n",
    "\n",
    "for i in names_clean: \n",
    "    if i.startswith('A'):\n",
    "        a_names.append(i)\n",
    "\n",
    "print a_names[:20]\n",
    "print len(a_names)"
   ]
  },
  {
   "cell_type": "markdown",
   "metadata": {},
   "source": [
    "c. Now make a nested list called `names_byletter`. Each element of the list will be a list itself. The first one will be all names that start with A, the second will be all names that start with B, then C, and so on. You **won't** need to make 26 different if statements! You can loop through a string just like a list. Below I've created a variable `letters` that has all letters from A to Z. You can loop through that to make your `names_byletter` variable. Note: you will need nested `for` loops! "
   ]
  },
  {
   "cell_type": "code",
   "execution_count": null,
   "metadata": {
    "collapsed": false
   },
   "outputs": [],
   "source": [
    "letters = 'ABCDEFGHIJKLMNOPQRSTUVWXYZ'\n",
    "\n",
    "names_byletter = []\n",
    "\n",
    "for l in letters: \n",
    "    \n",
    "    current_names = []\n",
    "    \n",
    "    for n in names_clean:\n",
    "        if n.startswith(l):\n",
    "            current_names.append(n)\n",
    "    \n",
    "    names_byletter.append(current_names)\n",
    "    "
   ]
  },
  {
   "cell_type": "markdown",
   "metadata": {},
   "source": [
    "d. Print the first 10 elements of each list inside of names_byletter to make sure it worked. "
   ]
  },
  {
   "cell_type": "code",
   "execution_count": null,
   "metadata": {
    "collapsed": false
   },
   "outputs": [],
   "source": [
    "for namelist in names_byletter:\n",
    "    print namelist[:10]"
   ]
  },
  {
   "cell_type": "markdown",
   "metadata": {},
   "source": [
    "### Problem 4\n",
    "\n",
    "Now we will load another list with some more information. It is the gender for each name in `names_clean`"
   ]
  },
  {
   "cell_type": "code",
   "execution_count": null,
   "metadata": {
    "collapsed": false
   },
   "outputs": [],
   "source": [
    "with open('./genders.txt') as f:\n",
    "    genders = f.readlines()\n",
    "    "
   ]
  },
  {
   "cell_type": "markdown",
   "metadata": {},
   "source": [
    "a. Clean up `genders` so it doesn't have any \\n characters, saving the result into `genders_clean`. Then confirm that the length of `genders_clean` is the same as `names_clean`"
   ]
  },
  {
   "cell_type": "code",
   "execution_count": null,
   "metadata": {
    "collapsed": false
   },
   "outputs": [],
   "source": [
    "genders_clean = []\n",
    "\n",
    "for g in genders: \n",
    "    genders_clean.append(g.strip())\n",
    "    \n",
    "\n",
    "len(genders_clean)==len(names_clean)\n",
    "    \n"
   ]
  },
  {
   "cell_type": "markdown",
   "metadata": {},
   "source": [
    "b. Now make 2 lists: `males` and `females`. Each one with contain only the names for males and females, respectively. Hint: you can loop through `names_clean` but you need to keep track of the position in the list in order to access the corresponding element in `genders_clean`. The function `enumerate` can help! Print the first 10 elements of `males` and `females`"
   ]
  },
  {
   "cell_type": "code",
   "execution_count": null,
   "metadata": {
    "collapsed": false
   },
   "outputs": [],
   "source": [
    "males= []\n",
    "females = []\n",
    "\n",
    "for position,name in enumerate(names_clean):\n",
    "    if genders_clean[position]=='M':\n",
    "        males.append(name)\n",
    "    elif genders_clean[position]=='F':\n",
    "        females.append(name)\n",
    "\n",
    "print males[:10]\n",
    "print females[:10]"
   ]
  },
  {
   "cell_type": "markdown",
   "metadata": {},
   "source": [
    "c. Now combine `names_clean` and `genders_clean` into a new list `names_mf` using the `zip` function. Print the first 5 elements of `names_mf`. What is the data type of each element of `names_mf`? What is the length of each element? Pull out just the name from the first element of `names_mf`. "
   ]
  },
  {
   "cell_type": "code",
   "execution_count": null,
   "metadata": {
    "collapsed": false
   },
   "outputs": [],
   "source": [
    "names_mf = zip(names_clean,genders_clean)\n",
    "\n",
    "print names_mf[:5]\n",
    "print type(names_mf[0])\n",
    "print len(names_mf[0])\n",
    "print names_mf[0][0]\n"
   ]
  },
  {
   "cell_type": "markdown",
   "metadata": {},
   "source": [
    "d. We can recreate the same behavior as (b) using `names_mf`. Loop through the elements of `names_mf` so you can access the name and corresponding gender separately. Then add the name to the appropriate `males` or `females` list. Print the first 10 elements of each to confirm it still worked. "
   ]
  },
  {
   "cell_type": "code",
   "execution_count": null,
   "metadata": {
    "collapsed": false
   },
   "outputs": [],
   "source": [
    "males = []\n",
    "females = []\n",
    "\n",
    "for name,gender in names_mf:\n",
    "    if gender=='M':\n",
    "        males.append(name)\n",
    "    elif gender=='F':\n",
    "        females.append(name)\n",
    "        \n",
    "print males[:10]\n",
    "print females[:10]"
   ]
  },
  {
   "cell_type": "markdown",
   "metadata": {},
   "source": [
    "### Problem 5\n",
    "\n",
    "Now for a slightly different problem. We will be making a virtual deck of cards that we can use for a simple Blackjack game <https://en.wikipedia.org/wiki/Blackjack>\n",
    "\n",
    "a. Given the list of suits and numbers below, use nested `for` loops to create a full deck of cards. Each element of `deck` will be a combination of the suit and the number, like \"12 of Diamonds\" or \"Ace of Spades\". Print the deck and confirm that it has 52 cards. "
   ]
  },
  {
   "cell_type": "code",
   "execution_count": null,
   "metadata": {
    "collapsed": false
   },
   "outputs": [],
   "source": [
    "suits = ['Diamonds', 'Hearts','Clubs', 'Spades']\n",
    "numbers = ['Ace','King','Queen','Jack'] + range(2,11)\n",
    "\n",
    "deck = []"
   ]
  },
  {
   "cell_type": "code",
   "execution_count": null,
   "metadata": {
    "collapsed": false
   },
   "outputs": [],
   "source": [
    "#put your answer here\n",
    "\n",
    "\n",
    "for s in suits:\n",
    "    \n",
    "    for n in numbers: \n",
    "        deck.append(str(n)+\" of \" + s)\n",
    "        \n",
    "print deck\n",
    "print len(deck)\n",
    "        "
   ]
  },
  {
   "cell_type": "markdown",
   "metadata": {},
   "source": [
    "b. We can pull a card off our virtual deck using the `pop` method. This will return the first card from the top of the deck, and also remove that item from the deck. Make a `for` loop that loops 52 times and pull a card at each loop (and print the result). What is the value of `deck` after the loop? Hint: if something goes wrong, you may need to re-run the cell above to remake your deck. "
   ]
  },
  {
   "cell_type": "code",
   "execution_count": null,
   "metadata": {
    "collapsed": false
   },
   "outputs": [],
   "source": [
    "\n",
    "for i in range(52):\n",
    "     print deck.pop()\n",
    "\n",
    "print deck"
   ]
  },
  {
   "cell_type": "markdown",
   "metadata": {},
   "source": [
    "c. Now re-run your code to create the deck, then use the `shuffle` function from the `random` package to shuffle your deck. Print `deck` to confirm that it worked. "
   ]
  },
  {
   "cell_type": "code",
   "execution_count": null,
   "metadata": {
    "collapsed": false
   },
   "outputs": [],
   "source": [
    "from random import shuffle\n",
    "\n",
    "shuffle(deck)\n",
    "print deck"
   ]
  },
  {
   "cell_type": "markdown",
   "metadata": {},
   "source": [
    "Time to make our Blackjack game. Below is some code that will keep prompting for input and will keep going until the user selects option 2. "
   ]
  },
  {
   "cell_type": "code",
   "execution_count": null,
   "metadata": {
    "collapsed": false
   },
   "outputs": [],
   "source": [
    "choice = '0'\n",
    "\n",
    "while int(choice) != 2:\n",
    "    print \"1. Hit me!\"\n",
    "    print \"2. Stay\"\n",
    "    \n",
    "    choice = input('Choice: ')\n",
    "\n"
   ]
  },
  {
   "cell_type": "markdown",
   "metadata": {},
   "source": [
    "d. Using the code above, make your simple one-sided blackjack game. Here's the setup: \n",
    "\n",
    "* Shuffle the deck\n",
    "* Deal 1 card\n",
    "* Then each move, the user selects between \"Hit me\" and \"Stay\"\n",
    "* If they select \"Hit Me\", deal another card (keep all cards in the variable `hand`). \n",
    "* Make sure and print the hand at each turn!\n",
    "* If they select \"Stay\", add up the value of all their cards and print that value and whether they won or lost. \n",
    "* The nubmers 1-10 have the values 1-10\n",
    "* Face cards (King, Queen, Jack) have the value of 10\n",
    "* Ace has the value of 11\n",
    "* If the cards add up to 16-21, then we will call it a win. \n",
    "* If it's less than 16 or greater than 21, it's a loss.\n"
   ]
  },
  {
   "cell_type": "code",
   "execution_count": null,
   "metadata": {
    "collapsed": true
   },
   "outputs": [],
   "source": [
    "#create and shuffle your deck here\n",
    "        \n",
    "from random import shuffle\n",
    "suits = ['Diamonds', 'Hearts','Clubs', 'Spades']\n",
    "numbers = ['Ace','King','Queen','Jack'] + range(2,11)\n",
    "\n",
    "deck = []\n",
    "\n",
    "for s in suits:\n",
    "    \n",
    "    for n in numbers: \n",
    "        deck.append(str(n)+\" of \" + s)\n",
    "        \n",
    "\n",
    "\n",
    "shuffle(deck)"
   ]
  },
  {
   "cell_type": "code",
   "execution_count": null,
   "metadata": {
    "collapsed": false
   },
   "outputs": [],
   "source": [
    "#do the game here. \n",
    "\n",
    "hand = []\n",
    "\n",
    "hand.append(deck.pop()) #deal the first card, save inside of hand\n",
    "\n",
    "#loop through choice phase\n",
    "choice = '0'\n",
    "\n",
    "while int(choice) != 2:\n",
    "    print \"hand: \"\n",
    "    print hand\n",
    "    \n",
    "    print \"1. Hit me!\"\n",
    "    print \"2. Stay\"\n",
    "    \n",
    "    choice = input('Choice: ')\n",
    "    \n",
    "    if int(choice)==1:\n",
    "        hand.append(deck.pop()) #deal the next card\n",
    "\n",
    "\n",
    "#add up the values\n",
    "values = []\n",
    "\n",
    "for card in hand:\n",
    "    value = card.split()[0] #get the value, the first thing before the \" of \"\n",
    "    \n",
    "    if value in ['King', 'Queen', 'Jack']: #check for face card\n",
    "        value = 10\n",
    "    elif value=='Ace': #check for ace\n",
    "        value = 11\n",
    "    else: #otherwise just look at the face value\n",
    "        value = int(value)\n",
    "        \n",
    "    values.append(value) #add the appropriate one to our values list\n",
    "\n",
    "    \n",
    "\n",
    "#determine win/loss\n",
    "\n",
    "total = sum(values) #add them up!\n",
    "print \"Total: \" + str(total)\n",
    "if total >=16 and total <=21:\n",
    "    print 'WIN!'\n",
    "else:\n",
    "    print 'LOSE!'"
   ]
  }
 ],
 "metadata": {
  "kernelspec": {
   "display_name": "Python 2",
   "language": "python",
   "name": "python2"
  },
  "language_info": {
   "codemirror_mode": {
    "name": "ipython",
    "version": 2
   },
   "file_extension": ".py",
   "mimetype": "text/x-python",
   "name": "python",
   "nbconvert_exporter": "python",
   "pygments_lexer": "ipython2",
   "version": "2.7.11"
  }
 },
 "nbformat": 4,
 "nbformat_minor": 0
}
