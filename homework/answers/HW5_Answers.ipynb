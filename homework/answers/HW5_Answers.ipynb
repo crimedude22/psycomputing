{
 "cells": [
  {
   "cell_type": "markdown",
   "metadata": {},
   "source": [
    "## Homework 5"
   ]
  },
  {
   "cell_type": "markdown",
   "metadata": {},
   "source": [
    "### Problem 1\n",
    "\n",
    "Let's start by reading in some data in a csv file. We will start with a pretty simple one, but introduce a new fucntion. First, read in the file located at: \n",
    "\n",
    "R:\\Psy407_9\\Class_Data\\datasets\\ufo_sightings.csv\n",
    "\n",
    "a. This is a list of the number of recorded UFO sightings over time. Read the file in using the csv package save it into a list called `ufo`. Print `ufo` when done. "
   ]
  },
  {
   "cell_type": "code",
   "execution_count": null,
   "metadata": {
    "collapsed": false
   },
   "outputs": [],
   "source": [
    "import csv \n",
    "\n",
    "ufo = []\n",
    "\n",
    "# with open('R:\\\\Psy407_9\\Cladd_Data\\datasets\\ufo_sightings.csv') as f: #in the computer lab\n",
    "with open('ufo_sightings.csv','r') as f: #if you copy file to the same folder\n",
    "    csvreader = csv.reader(f,delimiter=',')\n",
    "    \n",
    "    for row in csvreader:\n",
    "        ufo.append(row)\n",
    "        \n",
    "print ufo"
   ]
  },
  {
   "cell_type": "markdown",
   "metadata": {},
   "source": [
    "b. Tell me a little bit about the organization (answer using code and comments in the cell below): \n",
    "\n",
    "* How many elements are in our ufo list? \n",
    "* What is the data type of each element in the list? \n",
    "* How many elements does each *element* have? \n",
    "    * What are their data types? "
   ]
  },
  {
   "cell_type": "code",
   "execution_count": null,
   "metadata": {
    "collapsed": false
   },
   "outputs": [],
   "source": [
    "#number of elements\n",
    "print len(ufo)\n",
    "\n",
    "#type of each element (just grab the first one)\n",
    "print type(ufo[0])\n",
    "\n",
    "#type of the elements inside the elements!\n",
    "print type(ufo[0][0])\n",
    "\n"
   ]
  },
  {
   "cell_type": "markdown",
   "metadata": {},
   "source": [
    "Let's clean this up a bit. First, notice that each report is listed as a specific day, but really these are monthly reports. Knowing whether it's the 30th or 31st of the month is irrelevant. Here I'll introduce you to the `dateutil` package. It's designed for taking dates and parsing the relevant information from them. I'll first show you a simple example: "
   ]
  },
  {
   "cell_type": "code",
   "execution_count": null,
   "metadata": {
    "collapsed": false
   },
   "outputs": [],
   "source": [
    "from dateutil.parser import parse\n",
    "\n",
    "mydate = '2016-04-01' #this is just a string\n",
    "\n",
    "result = parse(mydate) #now we parse it as a date\n",
    "\n",
    "print type(result)\n"
   ]
  },
  {
   "cell_type": "markdown",
   "metadata": {},
   "source": [
    "Notice that the data type of result is something weird- 'datetime.datetime'. It has converted it to a special datetime object. The nice thing is, this object has convenient ways to get the information we want: "
   ]
  },
  {
   "cell_type": "code",
   "execution_count": null,
   "metadata": {
    "collapsed": false
   },
   "outputs": [],
   "source": [
    "print result.day\n",
    "print result.month\n",
    "print result.year"
   ]
  },
  {
   "cell_type": "markdown",
   "metadata": {},
   "source": [
    "c. Before we use `dateutil` to clean up our dates, see if you can use the built-in string methods to *split* the month, day, and year from `otherdate` below. "
   ]
  },
  {
   "cell_type": "code",
   "execution_count": null,
   "metadata": {
    "collapsed": false
   },
   "outputs": [],
   "source": [
    "otherdate = '2017-04-31'\n",
    "\n",
    "otherdate.split('-')\n",
    "\n"
   ]
  },
  {
   "cell_type": "markdown",
   "metadata": {},
   "source": [
    "d. See if you can do the reverse. I have given you `datelist` below. See if you can take that and turn it into a string that's 'year-month-day' like the examples above"
   ]
  },
  {
   "cell_type": "code",
   "execution_count": null,
   "metadata": {
    "collapsed": false
   },
   "outputs": [],
   "source": [
    "datelist =['2018','04','28']\n",
    "\n",
    "'-'.join(datelist)\n"
   ]
  },
  {
   "cell_type": "markdown",
   "metadata": {},
   "source": [
    "So we can do it with built-in string methods, but it's nice to be able to say `mydate.year` to get the year. It's more meaningful to us humans. \n",
    "\n",
    "d. Now create another list, called `ufo_month` that is similar to `ufo`, except each entry will be 3 elements: the year, month, and count. Year and month should be strings, and count should be an `int`. So it should be something like this: \n",
    "\n",
    "In `ufo` it's like this:\n",
    "```python\n",
    "['1997-12-31', '500.0']\n",
    "```\n",
    "In `ufo_month` it will be this: \n",
    "```python\n",
    "['1997','12', 500]\n",
    "```\n",
    "\n",
    "\n",
    "You will use the `parse` function from `dateutil.parser` to split the date up into the year and month (HINT: by default it gives you the year and month as an `int`, but we want a `str`). You might have trouble converting a string like '50.0' to an int directly. You should convert to a `float` first. Notice your `ufo` list has the column names as the first element in the list-- this may cause problems. "
   ]
  },
  {
   "cell_type": "code",
   "execution_count": null,
   "metadata": {
    "collapsed": false
   },
   "outputs": [],
   "source": [
    "ufo_bymonth = []\n",
    "\n",
    "for row in ufo[1:]: #notice we skip the first one!\n",
    "    date = row[0]\n",
    "    freq = row[1]\n",
    "    \n",
    "    result = parse(date) #parse the string to separate year and month\n",
    "    \n",
    "    freq = int(float(freq)) #convert to float, then int\n",
    "    newrow = [str(result.year), str(result.month), freq ]\n",
    "\n",
    "    ufo_bymonth.append(newrow) #put in our new list\n",
    "\n",
    "print ufo_bymonth[:10]"
   ]
  },
  {
   "cell_type": "markdown",
   "metadata": {},
   "source": [
    "e. This is a nicer organization. Let's write the result to a new csv file using `csv.writer`. Save the file as: \n",
    "\n",
    "R:\\Psy407_9\\Student_Data\\MYDUCKID\\ufo_bymonth.csv\n",
    "\n",
    "Make sure to give it column names at the top of the file! "
   ]
  },
  {
   "cell_type": "code",
   "execution_count": null,
   "metadata": {
    "collapsed": false
   },
   "outputs": [],
   "source": [
    "\n",
    "#notice the 'wb'!\n",
    "# with open('R:\\\\Psy407_9\\\\Student_Data\\\\hubbard3\\\\ufo_bymonth.csv', 'wb') as f: #computer lab\n",
    "with open('ufo_bymonth.csv', 'wb') as f: #same folder\n",
    "    csvwriter = csv.writer(f,delimiter=',') #create a csv.writer object\n",
    "    \n",
    "    csvwriter.writerow(['year','month','frequency']) #write the header!\n",
    "    \n",
    "    for row in ufo_bymonth: #now write all the data\n",
    "        csvwriter.writerow(row)\n",
    "\n"
   ]
  },
  {
   "cell_type": "markdown",
   "metadata": {},
   "source": [
    "f. Now let's organize the same information in a dictionary. I want to be able to access the information by year like this: \n",
    "\n",
    "```python\n",
    "ufoD['1987']['months']\n",
    "ufoD['1987']['counts']\n",
    "\n",
    "```\n",
    "\n",
    "Each statement above should return a list. \n",
    "\n",
    "This will require you to loop through `ufo_month` and add your information to your new dictionary, `ufoD`. The problem is, you will have multiple entries for the year. You can check if a key already exists in a dictionary like this: \n",
    "\n",
    "```python\n",
    "\n",
    "'1987' in ufoD\n",
    "\n",
    "```\n",
    "\n",
    "It will output `True` or `False`. That means you can use it as part of an `if` statement. Think about what you do differently when you come across the first entry for 1987, versus the 10th entry. "
   ]
  },
  {
   "cell_type": "code",
   "execution_count": null,
   "metadata": {
    "collapsed": false
   },
   "outputs": [],
   "source": [
    "#here's the solution from the Helpful Hints. We can adapt this for our own data. \n",
    "\n",
    "#FINAL SOLUTION\n",
    "# deck = {}\n",
    "\n",
    "# for card in decklist:\n",
    "    \n",
    "#     suit = card[0]\n",
    "#     value = card[1] \n",
    "    \n",
    "#     if suit in deck:\n",
    "#         deck[suit].append(value) #append the value if the suit is already there\n",
    "        \n",
    "#     else: #otherwise, create our blank list, then add to it\n",
    "#         deck[suit] = [] \n",
    "#         deck[suit].append(value) "
   ]
  },
  {
   "cell_type": "code",
   "execution_count": null,
   "metadata": {
    "collapsed": false
   },
   "outputs": [],
   "source": [
    "ufoD = {}\n",
    "\n",
    "for row in ufo_bymonth:\n",
    "    \n",
    "    year = row[0]\n",
    "    month = row[1] \n",
    "    count = row[2]\n",
    "    \n",
    "    if year in ufoD:\n",
    "        ufoD[year]['months'].append(month) #append the month if the year is already there\n",
    "        ufoD[year]['counts'].append(count) #do the same for the count\n",
    "        \n",
    "    else: #otherwise, create our blank dictionary, then add to it\n",
    "        ufoD[year] = {} #blank dictionary\n",
    "        ufoD[year]['months'] = [] #blank lists to hold months and counts\n",
    "        ufoD[year]['counts'] = []\n",
    "        ufoD[year]['months'].append(month) #append to the lists\n",
    "        ufoD[year]['counts'].append(count) \n",
    "        \n",
    "print ufoD['1995'] #sample year to make sure it looks right"
   ]
  },
  {
   "cell_type": "markdown",
   "metadata": {},
   "source": [
    "g. Let's make use of the new organization. How many total UFO sightings were there in your birth year? You can use the built-in `sum` function to get the sum of numbers in a list. How many were there in 1992 (if that wasn't your birth year)? "
   ]
  },
  {
   "cell_type": "code",
   "execution_count": null,
   "metadata": {
    "collapsed": false
   },
   "outputs": [],
   "source": [
    "#assuming you were born in 1992\n",
    "counts92 = ufoD['1992']['counts'] \n",
    "print counts92\n",
    "\n",
    "print sum(counts92)"
   ]
  },
  {
   "cell_type": "markdown",
   "metadata": {},
   "source": [
    "h. Lastly, add up the total number of UFO sightings that have occurred since 1992"
   ]
  },
  {
   "cell_type": "code",
   "execution_count": null,
   "metadata": {
    "collapsed": false,
    "scrolled": true
   },
   "outputs": [],
   "source": [
    "\n",
    "allyears = range(1992,2017) #create a list of years\n",
    "allcounts = [] #we will put all the counts in here\n",
    "\n",
    "for year in allyears:\n",
    "    year_str = str(year) #we need it to be a string to index from the dictionary\n",
    "    \n",
    "    allcounts.extend(ufoD[year_str]['counts']) #note we EXTEND. append will make nested lists\n",
    "    \n",
    "print allcounts #just to show you\n",
    "\n",
    "print sum(allcounts) #Answer: 95,434!"
   ]
  },
  {
   "cell_type": "markdown",
   "metadata": {
    "collapsed": true
   },
   "source": [
    "### Problem 2\n",
    "\n",
    "Often times, you want to combine information across many files. Let's get some practice doing this. First, we need to move to the proper folder where a bunch of text files are kept. \n",
    "\n",
    "a. use the `os.chdir` function to move to **R:\\Class_Data\\datasets\\baby_names_all\\ ** then use the `%pwd` function to print your current directory"
   ]
  },
  {
   "cell_type": "code",
   "execution_count": null,
   "metadata": {
    "collapsed": false
   },
   "outputs": [],
   "source": [
    "import os\n",
    "\n",
    "# os.chdir(' R:\\\\Class_Data\\\\datasets\\\\baby_names_all') #lab computer\n",
    "os.chdir('../../datasets/baby_names_all/') #from another computer\n",
    "%pwd"
   ]
  },
  {
   "cell_type": "markdown",
   "metadata": {},
   "source": [
    "b. Now use the `%ls` function to print out all files in the folder. Tell me in the comments what's in there. "
   ]
  },
  {
   "cell_type": "code",
   "execution_count": null,
   "metadata": {
    "collapsed": false
   },
   "outputs": [],
   "source": [
    "%ls"
   ]
  },
  {
   "cell_type": "markdown",
   "metadata": {},
   "source": [
    "c. Now use the `glob` function to save the names of all the `.txt` files as a list caled `txtfiles`."
   ]
  },
  {
   "cell_type": "code",
   "execution_count": null,
   "metadata": {
    "collapsed": false
   },
   "outputs": [],
   "source": [
    "from glob import glob\n",
    "\n",
    "txtfiles = glob('*.txt')\n",
    "print txtfiles\n"
   ]
  },
  {
   "cell_type": "markdown",
   "metadata": {},
   "source": [
    "d. Now read in the first txt file and use the `readlines` function to save its contents into a list called `test`. Print the first 10 elements. "
   ]
  },
  {
   "cell_type": "code",
   "execution_count": null,
   "metadata": {
    "collapsed": false
   },
   "outputs": [],
   "source": [
    "with open(txtfiles[0]) as f: #open the first file\n",
    "    test = f.readlines()\n",
    "    \n",
    "print test[:10]"
   ]
  },
  {
   "cell_type": "markdown",
   "metadata": {},
   "source": [
    "### Problem 3\n",
    "\n",
    "What information is this? Well, this is more baby names. All of these files come from a database that the social security administration has kept since the 1800s of (almost) all baby names registered in the US. Each name has a corresponding gender, and a frequency of how often it occurred. I say it contains almost all names because it doesn't include ones with really low frequencies. \n",
    "\n",
    "The file name tells you the \"year of birth\" (yob), and the contents are the actual information. Each file has 3 \"columns\" of data: name, gender, and frequency. These are separated by commas. \n",
    "\n",
    "There's a straightforward way to organize this information. Let's make a dictionary called `babynames`. \n",
    "* Each key in that dictionary will be a year. \n",
    "* The value will be another dictionary with the keys \"names\", \"genders\", and \"frequencies\"\n",
    "* Each of those will be a list of the names, genders, and frequencies for that year\n",
    "\n",
    "So, when I want to list all names, genders, and frequencies from the year 1992, I should be able to do this: \n",
    "\n",
    "```python\n",
    "all92names = babynames['1992']['names']\n",
    "all92genders = babynames['1992']['genders']\n",
    "all92frequencies = babynames['1992']['frequencies']\n",
    "```\n",
    "\n",
    "`all92names`, `all92genders`, and `all92frequncies` would be all be lists, and they should be the same length!\n",
    "\n",
    "Time to take the training wheels off. I'm not giving any guidance here. Try to think through the problem and make it happen! Hint: start by making it work with 1 file. Once you do that, then wrap a loop around it so it loops through all files. \n",
    "\n",
    "Once you get it to work, print the first 50 names, genders, and frequencies from the year 1995. "
   ]
  },
  {
   "cell_type": "code",
   "execution_count": null,
   "metadata": {
    "collapsed": false
   },
   "outputs": [],
   "source": [
    "#HERE IS A SOLUTION FOR 1 FILE\n",
    "\n",
    "babynames = {} #create our blank dictionary\n",
    "\n",
    "\n",
    "current_file = txtfiles[0] #let's pull 1 file from txtfiles, save as a variable\n",
    "\n",
    "#open the first file from txtfiles\n",
    "with open(current_file) as f: #notice I refer to current_file\n",
    "    oneyear = f.readlines()\n",
    "\n",
    "#strip away the garbage\n",
    "#list comprehension or a for loop will work\n",
    "oneyear_clean = [row.strip().split(',') for row in oneyear] \n",
    "\n",
    "#this can be done with a for loop too. \n",
    "#loop through each row, pull out name, gender, and frequency\n",
    "#now we have 3 separate lists\n",
    "names = [row[0] for row in oneyear_clean]\n",
    "genders = [row[1] for row in oneyear_clean]\n",
    "frequencies = [row[2] for row in oneyear_clean]\n",
    "\n",
    "#use the filename to find out the current year\n",
    "#remove the yob and the .txt to get the year\n",
    "current_year = current_file.replace('yob','').replace('.txt','') \n",
    "print current_year\n",
    "\n",
    "babynames[current_year] = {} #create the blank dictionary\n",
    "babynames[current_year]['names'] = names #add names\n",
    "babynames[current_year]['genders'] = genders #add genders\n",
    "babynames[current_year]['frequencies'] = frequencies #add frequencies\n",
    "\n"
   ]
  },
  {
   "cell_type": "code",
   "execution_count": null,
   "metadata": {
    "collapsed": false
   },
   "outputs": [],
   "source": [
    "#HERE IS the solution for all files. I only made 2 changes!\n",
    "\n",
    "babynames = {} #create our blank dictionary\n",
    "\n",
    "\n",
    "# current_file = txtfiles[0] #CHANGE1: we don't need this line anymore\n",
    "\n",
    "for current_file in txtfiles: #CHANGE 2: now the rest of the script is inside of a for loop\n",
    "\n",
    "    with open(current_file) as f: \n",
    "        oneyear = f.readlines()\n",
    "\n",
    "    #strip away the garbage\n",
    "    oneyear_clean = [row.strip().split(',') for row in oneyear] \n",
    "    \n",
    "\n",
    "    names = [row[0] for row in oneyear_clean]\n",
    "    genders = [row[1] for row in oneyear_clean]\n",
    "    frequencies = [row[2] for row in oneyear_clean]\n",
    "\n",
    " \n",
    "    current_year = current_file.replace('yob','').replace('.txt','') \n",
    "#     print current_year\n",
    "\n",
    "    babynames[current_year] = {} \n",
    "    babynames[current_year]['names'] = names \n",
    "    babynames[current_year]['genders'] = genders\n",
    "    babynames[current_year]['frequencies'] = frequencies\n",
    "\n",
    "    \n",
    "#print the first 50 entries from 1995\n",
    "\n",
    "print babynames['1995']['names'][:50]\n",
    "print babynames['1995']['genders'][:50]\n",
    "print babynames['1995']['frequencies'][:50]"
   ]
  },
  {
   "cell_type": "code",
   "execution_count": null,
   "metadata": {
    "collapsed": false
   },
   "outputs": [],
   "source": [
    "#For fun, we can print the first 10 names from each year like this: \n",
    "for key,value in babynames.items():\n",
    "    print key\n",
    "    print value['names'][:10]"
   ]
  },
  {
   "cell_type": "markdown",
   "metadata": {},
   "source": [
    "### Problem 4\n",
    "\n",
    "Once you have that, see if you can give me some information from `babynames`.\n",
    "\n",
    "* a. All girl names from 1984\n",
    "* b. All names in 1990 where the frequency is greater than 5000\n",
    "* c. The most popular name in 1965\n",
    "* d. The least popular name in 1950"
   ]
  },
  {
   "cell_type": "code",
   "execution_count": null,
   "metadata": {
    "collapsed": false
   },
   "outputs": [],
   "source": [
    "#a\n",
    "#get all names and all genders for 1984:\n",
    "all84names = babynames['1984']['names']\n",
    "all84genders = babynames['1984']['genders']\n",
    "\n",
    "#zip them together for ease of looping\n",
    "combined = zip(all84names,all84genders)\n",
    "\n",
    "girls84 = []\n",
    "\n",
    "for name,gender in combined:\n",
    "    if gender=='F':\n",
    "        girls84.append(name)\n",
    "        \n",
    "        \n",
    "print girls84"
   ]
  },
  {
   "cell_type": "code",
   "execution_count": null,
   "metadata": {
    "collapsed": false
   },
   "outputs": [],
   "source": [
    "#b\n",
    "all90names = babynames['1990']['names'] #grab all the names from 1990\n",
    "all90freq = babynames['1990']['frequencies'] #and their frequencies\n",
    "\n",
    "popular_names = [] #this is where we save everything\n",
    "\n",
    "for name, freq in zip(all90names,all90freq): #let's loop through both lists at once!\n",
    "    if (freq>5000) and (name not in popular_names): #tricky part is using \"not in\"\n",
    "        popular_names.append(name)\n",
    "        \n",
    "        \n",
    "print len(popular_names)\n",
    "print popular_names[:50]\n",
    "        \n"
   ]
  },
  {
   "cell_type": "code",
   "execution_count": null,
   "metadata": {
    "collapsed": false
   },
   "outputs": [],
   "source": [
    "#c\n",
    "\n",
    "all65names = babynames['1965']['names'] #grab all the names from 1965\n",
    "all65freq = babynames['1965']['frequencies'] #and their frequencies\n",
    "\n",
    "max_freq = max(all65freq) #find the minimum frequency\n",
    "print max_freq\n",
    "\n",
    "\n",
    "for name, freq in zip(all65names,all65freq):\n",
    "    if freq==max_freq:\n",
    "        print name\n",
    "\n",
    "#Matthew"
   ]
  },
  {
   "cell_type": "code",
   "execution_count": null,
   "metadata": {
    "collapsed": false
   },
   "outputs": [],
   "source": [
    "#d - there are a lot. Printing either the first one or all of them is fine. \n",
    "\n",
    "all50names = babynames['1950']['names'] #grab all the names from 1950\n",
    "all50freq = babynames['1950']['frequencies'] #and their frequencies\n",
    "\n",
    "min_freq = min(all50freq) #find the minimum frequency\n",
    "print min_freq #10\n",
    "\n",
    "for name, freq in zip(all65names,all65freq): #loop through both at once\n",
    "    if freq==min_freq:\n",
    "        print name\n",
    "\n",
    "        "
   ]
  },
  {
   "cell_type": "markdown",
   "metadata": {},
   "source": [
    "d. Lastly, let's combine all the information. Create 2 lists: `allgirls` and `allboys`. These lists will contain all the **unique** female and male names from **all years**. "
   ]
  },
  {
   "cell_type": "code",
   "execution_count": null,
   "metadata": {
    "collapsed": false
   },
   "outputs": [],
   "source": [
    "#NOTE: This gets very slow! I initially tested on a subset of data and didn't realize\n",
    "\n",
    "allgirls = []\n",
    "allboys = []\n",
    "\n",
    "allyears = babynames.keys() #get all the years for easy looping\n",
    "\n",
    "for year in allyears: \n",
    "    print year #print the current year, so we can see the progress\n",
    "    \n",
    "    #pull out names and genders for the current year\n",
    "    yearnames = babynames[year]['names']\n",
    "    yeargenders = babynames[year]['genders']\n",
    "     \n",
    "    for name, gender in zip(yearnames,yeargenders):\n",
    "        if gender=='F' and (name not in allgirls): #add the girl name if it's not already there\n",
    "            allgirls.append(name)\n",
    "        elif gender=='M' and (name not in allboys): #do the same if it's a boy name\n",
    "            allboys.append(name)\n",
    "        \n",
    "print allboys[:25]\n",
    "print allgirls[:25]\n"
   ]
  },
  {
   "cell_type": "code",
   "execution_count": null,
   "metadata": {
    "collapsed": false
   },
   "outputs": [],
   "source": [
    "#here is a MUCH faster solution, using the set data type. I don't expect you to know this\n",
    "\n",
    "allgirls = []\n",
    "allboys = []\n",
    "\n",
    "allyears = babynames.keys() #get all the years for easy looping\n",
    "\n",
    "for year in allyears: \n",
    "#     print year #print the current year, so we can see the progress\n",
    "    \n",
    "    #pull out names and genders for the current year\n",
    "    yearnames = babynames[year]['names']\n",
    "    yeargenders = babynames[year]['genders']\n",
    "     \n",
    "    for name, gender in zip(yearnames,yeargenders):\n",
    "        if gender=='F': #add the girl names to the girl list\n",
    "            allgirls.append(name)\n",
    "        elif gender=='M': #do the same if it's a boy names\n",
    "            allboys.append(name)\n",
    "\n",
    "#using the set datatype\n",
    "uniqueboys = set(allboys) #this keeps only the unique names\n",
    "uniqueboys = list(uniqueboys) #convert back to a list\n",
    "\n",
    "uniquegirls = set(allgirls) #this keeps only the unique names\n",
    "uniquegirls = list(uniquegirls)\n",
    "\n",
    "print uniqueboys[:25]\n",
    "print uniquegirls[:25]  "
   ]
  }
 ],
 "metadata": {
  "kernelspec": {
   "display_name": "Python 2",
   "language": "python",
   "name": "python2"
  },
  "language_info": {
   "codemirror_mode": {
    "name": "ipython",
    "version": 2
   },
   "file_extension": ".py",
   "mimetype": "text/x-python",
   "name": "python",
   "nbconvert_exporter": "python",
   "pygments_lexer": "ipython2",
   "version": "2.7.11"
  }
 },
 "nbformat": 4,
 "nbformat_minor": 0
}
