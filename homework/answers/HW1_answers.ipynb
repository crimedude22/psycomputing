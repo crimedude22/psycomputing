{
 "cells": [
  {
   "cell_type": "code",
   "execution_count": null,
   "metadata": {
    "collapsed": false
   },
   "outputs": [],
   "source": [
    "#Problem 1\n",
    "\n",
    "print \"Hello World\"\n"
   ]
  },
  {
   "cell_type": "code",
   "execution_count": null,
   "metadata": {
    "collapsed": false
   },
   "outputs": [],
   "source": [
    "#Problem 2\n",
    "raw_input?\n",
    "\n",
    "name = raw_input('Name: ')\n",
    "print \"Hello \" + name"
   ]
  },
  {
   "cell_type": "code",
   "execution_count": null,
   "metadata": {
    "collapsed": false
   },
   "outputs": [],
   "source": [
    "#Problem 3\n",
    "\n",
    "name = raw_input('Name: ')\n",
    "age = raw_input('Age: ')\n",
    "\n",
    "ageplus10 = int(age)+10\n",
    "\n",
    "print 'Your name is ' + name + '. In 10 years you will be ' + str(ageplus10)\n",
    "\n"
   ]
  },
  {
   "cell_type": "code",
   "execution_count": null,
   "metadata": {
    "collapsed": false
   },
   "outputs": [],
   "source": [
    "#Problem 4\n",
    "x = 81\n",
    "\n",
    "#method 1\n",
    "import math\n",
    "print math.sqrt(x)\n",
    "\n",
    "#method 2\n",
    "from math import sqrt\n",
    "print sqrt(x)\n",
    "\n",
    "#method 3\n",
    "import math as mth\n",
    "print mth.sqrt(x)\n",
    "\n",
    "\n",
    "\n",
    "a = 3\n",
    "b = 4\n",
    "\n",
    "c = sqrt(a**2 + b**2)\n",
    "print c #should be 5. Remember the 3,4,5 triangles?"
   ]
  },
  {
   "cell_type": "code",
   "execution_count": null,
   "metadata": {
    "collapsed": false
   },
   "outputs": [],
   "source": [
    "#Problem 5\n",
    "\n",
    "from math import asin, acos, degrees\n",
    "\n",
    "x = 3\n",
    "y = 3\n",
    "\n",
    "z = sqrt(x**2 + y**2)\n",
    "print \"Hypotenuse: \" + str(z)\n",
    "\n",
    "angle1 = degrees(asin((y/z)))\n",
    "angle2 = degrees(asin((x/z)))\n",
    "\n",
    "print \"Angles: \" + str(angle1), str(angle2)\n",
    "\n",
    "print \"Angles add up to: \" + str(angle1+angle2+90)"
   ]
  },
  {
   "cell_type": "code",
   "execution_count": null,
   "metadata": {
    "collapsed": false
   },
   "outputs": [],
   "source": [
    "#Problem 6\n",
    "\n",
    "for i in range(5,26):\n",
    "    print i\n",
    "    \n",
    "\n",
    "for i in range(0,100,2):\n",
    "    print i\n",
    "    \n",
    "for i in range(1,100,2):\n",
    "    print i"
   ]
  },
  {
   "cell_type": "code",
   "execution_count": null,
   "metadata": {
    "collapsed": false
   },
   "outputs": [],
   "source": [
    "#Problem 7\n",
    "\n",
    "odd = 0 #change this to 1 to see what happens!\n",
    "\n",
    "for i in range(0,100):\n",
    "    if (odd==0) & (i%2 ==0):\n",
    "        print i\n",
    "    elif (odd==1) & (i%2 ==1):\n",
    "        print i\n",
    "    \n",
    "        "
   ]
  },
  {
   "cell_type": "code",
   "execution_count": null,
   "metadata": {
    "collapsed": false
   },
   "outputs": [],
   "source": [
    "#Problem 8\n",
    "\n",
    "name_toprint = raw_input('Name: ')\n",
    "\n",
    "if name_toprint=='Jason':\n",
    "    print \"Yes sir, I am almost done with my homework\"\n",
    "else:\n",
    "    print \"Hello \" + name_toprint + \", nice to see you!\"\n",
    "\n"
   ]
  },
  {
   "cell_type": "code",
   "execution_count": null,
   "metadata": {
    "collapsed": false
   },
   "outputs": [],
   "source": [
    "#Problem 9\n",
    "\n",
    "from random import randint\n",
    "\n",
    "n = randint(1,100)\n",
    "\n",
    "print n\n",
    "\n",
    "if n<50:\n",
    "    print \"Less than 50\"\n",
    "elif n>50:\n",
    "    print \"Greater than 50\"\n",
    "elif n==50:\n",
    "    print \"Exactly 50\""
   ]
  },
  {
   "cell_type": "code",
   "execution_count": null,
   "metadata": {
    "collapsed": false
   },
   "outputs": [],
   "source": [
    "#Problem 10\n",
    "\n",
    "total = 0\n",
    "\n",
    "for i in range(0,1000):\n",
    "    num = randint(1,100)\n",
    "    \n",
    "    if num>50:\n",
    "        total = total + 1\n",
    "        \n",
    "print total"
   ]
  },
  {
   "cell_type": "code",
   "execution_count": null,
   "metadata": {
    "collapsed": true
   },
   "outputs": [],
   "source": [
    "#Problem 11\n",
    "\n",
    "#I did this by clicking File->Download As->Python (.py)"
   ]
  }
 ],
 "metadata": {
  "kernelspec": {
   "display_name": "Python 2",
   "language": "python",
   "name": "python2"
  },
  "language_info": {
   "codemirror_mode": {
    "name": "ipython",
    "version": 2
   },
   "file_extension": ".py",
   "mimetype": "text/x-python",
   "name": "python",
   "nbconvert_exporter": "python",
   "pygments_lexer": "ipython2",
   "version": "2.7.11"
  }
 },
 "nbformat": 4,
 "nbformat_minor": 0
}
