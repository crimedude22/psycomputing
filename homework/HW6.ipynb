{
 "cells": [
  {
   "cell_type": "markdown",
   "metadata": {},
   "source": [
    "## Homework 6 - Arrays and Plotting\n",
    "\n",
    "Note: this homework assumes you also worked in the in-class work for this week! Work on that first!\n",
    "\n",
    "Our in-class work involved behavioral data from an experiment in our own lab. Now we will work with data from an eyetracker. This is a special camera that can tell where you're looking on a computer screen. This is the eyetracking data from the same subjects in the same experiment. "
   ]
  },
  {
   "cell_type": "markdown",
   "metadata": {},
   "source": [
    "### Problem 1\n",
    "\n",
    "Time for a little practice with arrays and matricies. \n",
    "\n",
    "a. Make a numpy array that has the numbers 1 through 10 using the `arange` function. Make sure you rename numpy to `np`"
   ]
  },
  {
   "cell_type": "code",
   "execution_count": null,
   "metadata": {
    "collapsed": false
   },
   "outputs": [],
   "source": []
  },
  {
   "cell_type": "markdown",
   "metadata": {},
   "source": [
    "b. Now make a matrix that looks like this and call it `mymat`. Print it out. \n",
    "\n",
    "|7|8|9|\n",
    "|---|---|---|\n",
    "|4|5|6|\n",
    "|1|2|3|\n",
    "|0|0|1|\n",
    "\n"
   ]
  },
  {
   "cell_type": "code",
   "execution_count": null,
   "metadata": {
    "collapsed": false
   },
   "outputs": [],
   "source": []
  },
  {
   "cell_type": "markdown",
   "metadata": {},
   "source": [
    "c. Show me how to get the number of rows and columns of `mymat`."
   ]
  },
  {
   "cell_type": "code",
   "execution_count": null,
   "metadata": {
    "collapsed": false
   },
   "outputs": [],
   "source": []
  },
  {
   "cell_type": "markdown",
   "metadata": {},
   "source": [
    "d. How do I figure out the data type of each element in `mymat`. "
   ]
  },
  {
   "cell_type": "code",
   "execution_count": null,
   "metadata": {
    "collapsed": false
   },
   "outputs": [],
   "source": []
  },
  {
   "cell_type": "markdown",
   "metadata": {},
   "source": [
    "### Problem 2\n",
    "\n",
    "a. Create an array called `arr` that contains the numbers 1 through 30. Then index the following from it: \n",
    "\n",
    "* The first 10 elements\n",
    "* The last 10 elements\n",
    "* The even numbers\n",
    "* The numbers 12 through 21\n",
    "\n"
   ]
  },
  {
   "cell_type": "code",
   "execution_count": null,
   "metadata": {
    "collapsed": false
   },
   "outputs": [],
   "source": []
  },
  {
   "cell_type": "markdown",
   "metadata": {},
   "source": [
    "b. Now make a matrix called `mat` that contains the numbers 1 through 225. It should have 15 rows and 15 columns, and the numbers should count across the rows from left to right. Hint: check out the `reshape` function. Print it when you're done. "
   ]
  },
  {
   "cell_type": "code",
   "execution_count": null,
   "metadata": {
    "collapsed": false
   },
   "outputs": [],
   "source": []
  },
  {
   "cell_type": "markdown",
   "metadata": {},
   "source": [
    "c. Now index the following from `mat`:\n",
    "\n",
    "* The entire first row\n",
    "* The entire last column\n",
    "* The odd elements from each row\n",
    "* The exact middle element\n",
    "* Rows 3 through 6, columns 11 through 14"
   ]
  },
  {
   "cell_type": "code",
   "execution_count": null,
   "metadata": {
    "collapsed": false
   },
   "outputs": [],
   "source": []
  },
  {
   "cell_type": "markdown",
   "metadata": {},
   "source": [
    "d. Copy and paste your code from above, and for each one, tell me the shape of each result. What do you notice? Descibe in the comments.  "
   ]
  },
  {
   "cell_type": "code",
   "execution_count": null,
   "metadata": {
    "collapsed": false
   },
   "outputs": [],
   "source": []
  },
  {
   "cell_type": "markdown",
   "metadata": {},
   "source": [
    "e. Change `mat` so every element that's greater than `150` is equal to `0`. "
   ]
  },
  {
   "cell_type": "code",
   "execution_count": null,
   "metadata": {
    "collapsed": false
   },
   "outputs": [],
   "source": []
  },
  {
   "cell_type": "markdown",
   "metadata": {},
   "source": [
    "f. Make a matrix `zmat` that is a 10 x 10 matrix of zeros and print it. "
   ]
  },
  {
   "cell_type": "code",
   "execution_count": null,
   "metadata": {
    "collapsed": false
   },
   "outputs": [],
   "source": []
  },
  {
   "cell_type": "markdown",
   "metadata": {},
   "source": [
    "g. Let's make a \"square\" of ones in the center of this matrix. Make a square 4 x 4 region in `zmat` equal to all 1's"
   ]
  },
  {
   "cell_type": "code",
   "execution_count": null,
   "metadata": {
    "collapsed": false
   },
   "outputs": [],
   "source": []
  },
  {
   "cell_type": "markdown",
   "metadata": {},
   "source": [
    "### Problem 3\n",
    "a. Using the `genfromtxt` function, import the data from the file **R:\\Psy407_9\\Class_Data\\datasets\\eyetracking.csv** as a numpy array. Make sure you do NOT include the header row. "
   ]
  },
  {
   "cell_type": "code",
   "execution_count": null,
   "metadata": {
    "collapsed": false
   },
   "outputs": [],
   "source": []
  },
  {
   "cell_type": "markdown",
   "metadata": {},
   "source": [
    "Tell me the following about this data: \n",
    "\n",
    "* a. The number of rows and columns\n",
    "* b. The data type of each element\n",
    "* c. All unique values in the first column (using `np.unique`)\n",
    "* d. The minumum and maximum values of the last 2 columns (using `np.min`, and `np.max`)\n"
   ]
  },
  {
   "cell_type": "code",
   "execution_count": 99,
   "metadata": {
    "collapsed": false
   },
   "outputs": [],
   "source": [
    "#a\n"
   ]
  },
  {
   "cell_type": "code",
   "execution_count": 100,
   "metadata": {
    "collapsed": false
   },
   "outputs": [],
   "source": [
    "#b\n"
   ]
  },
  {
   "cell_type": "code",
   "execution_count": 101,
   "metadata": {
    "collapsed": false
   },
   "outputs": [],
   "source": [
    "#c\n"
   ]
  },
  {
   "cell_type": "code",
   "execution_count": 102,
   "metadata": {
    "collapsed": false
   },
   "outputs": [],
   "source": [
    "#d\n"
   ]
  },
  {
   "cell_type": "markdown",
   "metadata": {
    "collapsed": true
   },
   "source": [
    "We know that the very first row contains the header (the column names). Let's use the csv package to read in *only* the first row so we have access to that information: "
   ]
  },
  {
   "cell_type": "code",
   "execution_count": 103,
   "metadata": {
    "collapsed": false
   },
   "outputs": [
    {
     "name": "stdout",
     "output_type": "stream",
     "text": [
      "['ID', 'Block', 'Trial', 'Task', 'TargetPosition', 'DistractorPosition', 'Accuracy', 'fix_x', 'fix_y']\n"
     ]
    }
   ],
   "source": [
    "import csv\n",
    "\n",
    "with open('../datasets/eyetracking.csv','r') as f:\n",
    "    reader = csv.reader(f,delimiter=',')\n",
    "    header = reader.next() #get just the \"next\" row. useful for just going 1 row at a time\n",
    "\n",
    "print header"
   ]
  },
  {
   "cell_type": "markdown",
   "metadata": {
    "collapsed": true
   },
   "source": [
    "Now print the first 50 rows of our data"
   ]
  },
  {
   "cell_type": "code",
   "execution_count": null,
   "metadata": {
    "collapsed": false
   },
   "outputs": [],
   "source": []
  },
  {
   "cell_type": "markdown",
   "metadata": {
    "collapsed": true
   },
   "source": [
    "### Problem 4\n",
    "\n",
    "Now we can see what it all means. The first column represents the subject ID, and we can see that the last 2 columns represent x and y coordinates (in pixels). These are the locations on the screen that subjects are looking at. \n",
    "\n",
    "a. How many unique subjects are in this dataset? \n",
    "\n"
   ]
  },
  {
   "cell_type": "code",
   "execution_count": null,
   "metadata": {
    "collapsed": false
   },
   "outputs": [],
   "source": []
  },
  {
   "cell_type": "markdown",
   "metadata": {
    "collapsed": true
   },
   "source": [
    "b. Let's do some basic plotting. Use the `matplotlib` package to create a basic scatterplot of these coordinates. \n",
    "\n",
    "You should set the limits of the x and y axis to be the resolution of our monitor: for x, it is from 0 to 1024, for y it is from 0 to 768. You can use the `xlim` and `ylim` methods for this. \n",
    "\n"
   ]
  },
  {
   "cell_type": "code",
   "execution_count": null,
   "metadata": {
    "collapsed": false
   },
   "outputs": [],
   "source": []
  },
  {
   "cell_type": "markdown",
   "metadata": {
    "collapsed": true
   },
   "source": [
    "c. Nice. Let's make some changes to it though. Use the `s` argument to make the dots smaller. Also changed their color to red, and make them partially transparent. This allows you to see overlapping dots more easily. You'll use the `alpha` argument for this. Play around with different values and find one that looks good. \n",
    "\n",
    "Before that, let's call the `%matplotlib inline` magic function to make our plots appear in the notebook. You only need to do this once. I also included another command to change the default figure size to a larger size. "
   ]
  },
  {
   "cell_type": "code",
   "execution_count": 104,
   "metadata": {
    "collapsed": false
   },
   "outputs": [],
   "source": [
    "%matplotlib inline\n",
    "import matplotlib\n",
    "matplotlib.rcParams['figure.figsize'] = (15.0, 10.0)"
   ]
  },
  {
   "cell_type": "code",
   "execution_count": 105,
   "metadata": {
    "collapsed": false
   },
   "outputs": [],
   "source": [
    "#plot here\n"
   ]
  },
  {
   "cell_type": "markdown",
   "metadata": {
    "collapsed": true
   },
   "source": [
    "d. This is great, but let's do a couple more changes. Techincally, the y axis is wrong. For eyetracking, the point 0,0 is actually at the upper-left, not the lower-left. To make this accurate, let's use the command: \n",
    "\n",
    "```python\n",
    "plt.gca().invert_yaxis()\n",
    "```\n",
    "To flip the y axis. If you're wondering, the `gca` method stands for \"get current axis\". In general it's used for making specific changes to your plot after you've already plotted. I know this looks weird but it's the only way to flip the y axis. \n",
    "\n",
    "Also make the background of the plot black, and the dots yellow. This gives a nicer contrast effect. You can change the background using:\n",
    "```python\n",
    "plt.gca().set_axis_bgcolor('black')\n",
    "```\n",
    "\n"
   ]
  },
  {
   "cell_type": "code",
   "execution_count": null,
   "metadata": {
    "collapsed": false
   },
   "outputs": [],
   "source": []
  },
  {
   "cell_type": "markdown",
   "metadata": {
    "collapsed": true
   },
   "source": [
    "### Problem 5\n",
    "\n",
    "Remember in Week 1 where I had you calculate the hypotenuse of a triangle, and I said that it would be useful later? Now we can use it! Looking at the image below, you can see that calculating the distance between 2 points is the same as calculating the hypotenuse of a right triangle. The length of the other 2 sides is just the difference in the x and y coordinates between the points. \n",
    "\n",
    "<img src=\"http://www.helpingwithmath.com/printables/worksheets/geometry/distance-2points01a.gif\", align=\"center\"></img>\n",
    "\n",
    "Remember, our equation for the hypotenuse is: \n",
    "\n",
    "$$a^2 + b^2 = c^2$$\n",
    "\n",
    "So solving for the hypotenuse we have: \n",
    "\n",
    "$$c = \\sqrt{a^2 + b^2}$$\n",
    "\n",
    "In this case, a is the differnce in the x coordinates and b is the difference in the y coordinates (or the other way around, it doesn't really matter). \n",
    "\n",
    "\n",
    "a. Below I have specified a set of x and y coordinates. Using the formula above, calculate the difference between that point and the center of our screen, which is at (512,384)\n"
   ]
  },
  {
   "cell_type": "code",
   "execution_count": null,
   "metadata": {
    "collapsed": false
   },
   "outputs": [],
   "source": [
    "x = 800\n",
    "y = 250 "
   ]
  },
  {
   "cell_type": "markdown",
   "metadata": {},
   "source": [
    "b. Now that you've gotten it to work for 1 point, let's see if you can do it for an array of points. Remember, numpy allows you to do the same thing with single numbers to an entire array at once. See if you can calculate the distance between *every* point in your data and the center of the screen. Save the result into a variable `dist`, which will be an array. \n",
    "\n",
    "Note: you do *not* have to loop for this. Remember, for any math that you do (like `sqrt`), you may need to use the function from the numpy package instead of the one from the math package. Confirm that the length of `dist` is the same as the number of rows in your data. "
   ]
  },
  {
   "cell_type": "code",
   "execution_count": null,
   "metadata": {
    "collapsed": false
   },
   "outputs": [],
   "source": []
  },
  {
   "cell_type": "markdown",
   "metadata": {},
   "source": [
    "c. Now we will use this to plot only the points that are near the center. We will choose a threshold of 100pixels. Any point that is more than 100 pixels away from the center we will throw away. Using Boolean indexing, create 2 new arrays `x` and `y` that contain only the x and y coordinates from your data where the distance from the center is less than 100. \n",
    "\n",
    "Confirm that the length of `x` and `y` is shorter than your full dataset. "
   ]
  },
  {
   "cell_type": "code",
   "execution_count": null,
   "metadata": {
    "collapsed": false
   },
   "outputs": [],
   "source": []
  },
  {
   "cell_type": "markdown",
   "metadata": {},
   "source": [
    "d. Now plot your new arrays using all the same settings you used in Problem 4d. "
   ]
  },
  {
   "cell_type": "code",
   "execution_count": null,
   "metadata": {
    "collapsed": false
   },
   "outputs": [],
   "source": []
  },
  {
   "cell_type": "markdown",
   "metadata": {
    "collapsed": true
   },
   "source": [
    "e. Now copy-and-paste your code from the problems above, and put it inside of a loop. You want it to loop through the set of coordinates that I'm giving you below (`allx` and `ally`). I also plotted them so you can see. These correspond to the locations of the different items on the screen during the experiment. At each loop, you should produce a plot that only shows the points that fall within **50** pixels of that point. Additionally, you should plot the points of from `allx` and `ally` in red on the same plot.  \n",
    "\n",
    "You have already written all the code necessary to do this, you just need to put it in a loop! It should only take a couple of changes. \n",
    "\n",
    "Note: you can loop through 2 lists at once easily like this: \n",
    "\n",
    "```python\n",
    "\n",
    "for a,b in zip(list1,list2):\n",
    "    print a\n",
    "    print b\n",
    "```\n",
    "\n",
    "I'm also going to change the default figure size to something smaller. "
   ]
  },
  {
   "cell_type": "code",
   "execution_count": 106,
   "metadata": {
    "collapsed": false
   },
   "outputs": [
    {
     "data": {
      "image/png": "[encoded data removed]",
      "text/plain": [
       "<matplotlib.figure.Figure at 0x11de1ba50>"
      ]
     },
     "metadata": {},
     "output_type": "display_data"
    }
   ],
   "source": [
    "matplotlib.rcParams['figure.figsize'] = (7.5, 5.0)\n",
    "\n",
    "allx = [512,652,720,792,720,652,512,372,305,232,305,372]\n",
    "ally = [624,627,504,384,265,142,144,142,264,384,504,627]\n",
    "\n",
    "plt.scatter(allx,ally,s=200)\n",
    "plt.xlim(0,1024)\n",
    "plt.ylim(0,768)\n",
    "plt.show()\n"
   ]
  },
  {
   "cell_type": "code",
   "execution_count": null,
   "metadata": {
    "collapsed": false
   },
   "outputs": [],
   "source": []
  }
 ],
 "metadata": {
  "kernelspec": {
   "display_name": "Python 2",
   "language": "python",
   "name": "python2"
  },
  "language_info": {
   "codemirror_mode": {
    "name": "ipython",
    "version": 2
   },
   "file_extension": ".py",
   "mimetype": "text/x-python",
   "name": "python",
   "nbconvert_exporter": "python",
   "pygments_lexer": "ipython2",
   "version": "2.7.11"
  }
 },
 "nbformat": 4,
 "nbformat_minor": 0
}
