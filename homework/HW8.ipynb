{
 "cells": [
  {
   "cell_type": "markdown",
   "metadata": {},
   "source": [
    "## Homework 8 - Video\n",
    "\n",
    "Now that you're more comfortable with images, let's get a little practice dealing with vidoes.\n",
    "\n",
    "Check out the video below. This is just a youtube video that's been embedded in the notebook using the `YouTubeVideo` function from `IPython.display`. "
   ]
  },
  {
   "cell_type": "code",
   "execution_count": null,
   "metadata": {
    "collapsed": false
   },
   "outputs": [],
   "source": [
    "from IPython.display import YouTubeVideo\n",
    "from datetime import timedelta\n",
    "\n",
    "start=int(timedelta(hours=1, minutes=46, seconds=40).total_seconds())\n",
    "\n",
    "YouTubeVideo(\"Zv0m1YzRu4M\",width=600)"
   ]
  },
  {
   "cell_type": "markdown",
   "metadata": {},
   "source": [
    "What's this? This is the inspirational video, *Be Somebody or be Somebody's Fool*, starring [Mr T](https://en.wikipedia.org/wiki/Mr._T). It was produced in 1984 and teaches you about a number of important topics like Friendship, Peer Pressure, and Breakdancing (more info [here](https://en.wikipedia.org/wiki/Be_Somebody..._or_Be_Somebody%27s_Fool!)). You can find a funny parody of it [here](https://youtu.be/1g-s-pghtYQ). \n",
    "\n",
    "I've downloaded this video and saved it as **R:\\Psy407_9\\Class_Data\\be_somebody.mp4**. We will work from this video, pulling some subclips and still images from it. In the process, you can refer to the youtube video above (the timing will be the same) or you can open it outside of Python. You should view it using the program VLC <http://www.videolan.org/>. This is already installed on the lab computers. \n",
    "\n",
    "### Problem 1\n",
    "\n",
    "a. Using the `moviepy` package, load in the be_somebody.mp4 file (it's in the datasets folder) and save as the variable `video`"
   ]
  },
  {
   "cell_type": "code",
   "execution_count": null,
   "metadata": {
    "collapsed": true
   },
   "outputs": [],
   "source": []
  },
  {
   "cell_type": "markdown",
   "metadata": {},
   "source": [
    "b. Use `get_frame` to grab the frame at 2 minutes, 7 seconds (call the variable `frame`). Then use the `imshow` function from matplotlib to display it below (don't forget to do inline plots!). "
   ]
  },
  {
   "cell_type": "code",
   "execution_count": null,
   "metadata": {
    "collapsed": false
   },
   "outputs": [],
   "source": []
  },
  {
   "cell_type": "markdown",
   "metadata": {},
   "source": [
    "c. Now use the `save_frame` method to save as the same frame as \"testframe.png\". "
   ]
  },
  {
   "cell_type": "code",
   "execution_count": null,
   "metadata": {
    "collapsed": true
   },
   "outputs": [],
   "source": []
  },
  {
   "cell_type": "markdown",
   "metadata": {},
   "source": [
    "### Problem 2\n",
    "\n",
    "Let's pracice getting some clips. Use the `subclip` method to grab the intro song from the video. It starts at 0:38 and ends at 2:32. Save it as the video file \"intro.mp4\". Open it outside of Python to confirm that it worked. "
   ]
  },
  {
   "cell_type": "code",
   "execution_count": null,
   "metadata": {
    "collapsed": false
   },
   "outputs": [],
   "source": []
  },
  {
   "cell_type": "markdown",
   "metadata": {},
   "source": [
    "### Problem 3\n",
    "\n",
    "a. Now to expand on this a bit. First load the file be_somebody_clips.csv using the `pandas` package and view its content using the `head` method. Call the dataframe `clips`. "
   ]
  },
  {
   "cell_type": "code",
   "execution_count": null,
   "metadata": {
    "collapsed": false
   },
   "outputs": [],
   "source": []
  },
  {
   "cell_type": "markdown",
   "metadata": {},
   "source": [
    "This is a list of clips from throuout the video. The `start` and `end` columns indicate the starting and ending points of each clip. The times are written in the format `mm.ss` so everything to the left of the decimal is the minutes, and everything to the right is the number of seconds. \n",
    "\n",
    "b. See if you can create a subclip from the second row of `clips`. Use the `name` column to make the filename. You will need to change any spaces to underscores (`_`), and add `.mp4` to the end. \n",
    "\n",
    "Note: the time needs to be represented as a tuple (minutes, seconds), or as a string like \"HH:MM:SS\" but they are not stored this way in the spreadsheet. You will need to convert them to either format in order to use the `subclip` method. "
   ]
  },
  {
   "cell_type": "code",
   "execution_count": null,
   "metadata": {
    "collapsed": false
   },
   "outputs": [],
   "source": []
  },
  {
   "cell_type": "markdown",
   "metadata": {},
   "source": [
    "c. Now copy-and-paste your code from above, and put it inside of a `for` loop so you can create clips for every row from `clips`. Print the filename at each loop, so you can keep up on the progress. Once it's done, open the videos outside of Python-- there are some gems in there. "
   ]
  },
  {
   "cell_type": "code",
   "execution_count": null,
   "metadata": {
    "collapsed": false
   },
   "outputs": [],
   "source": []
  },
  {
   "cell_type": "markdown",
   "metadata": {},
   "source": [
    "### Problem 4\n",
    "\n",
    "a. Now we will do something similar with still frames from our video. Load the file `be_somebody_frames.csv` as a DataFrame called `frames`. Print out 18 rows using the `head` method. "
   ]
  },
  {
   "cell_type": "code",
   "execution_count": null,
   "metadata": {
    "collapsed": false
   },
   "outputs": [],
   "source": []
  },
  {
   "cell_type": "markdown",
   "metadata": {},
   "source": [
    "b. Now here is a list of individual frames (i.e., images) you want to work with. Now it's a bit more convenient, since minutes and seconds are separated into different columns. Using the appropriate information from `frames`, display the frame listed in the first row. Give it the variable name `f`. "
   ]
  },
  {
   "cell_type": "code",
   "execution_count": null,
   "metadata": {
    "collapsed": false
   },
   "outputs": [],
   "source": []
  },
  {
   "cell_type": "markdown",
   "metadata": {},
   "source": [
    "These frames depict all the key points that Mr. T covers throughout the video (check out the wikipedia page for more information, or better yet, watch the video!). \n",
    "\n",
    "We want to combine these images into a collage. In order to do this, we need to turn them into an Image object from PIL. We can do this using the `fromarray` method, illustrated below:\n"
   ]
  },
  {
   "cell_type": "code",
   "execution_count": null,
   "metadata": {
    "collapsed": false
   },
   "outputs": [],
   "source": [
    "from PIL import Image\n",
    "\n",
    "im = Image.fromarray(f)\n",
    "plt.imshow(im)\n",
    "plt.show()"
   ]
  },
  {
   "cell_type": "markdown",
   "metadata": {},
   "source": [
    "c. Take the code from (b) and the example above and adapt it so you can loop through all rows of `frames`, load each frame, convert it to an `Image` object (called `im`), and plot it. This requires only a couple tiny changes!"
   ]
  },
  {
   "cell_type": "code",
   "execution_count": null,
   "metadata": {
    "collapsed": false
   },
   "outputs": [],
   "source": []
  },
  {
   "cell_type": "markdown",
   "metadata": {},
   "source": [
    "d. Below I have created a filter that selects only the rows where the message says \"Frustration\". Use this filter to create a subset of `frames`, called `frust` that contains only these rows. Print `frust` using `head`."
   ]
  },
  {
   "cell_type": "code",
   "execution_count": null,
   "metadata": {
    "collapsed": false
   },
   "outputs": [],
   "source": [
    "frames.message=='Frustration'\n"
   ]
  },
  {
   "cell_type": "markdown",
   "metadata": {},
   "source": [
    "e. Look at the index column of `frust`. Notice that the row numbers are jumbled. This will cause problems later. To reset the index (i.e. row numbers) we need to use the `reset_index` method, and give it the argument \"drop=True\". Do that below: "
   ]
  },
  {
   "cell_type": "code",
   "execution_count": null,
   "metadata": {
    "collapsed": false
   },
   "outputs": [],
   "source": [
    "frust = frust.reset_index(drop=True)\n"
   ]
  },
  {
   "cell_type": "markdown",
   "metadata": {},
   "source": [
    "Let's make a 2x2 grid of these frames. The first step is to create our blank image to paste into. \n",
    "\n",
    "e. Load the first frame from `frust` and convert it to a PIL `Image`. Then make a new blank image that is twice as wide and twice as tall as the frame. Call it `blank` and display it. \n",
    "\n",
    "You have done all this before! Don't reinvent the wheel, just copy and paste your code from previous problems (including Homework 7). "
   ]
  },
  {
   "cell_type": "code",
   "execution_count": null,
   "metadata": {
    "collapsed": false
   },
   "outputs": [],
   "source": []
  },
  {
   "cell_type": "markdown",
   "metadata": {},
   "source": [
    "f. Time to make the 2x2 grid. You already created a grid of images in Homework 7. You can adapt that code to solve this problem. Note that you can already load each frame, convert it to a PIL image, and plot it. Instead of plotting it, you just need to *paste* them into your blank image at the appropriate spot. The end result should look like this: \n",
    "\n",
    "<img src='../images/frustration.png',align='center',width=350></img>\n",
    "\n",
    "\n",
    "If you get frustrated in the process, hopefully you can appreciate the irony. \n",
    "\n",
    "Note: There is a looping solution and a non-looping solution. Because there are only 4, the non-looping method might be easier. "
   ]
  },
  {
   "cell_type": "code",
   "execution_count": null,
   "metadata": {
    "collapsed": false
   },
   "outputs": [],
   "source": []
  },
  {
   "cell_type": "markdown",
   "metadata": {},
   "source": [
    "### Problem 5\n",
    "\n",
    "Now let's make a 4x4 grid from the other frames in our list. To make it more interesting, let's randomise the order that they will appear. This will require us to shuffle the rows of our DataFrame. I have done that for you below. Also note that we have 17 rows, but we need only 16 for our image, so we select only the first 16 after shuffling. "
   ]
  },
  {
   "cell_type": "code",
   "execution_count": null,
   "metadata": {
    "collapsed": false
   },
   "outputs": [],
   "source": [
    "import numpy as np\n",
    "\n",
    "random_seq = np.random.permutation(len(frames)) #generate random sequence of 1-17\n",
    "frames_shuff = frames.iloc[random_seq] #use it to shuffle the rows of our dataframe\n",
    "frames_shuff = frames_shuff.reset_index(drop=True) #reset the row numbers (0-16)\n",
    "frames_shuff = frames_shuff.iloc[0:16,:] #pull out the first 16 rows\n",
    "frames_shuff"
   ]
  },
  {
   "cell_type": "markdown",
   "metadata": {},
   "source": [
    "Below I have given you some code that does most of the hard work. It already figures out the x and y coordinates of where to paste the images, and the corresponding image number-- for example, if you're pasting an image at row 2, column 3 of our grid, then that would be the 7th image in our list. Imagine our grid is like this: \n",
    "\n",
    "| 1  | 2  | 3  |  4 | \n",
    "|----|----|----|----|\n",
    "| 5  | 6  | 7  | 8  |\n",
    "| 9  | 10 | 11 | 12 |\n",
    "| 13 | 14 | 15 | 16 |\n",
    "\n",
    "* The variables `row` and `col` refer to the rows and columns of our grid.\n",
    "* The varaibles `x` and `y` are the x and y coordinates to paste the images\n",
    "* The variable `img_num` tells us which image to paste into the grid (i.e., the numbers in that table above)\n",
    "\n",
    "There are 2 parts in the code you need to add something to make this work. It should be a short solution! Make sure and display the image. \n"
   ]
  },
  {
   "cell_type": "code",
   "execution_count": null,
   "metadata": {
    "collapsed": false
   },
   "outputs": [],
   "source": [
    "\n",
    "frame1 = video.get_frame((frames_shuff.minutes[0],frames_shuff.seconds[0]))\n",
    "frame1 = Image.fromarray(frame1)\n",
    "\n",
    "w = frame1.width\n",
    "h = frame1.height\n",
    "\n",
    "blank = Image.new(\"RGB\", (w*4,h*4))\n",
    "\n",
    "for row in range(1,5):\n",
    "    y = 0+h*(row-1)\n",
    "    \n",
    "    for col in range(1,5):\n",
    "        x = 0 + w*(col-1) \n",
    "        img_num = (row-1)*4 + col-1\n",
    "        \n",
    "        #load in appropriate frame\n",
    "        blank.paste(#fill in here)\n",
    "\n",
    "        "
   ]
  },
  {
   "cell_type": "markdown",
   "metadata": {},
   "source": [
    "### Problem 6\n",
    "\n",
    "There's some quality music in this video. Let's save the audio tracks from a couple of them. \n",
    "\n",
    "a. Get just the audio track from the part of the video where they do the \"Be Somebody\" rap. It's from about 36:04 to 38:57. Save the audio as the file \"be_somebody_rap.mp3\". Use the method `audio_fadeout` to make it fade out over the last 10 seconds. \n"
   ]
  },
  {
   "cell_type": "code",
   "execution_count": null,
   "metadata": {
    "collapsed": false
   },
   "outputs": [],
   "source": []
  },
  {
   "cell_type": "markdown",
   "metadata": {},
   "source": [
    "b. Do the same thing for the friendship song, from 39:45 to 43:40, except make it fade **in** for the first 5 seconds. Print out the duration of the friendship song. "
   ]
  },
  {
   "cell_type": "code",
   "execution_count": null,
   "metadata": {
    "collapsed": false
   },
   "outputs": [],
   "source": []
  },
  {
   "cell_type": "markdown",
   "metadata": {},
   "source": [
    "c. Add the above songs to your favorite playlist, and listen to them at your next get-together. :-)"
   ]
  },
  {
   "cell_type": "markdown",
   "metadata": {},
   "source": [
    "\n",
    "Treat your mother right: 26:57 to 29:44 (start montage at 27:19)\n"
   ]
  },
  {
   "cell_type": "markdown",
   "metadata": {},
   "source": [
    "### Problem 6\n",
    "\n",
    "Below I have created a little \"music video\". First I grab 1 clip from 6:45 to 7:00, and another from 12:41 to 13:00. I then combine them using `concatenate` and save the combined video as `newclip`. `newclip` is 34 seconds long. \n",
    "\n",
    "As an extra step, I grab the audio starting from 6:45 (the start of the first clip) and continue until 7:19. This is 34 seconds of audio. I change the audio for `newclip` to this audio track. \n",
    "\n",
    "The end result is a \"music video\", with the music overlayed on multiple clips. View it outside of Python and you'll see what I mean. "
   ]
  },
  {
   "cell_type": "code",
   "execution_count": null,
   "metadata": {
    "collapsed": false
   },
   "outputs": [],
   "source": [
    "clip1 = video.subclip((6,45), (7,0)) #15 seconds long\n",
    "clip2 = video.subclip((12,41), (13,0)) #19 seconds long\n",
    "\n",
    "#make a list to hold the clips\n",
    "#this is unneccesary here, but will be useful for the problem below\n",
    "cliplist = []\n",
    "cliplist.append(clip1) #hint hint, maybe this can go in a for loop ;-)\n",
    "cliplist.append(clip2)\n",
    "\n",
    "newclip = concatenate(cliplist) #combine into a clip that's 34 seconds long\n",
    "\n",
    "justaudio = video.subclip((6,45),(7,19)).audio #just the audio! 34 seconds long\n",
    "\n",
    "#change the audio\n",
    "newclip = newclip.set_audio(justaudio)\n",
    "\n",
    "#save the file. \n",
    "newclip.to_videofile('newclip.mp4')"
   ]
  },
  {
   "cell_type": "markdown",
   "metadata": {},
   "source": [
    "Now it's your turn. We want to make a music video for the song \"Treat your mother right\". It starts at 26:57 and ends at 29.44. This is 2 minutes, 47 seconds long. \n",
    "\n",
    "The first clip in your music video will be the start of the song, which is from 26:57 to 27:19. As soon as he says \"mother\", you should show a series of clips from the whole video. Have fun with it, choose some interesting ones. **You should have a minimum of 10 clips**. \n",
    "\n",
    "To make your life easier, watch the video and mark the times for the different clips in a csv file in Excel. I don't expect you to spend hours on this, you should be able to find some fun clips pretty easily.\n",
    "\n",
    "Then you can load this file, loop through and make your clips. This is basically the same thing you did in Problem 3c. Combine what you did in 3c with the code I have above and you should have your solution! \n",
    "\n",
    "Save the result as 'treat_your_mother_right.mp4'. "
   ]
  },
  {
   "cell_type": "code",
   "execution_count": null,
   "metadata": {
    "collapsed": true
   },
   "outputs": [],
   "source": []
  },
  {
   "cell_type": "code",
   "execution_count": null,
   "metadata": {
    "collapsed": true
   },
   "outputs": [],
   "source": []
  }
 ],
 "metadata": {
  "kernelspec": {
   "display_name": "Python 2",
   "language": "python",
   "name": "python2"
  },
  "language_info": {
   "codemirror_mode": {
    "name": "ipython",
    "version": 2
   },
   "file_extension": ".py",
   "mimetype": "text/x-python",
   "name": "python",
   "nbconvert_exporter": "python",
   "pygments_lexer": "ipython2",
   "version": "2.7.11"
  }
 },
 "nbformat": 4,
 "nbformat_minor": 0
}
