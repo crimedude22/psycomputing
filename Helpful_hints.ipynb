{
 "cells": [
  {
   "cell_type": "markdown",
   "metadata": {},
   "source": [
    "## Helpful Hints\n",
    "\n",
    "This notebook will be a collection of little snippets that provide helpful hints for many common operations that you will frequently encounter when coding. This is by no means an exhaustive list, just particular ones you will encounter in you homework, etc. \n",
    "\n",
    "### 1. Counting\n",
    "This is helpful if you need to count the number of times something occurs. You need 2 basic parts: a `for` loop, and a variable that starts at zero, and increments by 1 every time you count. \n"
   ]
  },
  {
   "cell_type": "code",
   "execution_count": 8,
   "metadata": {
    "collapsed": false
   },
   "outputs": [
    {
     "name": "stdout",
     "output_type": "stream",
     "text": [
      "10\n"
     ]
    }
   ],
   "source": [
    "counter = 0 #this variable will hold our total\n",
    "\n",
    "#count to 10\n",
    "for i in range(10):\n",
    "    counter = counter + 1\n",
    "    \n",
    "\n",
    "print counter"
   ]
  },
  {
   "cell_type": "code",
   "execution_count": 6,
   "metadata": {
    "collapsed": false
   },
   "outputs": [
    {
     "name": "stdout",
     "output_type": "stream",
     "text": [
      "10\n",
      "5\n"
     ]
    }
   ],
   "source": [
    "#what if we want to count the number of times some type of event happens?\n",
    "#Just add an `if` statement!\n",
    "\n",
    "mylist = [2,4,6,8,10,1,3,5,7,9]\n",
    "\n",
    "#count the even numbers\n",
    "\n",
    "num_evens = 0\n",
    "\n",
    "for num in mylist:\n",
    "    if num%2== 0: #check if current number is even\n",
    "        num_evens = num_evens+1\n",
    "\n",
    "print num_evens"
   ]
  },
  {
   "cell_type": "markdown",
   "metadata": {
    "collapsed": true
   },
   "source": [
    "### 2. Adding stuff to a list\n",
    "\n",
    "Often times, you want to fill a list full of information. This works almost exactly the same as the counting example above: we start with an empty list, do a `for` loop, and at each loop we add to the list. When the loop is over, the list is filled!\n",
    "\n",
    "\n"
   ]
  },
  {
   "cell_type": "code",
   "execution_count": 9,
   "metadata": {
    "collapsed": false
   },
   "outputs": [
    {
     "name": "stdout",
     "output_type": "stream",
     "text": [
      "[1, 2, 3, 4, 5, 6, 7, 8, 9, 10]\n"
     ]
    }
   ],
   "source": [
    "#simplest example: fill a list with the values 1-10\n",
    "\n",
    "newlist = [] #empty list\n",
    "\n",
    "for i in range(1,11):\n",
    "    newlist.append(i) #add the current value to the end of the list\n",
    "    \n",
    "\n",
    "print newlist"
   ]
  },
  {
   "cell_type": "code",
   "execution_count": 11,
   "metadata": {
    "collapsed": false
   },
   "outputs": [
    {
     "name": "stdout",
     "output_type": "stream",
     "text": [
      "[2, 4, 6, 8, 10]\n"
     ]
    }
   ],
   "source": [
    "#take the example from (1), and add only the even numbers to our new list\n",
    "\n",
    "evens_only = [] #start with empty list\n",
    "\n",
    "mylist = [2,4,6,8,10,1,3,5,7,9] #take only the even numbers from this list\n",
    "\n",
    "for num in mylist:\n",
    "     if num%2== 0: #check if current number is even\n",
    "        evens_only.append(num) #if so, then add to our list!\n",
    "        \n",
    "print evens_only"
   ]
  },
  {
   "cell_type": "markdown",
   "metadata": {},
   "source": [
    "### 3. Modifying each element of a list\n",
    "\n",
    "If you want to modify each element of a list, this can be accomplished using the same logic as the example above: you loop through your original list, and at each loop you add the element to a second list. The only difference is you modify the element in some way before adding it to the new list. In this example, let's add 5 to each item in mylist: "
   ]
  },
  {
   "cell_type": "code",
   "execution_count": 1,
   "metadata": {
    "collapsed": false
   },
   "outputs": [
    {
     "name": "stdout",
     "output_type": "stream",
     "text": [
      "[2, 4, 6, 8, 10, 1, 3, 5, 7, 9]\n",
      "[7, 9, 11, 13, 15, 6, 8, 10, 12, 14]\n"
     ]
    }
   ],
   "source": [
    "mylist = [2,4,6,8,10,1,3,5,7,9]\n",
    "\n",
    "mylist_plus5 = [] #our answer will go here\n",
    "\n",
    "for i in mylist:\n",
    "    newnum = i+5 #add 5 to the current element\n",
    "    mylist_plus5.append(newnum) #then save the answer\n",
    "    \n",
    "    \n",
    "print mylist\n",
    "print mylist_plus5\n",
    "\n"
   ]
  },
  {
   "cell_type": "markdown",
   "metadata": {
    "collapsed": true
   },
   "source": [
    "### 4. Nested `for` Loops\n",
    "\n",
    "<img src=\"http://i.imgur.com/gKTBgxE.jpg\", align='left',width='250px'></img>There are many situations where you want to loop through hierarchical information. This often requires nested `for` loops-- loops within loops. They're really useful if you're combining 2 different lists of information. A concrete example helps. Let's make a virtual jar full of M&M's. M&M's have different types (original,peanut, crispy, almond, etc.) and different colors (red, yellow, brown, etc.). We want our virtual jar to have every unique type of M&M-- all types in all colors. \n",
    "\n",
    "The logic is, we loop through all the different types of M&M's, and for each type, we also loop through each color. Our final \"jar\" will be a list of strings, where each one is of the form 'Peanut - Yellow'."
   ]
  },
  {
   "cell_type": "code",
   "execution_count": 14,
   "metadata": {
    "collapsed": false
   },
   "outputs": [
    {
     "name": "stdout",
     "output_type": "stream",
     "text": [
      "original\n",
      "original - yellow\n",
      "original - orange\n",
      "original - green\n",
      "original - red\n",
      "original - blue\n",
      "original - brown\n",
      "peanut\n",
      "peanut - yellow\n",
      "peanut - orange\n",
      "peanut - green\n",
      "peanut - red\n",
      "peanut - blue\n",
      "peanut - brown\n",
      "crispy\n",
      "crispy - yellow\n",
      "crispy - orange\n",
      "crispy - green\n",
      "crispy - red\n",
      "crispy - blue\n",
      "crispy - brown\n",
      "pretzel\n",
      "pretzel - yellow\n",
      "pretzel - orange\n",
      "pretzel - green\n",
      "pretzel - red\n",
      "pretzel - blue\n",
      "pretzel - brown\n",
      "almond\n",
      "almond - yellow\n",
      "almond - orange\n",
      "almond - green\n",
      "almond - red\n",
      "almond - blue\n",
      "almond - brown\n",
      "peanut-butter\n",
      "peanut-butter - yellow\n",
      "peanut-butter - orange\n",
      "peanut-butter - green\n",
      "peanut-butter - red\n",
      "peanut-butter - blue\n",
      "peanut-butter - brown\n",
      "['original - yellow', 'original - orange', 'original - green', 'original - red', 'original - blue', 'original - brown', 'peanut - yellow', 'peanut - orange', 'peanut - green', 'peanut - red', 'peanut - blue', 'peanut - brown', 'crispy - yellow', 'crispy - orange', 'crispy - green', 'crispy - red', 'crispy - blue', 'crispy - brown', 'pretzel - yellow', 'pretzel - orange', 'pretzel - green', 'pretzel - red', 'pretzel - blue', 'pretzel - brown', 'almond - yellow', 'almond - orange', 'almond - green', 'almond - red', 'almond - blue', 'almond - brown', 'peanut-butter - yellow', 'peanut-butter - orange', 'peanut-butter - green', 'peanut-butter - red', 'peanut-butter - blue', 'peanut-butter - brown']\n",
      "36\n"
     ]
    }
   ],
   "source": [
    "jar = [] #start with empty jar\n",
    "types = ['original','peanut','crispy','pretzel','almond','peanut-butter'] \n",
    "colors = ['yellow','orange','green','red','blue','brown']\n",
    "\n",
    "#because we have 6 types and 6 colors, we have 6*6=36 different combinations\n",
    "#so we loop 36 total times - 6 outer loops, and 6 inner loops within those\n",
    "\n",
    "#outer loop\n",
    "for t in types: #loop through each type (original, peanut,etc.,etc.)\n",
    "    print t \n",
    "    \n",
    "    #inner loop\n",
    "    for c in colors: #for each type, loop through all the colors\n",
    "        mm = '%s - %s' %(t,c) #combine both into a string\n",
    "        print mm\n",
    "        jar.append(mm) #add to our jar!\n",
    "\n",
    "print jar\n",
    "print len(jar) #there are 36 M&Ms in the jar"
   ]
  },
  {
   "cell_type": "markdown",
   "metadata": {},
   "source": [
    "### 5. Nested for loops AND nested lists\n",
    "\n",
    "Now imagine that your jar has fun-sized bags of M&M's. Each bag contains a single kind of M&M (original, peanut, etc.), with 1 of each color. We represent this with nested lists. Each bag is a list, and we put that inside of our jar (which is also a list). I will copy-and-paste the code from above and make 2 changes."
   ]
  },
  {
   "cell_type": "code",
   "execution_count": 13,
   "metadata": {
    "collapsed": false
   },
   "outputs": [
    {
     "name": "stdout",
     "output_type": "stream",
     "text": [
      "original\n",
      "['original - yellow', 'original - orange', 'original - green', 'original - red', 'original - blue', 'original - brown']\n",
      "peanut\n",
      "['peanut - yellow', 'peanut - orange', 'peanut - green', 'peanut - red', 'peanut - blue', 'peanut - brown']\n",
      "crispy\n",
      "['crispy - yellow', 'crispy - orange', 'crispy - green', 'crispy - red', 'crispy - blue', 'crispy - brown']\n",
      "pretzel\n",
      "['pretzel - yellow', 'pretzel - orange', 'pretzel - green', 'pretzel - red', 'pretzel - blue', 'pretzel - brown']\n",
      "almond\n",
      "['almond - yellow', 'almond - orange', 'almond - green', 'almond - red', 'almond - blue', 'almond - brown']\n",
      "peanut-butter\n",
      "['peanut-butter - yellow', 'peanut-butter - orange', 'peanut-butter - green', 'peanut-butter - red', 'peanut-butter - blue', 'peanut-butter - brown']\n",
      "[['original - yellow', 'original - orange', 'original - green', 'original - red', 'original - blue', 'original - brown'], ['peanut - yellow', 'peanut - orange', 'peanut - green', 'peanut - red', 'peanut - blue', 'peanut - brown'], ['crispy - yellow', 'crispy - orange', 'crispy - green', 'crispy - red', 'crispy - blue', 'crispy - brown'], ['pretzel - yellow', 'pretzel - orange', 'pretzel - green', 'pretzel - red', 'pretzel - blue', 'pretzel - brown'], ['almond - yellow', 'almond - orange', 'almond - green', 'almond - red', 'almond - blue', 'almond - brown'], ['peanut-butter - yellow', 'peanut-butter - orange', 'peanut-butter - green', 'peanut-butter - red', 'peanut-butter - blue', 'peanut-butter - brown']]\n",
      "6\n"
     ]
    }
   ],
   "source": [
    "jar = [] #start with empty jar\n",
    "types = ['original','peanut','crispy','pretzel','almond','peanut-butter'] \n",
    "colors = ['yellow','orange','green','red','blue','brown']\n",
    "\n",
    "#because we have 6 types and 6 colors, we have 6*6=36 different combinations\n",
    "#so we loop 36 total times - 6 outer loops, and 6 inner loops within those\n",
    "\n",
    "for t in types: #loop through each type (original, peanut,etc.)\n",
    "    print t #just so we see\n",
    "    bag = [] #THIS IS NEW- CREATE AN EMPTY BAG\n",
    "    \n",
    "    for c in colors: #for each type, loop through all the colors\n",
    "        mm = '%s - %s' %(t,c) #combine both into a string\n",
    "        bag.append(mm) #THIS IS NEW-- we add the M&M to the BAG \n",
    "    \n",
    "    print bag #THIS IS NEW, just so we see\n",
    "    \n",
    "    jar.append(bag) #THIS IS NEW - we add the BAG to our jar. Notice the indenting. this is NOT part of the inner loop \n",
    "\n",
    "print jar\n",
    "print len(jar) #There are 6 bags in the jar"
   ]
  }
 ],
 "metadata": {
  "kernelspec": {
   "display_name": "Python 2",
   "language": "python",
   "name": "python2"
  },
  "language_info": {
   "codemirror_mode": {
    "name": "ipython",
    "version": 2
   },
   "file_extension": ".py",
   "mimetype": "text/x-python",
   "name": "python",
   "nbconvert_exporter": "python",
   "pygments_lexer": "ipython2",
   "version": "2.7.11"
  }
 },
 "nbformat": 4,
 "nbformat_minor": 0
}
