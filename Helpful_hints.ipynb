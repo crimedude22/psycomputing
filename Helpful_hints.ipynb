{
 "cells": [
  {
   "cell_type": "markdown",
   "metadata": {},
   "source": [
    "## Helpful Hints\n",
    "\n",
    "This notebook will be a collection of little snippets that provide helpful hints for many common operations that you will frequently encounter when coding. This is by no means an exhaustive list, just particular ones you will encounter in you homework, etc. \n",
    "\n",
    "### 1. Counting\n",
    "This is helpful if you need to count the number of times something occurs. You need 2 basic parts: a `for` loop, and a variable that starts at zero, and increments by 1 every time you count. \n"
   ]
  },
  {
   "cell_type": "code",
   "execution_count": null,
   "metadata": {
    "collapsed": false
   },
   "outputs": [],
   "source": [
    "counter = 0 #this variable will hold our total\n",
    "\n",
    "#count to 10\n",
    "for i in range(10):\n",
    "    counter = counter + 1\n",
    "    \n",
    "\n",
    "print counter"
   ]
  },
  {
   "cell_type": "code",
   "execution_count": null,
   "metadata": {
    "collapsed": false
   },
   "outputs": [],
   "source": [
    "#what if we want to count the number of times some type of event happens?\n",
    "#Just add an `if` statement!\n",
    "\n",
    "mylist = [2,4,6,8,10,1,3,5,7,9]\n",
    "\n",
    "#count the even numbers\n",
    "\n",
    "num_evens = 0\n",
    "\n",
    "for num in mylist:\n",
    "    if num%2== 0: #check if current number is even\n",
    "        num_evens = num_evens+1\n",
    "\n",
    "print num_evens"
   ]
  },
  {
   "cell_type": "markdown",
   "metadata": {
    "collapsed": true
   },
   "source": [
    "### 2. Adding stuff to a list\n",
    "\n",
    "Often times, you want to fill a list full of information. This works almost exactly the same as the counting example above: we start with an empty list, do a `for` loop, and at each loop we add to the list. When the loop is over, the list is filled!\n",
    "\n",
    "\n"
   ]
  },
  {
   "cell_type": "code",
   "execution_count": null,
   "metadata": {
    "collapsed": false
   },
   "outputs": [],
   "source": [
    "#simplest example: fill a list with the values 1-10\n",
    "\n",
    "newlist = [] #empty list\n",
    "\n",
    "for i in range(1,11):\n",
    "    newlist.append(i) #add the current value to the end of the list\n",
    "    \n",
    "\n",
    "print newlist"
   ]
  },
  {
   "cell_type": "code",
   "execution_count": null,
   "metadata": {
    "collapsed": false
   },
   "outputs": [],
   "source": [
    "#take the example from (1), and add only the even numbers to our new list\n",
    "\n",
    "evens_only = [] #start with empty list\n",
    "\n",
    "mylist = [2,4,6,8,10,1,3,5,7,9] #take only the even numbers from this list\n",
    "\n",
    "for num in mylist:\n",
    "     if num%2== 0: #check if current number is even\n",
    "        evens_only.append(num) #if so, then add to our list!\n",
    "        \n",
    "print evens_only"
   ]
  },
  {
   "cell_type": "markdown",
   "metadata": {},
   "source": [
    "### 3. Modifying each element of a list\n",
    "\n",
    "If you want to modify each element of a list, this can be accomplished using the same logic as the example above: you loop through your original list, and at each loop you add the element to a second list. The only difference is you modify the element in some way before adding it to the new list. In this example, let's add 5 to each item in mylist: "
   ]
  },
  {
   "cell_type": "code",
   "execution_count": null,
   "metadata": {
    "collapsed": false
   },
   "outputs": [],
   "source": [
    "mylist = [2,4,6,8,10,1,3,5,7,9]\n",
    "\n",
    "mylist_plus5 = [] #our answer will go here\n",
    "\n",
    "for i in mylist:\n",
    "    newnum = i+5 #add 5 to the current element\n",
    "    mylist_plus5.append(newnum) #then save the answer\n",
    "    \n",
    "    \n",
    "print mylist\n",
    "print mylist_plus5\n",
    "\n"
   ]
  },
  {
   "cell_type": "markdown",
   "metadata": {
    "collapsed": true
   },
   "source": [
    "### 4. Nested `for` Loops\n",
    "\n",
    "<img src=\"http://i.imgur.com/gKTBgxE.jpg\", align='left',width='250px'></img>There are many situations where you want to loop through hierarchical information. This often requires nested `for` loops-- loops within loops. They're really useful if you're combining 2 different lists of information. A concrete example helps. Let's make a virtual jar full of M&M's. M&M's have different types (original,peanut, crispy, almond, etc.) and different colors (red, yellow, brown, etc.). We want our virtual jar to have every unique type of M&M-- all types in all colors. \n",
    "\n",
    "The logic is, we loop through all the different types of M&M's, and for each type, we also loop through each color. Our final \"jar\" will be a list of strings, where each one is of the form 'Peanut - Yellow'."
   ]
  },
  {
   "cell_type": "code",
   "execution_count": null,
   "metadata": {
    "collapsed": false
   },
   "outputs": [],
   "source": [
    "jar = [] #start with empty jar\n",
    "types = ['original','peanut','crispy','pretzel','almond','peanut-butter'] \n",
    "colors = ['yellow','orange','green','red','blue','brown']\n",
    "\n",
    "#because we have 6 types and 6 colors, we have 6*6=36 different combinations\n",
    "#so we loop 36 total times - 6 outer loops, and 6 inner loops within those\n",
    "\n",
    "#outer loop\n",
    "for t in types: #loop through each type (original, peanut,etc.,etc.)\n",
    "    print t \n",
    "    \n",
    "    #inner loop\n",
    "    for c in colors: #for each type, loop through all the colors\n",
    "        mm = '%s - %s' %(t,c) #combine both into a string\n",
    "        print mm\n",
    "        jar.append(mm) #add to our jar!\n",
    "\n",
    "print jar\n",
    "print len(jar) #there are 36 M&Ms in the jar"
   ]
  },
  {
   "cell_type": "markdown",
   "metadata": {},
   "source": [
    "### 5. Nested for loops AND nested lists\n",
    "\n",
    "Now imagine that your jar has fun-sized bags of M&M's. Each bag contains a single kind of M&M (original, peanut, etc.), with 1 of each color. We represent this with nested lists. Each bag is a list, and we put that inside of our jar (which is also a list). I will copy-and-paste the code from above and make 2 changes."
   ]
  },
  {
   "cell_type": "code",
   "execution_count": null,
   "metadata": {
    "collapsed": false
   },
   "outputs": [],
   "source": [
    "jar = [] #start with empty jar\n",
    "types = ['original','peanut','crispy','pretzel','almond','peanut-butter'] \n",
    "colors = ['yellow','orange','green','red','blue','brown']\n",
    "\n",
    "#because we have 6 types and 6 colors, we have 6*6=36 different combinations\n",
    "#so we loop 36 total times - 6 outer loops, and 6 inner loops within those\n",
    "\n",
    "for t in types: #loop through each type (original, peanut,etc.)\n",
    "    print t #just so we see\n",
    "    bag = [] #THIS IS NEW- CREATE AN EMPTY BAG\n",
    "    \n",
    "    for c in colors: #for each type, loop through all the colors\n",
    "        mm = '%s - %s' %(t,c) #combine both into a string\n",
    "        bag.append(mm) #THIS IS NEW-- we add the M&M to the BAG \n",
    "    \n",
    "    print bag #THIS IS NEW, just so we see\n",
    "    \n",
    "    jar.append(bag) #THIS IS NEW - we add the BAG to our jar. Notice the indenting. this is NOT part of the inner loop \n",
    "\n",
    "print jar\n",
    "print len(jar) #There are 6 bags in the jar"
   ]
  },
  {
   "cell_type": "markdown",
   "metadata": {},
   "source": [
    "### 6. Taking a \"flat\" list and organizing hierarchically\n",
    "\n",
    "Let's say we have a list that represents a deck of cards. Each \"card\" looks like this: \n",
    "\n",
    "```python\n",
    "#5 of Clubs\n",
    "['Clubs',5]\n",
    "```\n",
    "\n",
    "Each card is a list. The first element is the suit, and the second is the value. Our list has 52 of these cards. Now we want to reorganize it hierarchically, based on suit. We will do this using a dictionary. With the end result, we want to be able to do this: \n",
    "\n",
    "```python\n",
    "print deck['Clubs']\n",
    "['Ace','Jack','King','Queen',1,2,3,4,5,6,7,8,9,10]\n",
    "```\n",
    "\n",
    "`deck` will be a dictionary. Each key is a suit, and the value is a list (which indicates all the possible face values). Obviously these will be the same for every suit. \n",
    "\n",
    "First I create my deck (you can ignore this first step)"
   ]
  },
  {
   "cell_type": "code",
   "execution_count": 31,
   "metadata": {
    "collapsed": false
   },
   "outputs": [
    {
     "name": "stdout",
     "output_type": "stream",
     "text": [
      "[['Clubs', 'Ace'], ['Clubs', 'King'], ['Clubs', 'Queen'], ['Clubs', 'Jack'], ['Clubs', 2], ['Clubs', 3], ['Clubs', 4], ['Clubs', 5], ['Clubs', 6], ['Clubs', 7], ['Clubs', 8], ['Clubs', 9], ['Clubs', 10], ['Spades', 'Ace'], ['Spades', 'King'], ['Spades', 'Queen'], ['Spades', 'Jack'], ['Spades', 2], ['Spades', 3], ['Spades', 4], ['Spades', 5], ['Spades', 6], ['Spades', 7], ['Spades', 8], ['Spades', 9], ['Spades', 10], ['Diamonds', 'Ace'], ['Diamonds', 'King'], ['Diamonds', 'Queen'], ['Diamonds', 'Jack'], ['Diamonds', 2], ['Diamonds', 3], ['Diamonds', 4], ['Diamonds', 5], ['Diamonds', 6], ['Diamonds', 7], ['Diamonds', 8], ['Diamonds', 9], ['Diamonds', 10], ['Hearts', 'Ace'], ['Hearts', 'King'], ['Hearts', 'Queen'], ['Hearts', 'Jack'], ['Hearts', 2], ['Hearts', 3], ['Hearts', 4], ['Hearts', 5], ['Hearts', 6], ['Hearts', 7], ['Hearts', 8], ['Hearts', 9], ['Hearts', 10]]\n"
     ]
    }
   ],
   "source": [
    "#you can ignore this\n",
    "suits = ['Clubs','Spades','Diamonds','Hearts']\n",
    "values = ['Ace','King','Queen','Jack'] + range(2,11)\n",
    "\n",
    "decklist = []\n",
    "\n",
    "for s in suits:\n",
    "    for v in values:\n",
    "        decklist.append([s,v])\n",
    "        \n",
    "print decklist"
   ]
  },
  {
   "cell_type": "markdown",
   "metadata": {},
   "source": [
    "Let's pratice making our dictionary manually, just for a couple cards:"
   ]
  },
  {
   "cell_type": "code",
   "execution_count": 32,
   "metadata": {
    "collapsed": false
   },
   "outputs": [
    {
     "name": "stdout",
     "output_type": "stream",
     "text": [
      "<type 'list'>\n",
      "{'Clubs': ['King', 5]}\n",
      "['Clubs']\n",
      "[['King', 5]]\n"
     ]
    }
   ],
   "source": [
    "deck = {} #make a blank dictionary\n",
    "\n",
    "deck['Clubs'] = [] #create a key called clubs, the value is a blank list\n",
    "print type(deck['Clubs']) #see, it's a list!\n",
    "\n",
    "#add 2 values to our list, deck['Clubs']\n",
    "deck['Clubs'].append('King')\n",
    "deck['Clubs'].append(5)\n",
    "\n",
    "print deck\n",
    "print deck.keys()\n",
    "print deck.values()"
   ]
  },
  {
   "cell_type": "markdown",
   "metadata": {},
   "source": [
    "Now we want to loop through our original `decklist` and do the same thing. So instead of writing 'Clubs', we refer to the suit from each card. For now, let's just add 1 card (King) to it.  "
   ]
  },
  {
   "cell_type": "code",
   "execution_count": 33,
   "metadata": {
    "collapsed": false
   },
   "outputs": [
    {
     "name": "stdout",
     "output_type": "stream",
     "text": [
      "{'Hearts': ['King'], 'Clubs': ['King'], 'Spades': ['King'], 'Diamonds': ['King']}\n"
     ]
    }
   ],
   "source": [
    "deck = {}\n",
    "\n",
    "for card in decklist:\n",
    "    #remember, each card is a list\n",
    "    #the suit is the first element\n",
    "    suit = card[0]\n",
    "    \n",
    "    #This part is EXACTLY the same, except we use the variable suit, intstead of the string 'Clubs'\n",
    "    deck[suit] = [] #create a key called <current suit>, the value is a blank list\n",
    "    #add 1 values to our list, deck['Clubs']\n",
    "    deck[suit].append('King')\n",
    "    \n",
    "print deck\n"
   ]
  },
  {
   "cell_type": "markdown",
   "metadata": {},
   "source": [
    "Nice. Now we have 1 card per suit. Let's access the value of each card, and fill that in instead. I copy-and-paste my code, and make a very small change. "
   ]
  },
  {
   "cell_type": "code",
   "execution_count": 34,
   "metadata": {
    "collapsed": false
   },
   "outputs": [
    {
     "name": "stdout",
     "output_type": "stream",
     "text": [
      "{'Hearts': [10], 'Clubs': [10], 'Spades': [10], 'Diamonds': [10]}\n"
     ]
    }
   ],
   "source": [
    "deck = {}\n",
    "\n",
    "for card in decklist:\n",
    "    \n",
    "    suit = card[0]\n",
    "    value = card[1] #THIS IS NEW\n",
    "    \n",
    "    deck[suit] = [] #create a key called <current suit>, the value is a blank list\n",
    "   \n",
    "    deck[suit].append(value) #use the variable called value, instead of writing 'King'\n",
    "    \n",
    "print deck"
   ]
  },
  {
   "cell_type": "markdown",
   "metadata": {},
   "source": [
    "Hmmm. Not quite. Notice that we still have 1 card per suit. And, it happens to be the last element in the list of values. Why did this happen? The problem is this line: \n",
    "```python\n",
    "deck[suit] = [] #create a key called <current suit>, the value is a blank list\n",
    "```\n",
    "This gets repeated for *every card*. That means, with each card, `deck['suit']` is turned into a blank list, then we append 1 elment to it (the current value), and at the next loop, this happens again. **This list can never get longer than 1 element.** \n",
    "\n",
    "What's the solution? **We only want to say `deck[suit] = []` if the suit is not part of the deck yet**. If it *is*, then we want to append to the list that's already there. How do we check if a key already exists in a dictionary? We use the `in` function!\n",
    "\n",
    "```python\n",
    "'Hearts' in deck #True or False\n",
    "```\n",
    "\n",
    "Now we copy-and-paste again, but only create our blank list if the suit doesn't exist in our list yet. Otherwise, we just append to the list that's already there. "
   ]
  },
  {
   "cell_type": "code",
   "execution_count": 37,
   "metadata": {
    "collapsed": false
   },
   "outputs": [
    {
     "name": "stdout",
     "output_type": "stream",
     "text": [
      "['Hearts', 'Clubs', 'Spades', 'Diamonds']\n",
      "['Ace', 'King', 'Queen', 'Jack', 2, 3, 4, 5, 6, 7, 8, 9, 10]\n",
      "['Ace', 'King', 'Queen', 'Jack', 2, 3, 4, 5, 6, 7, 8, 9, 10]\n",
      "['Ace', 'King', 'Queen', 'Jack', 2, 3, 4, 5, 6, 7, 8, 9, 10]\n",
      "['Ace', 'King', 'Queen', 'Jack', 2, 3, 4, 5, 6, 7, 8, 9, 10]\n"
     ]
    }
   ],
   "source": [
    "#FINAL SOLUTION\n",
    "deck = {}\n",
    "\n",
    "for card in decklist:\n",
    "    \n",
    "    suit = card[0]\n",
    "    value = card[1] \n",
    "    \n",
    "    if suit in deck:\n",
    "        deck[suit].append(value) #append the value if the suit is already there\n",
    "        \n",
    "    else: #otherwise, create our blank list, then add to it\n",
    "        deck[suit] = [] \n",
    "        deck[suit].append(value) \n",
    "    \n",
    "print deck.keys()\n",
    "print deck['Hearts']\n",
    "print deck['Diamonds']\n",
    "print deck['Clubs']\n",
    "print deck['Spades']"
   ]
  },
  {
   "cell_type": "markdown",
   "metadata": {},
   "source": [
    "Here's an equivalent version, that uses `not in`. This might be more intuitive to some people:"
   ]
  },
  {
   "cell_type": "code",
   "execution_count": 38,
   "metadata": {
    "collapsed": false
   },
   "outputs": [
    {
     "name": "stdout",
     "output_type": "stream",
     "text": [
      "['Hearts', 'Clubs', 'Spades', 'Diamonds']\n",
      "['Ace', 'King', 'Queen', 'Jack', 2, 3, 4, 5, 6, 7, 8, 9, 10]\n",
      "['Ace', 'King', 'Queen', 'Jack', 2, 3, 4, 5, 6, 7, 8, 9, 10]\n",
      "['Ace', 'King', 'Queen', 'Jack', 2, 3, 4, 5, 6, 7, 8, 9, 10]\n",
      "['Ace', 'King', 'Queen', 'Jack', 2, 3, 4, 5, 6, 7, 8, 9, 10]\n"
     ]
    }
   ],
   "source": [
    "#AN EQUIVALENT SOLUTION\n",
    "\n",
    "deck = {}\n",
    "\n",
    "for card in decklist:\n",
    "    \n",
    "    suit = card[0]\n",
    "    value = card[1] \n",
    "    \n",
    "    if suit not in deck:\n",
    "        deck[suit] = [] #only create the new blank list if it's not there yet\n",
    "            \n",
    "    deck[suit].append(value) #append to the list\n",
    "        \n",
    "print deck.keys()\n",
    "print deck['Hearts']\n",
    "print deck['Diamonds']\n",
    "print deck['Clubs']\n",
    "print deck['Spades']"
   ]
  },
  {
   "cell_type": "markdown",
   "metadata": {},
   "source": [
    "### 7. Going from one file to many files\n",
    "\n",
    "If you ever do data analysis, you will learn that information is usually scattered across many files. Perhaps you want to perform some calculation, produce some plots, or summarize information from a given text file. You figure out how to do this with a single text file. But, maybe you have a folder with 100 text files with the same organization, and you want to repeat the same thing on every one of those. \n",
    "\n",
    "The first step is the make it work for just 1 file: "
   ]
  },
  {
   "cell_type": "code",
   "execution_count": 1,
   "metadata": {
    "collapsed": false
   },
   "outputs": [
    {
     "name": "stdout",
     "output_type": "stream",
     "text": [
      "['EMMA', 'OLIVIA', 'SOPHIA', 'ISABELLA', 'AVA', 'MIA', 'EMILY', 'ABIGAIL', 'MADISON', 'CHARLOTTE', 'HARPER', 'SOFIA', 'AVERY', 'ELIZABETH', 'AMELIA', 'EVELYN', 'ELLA', 'CHLOE', 'VICTORIA', 'AUBREY']\n"
     ]
    }
   ],
   "source": [
    "#open 1 file\n",
    "with open('./datasets/names1.txt') as f:\n",
    "    data = f.readlines()\n",
    "    \n",
    "#clean up the data\n",
    "clean_data = []\n",
    "\n",
    "for row in data:\n",
    "    clean_data.append(row.strip().upper())\n",
    "\n",
    "print clean_data[:20]"
   ]
  },
  {
   "cell_type": "markdown",
   "metadata": {},
   "source": [
    "This works great. Now we want to get a list of all the files we want to do this for. In our simple example, we only have 2 files:"
   ]
  },
  {
   "cell_type": "code",
   "execution_count": 8,
   "metadata": {
    "collapsed": false
   },
   "outputs": [
    {
     "name": "stdout",
     "output_type": "stream",
     "text": [
      "['names1.txt', 'names2.txt']\n"
     ]
    }
   ],
   "source": [
    "from glob import glob\n",
    "import os\n",
    "\n",
    "os.chdir('./datasets') #move to the datasets subfolder\n",
    "\n",
    "filelist = glob('names*.txt') #list the files we're interested in \n",
    "print filelist"
   ]
  },
  {
   "cell_type": "markdown",
   "metadata": {},
   "source": [
    "Here, `filelist` is just a list with 2 elements. Each element is a string that corresponds to a filename. Notice the first filename is the same file we loaded in earlier. Instead of writing out the path directly, we can just reference the name from `filelist`"
   ]
  },
  {
   "cell_type": "code",
   "execution_count": 10,
   "metadata": {
    "collapsed": false
   },
   "outputs": [
    {
     "name": "stdout",
     "output_type": "stream",
     "text": [
      "['EMMA', 'OLIVIA', 'SOPHIA', 'ISABELLA', 'AVA', 'MIA', 'EMILY', 'ABIGAIL', 'MADISON', 'CHARLOTTE', 'HARPER', 'SOFIA', 'AVERY', 'ELIZABETH', 'AMELIA', 'EVELYN', 'ELLA', 'CHLOE', 'VICTORIA', 'AUBREY']\n"
     ]
    }
   ],
   "source": [
    "#open 1 file\n",
    "with open(filelist[0]) as f: #THIS IS THE ONLY LINE THAT CHANGED\n",
    "    data = f.readlines()\n",
    "\n",
    "#clean up the data\n",
    "clean_data = []\n",
    "\n",
    "for row in data:\n",
    "    clean_data.append(row.strip().upper())\n",
    "\n",
    "print clean_data[:20]"
   ]
  },
  {
   "cell_type": "markdown",
   "metadata": {},
   "source": [
    "So how do we repeat this process for all the file in our list? Well, we can use a `for` loop! I will copy and paste the code from above, and make 2 changes. \n",
    "\n",
    "Now the variable `current_file` represents the current file in `filelist`. It will go through each file, one at a time, load it in, clean up the data, and print out the first 20 rows of the cleaned data. \n",
    "\n",
    "Notice this code will work the same if it's 2 files or 2000 files. "
   ]
  },
  {
   "cell_type": "code",
   "execution_count": 22,
   "metadata": {
    "collapsed": false
   },
   "outputs": [
    {
     "name": "stdout",
     "output_type": "stream",
     "text": [
      "['EMMA', 'OLIVIA', 'SOPHIA', 'ISABELLA', 'AVA', 'MIA', 'EMILY', 'ABIGAIL', 'MADISON', 'CHARLOTTE', 'HARPER', 'SOFIA', 'AVERY', 'ELIZABETH', 'AMELIA', 'EVELYN', 'ELLA', 'CHLOE', 'VICTORIA', 'AUBREY']\n",
      "['SMITH', 'JOHNSON', 'WILLIAMS', 'BROWN', 'JONES', 'MILLER', 'DAVIS', 'GARCIA', 'RODRIGUEZ', 'WILSON', 'MARTINEZ', 'ANDERSON', 'TAYLOR', 'THOMAS', 'HERNANDEZ', 'MOORE', 'MARTIN', 'JACKSON', 'THOMPSON', 'WHITE']\n"
     ]
    }
   ],
   "source": [
    "for current_file in filelist: #I ADDED THIS LINE, THEN INDENTED THE CODE BELOW\n",
    "    #open 1 file\n",
    "    with open(current_file) as f: #THIS LINE CHANGED AGAIN\n",
    "        data = f.readlines()\n",
    "\n",
    "    #clean up the data\n",
    "    clean_data = []\n",
    "\n",
    "    for row in data:\n",
    "        clean_data.append(row.strip().upper())\n",
    "\n",
    "    print clean_data[:20]"
   ]
  }
 ],
 "metadata": {
  "kernelspec": {
   "display_name": "Python 2",
   "language": "python",
   "name": "python2"
  },
  "language_info": {
   "codemirror_mode": {
    "name": "ipython",
    "version": 2
   },
   "file_extension": ".py",
   "mimetype": "text/x-python",
   "name": "python",
   "nbconvert_exporter": "python",
   "pygments_lexer": "ipython2",
   "version": "2.7.11"
  }
 },
 "nbformat": 4,
 "nbformat_minor": 0
}
