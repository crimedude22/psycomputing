{
 "cells": [
  {
   "cell_type": "markdown",
   "metadata": {},
   "source": [
    "## Reading and Writing Files\n",
    "\n",
    "It is pretty rare that you type all the data you want into Python. Most of the time, you will be getting data from different sources. Likewise, you will need to be able to save your data so you can use it in other programs (Excel, SPSS, R, etc.). This section will teach you the basics of reading and writing files so you can move data between Python and these other sources. \n",
    "\n",
    "### Common File Formats\n",
    "There are various formats that people use for saving data. The easiest thing to deal with is plain text, because it can be used everywhere. BUT, there are different conventions people use for saving data in plain text. \n",
    "\n",
    "* The most common is probably **Comma Separated Values (.csv)** files. These are for saving tabular data. The rule is very simple: each row of the data is on a separate line, and each column of data is separated by a comma character \",\"\n",
    "\n",
    "* Another common format is a **tab delimited** file. These usually have the .txt or .dat file extension. They are like csv files, except each column is separated by a tab character (like when you hit tab on the keyboard). In plain text files, tab is represented as `\\t`. When you open a file in Notepad, Word, etc. then it hides these characters from you, but they are still there!\n",
    "\n",
    "* A popular format for passing data over the internet is **Javascript Object Notation (JSON)**. These are still plain text, but the information is stored a lot like a Python dictionary. There are named fields with matching values. They can also store lists. The benefit of this format is that it can handle data that is not a simple spreadsheet. \n",
    "    * Think about the David Bowie dataset-- you have a single album with a single title and year, then a track list that contains several titles. This can easily be represented in a JSON file. \n",
    "    \n",
    "* Another format that's popular on the web is **XML** or **HTML**. Again, this is plain text, but information can be represented hierarchically. The basic rule is that different types of information are surrounded by \"tags\". Each tag is inside of brackets `<tag>` and has a matching closing tag with a slash `</tag>`. For instance, I could organize the music information like this: \n",
    "\n",
    "```xml\n",
    "<Artist>\n",
    "    <name>David Bowie</name>\n",
    "    <album>Heroes\n",
    "        <year>1977</year>\n",
    "        <tracks>\n",
    "            <song>Heroes</song>\n",
    "            <song>Beauty and the Beast</song>\n",
    "            ...\n",
    "        </tracks>\n",
    "    </album>\n",
    "<Artist>    \n",
    "```"
   ]
  },
  {
   "cell_type": "markdown",
   "metadata": {},
   "source": [
    "### Taking a Look\n",
    "\n",
    "* First let's look at some data. Navigate to the folder **R:\\Class_Data\\datasets\\sample_data**, and double-click on the \"sample_data.csv\" file. This will open it in Excel. That's because Excel knows how to read csv files. Notice that it looks like a normal excel sheet. The data are from a set of baby names that we will use later. There are 3 columns of data: a name, a gender (m/f) and the number of occurrences of that name in the year 2012. \n",
    "\n",
    "    * Now open the file using the program Notepad++ (open the program first, then drag the file into it). \n",
    "\n",
    "    * Notice how in Excel it displays things in different columns, but in Notepad++ you just see commas between values. \n",
    "\n",
    "* Now do the same thing with sample_data.txt. How is this different? \n",
    "\n",
    "\n",
    "### Loading files into Python\n",
    "\n",
    "There are 2 basic steps to loading or saving files. For the first step, you open the file (or create it, if it doesn't exist yet) and you create a **file handle**. This is just a variable, but it tells Python how to find the file on your hard drive. \n",
    "\n",
    "Then you use other functions to read or write information to/from the file. This varies based on the file type and what you want to do with it. \n",
    "\n",
    "First see how we open a file below, using the `open` function. We call our file handle `f`. \n",
    "\n",
    "The second argument to `open` is the *mode*. This tells Python what we want to do with the file. \n",
    "\n",
    "* 'r' means we will only read from the file\n",
    "* 'w' means we will read *and* write to the file\n",
    "    * if the file exists already, it is erased!\n",
    "* 'a' (think \"append\") opens it for reading and writing, BUT any writing is appended to the end of the file if it already exists. \n",
    "\n",
    "* you may notice code where people specify 'w+' or 'a+'. These are subtle differences that you probably don't need to know about. You can get more detail [here](http://stackoverflow.com/questions/1466000/python-open-built-in-function-difference-between-modes-a-a-w-w-and-r) though. \n"
   ]
  },
  {
   "cell_type": "code",
   "execution_count": null,
   "metadata": {
    "collapsed": false
   },
   "outputs": [],
   "source": [
    "f = open('R:/Psy407_9/Class_Data/datasets/sample_data/sample_data.csv','r') #open the file for reading\n",
    "\n",
    "#do some stuff with the file\n",
    "\n",
    "f.close() #close the file when you're done"
   ]
  },
  {
   "cell_type": "markdown",
   "metadata": {},
   "source": [
    "Kind of uneventful, right? Let's do something else. Let's use the `readlines` function to read in all lines of the file, which are stored in a list. Take a look at `content` as well as the first 5 elements of it. How is the information stored? "
   ]
  },
  {
   "cell_type": "code",
   "execution_count": null,
   "metadata": {
    "collapsed": false
   },
   "outputs": [],
   "source": [
    "f = open('R:/Psy407_9/Class_Data/datasets/sample_data/sample_data.csv','r') #open the file for reading\n",
    "\n",
    "content = f.readlines()\n",
    "content = content[:10] #let's just grab the first 10 lines\n",
    "print content\n",
    "\n",
    "f.close() #close the file when you're done"
   ]
  },
  {
   "cell_type": "code",
   "execution_count": null,
   "metadata": {
    "collapsed": false
   },
   "outputs": [],
   "source": []
  },
  {
   "cell_type": "markdown",
   "metadata": {},
   "source": [
    "See if you can loop through `content` and remove the newline characters (`\\r\\n`) from each element using `strip`. Save the result back into the `content` variable. "
   ]
  },
  {
   "cell_type": "code",
   "execution_count": null,
   "metadata": {
    "collapsed": false
   },
   "outputs": [],
   "source": []
  },
  {
   "cell_type": "markdown",
   "metadata": {},
   "source": [
    "Next take each line of `content` and split it into separate columns based on the delimiter, which is comma \",\". Just print the result. Notice how many elements are in each list now. "
   ]
  },
  {
   "cell_type": "code",
   "execution_count": null,
   "metadata": {
    "collapsed": false
   },
   "outputs": [],
   "source": []
  },
  {
   "cell_type": "markdown",
   "metadata": {},
   "source": [
    "### The `with` function\n",
    "\n",
    "Notice in the example above, we have to call f.close() when we're done with the file. If we don't do this, it takes up memory and can cause other problems in your script. You only want the files open as long as you need them. If you do a complicated operation with your file, it is easy to forget to do this. \n",
    "\n",
    "That's why they created the `with`...`as` function. It works a lot like a loop, but it just specifies what you do to a file. When it's done, it closes the file for you, so you don't have to do f.close().\n",
    "\n",
    "See the example below. Notice how it has the colon an lines are indented, just like in an `if` statment or a `for` loop. In Enlish, the statement reads like this: \n",
    "\n",
    "\"With this file that I'm opening, call it `f`, do stuff to it (readlines), then close it when you're done.\"\n",
    "\n"
   ]
  },
  {
   "cell_type": "code",
   "execution_count": null,
   "metadata": {
    "collapsed": false
   },
   "outputs": [],
   "source": [
    "with open('R:/Psy407_9/Class_Data/datasets/sample_data/sample_data.csv','r') as f:\n",
    "    content = f.readlines()\n",
    "    \n",
    "print content[:10]\n"
   ]
  },
  {
   "cell_type": "markdown",
   "metadata": {},
   "source": [
    "This is just a cleaner and more concise way to open your files, and you don't have to remember to close the file when you're done. "
   ]
  },
  {
   "cell_type": "markdown",
   "metadata": {},
   "source": [
    "### The csv package\n",
    "\n",
    "Since csv files are so common, Python has a `csv` package for dealing with these files. In this example, we read in a file row-by-row (instead of all-at-once with `readlines`). "
   ]
  },
  {
   "cell_type": "code",
   "execution_count": null,
   "metadata": {
    "collapsed": false
   },
   "outputs": [],
   "source": [
    "import csv\n",
    "\n",
    "with open('R:/Psy407_9/Class_Data/datasets/sample_data/sample_data.csv','r') as f:\n",
    "    csvreader = csv.reader(f,delimiter=',')\n",
    "    \n",
    "    for row in csvreader:\n",
    "        print row"
   ]
  },
  {
   "cell_type": "markdown",
   "metadata": {},
   "source": [
    "Notice that we first make a variable `csvreader` using `csv.reader`. We can then loop through each row using this variable. See how it already splits up our data into a list with 3 elements? This saves us from doing `strip` and `split`. \n",
    "\n",
    "Now try the same thing with our tab-delimited file `sample_data.txt`. Even though this isn't a .csv file, it's OK. The package is made for reading any delimited file. The only difference is that the delimiter is a tab (\\t) instead of a comma (,). \n",
    "\n",
    "Notice that we add a \"U\" to the mode when we call `open`. This enables \"universal newline mode\". This is a silly thing that you sometimes have to do. It's related to the way that different programs sometimes use different characters to specify the newline characters. If you use \"r\" and you get an error, try \"rU\". "
   ]
  },
  {
   "cell_type": "code",
   "execution_count": null,
   "metadata": {
    "collapsed": false
   },
   "outputs": [],
   "source": [
    "with open('R:/Psy407_9/Class_Data/datasets/sample_data/sample_data.txt','rU') as f:\n",
    "    csvreader = csv.reader(f,delimiter='\\t')\n",
    "    for row in csvreader:\n",
    "        print row"
   ]
  },
  {
   "cell_type": "markdown",
   "metadata": {},
   "source": [
    "Notice it doesn't look the way we want. it has all these `\\t` characters. This is because we still told it that columns are delimited by a comma. Change the \"delimiter\" argument to \"\\t\" and see if that works. "
   ]
  },
  {
   "cell_type": "markdown",
   "metadata": {},
   "source": [
    "### Writing csv files\n",
    "\n",
    "Now let's write our data to a file. First, read in the file sample_text.csv, but this time only read in the first 25 lines. You will have to modify the `for` loop to loop 25 times, and at each loop call `csvreader.next()` and append it to a list called `subdata`. The `next` method just reads the next line in the file. When it's done, print the contents of `subdata`"
   ]
  },
  {
   "cell_type": "code",
   "execution_count": null,
   "metadata": {
    "collapsed": false
   },
   "outputs": [],
   "source": [
    "subdata = []\n",
    "\n",
    "with open('R:/Psy407_9/Class_Data/datasets/sample_data/sample_data.csv','r') as f:\n",
    "    csvreader = csv.reader(f,delimiter=',')\n",
    "    for row in range(25):\n",
    "        data = csvreader.next()\n",
    "        subdata.append(data)\n",
    "        \n",
    "print subdata"
   ]
  },
  {
   "cell_type": "markdown",
   "metadata": {},
   "source": [
    "Now copy and paste your code from above and modify it slightly to save the contents of `subdata` to your own csv file. You will save the data into a csv file in **R:\\Student_Data\\your_duckid\\test_data.csv**. \n",
    "\n",
    "You will make 3 changes. \n",
    "* First, change the mode for `open` to `w`\n",
    "* Instead of csvreader, you will create a variable `csvwriter` using the `csv.writer` function\n",
    "* Loop through each row of `subdata`, and use the function `csvwriter.writerow(rowdata)`\n",
    "\n",
    "Open the file in Excel to confirm that it worked. "
   ]
  },
  {
   "cell_type": "code",
   "execution_count": null,
   "metadata": {
    "collapsed": false
   },
   "outputs": [],
   "source": [
    "# subdata = []\n",
    "\n",
    "#notice the wb!!!\n",
    "with open('R:/Psy407_9/Class_Data/datasets/sample_data/new_file.csv','wb') as f:\n",
    "    csvwriter = csv.writer(f,delimiter=',')\n",
    "    for row in subdata:\n",
    "        csvwriter.writerow(row)\n",
    "        \n",
    "# print subdata"
   ]
  },
  {
   "cell_type": "code",
   "execution_count": null,
   "metadata": {
    "collapsed": false
   },
   "outputs": [],
   "source": []
  },
  {
   "cell_type": "markdown",
   "metadata": {},
   "source": [
    "### JSON Files\n",
    "\n",
    "Now let's load the same data that's stored in a JSON file. First, open the file in Notepad++ to see how it's stored. Notice it looks a lot like how you would type it into Python! Now we will use the `json` package to load from that file into a Python variable. What is the datatype of `namedata`? "
   ]
  },
  {
   "cell_type": "code",
   "execution_count": null,
   "metadata": {
    "collapsed": false
   },
   "outputs": [],
   "source": [
    "import json\n",
    "\n",
    "with open('R:/Psy407_9/Class_Data/datasets/sample_data/sample_data.json','r') as f:\n",
    "    namedata = json.load(f)\n",
    "    \n",
    "    \n",
    "print namedata[0][0]"
   ]
  },
  {
   "cell_type": "markdown",
   "metadata": {},
   "source": [
    "JSON files are very useful for saving Python dictionary and list data. Let's use our contact list example from a previous lecture. Notice that `contacts` is a list, and each element in the list is a dictionary. "
   ]
  },
  {
   "cell_type": "code",
   "execution_count": null,
   "metadata": {
    "collapsed": false
   },
   "outputs": [],
   "source": [
    "person1 = {'Name' : 'John Q. Taxpayer', \n",
    "         'Phone' : '541-555-1234',\n",
    "         'Email' : 'johnq@yahoo.com'}\n",
    "\n",
    "person2 = {'Name' : 'Barack Obama', \n",
    "        'Email' : 'president@whitehouse.gov',\n",
    "        'Phone' : '555-123-4567'}\n",
    "\n",
    "person3 = {'Name': 'Jason Hubbard',\n",
    "          'Email': 'hubbard3@uoregon.edu',\n",
    "          'Phone': '555-123-7712'}\n",
    "\n",
    "contacts = [person1,person2,person3]\n",
    "\n",
    "print contacts"
   ]
  },
  {
   "cell_type": "markdown",
   "metadata": {},
   "source": [
    "Now let's save it into a JSON file under **R:\\Student_Data\\your_duckid\\test_data.json** using `json.dump`. Now open the file in Notepad++ and see what it looks like. "
   ]
  },
  {
   "cell_type": "code",
   "execution_count": null,
   "metadata": {
    "collapsed": false
   },
   "outputs": [],
   "source": [
    "with open('R:/Psy407_9/Student_Data/hubbard3/test_data.json','w') as f:\n",
    "     json.dump(contacts,f)"
   ]
  },
  {
   "cell_type": "markdown",
   "metadata": {},
   "source": [
    "## Binary Files\n",
    "\n",
    "Plain text is great because you can move your data to other programs easily. But sometimes you want to save your data for Python only. Plain text files are also not efficient for storing large amounts of information. So if you have lots of data that you know you only need in python, you can save it using the **pickle** package (yes, pickle). Files have the `.pkl` extension. Here we load in a .pkl file that has the same info as our contact list we created above. We save it as a new variable name, loaded_contacts"
   ]
  },
  {
   "cell_type": "code",
   "execution_count": null,
   "metadata": {
    "collapsed": false
   },
   "outputs": [],
   "source": [
    "import pickle\n",
    "with open('R:/Psy407_9/Class_Data/datasets/sample_data/sample_data.pkl','r') as f:\n",
    "    loaded_contacts = pickle.load(f)"
   ]
  },
  {
   "cell_type": "markdown",
   "metadata": {},
   "source": [
    "We save the data in a similar way, just using `pickle.dump`. Here we just save a variable called `x` that's a list. "
   ]
  },
  {
   "cell_type": "code",
   "execution_count": null,
   "metadata": {
    "collapsed": true
   },
   "outputs": [],
   "source": [
    "x = [1,2,3]\n",
    "\n",
    "with open('R:/Psy407_9/Student_Data/MYDUCKID/saved_x.pkl','w') as f:\n",
    "     pickle.dump(x,f)\n",
    "\n",
    "\n"
   ]
  },
  {
   "cell_type": "code",
   "execution_count": null,
   "metadata": {
    "collapsed": true
   },
   "outputs": [],
   "source": [
    "#now load the saved data, saving the result into a variable y\n",
    "with open('R:/Psy407_9/Student_Data/MYDUCKID/saved_x.pkl','r') as f:\n",
    "     y = pickle.load(f)\n"
   ]
  },
  {
   "cell_type": "markdown",
   "metadata": {},
   "source": [
    "Now try to open your .pkl file in Notepad++. What does it look like? "
   ]
  },
  {
   "cell_type": "code",
   "execution_count": null,
   "metadata": {
    "collapsed": true
   },
   "outputs": [],
   "source": []
  },
  {
   "cell_type": "code",
   "execution_count": null,
   "metadata": {
    "collapsed": true
   },
   "outputs": [],
   "source": []
  },
  {
   "cell_type": "markdown",
   "metadata": {},
   "source": []
  }
 ],
 "metadata": {
  "kernelspec": {
   "display_name": "Python 2",
   "language": "python",
   "name": "python2"
  },
  "language_info": {
   "codemirror_mode": {
    "name": "ipython",
    "version": 2
   },
   "file_extension": ".py",
   "mimetype": "text/x-python",
   "name": "python",
   "nbconvert_exporter": "python",
   "pygments_lexer": "ipython2",
   "version": "2.7.11"
  }
 },
 "nbformat": 4,
 "nbformat_minor": 0
}
