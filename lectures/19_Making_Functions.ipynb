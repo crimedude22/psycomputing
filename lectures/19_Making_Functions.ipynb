{
 "cells": [
  {
   "cell_type": "markdown",
   "metadata": {},
   "source": [
    "## Making your own functions\n",
    "\n",
    "So far, you have accomplished tasks using Python's built-in functions, things like \n",
    "\n",
    "```python \n",
    "abs\n",
    "print\n",
    "type\n",
    "```\n",
    "And functions from other packages, like `sin`/`cos`/`tan` from the `math` package. \n",
    "\n",
    "Every time you use them, you have to provide inputs (*arguments*), and save some sort of output, like this: \n",
    "\n",
    "```python\n",
    "x = -5\n",
    "x2 = abs(x)\n",
    "print x2\n",
    "```\n",
    "\n",
    "These functions are not very special. There are just bits of python code that some other person wrote. Some of them are provided with standard Python, others are included in packages. But remember, they are all written by people, there is nothing magical about them. \n",
    "\n",
    "That means that *you* can write your own functions too! I encourage you to do this, because it makes your code much more readable, and most of the time it makes your code more efficient. \n",
    "\n",
    "### Definine and Call\n",
    "\n",
    "There are 2 stages to using functions. First you *define* a function. This is where you write the Python code and you determine the inputs and outputs and how the computation is made. This only has to be done once. \n",
    "\n",
    "After that you can *call* the function as many times as you want. When you say something like `abs(x)` you're *calling* the `abs` function. Think of functions as tools. Someone makes a hammer in a factory, someone else buys that hammer and uses it to put hundreds or thousands of nails into things-- they don't need to make a new hammer each time, it's reusable. Functions are like hammers. \n",
    "\n",
    "\n",
    "Let's make a function called `add_these` that just adds 2 numbers together and returns the result. We define a function using `def`, like so: \n"
   ]
  },
  {
   "cell_type": "code",
   "execution_count": null,
   "metadata": {
    "collapsed": false
   },
   "outputs": [],
   "source": [
    "def add_these(x,y):\n",
    "    xysum = x+y\n",
    "    return(xysum)\n"
   ]
  },
  {
   "cell_type": "markdown",
   "metadata": {},
   "source": [
    "Notice that the function name comes after **`def`**, and we put the inputs in parentheses. Our function expects 2 numbers, which we are calling `x` and `y` for now. From that we create an output (xysum), and then we **`return`** it. Notice nothing happened. Python didn't try to add togehter x and y. We don't even have variables called x and y, as can be seen below: "
   ]
  },
  {
   "cell_type": "code",
   "execution_count": null,
   "metadata": {
    "collapsed": false
   },
   "outputs": [],
   "source": [
    "print x+y #this causes an error because they don't exist "
   ]
  },
  {
   "cell_type": "markdown",
   "metadata": {},
   "source": [
    "`x` and `y` are just placeholders. Those placeholders aren't filled until we call the function, like this: "
   ]
  },
  {
   "cell_type": "code",
   "execution_count": null,
   "metadata": {
    "collapsed": false
   },
   "outputs": [],
   "source": [
    "add_these(5,3)\n"
   ]
  },
  {
   "cell_type": "markdown",
   "metadata": {},
   "source": [
    "As soon as we do this, imagine that python does the following: \n",
    "\n",
    "```python\n",
    "x = 5\n",
    "y = 3\n",
    "\n",
    "xysum = x+y\n",
    "```\n",
    "\n",
    "When we defined the function, we created 2 placeholders, x and y. When calling the function, we give it 2 numbers, 5 and 3. So, it makes x=5 and y=3 and performs the computation. \n",
    "\n",
    "The variable that is inside of `return()` is the output that the function produces. This means that when we call the function, we can save its output into another variable, like this: "
   ]
  },
  {
   "cell_type": "code",
   "execution_count": null,
   "metadata": {
    "collapsed": false
   },
   "outputs": [],
   "source": [
    "answer = add_these(4,3)\n",
    "print answer"
   ]
  },
  {
   "cell_type": "markdown",
   "metadata": {},
   "source": [
    "We can also use variables instead of numbers for our arguments:"
   ]
  },
  {
   "cell_type": "code",
   "execution_count": null,
   "metadata": {
    "collapsed": false
   },
   "outputs": [],
   "source": [
    "a = 10\n",
    "b = 4\n",
    "\n",
    "add_these(a,b)"
   ]
  },
  {
   "cell_type": "markdown",
   "metadata": {},
   "source": [
    "### Important!!\n",
    "\n",
    "**Notice that we did *not* call our variables `x` and `y`**. When we call the function, the variable names do not have to match the ones in the definition. \n",
    "\n",
    "Like hammers, functions are made to be used by other people, and they are general-purpose. Imagine buying a hammer, and the person at Home Depot telling you that you can only use it on one brand of nail. That would be silly. Hammers can be used on all types of nails. \n",
    "\n",
    "Likewise, `add_these` takes 2 numbers and adds them together, and this should work for *all* numbers. When I define the function, I don't know what particular numbers someone will use in the future, so I put placeholders `x` and `y` to represent them. As long as both arguments are numbers, then I don't care if someone typed in an actual number, or put a variable that represents a certain number. \n",
    "\n",
    "So when I define a function, I can call the variables anything I want. \n"
   ]
  },
  {
   "cell_type": "code",
   "execution_count": null,
   "metadata": {
    "collapsed": true
   },
   "outputs": [],
   "source": [
    "def add_these(apple,banana):\n",
    "    result = apple+banana\n",
    "    return(result)"
   ]
  },
  {
   "cell_type": "code",
   "execution_count": null,
   "metadata": {
    "collapsed": false
   },
   "outputs": [],
   "source": [
    "print add_these(4,5)\n",
    "\n",
    "q = 5\n",
    "r = 7\n",
    "print add_these(q,r)"
   ]
  },
  {
   "cell_type": "markdown",
   "metadata": {},
   "source": [
    "The only time Python gets unhappy is if the *type* of data is not what's expected. Remember, we can't just add together strings and numbers. So, the function call below will produce an error: "
   ]
  },
  {
   "cell_type": "code",
   "execution_count": null,
   "metadata": {
    "collapsed": false
   },
   "outputs": [],
   "source": [
    "add_these(5, 'potato')"
   ]
  },
  {
   "cell_type": "markdown",
   "metadata": {},
   "source": [
    "Think about how the function is written. When you call it, the placeholder `x` is set to the value of `5` and the placeholder `y` is set to the value of `potato`. Then it tries to do `5+'potato'`, and that doesn't work. \n",
    "\n",
    "Also, look at the error message. Notice that you can see our function definition, and there is an arrow ----> that points to one of the lines. This is the part where Python got unhappy. All error messages in Python attempt to do this. The difficulty is, you usually don't know how someone created their function, so it's not always obvious what went wrong. "
   ]
  },
  {
   "cell_type": "markdown",
   "metadata": {
    "collapsed": true
   },
   "source": [
    "### What's the point?\n",
    "\n",
    "There are plenty of reasons to use functions versus just writing a script. Here are (in my opinion) the top 3 reasons: \n",
    "\n",
    "* **Solve once, use many times:** programming is about solving problems. Ideally we want to solve a problem once, then re-use that solution whenever we encounter the same problem in the future. Functions allow you to do this easily\n",
    "\n",
    "\n",
    "* **Make code more understandable:** you will see in the examples that re-writing the same bit of code with functions just makes it more understandable. Your scripts read more like an English sentence, rather than a bunch of symbols and gibberish. \n",
    "\n",
    "\n",
    "* **Share your solutions, hide the gory details:** no one wants to know how the sausage gets made. Likewise, people usually don't care how you solve a problem, so long as you solve it. When you write functions, you can share your code with others, and they don't have to worry about the details of how it gets done. Python packages are just a collection of functions-- we don't need to worry about the details about how they work, but we can still use them to do cool stuff in Python! \n",
    "\n",
    "\n"
   ]
  },
  {
   "cell_type": "markdown",
   "metadata": {},
   "source": [
    "### Functions make code cleaner and reusable. \n",
    "\n",
    "Let's come full circle and look at an example from Week 1. We want to calculate the hypotenuse of a right triangle, given the length of 2 of its sides.\n",
    "\n",
    "Let's say we have 2 different triangles with different lengths. Here is how we could do it without functions. \n",
    "\n"
   ]
  },
  {
   "cell_type": "code",
   "execution_count": null,
   "metadata": {
    "collapsed": false
   },
   "outputs": [],
   "source": [
    "from math import sqrt\n",
    "\n",
    "#triangle1\n",
    "side1a = 3\n",
    "side1b = 4\n",
    "\n",
    "temp1 = side1a**2 + side1b**2\n",
    "hyp1 = sqrt(temp1)\n",
    "\n",
    "\n",
    "#triangle 2\n",
    "side2a = 1\n",
    "side2b = 3\n",
    "\n",
    "temp2 = side2a**2 + side2b**2\n",
    "hyp2 = sqrt(temp2)\n",
    "\n",
    "\n",
    "\n",
    "\n",
    "print hyp1,hyp2\n"
   ]
  },
  {
   "cell_type": "markdown",
   "metadata": {},
   "source": [
    "Admittedly, this isn't so bad. We had to duplicate the code twice, but it's only 2 lines of code each. Well, what if you have 1000 triangles? Or, what if the computation requires 500 lines of code? Do you want to repeat that for multiple items? Notice that the *computation* never changes. All that changes are the values that you're operating on. Let's do the same thing with functions: "
   ]
  },
  {
   "cell_type": "code",
   "execution_count": null,
   "metadata": {
    "collapsed": false
   },
   "outputs": [],
   "source": [
    "\n",
    "def calc_hyp(a,b):\n",
    "    temp = a**2 + b**2\n",
    "    hyp = sqrt(temp)\n",
    "    return(hyp)\n",
    "\n",
    "hyp1_new = calc_hyp(side1a,side1b)\n",
    "hyp2_new = calc_hyp(side2a,side2b)\n",
    "\n",
    "print hyp1, hyp2"
   ]
  },
  {
   "cell_type": "markdown",
   "metadata": {},
   "source": [
    "This also makes it efficient for looping over a range of numbers. In the example below, we represent each triangle as a tuple `(a,b)`, and a bunch of those tuples are grouped into a list. "
   ]
  },
  {
   "cell_type": "code",
   "execution_count": null,
   "metadata": {
    "collapsed": false
   },
   "outputs": [],
   "source": [
    "\n",
    "all_triangles = [(1,3), (2,4), (5,7), (6,3)]\n",
    "\n",
    "for (sidea,sideb) in all_triangles:\n",
    "    print calc_hyp(sidea,sideb)\n",
    "\n"
   ]
  },
  {
   "cell_type": "markdown",
   "metadata": {},
   "source": [
    "\n"
   ]
  },
  {
   "cell_type": "markdown",
   "metadata": {},
   "source": [
    "### Types of Arguments (i.e., inputs)\n",
    "\n",
    "When you define a function, you specify the arguments that it expects. You are allowed to specify as many arguments as you want-- it depends on the problem you want to solve. There are 2 different kinds of arguments: \n",
    "\n",
    "* Positional arguments\n",
    "* Keyword arguments\n",
    "\n",
    "### Positional Arguments\n",
    "\n",
    "Positional arguments are determined by their position. This makes more sense with a concrete example. Let's make a function that takes an image file and makes multiple copies of it, stacking them together horizontally. It returns the combined image. The argumeng `imgfile` is the path to an image file, and `times` is the number of times you want to repeat it. "
   ]
  },
  {
   "cell_type": "code",
   "execution_count": null,
   "metadata": {
    "collapsed": true
   },
   "outputs": [],
   "source": [
    "from PIL import Image\n",
    "\n",
    "\n",
    "def multiply_img(imgfile, times):\n",
    "    \n",
    "    #load the image\n",
    "    im = Image.open(imgfile)\n",
    "    im.thumbnail((100,100)) #let's just make the image smaller for now\n",
    "    \n",
    "    #make the blank image. It's the image width * the number of repeats\n",
    "    total_width = im.width*times\n",
    "    \n",
    "    blank = Image.new('RGB',(total_width, im.height))\n",
    "    \n",
    "    #paste the image the number of times we ask for.\n",
    "    #we need to change the x coordinate for each time. \n",
    "    for i in range(times):\n",
    "        x = 0 + im.width*i #x coordinate to paste the upper-left corner of the small image\n",
    "        y = 0 #y coordinate is always 0 because we're stacking them horizontally\n",
    "        \n",
    "        blank.paste(im,(x,y))\n",
    "        \n",
    "    return(blank) #return the image\n",
    "    \n",
    "    \n"
   ]
  },
  {
   "cell_type": "markdown",
   "metadata": {
    "collapsed": true
   },
   "source": [
    "Now let's use our function. Notice when I call the function, I give the path to an image as the first argument, and a number for the second argument. "
   ]
  },
  {
   "cell_type": "code",
   "execution_count": null,
   "metadata": {
    "collapsed": false
   },
   "outputs": [],
   "source": [
    "\n",
    "multiply_img('./images/pug.jpg', 30)\n"
   ]
  },
  {
   "cell_type": "markdown",
   "metadata": {
    "collapsed": true
   },
   "source": [
    "If we switch up the order, it will crash. Why? Because when we call our function, it takes the first argument and maps it onto `imgfile`, and the second onto `times`. This fails as soon as you try to do `im = Image.open(imgfile)`"
   ]
  },
  {
   "cell_type": "code",
   "execution_count": null,
   "metadata": {
    "collapsed": false
   },
   "outputs": [],
   "source": [
    "multiply_img(30,'./images/pug.jpg')"
   ]
  },
  {
   "cell_type": "markdown",
   "metadata": {
    "collapsed": true
   },
   "source": [
    "### Keyword arguments \n",
    "\n",
    "When you have 1 or 2 arguments, it's pretty easy to remember how to list your arguments. But what if your function can take a bunch of arguments? Keyword arguments are the solution you can list these by name, and you can do them in whatever order you want. \n",
    "\n",
    "```python\n",
    "somefunction(5,3, height=somevalue, width=someothervalue)\n",
    "```\n",
    "\n",
    "We have already used them plenty of times. For instance, when we plot, we use different keyword arguments like `linewidth`, `color` and `alpha` to change how the plot looks. First we'll load some running data ans subset just 1 of the users (good old gypsydude)."
   ]
  },
  {
   "cell_type": "code",
   "execution_count": null,
   "metadata": {
    "collapsed": false
   },
   "outputs": [],
   "source": [
    "%matplotlib inline\n",
    "import matplotlib.pyplot as plt\n",
    "from pandas import DataFrame\n",
    "\n",
    "df = DataFrame.from_csv('./datasets/20runs.csv',index_col=False)\n",
    "\n",
    "subset = df[df.user=='gypsydude']\n"
   ]
  },
  {
   "cell_type": "markdown",
   "metadata": {
    "collapsed": true
   },
   "source": [
    "Now we make an initial plot:"
   ]
  },
  {
   "cell_type": "code",
   "execution_count": null,
   "metadata": {
    "collapsed": false
   },
   "outputs": [],
   "source": [
    "plt.plot(subset.latitude,subset.longitude)"
   ]
  },
  {
   "cell_type": "markdown",
   "metadata": {},
   "source": [
    "Functions often have a mixture of both positional and keyword arguments. `plt.plot` takes 2 positional arguments, which are the x and y data you want to plot. After that, you can specify any number of keyword arguments in any order you want, you just need to specify the name. "
   ]
  },
  {
   "cell_type": "code",
   "execution_count": null,
   "metadata": {
    "collapsed": false
   },
   "outputs": [],
   "source": [
    "plt.plot(subset.latitude,subset.longitude, linewidth=5, color='purple', alpha=0.1)"
   ]
  },
  {
   "cell_type": "code",
   "execution_count": null,
   "metadata": {
    "collapsed": false
   },
   "outputs": [],
   "source": [
    "#changing the order of the keyword arguments doesn't change things\n",
    "plt.plot(subset.latitude,subset.longitude, alpha=0.1,color='purple',linewidth=5)"
   ]
  },
  {
   "cell_type": "markdown",
   "metadata": {},
   "source": [
    "When making our own functions, we can add keyword arguments in the same way. The nice thing is that we can give them default values. For instance, our plot starts out with a linewidth of 1, the color blue, and alpha=1. These are the default values. Let's modify our image function to specify a direction to stack them, either horizontally or vertically. By default we'll do it horizontally like the initial example. "
   ]
  },
  {
   "cell_type": "code",
   "execution_count": null,
   "metadata": {
    "collapsed": true
   },
   "outputs": [],
   "source": [
    "from PIL import Image\n",
    "\n",
    "\n",
    "def multiply_img(imgfile, times, direction='horizontal'):\n",
    "    \n",
    "    #load the image\n",
    "    im = Image.open(imgfile)\n",
    "    im.thumbnail((100,100)) #let's just make the image smaller for now\n",
    "    \n",
    "    #make the blank image. It's the image width * the number of repeats\n",
    "    \n",
    "    if direction=='horizontal':\n",
    "        total_width = im.width*times\n",
    "        total_height = im.height\n",
    "    elif direction=='vertical':\n",
    "        total_width = im.width\n",
    "        total_height = im.height*times\n",
    "    \n",
    "    \n",
    "    blank = Image.new('RGB',(total_width, total_height))\n",
    "    \n",
    "    #paste the image the number of times we ask for.\n",
    "    #we need to change the x coordinate for each time. \n",
    "    for i in range(times):\n",
    "        \n",
    "        if direction=='horizontal':\n",
    "            x = 0 + im.width*i #x coordinate to paste the upper-left corner of the small image\n",
    "            y = 0 #y coordinate is always 0 because we're stacking them horizontally\n",
    "        \n",
    "        elif direction=='vertical':\n",
    "            x = 0\n",
    "            y = 0 + im.height*i\n",
    "        \n",
    "        blank.paste(im,(x,y))\n",
    "        \n",
    "    return(blank) #return the image\n",
    "    \n",
    "    \n"
   ]
  },
  {
   "cell_type": "markdown",
   "metadata": {},
   "source": [
    "Calling the function like we did before, we get the same result. "
   ]
  },
  {
   "cell_type": "code",
   "execution_count": null,
   "metadata": {
    "collapsed": false
   },
   "outputs": [],
   "source": [
    "multiply_img('./images/pug.jpg', 30)\n"
   ]
  },
  {
   "cell_type": "markdown",
   "metadata": {},
   "source": [
    "Now giving it the optional `direction` argument, we can make a vertical pug stack: "
   ]
  },
  {
   "cell_type": "code",
   "execution_count": null,
   "metadata": {
    "collapsed": false
   },
   "outputs": [],
   "source": [
    "multiply_img('./images/pug.jpg', 30, direction='vertical')"
   ]
  },
  {
   "cell_type": "markdown",
   "metadata": {},
   "source": [
    "Lastly, let's add a `size` argument so we can resize the image to however small we want. Right now the function always resizes (proportionally) to a 100x100 pixels. Now we can make it more flexible. Note that `size` should be a tuple with 2 numbers (width,height). We keep the default as 100x100. "
   ]
  },
  {
   "cell_type": "code",
   "execution_count": null,
   "metadata": {
    "collapsed": true
   },
   "outputs": [],
   "source": [
    "from PIL import Image\n",
    "\n",
    "\n",
    "def multiply_img(imgfile, times, direction='horizontal', size = (100,100)):\n",
    "    \n",
    "    #load the image\n",
    "    im = Image.open(imgfile)\n",
    "    im.thumbnail(size) #let's just make the image smaller for now\n",
    "    \n",
    "    #make the blank image. It's the image width * the number of repeats\n",
    "    \n",
    "    if direction=='horizontal':\n",
    "        total_width = im.width*times\n",
    "        total_height = im.height\n",
    "    elif direction=='vertical':\n",
    "        total_width = im.width\n",
    "        total_height = im.height*times\n",
    "    \n",
    "    \n",
    "    blank = Image.new('RGB',(total_width, total_height))\n",
    "    \n",
    "    #paste the image the number of times we ask for.\n",
    "    #we need to change the x coordinate for each time. \n",
    "    for i in range(times):\n",
    "        \n",
    "        if direction=='horizontal':\n",
    "            x = 0 + im.width*i #x coordinate to paste the upper-left corner of the small image\n",
    "            y = 0 #y coordinate is always 0 because we're stacking them horizontally\n",
    "        \n",
    "        elif direction=='vertical':\n",
    "            x = 0\n",
    "            y = 0 + im.height*i\n",
    "        \n",
    "        blank.paste(im,(x,y))\n",
    "        \n",
    "    return(blank) #return the image\n",
    "    "
   ]
  },
  {
   "cell_type": "code",
   "execution_count": null,
   "metadata": {
    "collapsed": false
   },
   "outputs": [],
   "source": [
    "multiply_img('./images/pug.jpg', 30, direction='vertical',size=(10,10))"
   ]
  },
  {
   "cell_type": "markdown",
   "metadata": {},
   "source": [
    "Notice we can also switch the order of `direction` and `size` and it works just fine!"
   ]
  },
  {
   "cell_type": "code",
   "execution_count": null,
   "metadata": {
    "collapsed": false
   },
   "outputs": [],
   "source": [
    "multiply_img('./images/pug.jpg', 30, size=(10,10), direction='vertical')"
   ]
  },
  {
   "cell_type": "markdown",
   "metadata": {},
   "source": [
    "### Do I need arguments and `return`?\n",
    "\n",
    "No! Sometimes you want a function that just prints some information, or one that doesn't need any aguments. You can have functions with no arguments and ones that do not return anything (or both). If there aren't any arguments, just be sure to have empty parentheses when you define it and when you call it. Below I have a function `showpug` that just loads an image from the internet and displays it. "
   ]
  },
  {
   "cell_type": "code",
   "execution_count": null,
   "metadata": {
    "collapsed": true
   },
   "outputs": [],
   "source": [
    "from IPython.display import Image,display\n",
    "\n",
    "#no arguments\n",
    "def showpug():\n",
    "    im = Image(url='http://www.lovethispic.com/uploaded_images/114354-The-Pug-Life.jpg')\n",
    "    display(im) #notice we don't have a return statement\n",
    "    \n"
   ]
  },
  {
   "cell_type": "code",
   "execution_count": null,
   "metadata": {
    "collapsed": false
   },
   "outputs": [],
   "source": [
    "showpug()"
   ]
  },
  {
   "cell_type": "markdown",
   "metadata": {
    "collapsed": true
   },
   "source": [
    "###  \\*args and \\**kwargs**??\n",
    "\n",
    "<img src=\"https://cdn.meme.am/instances/250x250/67238251.jpg\", align='left',width='150'></img> Take a look at the help for `plt.plot`. Notice that it has `*args` and `**kwargs` specified as inputs. You will see this pop up a lot in the Python help. What does it mean? \n",
    "\n",
    "`kwargs` stands for \"keyword arguments\". When you write a function, maybe you expect tons of different arguments it may take. Maybe you can't think of all of them at the time you write the function. By adding `**kwargs` to your arguments, this translates to \"any number of keyword arguments\". Then the variable `kwargs` inside of your function will be a dictionary, where the key is the argument name, and the value is its value. Below I define a function that does nothing except print the values of its arguments. \n"
   ]
  },
  {
   "cell_type": "code",
   "execution_count": null,
   "metadata": {
    "collapsed": false
   },
   "outputs": [],
   "source": [
    "#see how it says *args and **kwargs?\n",
    "help(plt.plot)"
   ]
  },
  {
   "cell_type": "code",
   "execution_count": null,
   "metadata": {
    "collapsed": true
   },
   "outputs": [],
   "source": [
    "\n",
    "def useless_func(**kwargs):\n",
    "    \n",
    "    #kwargs is now a dictionary containing all the arguments I listed, and their values\n",
    "    for key,value in kwargs.items():\n",
    "        print key + \": \" + str(value)\n",
    "    "
   ]
  },
  {
   "cell_type": "code",
   "execution_count": null,
   "metadata": {
    "collapsed": false
   },
   "outputs": [],
   "source": [
    "#the arguments mean nothing! Fill in whatever you want. It just prints them. \n",
    "useless_func(height=10,width=100,color='blue',size=1000,haircolor='blonde',multiply=12,name='Bob')"
   ]
  },
  {
   "cell_type": "markdown",
   "metadata": {},
   "source": [
    "The reason we have the `**` is a bit complicated. Essentially, it can take a dictionary and \"converts\" it to a series of statements like this: \n",
    "\n",
    "```python\n",
    "somekey = somevalue\n",
    "```\n",
    "It also works the other way around, making a series of statements like `somearg=somevalue` and packing it into a dictionary like `{'somekey': somevalue}`\n",
    "\n",
    "Below I take a dictionary and I can use it as a set of keyword arguments for `useless_func`. I start with a dictionary, but adding `**` before it unpacks it to a set of statements. The 2 calls to `useless_func` below are equivalent. \n",
    "\n",
    "Don't dwell on the details. Just know that you always have to use the `**` if you use `kwargs` in your function. And, if you see `**kwargs` in the Python help, you know that it means \"a bunch of keyword arguments\". "
   ]
  },
  {
   "cell_type": "code",
   "execution_count": null,
   "metadata": {
    "collapsed": false
   },
   "outputs": [],
   "source": [
    "mydict = {'name': 'jason', 'occupation': 'nerd'}\n",
    "\n",
    "useless_func(**mydict)"
   ]
  },
  {
   "cell_type": "code",
   "execution_count": null,
   "metadata": {
    "collapsed": false
   },
   "outputs": [],
   "source": [
    "#adding the ** makes it look like this:\n",
    "useless_func(name='jason',occupation='nerd')"
   ]
  },
  {
   "cell_type": "markdown",
   "metadata": {},
   "source": [
    "`*args` is similar, except it refers to an arbitrary list of values. It's useful if you have a function that take take a variable number of arguments. The one below will display all the image files that I give it. Notice I have to add a `*`, and the variable `args` ends up being a list that I can loop through. Also notice that I gave it 3 arguments, but it takes those 3 arguments and packs them together into a single list. "
   ]
  },
  {
   "cell_type": "code",
   "execution_count": null,
   "metadata": {
    "collapsed": false
   },
   "outputs": [],
   "source": [
    "def showimgs(*args):\n",
    "    \n",
    "    #take all the arguments, and bundle them into the list called args\n",
    "    #now loop through them and display the images. \n",
    "    for img_path in args:\n",
    "        im = Image(url=img_path,width=250)\n",
    "        display(im) #notice we don't have a return statement\n",
    "    "
   ]
  },
  {
   "cell_type": "code",
   "execution_count": null,
   "metadata": {
    "collapsed": false
   },
   "outputs": [],
   "source": [
    "showimgs('http://goo.gl/m8Zl5i', 'https://goo.gl/hZy7M7', 'http://goo.gl/4HY9wF')"
   ]
  },
  {
   "cell_type": "code",
   "execution_count": null,
   "metadata": {
    "collapsed": true
   },
   "outputs": [],
   "source": []
  },
  {
   "cell_type": "code",
   "execution_count": null,
   "metadata": {
    "collapsed": true
   },
   "outputs": [],
   "source": []
  },
  {
   "cell_type": "code",
   "execution_count": null,
   "metadata": {
    "collapsed": true
   },
   "outputs": [],
   "source": []
  },
  {
   "cell_type": "code",
   "execution_count": null,
   "metadata": {
    "collapsed": true
   },
   "outputs": [],
   "source": []
  }
 ],
 "metadata": {
  "kernelspec": {
   "display_name": "Python 2",
   "language": "python",
   "name": "python2"
  },
  "language_info": {
   "codemirror_mode": {
    "name": "ipython",
    "version": 2
   },
   "file_extension": ".py",
   "mimetype": "text/x-python",
   "name": "python",
   "nbconvert_exporter": "python",
   "pygments_lexer": "ipython2",
   "version": "2.7.11"
  }
 },
 "nbformat": 4,
 "nbformat_minor": 0
}
