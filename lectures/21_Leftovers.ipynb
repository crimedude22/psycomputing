{
 "cells": [
  {
   "cell_type": "markdown",
   "metadata": {},
   "source": [
    "## Leftovers\n",
    "\n",
    "10 weeks is not a lot of time to learn how to program. There were 2 basic topics that I wanted to cover this term, but we ran out of time. Here is a short sample of each so you can learn on your own!\n",
    "\n",
    "### Functional Programming -  List Comprehension, `map`, and `lambda`\n",
    "\n",
    "This was mentioned very briefly in one of the homeworks, but I gave you no detail. Looping is pretty efficient in Python, but it still feels tedious if you want to do something that takes just 1 line of code. The vast majority of the time, we want to loop through a list, do something to the information in the list, and save the result into a new list. Python provides 2 basic methods for doing this in just 1 line. There are entire programming languages (like Haskell, Scheme, and Lisp) that operate this way. The general technique is called \"Functional programming\" because it's centered on using functions. \n",
    "\n",
    "First we read in some information from a text file. Remember the baby names? We save the result into a list called `lines`. We want to then clean up the information using `strip` and `split`:"
   ]
  },
  {
   "cell_type": "code",
   "execution_count": 141,
   "metadata": {
    "collapsed": false
   },
   "outputs": [
    {
     "name": "stdout",
     "output_type": "stream",
     "text": [
      "['Aabha   13\\r\\n', 'Aabriella   5\\r\\n', 'Aaden   5\\r\\n', 'Aadhira 6\\r\\n', 'Aadhya  218\\r\\n', 'Aadi    10\\r\\n', 'Aadison 11\\r\\n', 'Aaditri 10\\r\\n', 'Aadya   292\\r\\n', 'Aadyn   16\\r\\n']\n"
     ]
    }
   ],
   "source": [
    "\n",
    "with open('./datasets/baby_names_2012.txt','r') as f:\n",
    "    lines = f.readlines()\n",
    "    \n",
    "lines = lines[1:] #remove the header row\n",
    "       \n",
    "print lines[:10]\n"
   ]
  },
  {
   "cell_type": "markdown",
   "metadata": {},
   "source": [
    "**List Comprehension** looks like a for loop in reverse. Take a look at the original `for` loop, and the same thing as list comprehension. Notice that you have almost the same exact words, but with the inside of the loop mentioned first. The statement is also contained in square brackets. We save this as the variable `cleanlines2`. List comprehension takes a `for` loop that has only 1 line in it, and it performs that function on each element of the list, and produces another list that you can save. "
   ]
  },
  {
   "cell_type": "code",
   "execution_count": 142,
   "metadata": {
    "collapsed": false
   },
   "outputs": [
    {
     "name": "stdout",
     "output_type": "stream",
     "text": [
      "['Aabha   13', 'Aabriella   5', 'Aaden   5', 'Aadhira 6', 'Aadhya  218', 'Aadi    10', 'Aadison 11', 'Aaditri 10', 'Aadya   292', 'Aadyn   16'] ['Aabha   13', 'Aabriella   5', 'Aaden   5', 'Aadhira 6', 'Aadhya  218', 'Aadi    10', 'Aadison 11', 'Aaditri 10', 'Aadya   292', 'Aadyn   16']\n"
     ]
    }
   ],
   "source": [
    "#original for loop method\n",
    "\n",
    "cleanlines = []\n",
    "\n",
    "for l in lines:\n",
    "    cleanlines.append(l.strip())\n",
    "    \n",
    "    \n",
    "#list comprehension\n",
    "cleanlines2 = [l.strip() for l in lines]\n",
    "\n",
    "print cleanlines[:10], cleanlines2[:10] #they look the same!\n"
   ]
  },
  {
   "cell_type": "markdown",
   "metadata": {},
   "source": [
    "**`map`** is very similar, but with an emphasis on functions. It takes 2 arguments: a function (either a built-in python one, or one that you make yourself) and a list. It goes through each element of the list and performs that function on it, returning the result in a new list. Here in order to refer to the `strip` method by itself, we need to say `str.strip` because it's a method that operates on strings. "
   ]
  },
  {
   "cell_type": "code",
   "execution_count": 143,
   "metadata": {
    "collapsed": false
   },
   "outputs": [
    {
     "name": "stdout",
     "output_type": "stream",
     "text": [
      "['Aabha   13', 'Aabriella   5', 'Aaden   5', 'Aadhira 6', 'Aadhya  218', 'Aadi    10', 'Aadison 11', 'Aaditri 10', 'Aadya   292', 'Aadyn   16']\n"
     ]
    }
   ],
   "source": [
    "cleanlines3 = map(str.strip, lines)\n",
    "\n",
    "print cleanlines3[:10] #the same as above!"
   ]
  },
  {
   "cell_type": "markdown",
   "metadata": {},
   "source": [
    "What if we want to do something else with each element? Let's say we want to make it uppercase, and split the items so that the name an freqency are separate. There are 2 ways to do this. The first way involves defining our own function. It's a function that takes a string (i.e., 1 element from the list) and returns a list, after stripping, making the text uppercase, and splitting the information. We call the function whatever we want. Then, we use that function name as the first argument in `map`:"
   ]
  },
  {
   "cell_type": "code",
   "execution_count": 144,
   "metadata": {
    "collapsed": false
   },
   "outputs": [
    {
     "name": "stdout",
     "output_type": "stream",
     "text": [
      "[['AABHA', '13'], ['AABRIELLA', '5'], ['AADEN', '5'], ['AADHIRA', '6'], ['AADHYA', '218'], ['AADI', '10'], ['AADISON', '11'], ['AADITRI', '10'], ['AADYA', '292'], ['AADYN', '16']]\n"
     ]
    }
   ],
   "source": [
    "\n",
    "def myfunc(somestring):\n",
    "    newstring = somestring.strip().upper().split()\n",
    "    return(newstring)\n",
    "    \n",
    "    \n",
    "cleanlines4 = map(myfunc,lines)\n",
    "\n",
    "print cleanlines4[:10]\n",
    "    \n"
   ]
  },
  {
   "cell_type": "markdown",
   "metadata": {},
   "source": [
    "If our function was more complicated, then this would be very efficient. But, our function is really just 1 line. Also, we will probably have no use for `myfunc` after this point. It seems kind of silly to define a new function that's only 1 line and we only use once. That's why Python has \"lambda functions\" (sometimes called \"annonymous functions\"). They allow you to create a function in 1 line and to not give it a name. They are super useful for using `map`. Below I do the same thing as above, but without creating `myfunc`"
   ]
  },
  {
   "cell_type": "code",
   "execution_count": 145,
   "metadata": {
    "collapsed": false
   },
   "outputs": [
    {
     "name": "stdout",
     "output_type": "stream",
     "text": [
      "[['AABHA', '13'], ['AABRIELLA', '5'], ['AADEN', '5'], ['AADHIRA', '6'], ['AADHYA', '218'], ['AADI', '10'], ['AADISON', '11'], ['AADITRI', '10'], ['AADYA', '292'], ['AADYN', '16']]\n"
     ]
    }
   ],
   "source": [
    "\n",
    "cleanlines5 = map(lambda x: x.strip().upper().split(), lines)\n",
    "print cleanlines5[:10]\n"
   ]
  },
  {
   "cell_type": "markdown",
   "metadata": {},
   "source": [
    "Here's how to read it: \n",
    "\n",
    "```python\n",
    "lambda x: x.strip().upper().split()\n",
    "```\n",
    "\n",
    "\"Create a function that takes 1 argument, which we call x. Take x and do `strip`, `upper`, and `split` on it. Then return the result.\" \n",
    "\n",
    "By convention people usually use `x` as the argument, but you can do whatever you want: "
   ]
  },
  {
   "cell_type": "code",
   "execution_count": 146,
   "metadata": {
    "collapsed": false
   },
   "outputs": [
    {
     "name": "stdout",
     "output_type": "stream",
     "text": [
      "[['AABHA', '13'], ['AABRIELLA', '5'], ['AADEN', '5'], ['AADHIRA', '6'], ['AADHYA', '218'], ['AADI', '10'], ['AADISON', '11'], ['AADITRI', '10'], ['AADYA', '292'], ['AADYN', '16']]\n"
     ]
    }
   ],
   "source": [
    "#try to say \"lambda banana\" 5 times fast!\n",
    "cleanlines6 = map(lambda banana: banana.strip().upper().split(), lines)\n",
    "print cleanlines6[:10]\n"
   ]
  },
  {
   "cell_type": "markdown",
   "metadata": {},
   "source": [
    "### Regular Expressions (RegEx)\n",
    "\n",
    "Regular expressions are almost a language of their own. Every major programming language has a way to use them (they originally came from the Perl programming language though). They allow you to do very complex searches through text. In python, everything is done using the `re` package. The basic idea with regular expressions is that you specify a *pattern* using plain text and special symbols, and you search for that pattern in some bit of text. Here is a super basic introduction, but you should check out the help page to really understand it: https://docs.python.org/2/howto/regex.html"
   ]
  },
  {
   "cell_type": "code",
   "execution_count": 158,
   "metadata": {
    "collapsed": false
   },
   "outputs": [
    {
     "name": "stdout",
     "output_type": "stream",
     "text": [
      "Match found:  SAM\n"
     ]
    }
   ],
   "source": [
    "mystring = 'SAM-I-AM has the phone number: 867-5309. SAM has a favorite meal, it is green eggs and ham (or yams)' \n",
    "\n",
    "p = re.compile('SAM') #find the word SAM\n",
    "\n",
    "m = p.search( mystring )\n",
    "if m:\n",
    "    print 'Match found: ', m.group()\n",
    "else:\n",
    "    print 'No match'"
   ]
  },
  {
   "cell_type": "markdown",
   "metadata": {},
   "source": [
    "Notice it only found SAM when it was on its own, it didn't find SAM-I-AM. Let's fix it so it can find any occurrence of SAM, regardless of what comes after it. the `search` method only finds the first occurrence of a pattern, so we use `findall` to find all of them. We modify our pattern to match the word SAM followed by anything, using the `.`. This means it will match any single character following SAM (including space)"
   ]
  },
  {
   "cell_type": "code",
   "execution_count": 159,
   "metadata": {
    "collapsed": false
   },
   "outputs": [
    {
     "name": "stdout",
     "output_type": "stream",
     "text": [
      "Match found:  ['SAM-', 'SAM ']\n"
     ]
    }
   ],
   "source": [
    "p = re.compile('SAM.') #find the word SAM\n",
    "\n",
    "m = p.findall( mystring )\n",
    "if m:\n",
    "    print 'Match found: ', m\n",
    "else:\n",
    "    print 'No match'"
   ]
  },
  {
   "cell_type": "markdown",
   "metadata": {},
   "source": [
    "Let's find any word that ends in \"am\", ignoring upper/lowercase. Again the `.` matches any single character, before `AM`. "
   ]
  },
  {
   "cell_type": "code",
   "execution_count": 160,
   "metadata": {
    "collapsed": false
   },
   "outputs": [
    {
     "name": "stdout",
     "output_type": "stream",
     "text": [
      "Match found:  ['SAM', '-AM', 'SAM', 'ham', 'yam']\n"
     ]
    }
   ],
   "source": [
    "p = re.compile('.AM',re.IGNORECASE) #find anything that ends in `AM`\n",
    "\n",
    "m = p.findall( mystring )\n",
    "if m:\n",
    "    print 'Match found: ', m\n",
    "else:\n",
    "    print 'No match'"
   ]
  },
  {
   "cell_type": "markdown",
   "metadata": {},
   "source": [
    "We can get fancier. Now I want ot include 5 characters (including spaces) leading up to each `AM`. I can do this using a number in curly brackets. Try changing the number and see what happens. Try adding `{.3}` to the end of the pattern to include 3 characters after the \"AM\".  "
   ]
  },
  {
   "cell_type": "code",
   "execution_count": 150,
   "metadata": {
    "collapsed": false
   },
   "outputs": [
    {
     "name": "stdout",
     "output_type": "stream",
     "text": [
      "Match found:  ['AM-I-AM', '09. SAM', 'and ham', '(or yam']\n"
     ]
    }
   ],
   "source": [
    "p = re.compile('.{5}AM',re.IGNORECASE) #find the string AM, and grab 5 characters leading up to it\n",
    "\n",
    "m = p.findall( mystring )\n",
    "if m:\n",
    "    print 'Match found: ', m\n",
    "else:\n",
    "    print 'No match'"
   ]
  },
  {
   "cell_type": "markdown",
   "metadata": {},
   "source": [
    "let's find just the phone number. We can specify a range of values to search for in brackets, `[0-9]` searches only for digits. We specify repetitions in curly brackets. So, we look for 3 digits in a row like this: `[0-9]{3}`. Below we search for 3 digits, followd by a dash `-`, then 4 more digits: "
   ]
  },
  {
   "cell_type": "code",
   "execution_count": 151,
   "metadata": {
    "collapsed": false
   },
   "outputs": [
    {
     "name": "stdout",
     "output_type": "stream",
     "text": [
      "Match found:  ['867-5309']\n"
     ]
    }
   ],
   "source": [
    "p = re.compile('[0-9]{3}-[0-9]{4}') #find the phone number\n",
    "m = p.findall( mystring )\n",
    "if m:\n",
    "    print 'Match found: ', m\n",
    "else:\n",
    "    print 'No match'"
   ]
  },
  {
   "cell_type": "markdown",
   "metadata": {},
   "source": [
    "Alternatively, we could have searched for a digit, followed by any character, for a total of 7 characters: "
   ]
  },
  {
   "cell_type": "code",
   "execution_count": 152,
   "metadata": {
    "collapsed": false
   },
   "outputs": [
    {
     "name": "stdout",
     "output_type": "stream",
     "text": [
      "Match found:  ['867-5309']\n"
     ]
    }
   ],
   "source": [
    "p = re.compile('[0-9].{7}') #find the phone number\n",
    "m = p.findall( mystring )\n",
    "if m:\n",
    "    print 'Match found: ', m\n",
    "else:\n",
    "    print 'No match'"
   ]
  },
  {
   "cell_type": "markdown",
   "metadata": {},
   "source": [
    "If we use a `*` that means \"repeat the previous pattern any number of times\". So, if we search for `egg.*`, it will find the string \"egg\", followed by any characters up until the end of the string. We also use the `search` method again to search for only 1 occurrence this time: "
   ]
  },
  {
   "cell_type": "code",
   "execution_count": 153,
   "metadata": {
    "collapsed": false
   },
   "outputs": [
    {
     "name": "stdout",
     "output_type": "stream",
     "text": [
      "Match found:  eggs and ham (or yams)\n"
     ]
    }
   ],
   "source": [
    "p = re.compile('egg.*') #the end of the string, starting with \"egg\"\n",
    "m = p.search( mystring )\n",
    "if m:\n",
    "    print 'Match found: ', m.group()\n",
    "else:\n",
    "    print 'No match'"
   ]
  },
  {
   "cell_type": "markdown",
   "metadata": {},
   "source": [
    "The `re.sub` method allows you to use regular expressions to do a find-and-replace. We could do this to remove all punctuation from our string. We specify all the characters to look for in square brackets. First let's to a basic `findall` to see what I mean: "
   ]
  },
  {
   "cell_type": "code",
   "execution_count": 154,
   "metadata": {
    "collapsed": false
   },
   "outputs": [
    {
     "name": "stdout",
     "output_type": "stream",
     "text": [
      "Match found:  ['.', ',', '(', ')']\n"
     ]
    }
   ],
   "source": [
    "p = re.compile('[\\.,?!;()]') #find all the punctuation\n",
    "m = p.findall( mystring )\n",
    "if m:\n",
    "    print 'Match found: ', m\n",
    "else:\n",
    "    print 'No match'"
   ]
  },
  {
   "cell_type": "markdown",
   "metadata": {},
   "source": [
    "Alternatively we could use the \"not\" character `^` to search for anything that's not a letter or a number (or a space)"
   ]
  },
  {
   "cell_type": "code",
   "execution_count": 155,
   "metadata": {
    "collapsed": false
   },
   "outputs": [
    {
     "name": "stdout",
     "output_type": "stream",
     "text": [
      "Match found:  ['-', '-', ':', '-', '.', ',', '(', ')']\n"
     ]
    }
   ],
   "source": [
    "p = re.compile('[^A-Za-z0-9 ]') #find anything that's not a letter, number, or space\n",
    "m = p.findall( mystring )\n",
    "if m:\n",
    "    print 'Match found: ', m\n",
    "else:\n",
    "    print 'No match'"
   ]
  },
  {
   "cell_type": "markdown",
   "metadata": {},
   "source": [
    "Now we can remove all the punctuation in one line, like this: "
   ]
  },
  {
   "cell_type": "code",
   "execution_count": 156,
   "metadata": {
    "collapsed": false
   },
   "outputs": [
    {
     "data": {
      "text/plain": [
       "'SAMIAM has the phone number 8675309 SAM has a favorite meal it is green eggs and ham or yams'"
      ]
     },
     "execution_count": 156,
     "metadata": {},
     "output_type": "execute_result"
    }
   ],
   "source": [
    "re.sub('[^A-Za-z0-9 ]','',mystring)"
   ]
  },
  {
   "cell_type": "markdown",
   "metadata": {},
   "source": [
    "Or we could replace all punctuation with some other character, like underscores: "
   ]
  },
  {
   "cell_type": "code",
   "execution_count": 163,
   "metadata": {
    "collapsed": false
   },
   "outputs": [
    {
     "data": {
      "text/plain": [
       "'SAM_I_AM has the phone number_ 867_5309_ SAM has a favorite meal_ it is green eggs and ham _or yams_'"
      ]
     },
     "execution_count": 163,
     "metadata": {},
     "output_type": "execute_result"
    }
   ],
   "source": [
    "re.sub('[^A-Za-z0-9 ]','_',mystring)"
   ]
  },
  {
   "cell_type": "markdown",
   "metadata": {},
   "source": [
    "Let's replace all the numbers with Xs. This time we use the special character, `\\d` to represent \"any digit\". "
   ]
  },
  {
   "cell_type": "code",
   "execution_count": 162,
   "metadata": {
    "collapsed": false
   },
   "outputs": [
    {
     "data": {
      "text/plain": [
       "'SAM-I-AM has the phone number: XXX-XXXX. SAM has a favorite meal, it is green eggs and ham (or yams)'"
      ]
     },
     "execution_count": 162,
     "metadata": {},
     "output_type": "execute_result"
    }
   ],
   "source": [
    "re.sub('\\d','X',mystring)"
   ]
  },
  {
   "cell_type": "markdown",
   "metadata": {},
   "source": [
    "I could keep going. Regular expressions are very powerful, but also very complicated. You will probably memorize 1 or 2 basic rules, and have to look it up every time you have to use it. That's totally fine, many programmers do the same thing. There are online sources for creating regular expressions and seeing how they work (like http://regexr.com/). Just Google \"regular expression builder\" and you should find a few. "
   ]
  }
 ],
 "metadata": {
  "kernelspec": {
   "display_name": "Python 2",
   "language": "python",
   "name": "python2"
  },
  "language_info": {
   "codemirror_mode": {
    "name": "ipython",
    "version": 2
   },
   "file_extension": ".py",
   "mimetype": "text/x-python",
   "name": "python",
   "nbconvert_exporter": "python",
   "pygments_lexer": "ipython2",
   "version": "2.7.11"
  }
 },
 "nbformat": 4,
 "nbformat_minor": 0
}
