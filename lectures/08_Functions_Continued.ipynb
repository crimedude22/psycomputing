{
 "cells": [
  {
   "cell_type": "markdown",
   "metadata": {},
   "source": [
    "## Functions, Continued\n",
    "\n",
    "Learning about functions necessarily introduces us to *variable scope*. It is a tricky concept at first, but it's important to learn. \n",
    "\n",
    "There are only so many letters and words that we can use as variable names. Many of them, like `x` and `i` are used a lot. What if you weren't allowed to use the variable `x` because it was used by someone else's function. \n",
    "\n",
    "Remember our `add_these` function? Let's define it:"
   ]
  },
  {
   "cell_type": "code",
   "execution_count": null,
   "metadata": {
    "collapsed": true
   },
   "outputs": [],
   "source": [
    "\n",
    "def add_these(x,y):\n",
    "    return(x+y)\n",
    "\n"
   ]
  },
  {
   "cell_type": "markdown",
   "metadata": {},
   "source": [
    "Now imagine `add_these` was part of a python package called `adding_stuff`, and `adding_stuff` has thousands of functions in it. If we import the package like this: \n",
    "\n",
    "```python\n",
    "    from add_these import *\n",
    "```\n",
    "\n",
    "we might not know that `add_these` even exists. \n",
    "\n",
    "\n",
    "Later in our script we want to make a variable `x` and do something different: "
   ]
  },
  {
   "cell_type": "code",
   "execution_count": null,
   "metadata": {},
   "outputs": [],
   "source": [
    "x = 7\n",
    "\n",
    "z = 8\n",
    "\n",
    "print x*z\n",
    "\n",
    "\n",
    "#ignore this, we are just deleting the variables for the next example\n",
    "del x,z"
   ]
  },
  {
   "cell_type": "markdown",
   "metadata": {},
   "source": [
    "See, it works fine! Why doesn't the `x` inside of the `add_these` function definition interfere? Well, it's a good thing it doesn't! How annoying would that be? Remember, we don't even know that `add_these` exists, it was written by someone else. We can't expect to keep track of everyone else's functions. \n",
    "\n",
    "It works because the variables in `add_these` never extend outside of the function. We say that their \"scope\" is local to the function. They only exist when the function is called. As soon as it's done running, they go away. \n",
    "\n",
    "<img src=\"http://ih1.redbubble.net/image.59867335.8235/flat,800x800,075,f.u1.jpg\", align=\"left\",width=\"150px\"></img>If you are a fan of *Rick and Morty* <https://en.wikipedia.org/wiki/Rick_and_Morty>, there's a helpful analogy. Remember the episode with **Mr. Meeseeks?** Rick has a machine that brings a Mr. Meeseeks creature into existence, in order to complete a single task. Once they complete their task, they disappear out of existence. And you can create as many of them as you want, each one for a different task.\n",
    "\n",
    "This is *exactly* how you should think of calling functions. When you call a function, it sets up a temporary space where it makes some computation, and once it's complete it returns the answer and disappears forever. When you call the function again, it makes a new copy (another Mr. Meeseeks) and does the same thing. That's why you don't have access to the variables inside of your functions-- they disappear out of existence as soon as they complete their task."
   ]
  },
  {
   "cell_type": "code",
   "execution_count": null,
   "metadata": {},
   "outputs": [],
   "source": [
    "def add_these(x,y):\n",
    "    return(x+y)\n",
    "\n",
    "print x"
   ]
  },
  {
   "cell_type": "markdown",
   "metadata": {},
   "source": [
    "If we happen to make our own `x` variable, it still doesn't matter. Notice that x keeps the value of 40, and our function still works the way it's supposed to. "
   ]
  },
  {
   "cell_type": "code",
   "execution_count": null,
   "metadata": {},
   "outputs": [],
   "source": [
    "\n",
    "x = 40\n",
    "\n",
    "def add_these(x,y):\n",
    "    return(x+y)\n",
    "\n",
    "print add_these(4,5)\n",
    "print x\n",
    "\n"
   ]
  },
  {
   "cell_type": "markdown",
   "metadata": {},
   "source": [
    "And if we *want* to use our variable `x` in `add_these`, that's fine too"
   ]
  },
  {
   "cell_type": "code",
   "execution_count": null,
   "metadata": {},
   "outputs": [],
   "source": [
    "add_these(x,7)"
   ]
  },
  {
   "cell_type": "code",
   "execution_count": null,
   "metadata": {},
   "outputs": [],
   "source": [
    "add_these(10,x)"
   ]
  },
  {
   "cell_type": "markdown",
   "metadata": {},
   "source": [
    "Things are a little different working the other way. Variables that we create outside the definition *are* accessible inside the function. Variables in the main part of your script have a \"global scope\""
   ]
  },
  {
   "cell_type": "code",
   "execution_count": null,
   "metadata": {
    "collapsed": true
   },
   "outputs": [],
   "source": [
    "from math import sqrt\n",
    "\n",
    "def hypotenuse(a,b):\n",
    "    temp = a**2+b**2\n",
    "    answer = sqrt(temp)\n",
    "    return(answer)\n",
    "    \n"
   ]
  },
  {
   "cell_type": "markdown",
   "metadata": {},
   "source": [
    "What happens if I type `print temp`? Guess before you try it. "
   ]
  },
  {
   "cell_type": "code",
   "execution_count": null,
   "metadata": {},
   "outputs": [],
   "source": []
  },
  {
   "cell_type": "markdown",
   "metadata": {},
   "source": [
    "What if I have this scenario. See what happens.."
   ]
  },
  {
   "cell_type": "code",
   "execution_count": null,
   "metadata": {},
   "outputs": [],
   "source": [
    "from math import sqrt\n",
    "\n",
    "message = 'Calculating Hypotenuse...'\n",
    "\n",
    "def hypotenuse(a,b):\n",
    "    temp = a**2+b**2\n",
    "    answer = sqrt(temp)\n",
    "    print message\n",
    "    return(answer)\n",
    "\n",
    "hypotenuse(3,4)"
   ]
  },
  {
   "cell_type": "markdown",
   "metadata": {},
   "source": [
    "It even works if we update the variable. This is very different from some other languages like Matlab!"
   ]
  },
  {
   "cell_type": "code",
   "execution_count": null,
   "metadata": {},
   "outputs": [],
   "source": [
    "message = 'Here is a new message'\n",
    "\n",
    "hypotenuse(3,5)"
   ]
  },
  {
   "cell_type": "markdown",
   "metadata": {
    "collapsed": true
   },
   "source": [
    "## Variable Scope in Jupyter notebooks\n",
    "\n",
    "Outside of function definitions, all variables that you create within a Jupyter notebook are accessible in the whole notebook. They are not confined to a single cell. **But** if you open multiple notebooks, they each have their own protected space. If you create a variable `x` in one notebook, it will *not* be avaialable in another one. \n",
    "\n",
    "You should think of each notebook as a fresh new copy of Python. It doesn't know anything that happened before you opened it, and it doesn't know what's going on outside of its little world. \n"
   ]
  }
 ],
 "metadata": {
  "kernelspec": {
   "display_name": "Python 2",
   "language": "python",
   "name": "python2"
  },
  "language_info": {
   "codemirror_mode": {
    "name": "ipython",
    "version": 2
   },
   "file_extension": ".py",
   "mimetype": "text/x-python",
   "name": "python",
   "nbconvert_exporter": "python",
   "pygments_lexer": "ipython2",
   "version": "2.7.13"
  }
 },
 "nbformat": 4,
 "nbformat_minor": 1
}
