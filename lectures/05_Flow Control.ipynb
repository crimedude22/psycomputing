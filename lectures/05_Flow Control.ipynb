{
 "cells": [
  {
   "cell_type": "markdown",
   "metadata": {},
   "source": [
    "## Flow Control\n",
    "\n",
    "Sometimes you want your programs to only execute a line of code under certain conditions. The most basic way to do this is using the `if` statement. `if` checks of a certain condition is true, and if it is, it executes a bit of code. If it is not true, it skips that line of code. \n",
    "\n",
    "The syntax is pretty easy. Try the code below the way it's written, and also by changing the value of x to 1. See what happens. "
   ]
  },
  {
   "cell_type": "code",
   "execution_count": 1,
   "metadata": {},
   "outputs": [
    {
     "name": "stdout",
     "output_type": "stream",
     "text": [
      "x is big!\n"
     ]
    }
   ],
   "source": [
    "\n",
    "x = 6\n",
    "\n",
    "if x > 2:\n",
    "    print 'x is big!'\n",
    "\n"
   ]
  },
  {
   "cell_type": "markdown",
   "metadata": {},
   "source": [
    "> Not really important, but using print this way is discouraged: https://www.python.org/dev/peps/pep-3105/ I can especially imagine this being confusing to new python users - why is \"print\" called that way but nothing else?"
   ]
  },
  {
   "cell_type": "markdown",
   "metadata": {},
   "source": [
    "This is the first example that we see of Python's use of whitespace. In other programming languages, you are free to write your code however you want-- you could make an entire program that is just 1 line. Python doesn't tolerate such hideous code, it cares about how you indent it. This may seem draconian, but it actually helps you write clean code that other humans can read (remember: programming languages are for *people*, not computers). \n",
    "\n",
    "You simply put a colon at the end of the line with the `if`, then any lines below it that are indented will be executed, only if the condition is true. Other lines that are *not* indented will not be part of the `if` statement. Try the example below with x = 1, then x = 3\n",
    "\n",
    "Note: when you indent, all the statements have to line up. You can use the Tab key to indent. You can also increase/decrease the indent with the keyboard shortcut Ctrl+] to increase and Ctrl+[ to decrease. "
   ]
  },
  {
   "cell_type": "markdown",
   "metadata": {},
   "source": [
    "> yes, definitely worth mentioning that tab is just a shortcut to four spaces - that's literally what python's looking for. \"why doesn't the code I wrote in microsoft word run?\""
   ]
  },
  {
   "cell_type": "code",
   "execution_count": 8,
   "metadata": {},
   "outputs": [
    {
     "name": "stdout",
     "output_type": "stream",
     "text": [
      "x is small\n",
      "the value of x less than or equal to two\n",
      "this line is executed no matter what. It is not part of the if statement\n"
     ]
    }
   ],
   "source": [
    "x = 1\n",
    "\n",
    "\n",
    "if x <= 2:\n",
    "    print 'x is small'\n",
    "    print 'the value of x less than or equal to two'\n",
    "print 'this line is executed no matter what. It is not part of the if statement'\n"
   ]
  },
  {
   "cell_type": "markdown",
   "metadata": {},
   "source": [
    "The statement that comes after `if` is called a \"conditional\" statement. It is something that has to evaluate to either `True` or `False` (remember this is the `bool` data type). There are a number of these \"conditional operators\" to check the value of variables. You can think of each one of these asking a question about the value. \n",
    "\n",
    "|Operator  | Description  |\n",
    "| -------- |:------------:|\n",
    "|>         | Greater than |\n",
    "|<         | Less than    |\n",
    "|>=        | Greater or equal to |\n",
    "|<=        | Less than or equal to |\n",
    "|==        | Equal to     |\n",
    "|!=        | Not equal to |\n",
    "\n",
    "\n"
   ]
  },
  {
   "cell_type": "code",
   "execution_count": 2,
   "metadata": {},
   "outputs": [
    {
     "name": "stdout",
     "output_type": "stream",
     "text": [
      "x is greater than 3\n",
      "x is not equal to 4\n",
      "x is 7\n"
     ]
    }
   ],
   "source": [
    "x = 7\n",
    "\n",
    "\n",
    "if x > 3:\n",
    "    print \"x is greater than 3\"\n",
    "    \n",
    "if x != 4:\n",
    "    print \"x is not equal to 4\"\n",
    "    \n",
    "if x==7:\n",
    "    print \"x is 7\"\n",
    "    \n",
    "\n"
   ]
  },
  {
   "cell_type": "markdown",
   "metadata": {},
   "source": [
    "Sometimes you want execute a bit of code under one condition, but for all other cases, you want to do something else. We can accomplish this with an `if`... `else` statement. "
   ]
  },
  {
   "cell_type": "code",
   "execution_count": 33,
   "metadata": {},
   "outputs": [
    {
     "name": "stdout",
     "output_type": "stream",
     "text": [
      "Ok, x is 7\n"
     ]
    }
   ],
   "source": [
    "\n",
    "x = 7\n",
    "\n",
    "if x==7:\n",
    "    print \"Ok, x is 7\"\n",
    "else:\n",
    "    print \"x is not 7, that's all I know\""
   ]
  },
  {
   "cell_type": "markdown",
   "metadata": {},
   "source": [
    "Some people are initially confused about the difference between `=` and `==`. Here's an easy way to remember: \n",
    "\n",
    "* `=` is for assigning a value. You are *telling* Python to do something. \n",
    "* `==` is for comparison. You are *asking* Python about the value of something.<br><br> \n",
    "\n",
    "* **`x = 5`** means, \"Hey Python, do what I say! Make a variable called x and assign it the value of 5.\"   \n",
    "\n",
    "* **`x==5`** means, \"Hey Python... can I ask you something? Is x equal to the value of 5?\" "
   ]
  },
  {
   "cell_type": "markdown",
   "metadata": {
    "collapsed": true
   },
   "source": [
    "What if you want to check for multiple specific values, not just one value versus everything else? This is useful of you have multiple conditions that are mutually exclusive, like the example below. If x is greater than 5, then it can't be less than 4. Notice it's redundant to check for both conditions because only 1 can be true. But Python will check both because they're not linked in any way. "
   ]
  },
  {
   "cell_type": "code",
   "execution_count": 15,
   "metadata": {},
   "outputs": [
    {
     "name": "stdout",
     "output_type": "stream",
     "text": [
      "x > 5\n"
     ]
    }
   ],
   "source": [
    "if x > 5:\n",
    "    print \"x is greater than 5\"\n",
    "\n",
    "if x < 4:\n",
    "    print \"x is less than 4\"\n",
    "    \n",
    "\n"
   ]
  },
  {
   "cell_type": "markdown",
   "metadata": {},
   "source": [
    "That's where `elif` is useful (it is short for \"else if\"). Here's the same thing with an `elif` statement. Read it like this: \"If x is greater than 5, do this, otherwise if x is less than 4, do that.\" Now the 2 statments are linked together. "
   ]
  },
  {
   "cell_type": "code",
   "execution_count": 16,
   "metadata": {},
   "outputs": [
    {
     "name": "stdout",
     "output_type": "stream",
     "text": [
      "x > 5\n"
     ]
    }
   ],
   "source": [
    "if x > 5:\n",
    "    print \"x bigger than 5\"\n",
    "elif x < 4:\n",
    "    print \"x smaller than 4\""
   ]
  },
  {
   "cell_type": "markdown",
   "metadata": {
    "collapsed": true
   },
   "source": [
    "Importantly the `elif` statement can only be part of an `if` statement, it can't stand on its own. Each `elif` is considered a continuation of the first `if` statement. Python checks each statement from top to bottom, and as soon as it encounters a true statement, it will execute that bit of code, and skip the rest of the `elif` lines. Compare the cell below using `elif` to the one below that,  which uses multiple `if` statements. What's the difference? Also note that `else` can also be used along with `elif`. "
   ]
  },
  {
   "cell_type": "markdown",
   "metadata": {},
   "source": [
    "> I'm not sure about this example - it's pretty bad practice to have conditionals that can't handle exceptions - if x == 4.5 we would have an unhandled exception. Perhaps amend this to 'elif *should* be used with else,' I think that's what was intended."
   ]
  },
  {
   "cell_type": "code",
   "execution_count": 23,
   "metadata": {},
   "outputs": [
    {
     "name": "stdout",
     "output_type": "stream",
     "text": [
      "x is at least 1\n"
     ]
    }
   ],
   "source": [
    "x=5\n",
    "\n",
    "if x >=1:\n",
    "    print \"x is at least 1\"\n",
    "elif x>=2:\n",
    "    print \"x is at least 2\"\n",
    "elif x>=3:\n",
    "    print \"x is at least 3\"\n",
    "elif x>=4:\n",
    "    print \"x is at least 4\"\n",
    "else:\n",
    "    print \"x is some other number, less than 1\"\n",
    "\n"
   ]
  },
  {
   "cell_type": "code",
   "execution_count": 24,
   "metadata": {},
   "outputs": [
    {
     "name": "stdout",
     "output_type": "stream",
     "text": [
      "x is at least 1\n",
      "x is at least 2\n",
      "x is at least 3\n",
      "x is at least 4\n"
     ]
    }
   ],
   "source": [
    "x=5\n",
    "\n",
    "if x >=1:\n",
    "    print \"x is at least 1\"\n",
    "if x>=2:\n",
    "    print \"x is at least 2\"\n",
    "if x>=3:\n",
    "    print \"x is at least 3\"\n",
    "if x>=4:\n",
    "    print \"x is at least 4\"\n"
   ]
  },
  {
   "cell_type": "markdown",
   "metadata": {},
   "source": [
    "### Combining conditionals\n",
    "\n",
    "Conditional statements can be combined using combinations of `and` and `or`. You can also use the symbols `&` and `|`. The separate parts of the statement should to be enclosed with parentheses. "
   ]
  },
  {
   "cell_type": "code",
   "execution_count": 27,
   "metadata": {},
   "outputs": [
    {
     "name": "stdout",
     "output_type": "stream",
     "text": [
      "True\n",
      "True\n"
     ]
    }
   ],
   "source": [
    "x=7\n",
    "\n",
    "print (x > 5) and (x > 6) #this will print True or False\n",
    "\n",
    "y = -3\n",
    "\n",
    "print (x > 10) or (y < 0)"
   ]
  },
  {
   "cell_type": "markdown",
   "metadata": {},
   "source": [
    "You can always get the opposite result by putting `not` in front of a conditional statement\n"
   ]
  },
  {
   "cell_type": "code",
   "execution_count": 31,
   "metadata": {},
   "outputs": [
    {
     "name": "stdout",
     "output_type": "stream",
     "text": [
      "True\n",
      "False\n"
     ]
    }
   ],
   "source": [
    "print      (x > 10) or (y < 0)\n",
    "print not( (x > 10) or (y < 0) )"
   ]
  },
  {
   "cell_type": "markdown",
   "metadata": {},
   "source": [
    "`and`, `or`, and `not` correspond to logical statements that come from philosophy and mathematics (e.g., <https://en.wikipedia.org/wiki/Logical_conjunction>). Here are the basic rules: \n",
    "\n",
    "`and`: only True if both statements are True.   \n",
    "`or`: True if *either* statement is True.   \n",
    "`not`: changes True to False and vice-versa   \n",
    "\n",
    "**Let's try a few examples below**"
   ]
  },
  {
   "cell_type": "code",
   "execution_count": 36,
   "metadata": {},
   "outputs": [
    {
     "name": "stdout",
     "output_type": "stream",
     "text": [
      "False\n",
      "True\n"
     ]
    }
   ],
   "source": [
    "print (True and False)\n",
    "print (True or False)"
   ]
  },
  {
   "cell_type": "markdown",
   "metadata": {},
   "source": [
    "What about the example below? What would it evaluate to? Try to figure it out without Python's help. Notice we put parentheses around statements, just like basic math. \n",
    "\n",
    "```python\n",
    "( (True and False) or (True or False) and not(True and False) )\n",
    "```\n",
    "\n",
    "Equivalently, we could write: \n",
    "```python\n",
    "( (True & False) | (True | False) & not(True & False) )`\n",
    "```"
   ]
  },
  {
   "cell_type": "code",
   "execution_count": null,
   "metadata": {
    "collapsed": true
   },
   "outputs": [],
   "source": []
  }
 ],
 "metadata": {
  "kernelspec": {
   "display_name": "Python 2",
   "language": "python",
   "name": "python2"
  },
  "language_info": {
   "codemirror_mode": {
    "name": "ipython",
    "version": 2
   },
   "file_extension": ".py",
   "mimetype": "text/x-python",
   "name": "python",
   "nbconvert_exporter": "python",
   "pygments_lexer": "ipython2",
   "version": "2.7.13"
  }
 },
 "nbformat": 4,
 "nbformat_minor": 1
}
