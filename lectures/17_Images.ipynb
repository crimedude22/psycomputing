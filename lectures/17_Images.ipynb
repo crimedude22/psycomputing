{
 "cells": [
  {
   "cell_type": "markdown",
   "metadata": {},
   "source": [
    "## Images\n",
    "\n",
    "Python has some great tools for dealing with image and video files. We will not go into *every* detail, but here are some of the basics. \n",
    "\n",
    "### *Displaying* images in Jupyter notebook\n",
    "\n",
    "Sometimes you just want to display an image in your notebook. Some of you are doing this for your final project (e.g., displaying cards for a virtual BlackJack game). There are 2 functions you need to import from the `IPython.display` package that allow you to do this. \n",
    "\n",
    "You give the `Image` function from `IPython.display` the path to an image, and this path can be either on your computer or a URL from the internet. If you call `Image` as the last line in the cell, it will display it. If it's *not* the last line, then you need to use the `display` function to make it display. This works in the same way as the `print` function. \n",
    "\n",
    "In the cell below, I load an image that's in the same folder as this notebook (you may need to copy it to your own folder). "
   ]
  },
  {
   "cell_type": "code",
   "execution_count": null,
   "metadata": {
    "collapsed": false
   },
   "outputs": [],
   "source": [
    "from IPython.display import Image,display\n",
    "\n",
    "Image('./images/pug.jpg')"
   ]
  },
  {
   "cell_type": "markdown",
   "metadata": {},
   "source": [
    "In the cell below, I do the same thing, but `Image` is no longer on the last line. Notice the image doesn't display: "
   ]
  },
  {
   "cell_type": "code",
   "execution_count": null,
   "metadata": {
    "collapsed": false
   },
   "outputs": [],
   "source": [
    "from IPython.display import Image,display\n",
    "\n",
    "Image('./images/pug.jpg') #doesn't display!\n",
    "\n",
    "print \"hello world\""
   ]
  },
  {
   "cell_type": "markdown",
   "metadata": {},
   "source": [
    "I can fix this by using the `display` function, just like using the `print` function. "
   ]
  },
  {
   "cell_type": "code",
   "execution_count": null,
   "metadata": {
    "collapsed": false
   },
   "outputs": [],
   "source": [
    "from IPython.display import Image,display\n",
    "\n",
    "display(Image('./images/pug.jpg')) #now it displays\n",
    "\n",
    "print \"hello world\""
   ]
  },
  {
   "cell_type": "markdown",
   "metadata": {},
   "source": [
    "### Displaying Images from the Internet\n",
    "\n",
    "Here's an example with a URL, using an image I found with Google Image Search. I just use a URL instead of a file path. "
   ]
  },
  {
   "cell_type": "code",
   "execution_count": null,
   "metadata": {
    "collapsed": false
   },
   "outputs": [],
   "source": [
    "from IPython.display import Image,display\n",
    "Image('https://lolapug.files.wordpress.com/2012/10/dsc_0400_2.jpg')\n"
   ]
  },
  {
   "cell_type": "markdown",
   "metadata": {},
   "source": [
    "## Manipulating Images\n",
    "\n",
    "The functions above are great, but are limited to only displaying images, and only in the Jupyter notebook. Often times, we want to take images and manipulate them in some way. We need a different package for this. \n",
    "\n",
    "\n",
    "### Python Image Library (PIL)/Pillow\n",
    "The Python Image Library (PIL) is probably the most widely used library for dealing with images in Python. Here's a complicated part: the main function is *also* called `Image`! Remember in week 1 when we talked about functions from different packages having the same name? Well, here we are. Luckily, you usually don't need to use both packages at the same time, so it's not a huge issue. \n",
    "\n",
    "We first import the `Image` module from `PIL`, then use the `Image.open` function to load an image file. We save this as an image object `im` (but remember we can call it whatever we want, it's just a variable). \n",
    "\n",
    "Depending on the version of PIL you have, typing `im` as the last line in the cell will display the image in-line. If you don't see an image, you will have to explicitly call the `show` method. This is similar to the function from the `IPython.display` package. \n",
    "\n",
    "**Note** If you're installing at home, you want to install the [Pillow](http://pillow.readthedocs.io/) package instead of PIL, using `pip install Pillow`. The PIL package is no longer well-maintained, so people created the Pillow package to replace it. All the importing and everything should work the same, this only affects the installation. "
   ]
  },
  {
   "cell_type": "code",
   "execution_count": null,
   "metadata": {
    "collapsed": false
   },
   "outputs": [],
   "source": [
    "from PIL import Image #note it's called Image, but it's from a different package!\n",
    "\n",
    "im = Image.open('./images/pug.jpg')\n",
    "im #depending on the version, this may not show the image, you will need to to im.show() "
   ]
  },
  {
   "cell_type": "markdown",
   "metadata": {},
   "source": [
    "To be more explicit, we call the `show` function to display the image, even if it's not the last thing in the cell (like when we use `print`). Note that this opens the image outside of the notebook. "
   ]
  },
  {
   "cell_type": "code",
   "execution_count": null,
   "metadata": {
    "collapsed": false
   },
   "outputs": [],
   "source": [
    "im.show()\n",
    "\n",
    "print \"hello\""
   ]
  },
  {
   "cell_type": "markdown",
   "metadata": {},
   "source": [
    "We can get some basic properties of the image using the dot notation like so: "
   ]
  },
  {
   "cell_type": "code",
   "execution_count": null,
   "metadata": {
    "collapsed": false
   },
   "outputs": [],
   "source": [
    "print im.format #is it a png, jpeg, gif?\n",
    "print im.width #in pixels\n",
    "print im.height #in pixels\n",
    "print im.size #(width, height) in a tuple"
   ]
  },
  {
   "cell_type": "markdown",
   "metadata": {},
   "source": [
    "### Manipulating Images\n",
    "\n",
    "PIL has various functions for manipulating images. We'll deal with the most common ones: \n",
    "\n",
    "* resizing\n",
    "* rotating\n",
    "* flipping\n",
    "* combining\n",
    "\n",
    "\n",
    "### Resizing\n",
    "\n",
    "You can use the `resize` method to change an image size. All you need to do is give it a new size as a tuple (width,height). Because the units are in pixels, the dimensions need to be integers, not decimals.  "
   ]
  },
  {
   "cell_type": "code",
   "execution_count": null,
   "metadata": {
    "collapsed": false
   },
   "outputs": [],
   "source": [
    "newwidth = 350\n",
    "newheight = 900\n",
    "\n",
    "\n",
    "big_pug = im.resize((newwidth, newheight))\n",
    "big_pug\n"
   ]
  },
  {
   "cell_type": "markdown",
   "metadata": {},
   "source": [
    "Notice that the image looks kind of stretched. This is because we used an arbitrary size. Ideally, we want to scale the image so the aspect ratio is preserved. We can do this by taking the original width and height and multiplying it. "
   ]
  },
  {
   "cell_type": "code",
   "execution_count": null,
   "metadata": {
    "collapsed": false
   },
   "outputs": [],
   "source": [
    "big_pug = im.resize((im.width*3,im.height*3))\n",
    "big_pug\n"
   ]
  },
  {
   "cell_type": "markdown",
   "metadata": {},
   "source": [
    "If you want to make an image smaller, you should use the `thumbnail` function. You provide a maximum image size as a tuple, and it will shrink the image so it will fit in that box. The image gets scaled down while preserving the aspect ratio. The `Image.ANTIALIAS` affects the quality of the image, otherwise it looks pixelated.  \n",
    "\n",
    "`thumbnail` is one of those functions that changes the image, even if you don't have an equals (`=`) sign. It is different from `resize`. To keep the original preserved, we make a copy of it first. We have to do this using the `copy` method. "
   ]
  },
  {
   "cell_type": "code",
   "execution_count": null,
   "metadata": {
    "collapsed": false
   },
   "outputs": [],
   "source": [
    "lil_pug = im.copy() #make a copy of the original\n",
    "lil_pug.thumbnail((50,50),Image.ANTIALIAS) #make the image fit within a 50x50 box\n",
    "lil_pug"
   ]
  },
  {
   "cell_type": "code",
   "execution_count": null,
   "metadata": {
    "collapsed": false
   },
   "outputs": [],
   "source": [
    "im #original is still the same size"
   ]
  },
  {
   "cell_type": "markdown",
   "metadata": {},
   "source": [
    "### Rotating\n",
    "\n",
    "Rotating an image is pretty easy- we just use the `rotate` method and give the number of degrees as the only argument. The image content will be rotated counterclockwise by that many degrees. Notice that the image borders don't change, just the content. "
   ]
  },
  {
   "cell_type": "code",
   "execution_count": null,
   "metadata": {
    "collapsed": false
   },
   "outputs": [],
   "source": [
    "im.rotate(30) #rotate 30 degrees counter-clockwise"
   ]
  },
  {
   "cell_type": "markdown",
   "metadata": {},
   "source": [
    "### Flipping/Transposing\n",
    "\n",
    "If we want to flip the image vertically or horizontally, we use the `transpose` method. Notice that the image is *flipped*, which is different than being *rotated*. This is more obvious in an image with text. Let's load a new image: "
   ]
  },
  {
   "cell_type": "code",
   "execution_count": null,
   "metadata": {
    "collapsed": false
   },
   "outputs": [],
   "source": [
    "im2 = Image.open('./images/pug_life.jpg')\n",
    "im2"
   ]
  },
  {
   "cell_type": "markdown",
   "metadata": {},
   "source": [
    "The syntax is a little funny. We use the `transpose` method, and we use `Image._____` as an argument. To flip top-to-bottom, use `Image.FLIP_TOP_BOTTOM`. To do left-right (mirror image), use `Image.FLIP_LEFT_RIGHT`"
   ]
  },
  {
   "cell_type": "code",
   "execution_count": null,
   "metadata": {
    "collapsed": false
   },
   "outputs": [],
   "source": [
    "upsideD = im2.transpose(Image.FLIP_TOP_BOTTOM)\n",
    "upsideD"
   ]
  },
  {
   "cell_type": "code",
   "execution_count": null,
   "metadata": {
    "collapsed": false
   },
   "outputs": [],
   "source": [
    "mirror = im2.transpose(Image.FLIP_LEFT_RIGHT)\n",
    "mirror #notice the backwards text"
   ]
  },
  {
   "cell_type": "markdown",
   "metadata": {},
   "source": [
    "### Cropping\n",
    "\n",
    "We can use the `crop` method to chop out part of the image. We just provide a tuple that specifies the left, top, right, and bottom edges of a \"box\". Then only the part of the image that falls within that box is kept. Here we can crop out just the face. Play around with the numbers and see what happens.   "
   ]
  },
  {
   "cell_type": "code",
   "execution_count": null,
   "metadata": {
    "collapsed": false
   },
   "outputs": [],
   "source": [
    "box = (45, 10, 285, 225) #(left,top,right,bottom)\n",
    "pugface = im.crop(box)\n",
    "\n",
    "pugface"
   ]
  },
  {
   "cell_type": "markdown",
   "metadata": {},
   "source": [
    "### Combining images\n",
    "\n",
    "Sometimes we want to take multiple images and combined them together (or create multiple copies of the same image). In `PIL`, we do this in a couple of steps. First, we create a new, blank image using `Image.new`. We make this new image as big as the overall image you want. Then we can paste each of the smaller images into this new space using the `paste` method. When you paste, you specify where you want the top-left corner of your smaller image to appear.\n",
    "\n",
    "Alternatively, you can give a tuple of 4 elements, specifying where you want the left,top, right, and bottom edges of the smaller image to appear. This requires more work, but may be useful in some situations. \n",
    "\n",
    "Below we create a new 500x500 blank image, then paste `pugface` into it, at the upper-left corner (0,0).  "
   ]
  },
  {
   "cell_type": "code",
   "execution_count": null,
   "metadata": {
    "collapsed": false
   },
   "outputs": [],
   "source": [
    "blank_image = Image.new('RGB',(500,500))\n",
    "blank_image.paste(pugface,(0,0)) #paste at the upper-left corner\n",
    "blank_image"
   ]
  },
  {
   "cell_type": "markdown",
   "metadata": {},
   "source": [
    "Here we paste it more towards the middle of the bigger image. "
   ]
  },
  {
   "cell_type": "code",
   "execution_count": null,
   "metadata": {
    "collapsed": false
   },
   "outputs": [],
   "source": [
    "blank_image = Image.new('RGB',(500,500))\n",
    "blank_image.paste(pugface,(125,150)) #paste towards the middle\n",
    "blank_image"
   ]
  },
  {
   "cell_type": "markdown",
   "metadata": {},
   "source": [
    "Let's take 2 copies of `pugface` and combine them horizontally. First we create an image that's twice as wide as the original, then paste `pugface` into it twice. "
   ]
  },
  {
   "cell_type": "code",
   "execution_count": null,
   "metadata": {
    "collapsed": false
   },
   "outputs": [],
   "source": [
    "#new image is twice as wide as original, but with the same height\n",
    "doublepugs = Image.new('RGB',(pugface.width*2, pugface.height)) \n",
    "doublepugs.paste(pugface,(0,0)) #paste at the very left\n",
    "doublepugs"
   ]
  },
  {
   "cell_type": "markdown",
   "metadata": {},
   "source": [
    "The next image should be right against the first one. So, we want the left edge to be right at the end of the first image. That means that the x coordinate is the image width. So we paste the new one at (240,0). Note we can just use `pugface.width` instead of figuring out the width ourselves.  "
   ]
  },
  {
   "cell_type": "code",
   "execution_count": null,
   "metadata": {
    "collapsed": false
   },
   "outputs": [],
   "source": [
    "print pugface.width\n",
    "doublepugs.paste(pugface, (pugface.width,0)) #paste at the right edge of the first one\n",
    "doublepugs"
   ]
  },
  {
   "cell_type": "markdown",
   "metadata": {},
   "source": [
    "Note we can make the images overlap by pasting them at smaller intervals. Below we create a new blank image, then paste several times, with the left edge of each one spaced by 50 pixels: "
   ]
  },
  {
   "cell_type": "code",
   "execution_count": null,
   "metadata": {
    "collapsed": false
   },
   "outputs": [],
   "source": [
    "blank = Image.new('RGB', (pugface.width*2,pugface.height))\n",
    "blank.paste(pugface, (0,0))\n",
    "blank.paste(pugface, (50,0))\n",
    "blank.paste(pugface, (100,0))\n",
    "blank.paste(pugface, (150,0))\n",
    "blank.paste(pugface, (200,0))\n",
    "blank.paste(pugface, (250,0))\n",
    "blank.paste(pugface, (300,0))\n",
    "blank"
   ]
  },
  {
   "cell_type": "markdown",
   "metadata": {},
   "source": [
    "### Saving images\n",
    "\n",
    "Let's save `doublepugs` as a new JPEG file using the `save` method. We just need to specify the file format as the second argument ('JPEG' in this case). Try saving it to your `Student_Data` folder and opening it outside of the notebook. "
   ]
  },
  {
   "cell_type": "code",
   "execution_count": null,
   "metadata": {
    "collapsed": true
   },
   "outputs": [],
   "source": [
    "doublepugs.save('doublepugs.jpg','JPEG')"
   ]
  },
  {
   "cell_type": "markdown",
   "metadata": {},
   "source": [
    "## Images are just arrays!\n",
    "\n",
    "Behind the scenes, images in Python are just stored as arrays. This makes a lot of sense when you think about it-- an image is a collection of squares called pixels. These are arranged in a grid. This can easily be represented as rows and columns in a matrix. \n",
    "\n",
    "Let's start with a simple example. We'll create a 15x15 numpy array of zeros, and fill a 5x5 portion in the center with ones. First we print like we already know how to do. "
   ]
  },
  {
   "cell_type": "code",
   "execution_count": null,
   "metadata": {
    "collapsed": false
   },
   "outputs": [],
   "source": [
    "import numpy as np\n",
    "\n",
    "arr = np.zeros((15,15))\n",
    "arr[5:10,5:10] = 1\n",
    "print arr\n"
   ]
  },
  {
   "cell_type": "markdown",
   "metadata": {},
   "source": [
    "Now let's display this as an image. We can do this using `matplotlib`. There is a function called `imshow` that takes a matrix and plots it like an image. We give it the optional argument `cmap` (short for \"color map\") to show it in black-and-white. If you remove it, you'll notice the image is red and blue by default. The `interpolation` argument is also optional. If you don't include it, the box will have fuzzy boundaries. \n",
    "\n",
    "Notice everywhere there was a 1 is white, and everywhere else is black. "
   ]
  },
  {
   "cell_type": "code",
   "execution_count": null,
   "metadata": {
    "collapsed": false
   },
   "outputs": [],
   "source": [
    "%matplotlib inline\n",
    "import matplotlib.pyplot as plt\n",
    "\n",
    "plt.imshow(arr,cmap='Greys_r',interpolation='none')\n",
    "plt.show()\n"
   ]
  },
  {
   "cell_type": "markdown",
   "metadata": {},
   "source": [
    "### Converting PIL images to arrays\n",
    "\n",
    "We can convert any image loaded with PIL to a numpy array using `numpy.array`: "
   ]
  },
  {
   "cell_type": "code",
   "execution_count": null,
   "metadata": {
    "collapsed": false
   },
   "outputs": [],
   "source": [
    "\n",
    "pug_arr = np.array(pugface)\n",
    "print pug_arr\n",
    "print pug_arr.dtype\n",
    "print pug_arr.shape\n",
    "\n",
    "print pugface.height, pugface.width"
   ]
  },
  {
   "cell_type": "markdown",
   "metadata": {},
   "source": [
    "What's going on? Notice that `pug_arr` is a matrix, and it's filled with integers. These integers range from 0 to 255. Also notice the shape of the matrix: (215,240,3). The first 2 numbers correspond to the height and the width of the image. First, let's see if we can plot this array: "
   ]
  },
  {
   "cell_type": "code",
   "execution_count": null,
   "metadata": {
    "collapsed": false
   },
   "outputs": [],
   "source": [
    "plt.imshow(pug_arr)\n",
    "plt.show()"
   ]
  },
  {
   "cell_type": "markdown",
   "metadata": {},
   "source": [
    "It looks like the original image, but inside of a plot. In Python (and computers in general), images are represented as matrices with rows and columns. Since `pugface` has a height of 215 and a width of 240 pixels, the matrix has 215 rows and 240 columns. \n",
    "\n",
    "<img src='http://www.thinkgeek.com/images/products/zoom/rubix_cube.jpg', width=200></img>But, we need some way to represent the color. This is accomplished using a 3-Dimensional matrix. Think about it like a Rubik's cube: it has a width, height, and depth. For images, the depth is 3. This is because the colors are represented as mixtures of red, green, and blue. Think of each one as a layer. One layer tells you how much red each part of the image has (from 0 to 255), the second one tells you the amount of green, and the third one tells you how much blue. \n",
    "\n",
    "Watch if we strip off just 1 layer from our image and plot it. Notice indexing from a 3D matrix is the same as a 2D one, except we have to provide a 3rd number for the depth. "
   ]
  },
  {
   "cell_type": "code",
   "execution_count": null,
   "metadata": {
    "collapsed": false
   },
   "outputs": [],
   "source": [
    "plt.imshow(pug_arr[:,:,0],cmap='Greys_r') #all rows, all columns, layer 0 (red)\n",
    "plt.show()"
   ]
  },
  {
   "cell_type": "markdown",
   "metadata": {},
   "source": [
    "It's a black-and-white image. This represents only information from the red layer. Wherever the image is dark, that part of the image will have more red. Wherever it's white, it's less red.\n",
    "\n",
    "If we print the blue layer, notice we get something slightly different:"
   ]
  },
  {
   "cell_type": "code",
   "execution_count": null,
   "metadata": {
    "collapsed": false
   },
   "outputs": [],
   "source": [
    "plt.imshow(pug_arr[:,:,2],cmap='Greys_r')\n",
    "plt.show()"
   ]
  },
  {
   "cell_type": "markdown",
   "metadata": {},
   "source": [
    "We can manipulate our image by changing all values in the red and blue layers to zero. This leaves only the green information, so we get a green pug. "
   ]
  },
  {
   "cell_type": "code",
   "execution_count": null,
   "metadata": {
    "collapsed": false
   },
   "outputs": [],
   "source": [
    "pug_arr[:,:,0] = 0 #erase the red channel\n",
    "pug_arr[:,:,2] = 0 #erase the blue channel\n",
    "\n",
    "plt.imshow(pug_arr) #only green is left\n",
    "plt.show()"
   ]
  },
  {
   "cell_type": "markdown",
   "metadata": {},
   "source": [
    "We can do the reverse. Here we fill in part of the red layer with 255 (the highest possible value). We pick a region that's roughly in the center. "
   ]
  },
  {
   "cell_type": "code",
   "execution_count": null,
   "metadata": {
    "collapsed": false
   },
   "outputs": [],
   "source": [
    "\n",
    "pug_arr[74:175,74:175,0] = 255 #fill part of the red layer\n",
    "\n",
    "plt.imshow(pug_arr) #red square in the middle\n",
    "plt.show()"
   ]
  },
  {
   "cell_type": "markdown",
   "metadata": {},
   "source": [
    "We can mix together our own colors. Let's start with a 15x15 matrix, but this time we make it a 3D matrix (i.e., giving it 3 layers). We start with all zeros, then fill the center region of just the red layer with 255 (the maximum value). Notice we get a red square!"
   ]
  },
  {
   "cell_type": "code",
   "execution_count": null,
   "metadata": {
    "collapsed": false
   },
   "outputs": [],
   "source": [
    "arr = np.zeros((15,15,3),dtype=np.uint8) #notice the 3rd dimension\n",
    "arr[5:10,5:10,0] = 255\n",
    "plt.imshow(arr, interpolation='none') #interpolation is optional. Otherwise boundary is fuzzy\n",
    "plt.show()"
   ]
  },
  {
   "cell_type": "markdown",
   "metadata": {
    "collapsed": true
   },
   "source": [
    "Now let's fill in the red and the blue layers with the maximum value. We get a magenta square. The color mixing is a little different from what you learned in kindergarten. That's because it uses [additive](https://en.wikipedia.org/wiki/Additive_color) color mixing, which can be seen in the image below. Notice that red and blue make magenta. <img src='https://upload.wikimedia.org/wikipedia/commons/c/c2/AdditiveColor.svg', width=200></img>"
   ]
  },
  {
   "cell_type": "code",
   "execution_count": null,
   "metadata": {
    "collapsed": false
   },
   "outputs": [],
   "source": [
    "arr = np.zeros((15,15,3),dtype=np.uint8) #notice the 3rd dimension\n",
    "arr[5:10,5:10,0] = 255 #red layer\n",
    "arr[5:10,5:10,2] = 255 #blue layer\n",
    "plt.imshow(arr,interpolation='none')\n",
    "plt.show()"
   ]
  },
  {
   "cell_type": "markdown",
   "metadata": {
    "collapsed": true
   },
   "source": [
    "Now you try! See if you can copy-and-paste the code and make a yellow square in the middle: "
   ]
  },
  {
   "cell_type": "code",
   "execution_count": null,
   "metadata": {
    "collapsed": true
   },
   "outputs": [],
   "source": []
  },
  {
   "cell_type": "code",
   "execution_count": null,
   "metadata": {
    "collapsed": true
   },
   "outputs": [],
   "source": []
  },
  {
   "cell_type": "markdown",
   "metadata": {},
   "source": [
    "This is only a sample of what you can do with image processing. Again the point is to show you some of the basics to get you started. For more information (and help with your homework), check out the documentation for [Pillow](http://pillow.readthedocs.io/)"
   ]
  }
 ],
 "metadata": {
  "kernelspec": {
   "display_name": "Python 2",
   "language": "python",
   "name": "python2"
  },
  "language_info": {
   "codemirror_mode": {
    "name": "ipython",
    "version": 2
   },
   "file_extension": ".py",
   "mimetype": "text/x-python",
   "name": "python",
   "nbconvert_exporter": "python",
   "pygments_lexer": "ipython2",
   "version": "2.7.11"
  }
 },
 "nbformat": 4,
 "nbformat_minor": 0
}
