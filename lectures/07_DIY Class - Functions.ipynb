{
 "cells": [
  {
   "cell_type": "markdown",
   "metadata": {},
   "source": [
    "## DIY Lecture - Functions\n",
    "\n",
    "First, read Chapters 3 and 4 from ABSP to give yourself some background. I will provide a few examples here, then you should work on Homework 2 **IN CLASS**. **The homework will be due at the beginning of next class**, and we will go over the answers. This is ambitious. Just do your best, and if you get stuck on a problem explain why you are stuck. I want to see effort more than anything.  \n",
    "\n",
    "<hr />\n",
    "So far, you have accomplished tasks using Python's built-in functions, things like \n",
    "\n",
    "```python \n",
    "abs\n",
    "print\n",
    "type\n",
    "```\n",
    "And functions from other packages, like `sin`/`cos`/`tan` from the `math` package. \n",
    "\n",
    "Every time you use them, you have to provide inputs (*arguments*), and save some sort of output, like this: \n",
    "\n",
    "```python\n",
    "x = -5\n",
    "x2 = abs(x)\n",
    "print x2\n",
    "```\n",
    "\n",
    "These functions are not very special. There are just bits of python code that some other person wrote. Some of them are provided with standard Python, others are included in packages. But remember, they are all written by people, there is nothing magical about them. \n",
    "\n",
    "That means that *you* can write your own functions too! I encourage you to do this, because it makes your code much more readable, and most of the time it makes your code more efficient. \n",
    "\n",
    "### Defining and Calling\n",
    "\n",
    "There are 2 stages to using functions. First you *define* a function. This is where you write the Python code and you determine the inputs and outputs and how the computation is made. This only has to be done once. \n",
    "\n",
    "After that you can *call* the function as many times as you want. When you say something like `abs(x)` you *calling* the `abs` function. Think of functions as tools. Someone makes a hammer in a factory, someone else buys that hammer and uses it to put hundreds or thousands of nails into things-- they don't need to make a new hammer each time, it's reusable. Functions are like hammers. \n",
    "\n",
    "\n",
    "Let's make a function called `add_these` that just adds 2 numbers together and returns the result. We define a function using `def`, like so: \n"
   ]
  },
  {
   "cell_type": "code",
   "execution_count": null,
   "metadata": {},
   "outputs": [],
   "source": [
    "\n",
    "def add_these(x,y):\n",
    "    xysum = x+y\n",
    "    return(xysum)\n",
    "\n"
   ]
  },
  {
   "cell_type": "markdown",
   "metadata": {},
   "source": [
    "Notice that the function name comes after `def`, and we put the inputs in parentheses. Our function expects 2 numbers, which we are calling `x` and `y` for now. From that we create an output (xysum), and then we **`return`** it. Notice nothing happened. Python didn't try to add togehter x and y. We don't even have variables called x and y, as can be seen below: "
   ]
  },
  {
   "cell_type": "code",
   "execution_count": 1,
   "metadata": {},
   "outputs": [
    {
     "ename": "NameError",
     "evalue": "name 'x' is not defined",
     "output_type": "error",
     "traceback": [
      "\u001b[0;31m---------------------------------------------------------------------------\u001b[0m",
      "\u001b[0;31mNameError\u001b[0m                                 Traceback (most recent call last)",
      "\u001b[0;32m<ipython-input-1-9a5eec2f2ea1>\u001b[0m in \u001b[0;36m<module>\u001b[0;34m()\u001b[0m\n\u001b[0;32m----> 1\u001b[0;31m \u001b[0;32mprint\u001b[0m \u001b[0mx\u001b[0m\u001b[0;34m+\u001b[0m\u001b[0my\u001b[0m \u001b[0;31m#this causes an error because they don't exist\u001b[0m\u001b[0;34m\u001b[0m\u001b[0m\n\u001b[0m",
      "\u001b[0;31mNameError\u001b[0m: name 'x' is not defined"
     ]
    }
   ],
   "source": [
    "print x+y #this causes an error because they don't exist "
   ]
  },
  {
   "cell_type": "markdown",
   "metadata": {},
   "source": [
    "`x` and `y` are just placeholders. Those placeholders aren't filled until we call the function, like this: "
   ]
  },
  {
   "cell_type": "code",
   "execution_count": null,
   "metadata": {},
   "outputs": [],
   "source": [
    "add_these(5,3)\n"
   ]
  },
  {
   "cell_type": "markdown",
   "metadata": {},
   "source": [
    "The variable that is inside of `return()` is the output that the function produces. If we just type the function like we did above, it just prints out the result. Usually, we want to save the result into a variable, like in the example below: "
   ]
  },
  {
   "cell_type": "code",
   "execution_count": null,
   "metadata": {},
   "outputs": [],
   "source": [
    "answer = add_these(4,3)\n",
    "print answer"
   ]
  },
  {
   "cell_type": "markdown",
   "metadata": {},
   "source": [
    "We can also use variables instead of numbers for our arguments:"
   ]
  },
  {
   "cell_type": "code",
   "execution_count": null,
   "metadata": {},
   "outputs": [],
   "source": [
    "a = 10\n",
    "b = 4\n",
    "\n",
    "add_these(a,b)"
   ]
  },
  {
   "cell_type": "markdown",
   "metadata": {},
   "source": [
    "### Important!!\n",
    "\n",
    "Notice that we did *not* call our variables `x` and `y`. When we call the function, the variable names do not have to match the ones in the definition. \n",
    "\n",
    "Like hammers, functions are made to be used by other people, and they are general-purpose. Imagine buying a hammer, and the person at Home Depot telling you that you can only use it on one brand of nail. That would be silly. Hammers can be used on all types of nails. \n",
    "\n",
    "Likewise, `add_these` takes 2 numbers and adds them together, and this should work for *all* numbers. When I define the function, I don't know what particular numbers someone will use in the future, so I put placeholders `x` and `y` to represent them. As long as both arguments are numbers, then I don't care if someone typed in an actual number, or put a variable that represents a certain number. \n",
    "\n",
    "So when I define a function, I can call the variables anything I want. \n"
   ]
  },
  {
   "cell_type": "code",
   "execution_count": 3,
   "metadata": {
    "collapsed": true
   },
   "outputs": [],
   "source": [
    "def add_these(apple,banana):\n",
    "    result = apple+banana\n",
    "    return(result)"
   ]
  },
  {
   "cell_type": "code",
   "execution_count": 4,
   "metadata": {},
   "outputs": [
    {
     "name": "stdout",
     "output_type": "stream",
     "text": [
      "9\n",
      "12\n"
     ]
    }
   ],
   "source": [
    "print add_these(4,5)\n",
    "\n",
    "q = 5\n",
    "r = 7\n",
    "print add_these(q,r)"
   ]
  },
  {
   "cell_type": "markdown",
   "metadata": {},
   "source": [
    "The only time Python gets unhappy is if the *type* of data is not what's expected. Remember, we can't just add together strings and numbers. So, the function call below will produce an error: "
   ]
  },
  {
   "cell_type": "code",
   "execution_count": null,
   "metadata": {},
   "outputs": [],
   "source": [
    "add_these(5, 'potato')"
   ]
  },
  {
   "cell_type": "markdown",
   "metadata": {},
   "source": [
    "Think about how the function is written. When you call it, the placeholder `x` is set to the value of `5` and the placeholder `y` is set to the value of `potato`. Then it tries to do `5+'potato'`, and that doesn't work. \n",
    "\n",
    "Also, look at the error message. Notice that you can see our function definition, and there is an arrow ----> that points to one of the lines. This is the part where Python got unhappy. All error messages in Python attempt to do this. The difficulty is, you usually don't know how someone created their function, so it's not always obvious what went wrong. In those cases you can try using the 'inspect' module:\n",
    "\n"
   ]
  },
  {
   "cell_type": "code",
   "execution_count": 4,
   "metadata": {},
   "outputs": [
    {
     "name": "stdout",
     "output_type": "stream",
     "text": [
      "([u'def mysterious_function():\\n',\n",
      "  u\"    # heh heh they'll never know I'm not stealin their bank account info it just makes me feel big to say that\\n\",\n",
      "  u\"    print('Im a stealin yer bank account information!!')\\n\"],\n",
      " 4)\n"
     ]
    }
   ],
   "source": [
    "import inspect\n",
    "from pprint import pprint # \"prettyprint\" automatically indents for us\n",
    "\n",
    "def mysterious_function():\n",
    "    # heh heh they'll never know I'm not stealin their bank account info it just makes me feel big to say that\n",
    "    print('Im a stealin yer bank account information!!')\n",
    "\n",
    "source = inspect.getsourcelines(mysterious_function)\n",
    "pprint(source)"
   ]
  },
  {
   "cell_type": "markdown",
   "metadata": {},
   "source": [
    "### Functions make code cleaner and reusable. \n",
    "\n",
    "Let's take an example from last homework. We want to calculate the hypotenuse of a right triangle, given the length of 2 of its sides. Let's say we have 2 different triangles with different lengths. Here is how we could do it without functions. \n",
    "\n"
   ]
  },
  {
   "cell_type": "code",
   "execution_count": null,
   "metadata": {},
   "outputs": [],
   "source": [
    "from math import sqrt\n",
    "\n",
    "#triangle1\n",
    "side1a = 3\n",
    "side1b = 4\n",
    "\n",
    "temp1 = side1a**2 + side1b**2\n",
    "hyp1 = sqrt(temp1)\n",
    "\n",
    "\n",
    "#triangle 2\n",
    "side2a = 1\n",
    "side2b = sqrt(3)\n",
    "\n",
    "temp2 = side2a**2 + side2b**2\n",
    "hyp2 = sqrt(temp2)\n",
    "\n",
    "\n",
    "\n",
    "\n",
    "print hyp1,hyp2\n"
   ]
  },
  {
   "cell_type": "markdown",
   "metadata": {},
   "source": [
    "Admittedly, this isn't so bad. We had to duplicate the code twice, but it's only 2 lines of code each. Well, what if you have 1000 triangles? Or, what if the computation requires 500 lines of code? Do you want to repeat that for multiple items? Notice that the *computation* never changes. All that changes are the values that you're operating on. Let's do the same thing with functions: "
   ]
  },
  {
   "cell_type": "code",
   "execution_count": null,
   "metadata": {},
   "outputs": [],
   "source": [
    "\n",
    "def calc_hyp(a,b):\n",
    "    temp = a**2 + b**2\n",
    "    hyp = sqrt(temp)\n",
    "    return(hyp)\n",
    "\n",
    "hyp1_new = calc_hyp(side1a,side1b)\n",
    "hyp2_new = calc_hyp(side2a,side2b)\n",
    "\n",
    "print hyp1, hyp2"
   ]
  },
  {
   "cell_type": "markdown",
   "metadata": {},
   "source": [
    "This also makes it efficient for looping over a range of numbers. In the example below, we represent each triangle as a tuple `(a,b)`, and a bunch of those tuples are grouped into a list. "
   ]
  },
  {
   "cell_type": "code",
   "execution_count": null,
   "metadata": {},
   "outputs": [],
   "source": [
    "\n",
    "all_triangles = [(1,3), (2,4), (5,7), (6,3)]\n",
    "\n",
    "for (sidea,sideb) in all_triangles:\n",
    "    print calc_hyp(sidea,sideb)\n",
    "\n"
   ]
  },
  {
   "cell_type": "markdown",
   "metadata": {},
   "source": [
    "\n"
   ]
  },
  {
   "cell_type": "markdown",
   "metadata": {},
   "source": [
    "### Nesting Function Calls\n",
    "\n",
    "Notice in the example above we created a `temp` variable for an intermediate step. I typed this for clarity, but we don't have to do it. We can \"nest\" functions to perform multiple operations in one line. So we could have said: \n",
    "\n",
    "```python \n",
    "hyp = sqrt(a**2 + b**2)\n",
    "```\n",
    "\n",
    "Similarly, we can do this with function calls. Let's say we want to take the absolute value of a number, then take the `sin` of it. "
   ]
  },
  {
   "cell_type": "code",
   "execution_count": null,
   "metadata": {},
   "outputs": [],
   "source": [
    "from math import sin\n",
    "\n",
    "mynum = -6\n",
    "\n",
    "temp = abs(mynum)\n",
    "\n",
    "answer = sin(temp)\n",
    "\n",
    "print answer\n",
    "\n"
   ]
  },
  {
   "cell_type": "markdown",
   "metadata": {},
   "source": [
    "Equivalently, we could have done this: "
   ]
  },
  {
   "cell_type": "code",
   "execution_count": null,
   "metadata": {},
   "outputs": [],
   "source": [
    "answer = sin(abs(mynum))\n",
    "print answer"
   ]
  },
  {
   "cell_type": "markdown",
   "metadata": {},
   "source": [
    "Sometimes this is difficult to follow. They key thing is to work from the inside out. You start with `mynum`, which is -6, you take `abs` of that, which is 6, and then you take the `sin` of that. \n",
    "\n",
    "This is stylistic more than anything. It saves you lines of code, but is not 100% necessary. You can nest functions as much as you want, but at a certain point they are not very readable: "
   ]
  },
  {
   "cell_type": "markdown",
   "metadata": {},
   "source": [
    "> It is valuable to do this in many cases (where code clarity can be maintained), especially in frequently-called functions. Allocating memory for every declaration takes time, as does the garbage collecting that has to happen afterwards. It's worth teaching the kiddos good coding practices early on."
   ]
  },
  {
   "cell_type": "code",
   "execution_count": null,
   "metadata": {},
   "outputs": [],
   "source": [
    "answer =  str(int(sin(abs(mynum))))\n",
    "print answer"
   ]
  },
  {
   "cell_type": "markdown",
   "metadata": {},
   "source": [
    "Take the cell above and re-write it with multiple lines of code, where you save a variable `temp1`, `temp2` and so on at each step. Do you understand why the answer is 0 now? What is the data type? "
   ]
  },
  {
   "cell_type": "code",
   "execution_count": null,
   "metadata": {
    "collapsed": true
   },
   "outputs": [],
   "source": []
  },
  {
   "cell_type": "markdown",
   "metadata": {},
   "source": [
    "### *args and **kwargs\n",
    "Not gonna write this now, but what if we can't be sure a) what we'll have to send to a function, or b) what will be sent to our function? More simply, what if we have a function that needs 50 arguments and we don't want to pass them all explicitly? Also, what if we want to set defaults for our functions so we don't have to pass every argument every time?"
   ]
  }
 ],
 "metadata": {
  "kernelspec": {
   "display_name": "Python 2",
   "language": "python",
   "name": "python2"
  },
  "language_info": {
   "codemirror_mode": {
    "name": "ipython",
    "version": 2
   },
   "file_extension": ".py",
   "mimetype": "text/x-python",
   "name": "python",
   "nbconvert_exporter": "python",
   "pygments_lexer": "ipython2",
   "version": "2.7.13"
  }
 },
 "nbformat": 4,
 "nbformat_minor": 1
}
