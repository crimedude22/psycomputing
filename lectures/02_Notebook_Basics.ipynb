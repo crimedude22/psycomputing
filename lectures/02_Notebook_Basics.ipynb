{
 "cells": [
  {
   "cell_type": "markdown",
   "metadata": {},
   "source": [
    "# Jupyter Notebook/IPython Basics\n",
    "\n",
    "You will be making your scripts using the Jupyter Notebook (http://jupyter.org/). It was recently renamed from \"IPython notebook\" so you will see that name floating around the internet. \n",
    "\n",
    "### What is the Jupyter Notebook?\n",
    "\n",
    "Well, you can interact with Python in many different ways. The \"stock\" Python interpreter is pretty limited, and makes it very difficult for using interactively. Luckily someone created IPython (<http://ipython.readthedocs.org/en/stable/overview.html>) to make it easy to use Python interactively. This interactive version can also be used in different ways (e.g., from the command line). \n",
    "\n",
    "The Jupyter Notebook sits on top of IPython, and allows you to type commands and see output directly below code \"cells\". You can make as many cells as you want. You can also interleave formatted text with your code. It is an excellent way to do data analysis and keep your work organized. "
   ]
  },
  {
   "cell_type": "markdown",
   "metadata": {
    "collapsed": true
   },
   "source": [
    "### Running Code\n",
    "\n",
    "Below is a cell for running code. Type `print \"Hello Word\"` into that cell, then click the \"run\" button above (the one next to the square that looks like >|)"
   ]
  },
  {
   "cell_type": "code",
   "execution_count": null,
   "metadata": {
    "collapsed": false,
    "scrolled": true
   },
   "outputs": [],
   "source": [
    "\n"
   ]
  },
  {
   "cell_type": "markdown",
   "metadata": {},
   "source": [
    "Notice the output prints directly below it. The `In [XX]` prompt tells you the order that the cells were run, and the `Out [XX]` shows the corresponding output.\n",
    "\n",
    "The preferred way of running the code is to use keyboard shortcuts. Click on the cell again, and press **Shift+Enter**. This will do the same thing as clicking the button. It runs the code, then moves to the next cell. If you want to run the code, but *not* move to the next cell, then press **Ctrl+Enter**. These shortcuts are the same on Windows and Mac. \n",
    "\n",
    "### Adding and Removing Cells\n",
    "\n",
    "To add new cells, just click Insert -> Cell Above (or Cell Below) in the menu above. You can add as many cells as you want. To remove a cell, simply click on it and select Edit -> Delete Cells. \n",
    "\n",
    "### Moving Cells\n",
    "\n",
    "To rearrange your cells, simply highlight the one you want to move, and click the up or down-pointing arrow in the menu. \n",
    "\n",
    "### Duplicating, Merging, and Splitting Cells\n",
    "\n",
    "Cells can also be copied/cut and pasted to different parts of your notebook. Just click Edit-> Copy then Edit -> Paste. You can also split up cells or merge multiple cells in the Edit menu.\n",
    "\n",
    "### Clearing Output\n",
    "You can also clear the output for the current cell or all cells in the document. Just click Cell -> Current Outputs -> Clear or Cell -> All Output -> Clear.  "
   ]
  },
  {
   "cell_type": "code",
   "execution_count": null,
   "metadata": {
    "collapsed": true
   },
   "outputs": [],
   "source": []
  },
  {
   "cell_type": "markdown",
   "metadata": {},
   "source": [
    "### Getting Help\n",
    "\n",
    "You can see the help for performing a certain function using the `?` at the end of the command. This will open a panel with an extensive outline of the function. You can also use the python built-in `help` function to print a small description in the output. "
   ]
  },
  {
   "cell_type": "code",
   "execution_count": null,
   "metadata": {
    "collapsed": false
   },
   "outputs": [],
   "source": [
    "range?\n"
   ]
  },
  {
   "cell_type": "code",
   "execution_count": null,
   "metadata": {
    "collapsed": false
   },
   "outputs": [],
   "source": [
    "help(range)"
   ]
  },
  {
   "cell_type": "markdown",
   "metadata": {
    "collapsed": true
   },
   "source": [
    "Jupyter notebook also has a host of `magic` functions. These do fancy things, and help with automating tasks that are normally pretty tedious with \"stock\" python. Magic functions start with the `%` character. One useful magic command is `%quickref` which gives a quick start guide for IPython"
   ]
  },
  {
   "cell_type": "code",
   "execution_count": null,
   "metadata": {
    "collapsed": true
   },
   "outputs": [],
   "source": [
    "%quickref"
   ]
  },
  {
   "cell_type": "code",
   "execution_count": null,
   "metadata": {
    "collapsed": true
   },
   "outputs": [],
   "source": [
    "#to see all magic commands:\n",
    "%magic"
   ]
  },
  {
   "cell_type": "markdown",
   "metadata": {},
   "source": [
    "Most of the magic commands are too advanced for our purposes. One exception is `%cd`, which is for \"change directory\". This will move the working directory to a certain folder on the computer. Another is `%pwd` which tells you what the present working directory is. "
   ]
  },
  {
   "cell_type": "code",
   "execution_count": null,
   "metadata": {
    "collapsed": false
   },
   "outputs": [],
   "source": [
    "%cd 'R:\\Class_Data'"
   ]
  },
  {
   "cell_type": "code",
   "execution_count": null,
   "metadata": {
    "collapsed": false
   },
   "outputs": [],
   "source": [
    "#use %pwd to see your present working directory\n",
    "\n",
    "%pwd"
   ]
  },
  {
   "cell_type": "markdown",
   "metadata": {},
   "source": [
    "### Interrupting and Restarting the Python kernel\n",
    "\n",
    "<img src=\"https://upload.wikimedia.org/wikipedia/en/thumb/b/bf/KFC_logo.svg/1024px-KFC_logo.svg.png\" width='150px',align='left'></img>Sometimes your code goes awry. You can end up with very long or infinite loops, and you need to interrupt the processing. You can do this through the Kernel-> Interrupt menu or clicking the stop (square) button. Kernel -> Restart resets everything, which can be useful. Each time you open a new Jupyter Notebook, it creates a new python \"kernel\", which is basically a copy of the interpreter. The terminology is weird, it's from mathematics and computer science. Think \"corn kernel\", not that *other* kind of colonel. "
   ]
  },
  {
   "cell_type": "markdown",
   "metadata": {},
   "source": [
    "### Saving Your work\n",
    "\n",
    "First, you can rename your notebook by just clicking the name at the top. Your notebook is a file that ends in .ipynb (for IPython Notebook) in some folder on your computer. It is automatically saved periodically, so you don't have to worry about losing too much work if your computer shuts down. To manually save, just click File->Save, or press Ctrl+s (Cmd+s for Mac).\n",
    "\n",
    "To download an additional copy of the notebook, you can click on File-> Download As -> IPython Notebook. You can also download it as a regular python file (.py), or as non-python files, like HTML. The HTML file will just show you the inputs and outputs, but you can't use to it actually execute code. The .py file will allow you to run the script from outside of Jupyter Notebook, like the command line.\n",
    "\n",
    "The Home page (in the other browser tab) allows you to start, stop, and delete individual notebooks, as well as move between different folders. \n",
    "\n",
    "To create a new notebook, you click \"New\" at the upper-right of the homepage and select \"Python 2\". "
   ]
  },
  {
   "cell_type": "code",
   "execution_count": null,
   "metadata": {
    "collapsed": true
   },
   "outputs": [],
   "source": []
  },
  {
   "cell_type": "code",
   "execution_count": null,
   "metadata": {
    "collapsed": true
   },
   "outputs": [],
   "source": []
  }
 ],
 "metadata": {
  "kernelspec": {
   "display_name": "Python 2",
   "language": "python",
   "name": "python2"
  },
  "language_info": {
   "codemirror_mode": {
    "name": "ipython",
    "version": 2
   },
   "file_extension": ".py",
   "mimetype": "text/x-python",
   "name": "python",
   "nbconvert_exporter": "python",
   "pygments_lexer": "ipython2",
   "version": "2.7.11"
  }
 },
 "nbformat": 4,
 "nbformat_minor": 0
}
