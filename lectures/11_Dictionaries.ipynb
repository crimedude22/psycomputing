{
 "cells": [
  {
   "cell_type": "markdown",
   "metadata": {},
   "source": [
    "## Dictionaries (`dict`)\n",
    "\n",
    "A `dict` is like a list where you can refer to elements by name, instead of position. They can be extremely useful for organizing information. In many ways, dictionaries are the most powerful datatype in Python.\n",
    "\n",
    "Let's say you want to make a simple list of contacts. You have a name, email, and phone number for each person. You can accomplish this with lists: "
   ]
  },
  {
   "cell_type": "code",
   "execution_count": 2,
   "metadata": {
    "collapsed": true
   },
   "outputs": [],
   "source": [
    "contacts = [] #empty list\n",
    "\n",
    "#each contact is a list with 3 elements: name, email, and phone number\n",
    "contacts.append(['Jason Hubbard', 'hubbard3@uoregon.edu','541-123-4567'])\n",
    "contacts.append(['Homer Simpson', 'homer@simpsons.net', '555-555-7421'])\n",
    "\n"
   ]
  },
  {
   "cell_type": "code",
   "execution_count": 3,
   "metadata": {
    "collapsed": false
   },
   "outputs": [
    {
     "name": "stdout",
     "output_type": "stream",
     "text": [
      "[['Jason Hubbard', 'hubbard3@uoregon.edu', '541-123-4567'], ['Homer Simpson', 'homer@simpsons.net', '555-555-7421']]\n",
      "['Jason Hubbard', 'hubbard3@uoregon.edu', '541-123-4567']\n"
     ]
    }
   ],
   "source": [
    "print contacts\n",
    "\n",
    "print contacts[0]"
   ]
  },
  {
   "cell_type": "markdown",
   "metadata": {},
   "source": [
    "What if I make a mistake when I'm entering a contact though? Here I swapped the order of the phone number and email. If I'm looping through all my contacts, then I will pull out the incorrect information if I'm trying to get JGL's email. "
   ]
  },
  {
   "cell_type": "code",
   "execution_count": 4,
   "metadata": {
    "collapsed": true
   },
   "outputs": [],
   "source": [
    "contacts.append(['Joseph Gordon-Levitt', '555-555-1111', 'jgl@holywood.net'])"
   ]
  },
  {
   "cell_type": "code",
   "execution_count": 5,
   "metadata": {
    "collapsed": false
   },
   "outputs": [
    {
     "name": "stdout",
     "output_type": "stream",
     "text": [
      "Name: Jason Hubbard\n",
      "Email: hubbard3@uoregon.edu\n",
      "Phone: 541-123-4567\n",
      "\n",
      "Name: Homer Simpson\n",
      "Email: homer@simpsons.net\n",
      "Phone: 555-555-7421\n",
      "\n",
      "Name: Joseph Gordon-Levitt\n",
      "Email: 555-555-1111\n",
      "Phone: jgl@holywood.net\n",
      "\n"
     ]
    }
   ],
   "source": [
    "\n",
    "for person in contacts:\n",
    "    print \"Name: \" + person[0]\n",
    "    print \"Email: \" + person[1]\n",
    "    print \"Phone: \" + person[2]\n",
    "    print \"\""
   ]
  },
  {
   "cell_type": "markdown",
   "metadata": {},
   "source": [
    "a `dict` allows us to have named fields, so the order doesn't matter. Now we can make our contacts and not worry about the order to phone and email. We create a `dict` with curly brackets `{}` and inside of them we give a field name, a colon `:`, and the value. I put them on separate lines below to make it more readable, but we don't have to. "
   ]
  },
  {
   "cell_type": "code",
   "execution_count": 6,
   "metadata": {
    "collapsed": false
   },
   "outputs": [],
   "source": [
    "\n",
    "person = {'Name' : 'John Q. Taxpayer', \n",
    "         'Phone' : '541-555-1234',\n",
    "         'Email' : 'johnq@yahoo.com'}\n",
    "\n",
    "\n"
   ]
  },
  {
   "cell_type": "markdown",
   "metadata": {},
   "source": [
    "An alternative way is to use the `dict` function like this: \n",
    "\n",
    "```python\n",
    "\n",
    "person = dict(Name='John Q. Taxpayer', Phone='541-555-1234', Email='johnq@yahoo.com')\n",
    "```\n",
    "Notice that we don't have quotes around the key names in this case.  \n",
    "\n",
    "We access the fields of the `dict` with square brakets (like we're indexing a list), except we put the field name inside the brackets"
   ]
  },
  {
   "cell_type": "code",
   "execution_count": 7,
   "metadata": {
    "collapsed": false
   },
   "outputs": [
    {
     "name": "stdout",
     "output_type": "stream",
     "text": [
      "John Q. Taxpayer\n",
      "541-555-1234\n",
      "johnq@yahoo.com\n"
     ]
    }
   ],
   "source": [
    "print person['Name']\n",
    "print person['Phone']\n",
    "print person['Email']"
   ]
  },
  {
   "cell_type": "markdown",
   "metadata": {},
   "source": [
    "Importantly, we can specify the fields in a different order, and as long as the field names match, that's totally fine. \n",
    "\n",
    "\n"
   ]
  },
  {
   "cell_type": "code",
   "execution_count": 8,
   "metadata": {
    "collapsed": false
   },
   "outputs": [
    {
     "name": "stdout",
     "output_type": "stream",
     "text": [
      "Barack Obama\n",
      "555-123-4567\n",
      "president@whitehouse.gov\n"
     ]
    }
   ],
   "source": [
    "person2 = {'Name' : 'Barack Obama', \n",
    "        'Email' : 'president@whitehouse.gov',\n",
    "        'Phone' : '555-123-4567'} #notice that the order of 'Email' and 'Phone' is switched\n",
    "\n",
    "#but it prints out just fine!\n",
    "print person2['Name']\n",
    "print person2['Phone']\n",
    "print person2['Email']"
   ]
  },
  {
   "cell_type": "markdown",
   "metadata": {},
   "source": [
    "We can hold all of our contacts in a `list` so we can loop through them"
   ]
  },
  {
   "cell_type": "code",
   "execution_count": 12,
   "metadata": {
    "collapsed": false
   },
   "outputs": [
    {
     "name": "stdout",
     "output_type": "stream",
     "text": [
      "<type 'dict'>\n",
      "John Q. Taxpayer johnq@yahoo.com\n",
      "<type 'dict'>\n",
      "Barack Obama president@whitehouse.gov\n"
     ]
    }
   ],
   "source": [
    "contactsd = [person,person2] #a list\n",
    "\n",
    "for contact in contactsd:\n",
    "    print type(contact) # a dictionary\n",
    "    print contact['Name'], contact['Email']"
   ]
  },
  {
   "cell_type": "markdown",
   "metadata": {},
   "source": [
    "The loop is nice, but what if we wanted to just grab the name of the 2nd contact from `contactsd`? We can do it a couple different ways. We could first pull out the contact we want (which will be a `dict`), save that as a temporary variable, and get the name from that:"
   ]
  },
  {
   "cell_type": "code",
   "execution_count": 13,
   "metadata": {
    "collapsed": false
   },
   "outputs": [
    {
     "name": "stdout",
     "output_type": "stream",
     "text": [
      "Barack Obama\n"
     ]
    }
   ],
   "source": [
    "\n",
    "temp = contactsd[1]\n",
    "\n",
    "print temp['Name']\n",
    "\n"
   ]
  },
  {
   "cell_type": "markdown",
   "metadata": {},
   "source": [
    "The cleaner way is to chain together the indexing. Remember how we chained together the string methods (`mystring.strip().split(' ').upper()`)? We can do the same thing with indexing. \n",
    "\n",
    "If we index `contactsd[1]`, that gives us a dictionary. We then want to get the field 'Name' from that dictionary, so we do it like so: "
   ]
  },
  {
   "cell_type": "code",
   "execution_count": 14,
   "metadata": {
    "collapsed": false
   },
   "outputs": [
    {
     "name": "stdout",
     "output_type": "stream",
     "text": [
      "Barack Obama\n"
     ]
    }
   ],
   "source": [
    "#no more temporary variables needed!\n",
    "print contactsd[1]['Name']"
   ]
  },
  {
   "cell_type": "code",
   "execution_count": null,
   "metadata": {
    "collapsed": true
   },
   "outputs": [],
   "source": []
  },
  {
   "cell_type": "markdown",
   "metadata": {},
   "source": [
    "### Methods\n",
    "\n",
    "There are a number of methods for interacting with a dictionary. First, we can access just the field names (called \"keys\") or just the values. The result is a `list`.  "
   ]
  },
  {
   "cell_type": "code",
   "execution_count": null,
   "metadata": {
    "collapsed": false
   },
   "outputs": [],
   "source": [
    "print person2.keys()\n",
    "print person2.values()\n",
    "print type(person2.keys())"
   ]
  },
  {
   "cell_type": "markdown",
   "metadata": {},
   "source": [
    "We can loop through keys and values from the a `dict` using the `items` method. At each loop, it produces a `tuple` that has a key and the matching value. "
   ]
  },
  {
   "cell_type": "code",
   "execution_count": null,
   "metadata": {
    "collapsed": false
   },
   "outputs": [],
   "source": [
    "for (key, value) in person2.items():\n",
    "    print key + \" is \" + value"
   ]
  },
  {
   "cell_type": "markdown",
   "metadata": {},
   "source": [
    "We can add more information to a `dict` in a couple different ways. First we can just add a new key in the same way that we reference it"
   ]
  },
  {
   "cell_type": "code",
   "execution_count": 16,
   "metadata": {
    "collapsed": false
   },
   "outputs": [
    {
     "name": "stdout",
     "output_type": "stream",
     "text": [
      "{'Name': 'Barack Obama', 'Sign': 'Leo', 'Phone': '555-123-4567', 'Birthday': '8/4/61', 'Email': 'president@whitehouse.gov', 'Occupation': 'POTUS'}\n"
     ]
    }
   ],
   "source": [
    "#new \"Occupation\" key\n",
    "person2['Occupation'] = 'POTUS'\n",
    "\n",
    "print person2"
   ]
  },
  {
   "cell_type": "markdown",
   "metadata": {},
   "source": [
    "Alternatively, we can add infromation from a second `dict` by using `update`"
   ]
  },
  {
   "cell_type": "code",
   "execution_count": 15,
   "metadata": {
    "collapsed": false
   },
   "outputs": [
    {
     "name": "stdout",
     "output_type": "stream",
     "text": [
      "{'Phone': '555-123-4567', 'Birthday': '8/4/61', 'Name': 'Barack Obama', 'Sign': 'Leo', 'Email': 'president@whitehouse.gov'}\n"
     ]
    }
   ],
   "source": [
    "bday = {'Birthday': '8/4/61', 'Sign' : 'Leo'}\n",
    "\n",
    "person2.update(bday)\n",
    "\n",
    "print person2"
   ]
  },
  {
   "cell_type": "markdown",
   "metadata": {
    "collapsed": false
   },
   "source": [
    "If we try to get a key that doesn't exist in the dictionary, Python gets sad. Remember, we never added 'Occupation' to `person`: "
   ]
  },
  {
   "cell_type": "code",
   "execution_count": 17,
   "metadata": {
    "collapsed": false
   },
   "outputs": [
    {
     "ename": "KeyError",
     "evalue": "'Occupation'",
     "output_type": "error",
     "traceback": [
      "\u001b[0;31m---------------------------------------------------------------------------\u001b[0m",
      "\u001b[0;31mKeyError\u001b[0m                                  Traceback (most recent call last)",
      "\u001b[0;32m<ipython-input-17-3604f3d454ef>\u001b[0m in \u001b[0;36m<module>\u001b[0;34m()\u001b[0m\n\u001b[0;32m----> 1\u001b[0;31m \u001b[0mperson\u001b[0m\u001b[0;34m[\u001b[0m\u001b[0;34m'Occupation'\u001b[0m\u001b[0;34m]\u001b[0m\u001b[0;34m\u001b[0m\u001b[0m\n\u001b[0m",
      "\u001b[0;31mKeyError\u001b[0m: 'Occupation'"
     ]
    }
   ],
   "source": [
    "person['Occupation'] #wah wah"
   ]
  },
  {
   "cell_type": "markdown",
   "metadata": {},
   "source": [
    "We can check if a key exists in a dictionary by using `in`. This will produce either `True` or `False`, so it will work nicely with an `if` statment. Note: `in` will also work for lists!"
   ]
  },
  {
   "cell_type": "code",
   "execution_count": 21,
   "metadata": {
    "collapsed": false
   },
   "outputs": [
    {
     "name": "stdout",
     "output_type": "stream",
     "text": [
      "False\n",
      "True\n",
      "True\n"
     ]
    }
   ],
   "source": [
    "\n",
    "print 'Occupation' in person\n",
    "print 'Occupation' in person2\n",
    "\n",
    "#a list example\n",
    "print 3 in [1,2,3]\n"
   ]
  },
  {
   "cell_type": "markdown",
   "metadata": {},
   "source": [
    "Sometimes it's easy to produce a list of key names, and a corresponding list of values. It would be very tedious to manually type in {'key1': value1, 'key2' : value2} and so on. We can create dictionaries starting with a couple of lists. First, we use the `zip` function to combine them: "
   ]
  },
  {
   "cell_type": "code",
   "execution_count": null,
   "metadata": {
    "collapsed": false
   },
   "outputs": [],
   "source": [
    "\n",
    "keys = ['Name','Occupation','Sign']\n",
    "values = ['Jason','Professional Nerd','Leo']\n",
    "\n",
    "combined = zip(keys,values)\n",
    "\n",
    "print combined\n",
    "print combined[0]\n",
    "print type(combined[0])\n"
   ]
  },
  {
   "cell_type": "markdown",
   "metadata": {},
   "source": [
    "Notice that `zip` creates a list, where each element is a `tuple`. Each `tuple` is a combination of the nth element of keys and values. If we use the `dict` function instead of the curly brackets `{}`, we can give it a list of tuples, and it will understand that each one is of the form: (key, value)"
   ]
  },
  {
   "cell_type": "code",
   "execution_count": null,
   "metadata": {
    "collapsed": false
   },
   "outputs": [],
   "source": [
    "dict( [('key1','value1'), ('key2','value2') ] )"
   ]
  },
  {
   "cell_type": "code",
   "execution_count": null,
   "metadata": {
    "collapsed": false
   },
   "outputs": [],
   "source": [
    "combined_dict = dict(combined)\n",
    "\n",
    "print combined_dict\n",
    "\n",
    "print combined_dict['Name']"
   ]
  },
  {
   "cell_type": "markdown",
   "metadata": {},
   "source": [
    "Another intuitive way to create a dictionary is using a `for` loop. Starting with the `keys` and `values` variables below, write a `for` loop that makes `dict1`, and just make every value equal to 1\n"
   ]
  },
  {
   "cell_type": "code",
   "execution_count": 23,
   "metadata": {
    "collapsed": false
   },
   "outputs": [
    {
     "name": "stdout",
     "output_type": "stream",
     "text": [
      "{'Name': 1, 'gender': 1, 'age': 1, 'handedness': 1, 'birthdate': 1, 'sign': 1, 'hair color': 1}\n"
     ]
    }
   ],
   "source": [
    "keys = ['Name', 'age', 'gender','birthdate','sign','handedness','hair color']\n",
    "\n",
    "dict1 = {}\n",
    "\n",
    "#for loop goes here\n",
    "\n",
    "print dict1"
   ]
  },
  {
   "cell_type": "markdown",
   "metadata": {},
   "source": [
    "Good! Now see if you can use `values` to fill in the appropriate values for each key. Do this with a `for` loop again. "
   ]
  },
  {
   "cell_type": "code",
   "execution_count": null,
   "metadata": {
    "collapsed": true
   },
   "outputs": [],
   "source": [
    "keys = ['Name', 'age', 'gender','birthdate','sign','handedness','hair color']\n",
    "values = ['Bob','45','Male','1/1/1971','ares','lefty','brown']\n",
    "dict2 = {}\n",
    "\n",
    "\n",
    "print dict2"
   ]
  },
  {
   "cell_type": "markdown",
   "metadata": {},
   "source": [
    "Great Job! Now see if you can do it using the method using `zip`, but with just 1 line of code"
   ]
  },
  {
   "cell_type": "code",
   "execution_count": null,
   "metadata": {
    "collapsed": false
   },
   "outputs": [],
   "source": []
  }
 ],
 "metadata": {
  "kernelspec": {
   "display_name": "Python 2",
   "language": "python",
   "name": "python2"
  },
  "language_info": {
   "codemirror_mode": {
    "name": "ipython",
    "version": 2
   },
   "file_extension": ".py",
   "mimetype": "text/x-python",
   "name": "python",
   "nbconvert_exporter": "python",
   "pygments_lexer": "ipython2",
   "version": "2.7.11"
  }
 },
 "nbformat": 4,
 "nbformat_minor": 0
}
