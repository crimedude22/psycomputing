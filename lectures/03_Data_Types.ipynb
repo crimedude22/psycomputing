{
 "cells": [
  {
   "cell_type": "markdown",
   "metadata": {},
   "source": [
    "# Data Types\n",
    "\n",
    "All programming languages have basic *types* of variables that you can create. These different types are good for different purposes. Often you have to pay attention to these types, because only certain data types can interact with each other. \n",
    "\n",
    "You can always check the data type of some constant or variable using the `type` function. Like the `print` function, it's a nice way to peer inside and see how Python is assigning variables. "
   ]
  },
  {
   "cell_type": "markdown",
   "metadata": {},
   "source": [
    "> w.r.t. my previous comment - definitely would be a good idea to start this section by talking about the basic type hierarchy in python (link again: https://docs.python.org/2/reference/datamodel.html). Python has a very specific notion of type/class - again, everything being an object. This unifies the explanation (as it unifies python) of later concepts like functions as being objects with a __call__ method. This is a very quick way for folks to get deep into python without becoming confusing, as they always have a rock to come back to - 'everything is an object, what I am doing is calling one of its methods.'"
   ]
  },
  {
   "cell_type": "markdown",
   "metadata": {},
   "source": [
    "## Numeric Types - Int and Float \n",
    "\n",
    "Obviously, numeric types (`int` and `float`) are good for doing math. It seems funny, but Python treats integers and decimals (called \"floating point\" numbers) as different types of information. This has to do with the way your computer allocates memory. Integers take up a lot less space than floats. This can matter in situations where you have thousands or millions of numbers. "
   ]
  },
  {
   "cell_type": "code",
   "execution_count": null,
   "metadata": {},
   "outputs": [],
   "source": [
    "#if you specify a number with no decimal points, python treats it as an integer\n",
    "print type(5)\n",
    "\n",
    "#adding a decimal makes it a float. Floats are precise up to 15 decimal places\n",
    "print type(5.0)\n",
    "print type(5.12345678901234)\n",
    "\n",
    "#you can save a bit of typing by just adding a \".\" to a number to force it to be a float:\n",
    "print type(5.)\n",
    "\n"
   ]
  },
  {
   "cell_type": "code",
   "execution_count": null,
   "metadata": {},
   "outputs": [],
   "source": [
    "x = 5 #int\n",
    "y = 10. #float\n",
    "\n",
    "#notice that doing math with an integer and a float returns a result that's a float\n",
    "print type(x+y)\n",
    "print type(x*y)\n"
   ]
  },
  {
   "cell_type": "markdown",
   "metadata": {},
   "source": [
    "**Now it's your turn! Show that all the basic math commands with x and y will produce a `float` result.** "
   ]
  },
  {
   "cell_type": "code",
   "execution_count": null,
   "metadata": {
    "collapsed": true
   },
   "outputs": [],
   "source": [
    "#type here"
   ]
  },
  {
   "cell_type": "markdown",
   "metadata": {},
   "source": [
    "**Good! Now what happens when we have 2 integers?**  "
   ]
  },
  {
   "cell_type": "code",
   "execution_count": null,
   "metadata": {
    "collapsed": true
   },
   "outputs": [],
   "source": [
    "x = 6\n",
    "y = 7\n",
    "\n",
    "#what happens when we add, subtract, etc? \n"
   ]
  },
  {
   "cell_type": "markdown",
   "metadata": {},
   "source": [
    "## Strings\n",
    "\n",
    "Sometimes we don't want numbers, we want text. That's where strings (`str`) come in. The `str` data type is designed to hold any amount of text. By convention, we assign strings using single quotes. Everyting inside the quotes (including spaces) will be included"
   ]
  },
  {
   "cell_type": "code",
   "execution_count": null,
   "metadata": {},
   "outputs": [],
   "source": [
    "mystring = 'Howdy!'\n",
    "\n",
    "print mystring\n",
    "\n",
    "mystring = 'Howdy Partner!   How are you?'\n",
    "\n",
    "print mystring"
   ]
  },
  {
   "cell_type": "markdown",
   "metadata": {},
   "source": [
    "Sometimes you want your string to include quotation marks. Luckily you can use single or double quotes for this situation."
   ]
  },
  {
   "cell_type": "markdown",
   "metadata": {},
   "source": [
    "> Also, \\ can be used to escape any character that would be misinterpreted by Python. It's good practice to keep your code consistent (using '' or \"\") and be conscientious/explicit (as per the Zen of Python) when you are escaping something. "
   ]
  },
  {
   "cell_type": "code",
   "execution_count": null,
   "metadata": {},
   "outputs": [],
   "source": [
    "mystring = \"How's it going?\" #including a single quote (apostrophe)\n",
    "print mystring\n",
    "\n",
    "mystring = 'Then I says to Mabel, \"How are you?\"' #including double quotes\n",
    "print mystring"
   ]
  },
  {
   "cell_type": "markdown",
   "metadata": {},
   "source": [
    "Sometimes it's useful to combine (concatenate) strings. "
   ]
  },
  {
   "cell_type": "markdown",
   "metadata": {},
   "source": [
    "> Probably not relevant here, but this is discouraged in PEP 8 https://www.python.org/dev/peps/pep-0008/#programming-recommendations"
   ]
  },
  {
   "cell_type": "code",
   "execution_count": null,
   "metadata": {},
   "outputs": [],
   "source": [
    "string1 = 'Hello there.'\n",
    "string2 = ' How are you?' #note the space...\n",
    "\n",
    "print string1+string2\n",
    "\n",
    "#Python can replicate strings using *\n",
    "\n",
    "print string1*3 + string2\n"
   ]
  },
  {
   "cell_type": "markdown",
   "metadata": {},
   "source": [
    "> Why does * work this way? because string's __mul__ method has it repeat strings, etc. etc."
   ]
  },
  {
   "cell_type": "markdown",
   "metadata": {},
   "source": [
    "What if we want to combine text and numbers? We can't just add them together, we need an extra step"
   ]
  },
  {
   "cell_type": "code",
   "execution_count": null,
   "metadata": {},
   "outputs": [],
   "source": [
    "string1 = 'My age is: '\n",
    "age = 5\n",
    "\n",
    "print type(string1), type(age)\n",
    "\n",
    "print string1+ 5 #we can't combine numbers and strings in this way\n",
    "\n"
   ]
  },
  {
   "cell_type": "markdown",
   "metadata": {},
   "source": [
    "## Converting Data Types\n",
    "\n",
    "We can force Python to change numbers to strings (and vice versa) using the type conversion functions, `int`, `str` and `float`. "
   ]
  },
  {
   "cell_type": "code",
   "execution_count": null,
   "metadata": {},
   "outputs": [],
   "source": [
    "print type(age)\n",
    "print type( str(age) )\n",
    "\n",
    "print string1 + str(age) #success!"
   ]
  },
  {
   "cell_type": "code",
   "execution_count": null,
   "metadata": {},
   "outputs": [],
   "source": [
    "#it works the other way around too\n",
    "\n",
    "agestr = '5'\n",
    "print type(agestr)\n",
    "\n",
    "print agestr+3 #nope\n",
    "\n"
   ]
  },
  {
   "cell_type": "code",
   "execution_count": null,
   "metadata": {},
   "outputs": [],
   "source": [
    "print int(agestr) + 3\n",
    "print float(agestr) + 3"
   ]
  },
  {
   "cell_type": "markdown",
   "metadata": {},
   "source": [
    "## Inserting Variables within Strings\n",
    "\n",
    "Sometimes we want to insert variable information into the middle of a string. There are a couple of ways to do it. \n",
    "\n",
    "**First try it using the + method I used above. Given the variables below, how would you produce the sentence, \"Hello, my name is Bob and I am 10 years old\"?**"
   ]
  },
  {
   "cell_type": "code",
   "execution_count": null,
   "metadata": {
    "collapsed": true
   },
   "outputs": [],
   "source": [
    "name = 'Bob'\n",
    "age = 10\n",
    "\n",
    "#type your code here"
   ]
  },
  {
   "cell_type": "markdown",
   "metadata": {},
   "source": [
    "There are 2 other methods. One is using the % operator, which acts differently when used with strings. First, a demonstration: "
   ]
  },
  {
   "cell_type": "code",
   "execution_count": null,
   "metadata": {},
   "outputs": [],
   "source": [
    "name = 'Jerry'\n",
    "\n",
    "print 'Hello, my name is %s. How are you?' % name\n"
   ]
  },
  {
   "cell_type": "markdown",
   "metadata": {},
   "source": [
    "What's going on here? Well, we make our string with a placeholder, then at the end of it, we specify the information to put in that placeholder. The placeholder `%s` means that we are going to insert some string in that spot. It works with multiple arguments, if we put them in parentheses: "
   ]
  },
  {
   "cell_type": "code",
   "execution_count": null,
   "metadata": {},
   "outputs": [],
   "source": [
    "friend = 'Elaine'\n",
    "\n",
    "print 'Hello, my name is %s, and my friend is named %s' % (name,friend)"
   ]
  },
  {
   "cell_type": "markdown",
   "metadata": {},
   "source": [
    "If we want to fill in numeric information, we just need a different kind of placeholder. `%d` is for digits (integers) and `%f` is for decimal numbers"
   ]
  },
  {
   "cell_type": "code",
   "execution_count": null,
   "metadata": {},
   "outputs": [],
   "source": [
    "age = 5\n",
    "pi = 3.14159\n",
    "\n",
    "print 'Hello, I am %d years old! I just learned that pi is %f' % (age,pi)\n",
    "\n",
    "#notice that the order matters!\n",
    "print 'Hello, I am %d years old! I just learned that pi is %f' % (pi,age)\n",
    "\n"
   ]
  },
  {
   "cell_type": "markdown",
   "metadata": {},
   "source": [
    "The `%` operator is good for most cases, but Python has a new `format` function that does the same thing with more flexibility. <https://pyformat.info/>. We will not cover this method in the class, but I wanted to point it out in case you saw it on the internet. "
   ]
  },
  {
   "cell_type": "markdown",
   "metadata": {},
   "source": [
    "> This is definitely the preferred method of formatting strings, as the old sprintf-like interface is pretty profoundly limiting, not to mention arcane: https://www.python.org/dev/peps/pep-3101/"
   ]
  },
  {
   "cell_type": "code",
   "execution_count": null,
   "metadata": {},
   "outputs": [],
   "source": [
    "print 'Hello, my name is {} and I am {} years old'.format('Kramer', '12')\n"
   ]
  },
  {
   "cell_type": "markdown",
   "metadata": {},
   "source": [
    "When we cover \"control flow\", we will learn the importance of \"Boolean\" data types. This is just a fancy name for True vs. False. Python has special keywords for `True` and `False`:  "
   ]
  },
  {
   "cell_type": "code",
   "execution_count": 1,
   "metadata": {
    "scrolled": true
   },
   "outputs": [
    {
     "name": "stdout",
     "output_type": "stream",
     "text": [
      "<type 'bool'>\n",
      "<type 'str'>\n",
      "<type 'bool'>\n"
     ]
    }
   ],
   "source": [
    "print type( True ) #notice it's not in quotes. It has a specific meaning in python\n",
    "print type('TRUE') #this is a string that says TRUE, which is treated differently\n",
    "\n",
    "print type(False)"
   ]
  },
  {
   "cell_type": "markdown",
   "metadata": {},
   "source": [
    "## Lists, Tuples, and Dictionaries (oh my)\n",
    "\n",
    "Lastly, we have data types that are for holding multiple bits of information. This includes `list`, `tuple`, and `dict` (dictionary). These types need a whole lesson on their own. However, I'll show you the basics because they will appear in the homework before the proper List/Dictionary lecture. \n",
    "\n",
    "* Lists are enclosed with square brackets. `[]` is an empty list\n",
    "* Tuples are enclosed with parentheses `()`\n",
    "* Dictionaries are enclosed with curly brackets `{}`\n"
   ]
  },
  {
   "cell_type": "code",
   "execution_count": 11,
   "metadata": {},
   "outputs": [
    {
     "name": "stdout",
     "output_type": "stream",
     "text": [
      "<type 'list'>\n",
      "<type 'tuple'>\n",
      "<type 'dict'>\n"
     ]
    }
   ],
   "source": [
    "mylist = [5,6,7]   # lists are enclosed with []\n",
    "mytuple = (4,5,6)  # tuples are enclosed with ()\n",
    "mydict = {'name': 'Bob', \n",
    "          'age': 12,     \n",
    "          'Occupation': 'Racecar Driver'} #dicts have named \"fields\", and are enclosed with {}\n",
    "\n",
    "# Notice how python handles line-breaks in the middle of our dict() declaration\n",
    "# The emphasis on using formatting rather than characters as delimiters is \n",
    "# one of the defining features of python.\n",
    "\n",
    "print type(mylist)\n",
    "print type(mytuple)\n",
    "print type(mydict)\n",
    "\n"
   ]
  },
  {
   "cell_type": "markdown",
   "metadata": {},
   "source": [
    "Each data type has ways for pulling information out of them. This is called *indexing*. To index items out of a list, we use the square brackets and put the *position* of the item we want. In Python, the position starts at zero. So, if we want to grab the 3rd item out of `mylist`, we say `mylist[2]`. Notice that this returns the 3rd item in the list, `7`"
   ]
  },
  {
   "cell_type": "code",
   "execution_count": 5,
   "metadata": {},
   "outputs": [
    {
     "data": {
      "text/plain": [
       "7"
      ]
     },
     "execution_count": 5,
     "metadata": {},
     "output_type": "execute_result"
    }
   ],
   "source": [
    "mylist[2]"
   ]
  },
  {
   "cell_type": "markdown",
   "metadata": {
    "collapsed": true
   },
   "source": [
    "This works for tuples too"
   ]
  },
  {
   "cell_type": "code",
   "execution_count": null,
   "metadata": {
    "collapsed": true
   },
   "outputs": [],
   "source": [
    "mytuple[2]"
   ]
  },
  {
   "cell_type": "markdown",
   "metadata": {},
   "source": [
    "Dictionaries are different because you can refer to things by name instead of position. It makes them great for organizing information. We still use square brackets to index them, but instead of a number, we put the field name (called a \"key\"). "
   ]
  },
  {
   "cell_type": "code",
   "execution_count": 12,
   "metadata": {},
   "outputs": [
    {
     "name": "stdout",
     "output_type": "stream",
     "text": [
      "['age', 'name', 'Occupation']\n",
      "Bob\n",
      "12\n",
      "Racecar Driver\n"
     ]
    }
   ],
   "source": [
    "print mydict.keys() #print the name of all keys\n",
    "\n",
    "print mydict['name'] #here's how you access fields of a dictionary\n",
    "print mydict['age']\n",
    "print mydict['Occupation']"
   ]
  }
 ],
 "metadata": {
  "kernelspec": {
   "display_name": "Python 2",
   "language": "python",
   "name": "python2"
  },
  "language_info": {
   "codemirror_mode": {
    "name": "ipython",
    "version": 2
   },
   "file_extension": ".py",
   "mimetype": "text/x-python",
   "name": "python",
   "nbconvert_exporter": "python",
   "pygments_lexer": "ipython2",
   "version": "2.7.13"
  }
 },
 "nbformat": 4,
 "nbformat_minor": 1
}
