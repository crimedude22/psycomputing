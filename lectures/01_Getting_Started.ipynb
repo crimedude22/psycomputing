{
 "cells": [
  {
   "cell_type": "markdown",
   "metadata": {},
   "source": [
    "# Python Basics\n",
    "\n",
    "Let's look at some basic operations that python can do, without any outside help.\n",
    "Each cell contains some python code. To run that code, use the keyboard shortcut Ctrl+Enter (same for Mac and PC)"
   ]
  },
  {
   "cell_type": "markdown",
   "metadata": {},
   "source": [
    "Typing some numeric value with just give you the same value back:"
   ]
  },
  {
   "cell_type": "code",
   "execution_count": null,
   "metadata": {},
   "outputs": [],
   "source": [
    "5"
   ]
  },
  {
   "cell_type": "markdown",
   "metadata": {},
   "source": [
    "You are using the Jupyter notebook (also called the IPython notebook). It is one of many ways to send commands to python. It is based off the idea of having independent \"cells\" of code that you run one at a time. \n",
    "\n",
    "Note that each cell has `In[ ]:` next to it. The number inside the brackets tells you how many times you've run a block of code. It's helpful if you're running lots of cells out of order-- you can find the last one that you ran becaue it will have the highest number. \n",
    "\n",
    "The `Out[]:` is the output resulting from the command. This can be numbers, texts, images, videos, etc. Some python commands just do things \"in the background\" and will not output anything. If it's blank, it doesn't necessarily mean something broke. \n",
    "\n",
    "This is where errors are also printed. You will learn to read these later. \n",
    "\n",
    "**Here is an example of an error:**"
   ]
  },
  {
   "cell_type": "code",
   "execution_count": null,
   "metadata": {},
   "outputs": [],
   "source": [
    "Do something, python!!"
   ]
  },
  {
   "cell_type": "markdown",
   "metadata": {},
   "source": [
    "Comments are extremely helpful. These help you explain your code in plain, human English (or any language you may speak). Any line that starts with # will be totally ignored by the Python interpreter, and it won't try to run it. "
   ]
  },
  {
   "cell_type": "code",
   "execution_count": null,
   "metadata": {},
   "outputs": [],
   "source": [
    "#Do something, python!!\n",
    "5"
   ]
  },
  {
   "cell_type": "code",
   "execution_count": null,
   "metadata": {},
   "outputs": [],
   "source": [
    "\"\"\"\n",
    "If you need to do many lines of comments, you can use 3 quotes on each\n",
    "side of your block of text. This can be helpful in some situations, \n",
    "but most of the time you will just use multiple #'s\n",
    "\n",
    "\"\"\"\n",
    "\n",
    "5"
   ]
  },
  {
   "cell_type": "markdown",
   "metadata": {},
   "source": [
    "In the examples above, there was only 1 line of python code. The output is from evaluating that line of code. If we have multiple lines, then the output will only be from the result of the last line. If we want to print something that occurs before the end (or, as we'll see later, something that is saved as a variable) then we use the `print` command. "
   ]
  },
  {
   "cell_type": "code",
   "execution_count": null,
   "metadata": {},
   "outputs": [],
   "source": [
    "5\n",
    "6\n",
    "7"
   ]
  },
  {
   "cell_type": "code",
   "execution_count": null,
   "metadata": {},
   "outputs": [],
   "source": [
    "print 5\n",
    "print 6\n",
    "7"
   ]
  },
  {
   "cell_type": "markdown",
   "metadata": {},
   "source": [
    "## Basic Math Operations\n",
    "\n",
    "Python can do basic operations like addition, subtraction, and division. Here we also use `print` to demonstrate. Note that the printed value is the *result* of that line, not the numbers themselves. So first, the code is evaluated, then the result is printed. "
   ]
  },
  {
   "cell_type": "code",
   "execution_count": null,
   "metadata": {},
   "outputs": [],
   "source": [
    "#addition, subtraction, multiplication, division. Throw away your calculators!\n",
    "print 2+7\n",
    "print 10-5\n",
    "print 20*30\n",
    "print 18/6\n",
    "print (8+2)*3\n",
    "print 8+2*3 #order of operations!\n",
    "\n",
    "#raise to a power using **\n",
    "print 2**2\n",
    "print 2**3"
   ]
  },
  {
   "cell_type": "markdown",
   "metadata": {},
   "source": [
    "`Modulo` is something that's new to most people. It gives you the remainder from division. It is helpful if you have something that cycles at some regular interval. We use the `%` operator for this. `x % y` will find the remainder after doing `x/y`."
   ]
  },
  {
   "cell_type": "code",
   "execution_count": null,
   "metadata": {},
   "outputs": [],
   "source": [
    "print 12%4 #this is zero, because they divide perfectly\n",
    "print 12%5 # 12/5 is 2, with a remainder of 2\n",
    "print 12%7 # 12/7 is 1, with a remainder of 5\n",
    "print 12%2034 #12/2034 is 0, with a remainder of 12"
   ]
  },
  {
   "cell_type": "markdown",
   "metadata": {},
   "source": [
    "# Variables\n",
    "\n",
    "Python makes a decent calculator, but scripts with only specific numbers are not very usable. We want to *generalize* computations, so that they can work for any number we want. This is where variables come in. Think of variables in the same way that you do in algebra. It is just a placeholder for some value. This value is stored in memory (remember the dot demo?). We give variables names so our puny human brains can keep track of them. \n",
    "\n",
    "First, we *assign* variables using the equals sign. After we do that, we can use the variable name anywhere we could use a number "
   ]
  },
  {
   "cell_type": "code",
   "execution_count": null,
   "metadata": {},
   "outputs": [],
   "source": [
    "#assign the variable x the value of 5\n",
    "\n",
    "x=5\n",
    "\n",
    "print x\n",
    "\n",
    "print x+3\n",
    "print 12%x"
   ]
  },
  {
   "cell_type": "code",
   "execution_count": null,
   "metadata": {},
   "outputs": [],
   "source": [
    "#variables don't have to be numbers, they can be text too!\n",
    "\n",
    "y = 'Hello there!'\n",
    "\n",
    "print y"
   ]
  },
  {
   "cell_type": "markdown",
   "metadata": {},
   "source": [
    "but Python will yell at you of it try to do silly things with text variables"
   ]
  },
  {
   "cell_type": "code",
   "execution_count": null,
   "metadata": {
    "scrolled": true
   },
   "outputs": [],
   "source": [
    "#this will produce an error. What is \"Hello There\" + 3? \n",
    "print y+3"
   ]
  },
  {
   "cell_type": "markdown",
   "metadata": {},
   "source": [
    "if we had to create a unique variable name for everything, we would run out of names pretty quickly. we can overwrite a previous variable with a new value:"
   ]
  },
  {
   "cell_type": "code",
   "execution_count": null,
   "metadata": {
    "scrolled": true
   },
   "outputs": [],
   "source": [
    "print x #x is 5 because that's what we set it to in the previous cell\n",
    "\n",
    "#now we give it a new value\n",
    "x = 'bananas' \n",
    "print x\n",
    "\n",
    "#and another new value\n",
    "x = 6\n",
    "print x"
   ]
  },
  {
   "cell_type": "markdown",
   "metadata": {},
   "source": [
    "**We can also update the value of a variable by using the variable itself. It doesn't seem like it would work, but it does!**"
   ]
  },
  {
   "cell_type": "code",
   "execution_count": null,
   "metadata": {},
   "outputs": [],
   "source": [
    "x=5\n",
    "print x #5\n",
    "\n",
    "x = x+1\n",
    "print x #6\n",
    "\n",
    "x = x + x\n",
    "print x #12"
   ]
  },
  {
   "cell_type": "markdown",
   "metadata": {},
   "source": [
    "Let's unpack this a bit. When I say: \n",
    "\n",
    "`x = x +1`\n",
    "\n",
    "python first looks at the right half of the `=`. We say that it *evaluates* the statement. That means that it tries to look up the value of any variables and complete the computation. So it first does \"x+1\", and since the value of x is 5, the statement *evaluates* to \"5+1\", which is 6. Once it is evaluated, then we *assign* that new value to the variable x. It doesn't matter if it's a new variable or an existing one, if we use the `=` sign, we assign a value to that variable. \n",
    "\n"
   ]
  },
  {
   "cell_type": "markdown",
   "metadata": {},
   "source": []
  },
  {
   "cell_type": "markdown",
   "metadata": {},
   "source": [
    "> Might be a good idea to introduce the idea that everything is an object in python. The reason that you can't do 5 + 'hello' is because strings do not have an __add__ method. It's not always obvious what 'silly things' are - why does 5/2=2 in Python? Don't need to go into extraordinary detail in the first lesson obvs, but might be good to drop a line to the data model page: https://docs.python.org/2/reference/datamodel.html"
   ]
  },
  {
   "cell_type": "markdown",
   "metadata": {},
   "source": [
    "## Functions and Arguments\n",
    "\n",
    "Almost everything that you do in a programming language is a result of using *functions*. Functions have 2 parts: arguments (i.e., inputs) and outputs. We say we give the function certain arguments and it *returns* particular outputs. It looks something like this: \n",
    "\n",
    "`myoutput = somefunction(input1, input2)`\n",
    "\n",
    "The function is named `somefunction`, we provide it 2 *arguments*, `input1` and `input2`, and it *returns* one variable as the output (which we call myoutput). When we use a function, we say that we *call* it. In this example, I called `somefunction` with 2 arguments, and it returned a single output, which we saved as `myoutput`. \n",
    "\n",
    "The arguments and the outputs can have whatever names you want. These are just variables (placeholders) like we used `x` above. Let's try an example. \n",
    "\n",
    "The function `abs` computes the absolute value of a number. I would like you to create a variable called `z`, assign it a value of -99, then call the `abs` function with z as the only argument. This will return 1 output, which you should call `myfirstoutput`. \n",
    "\n",
    "Go!\n"
   ]
  },
  {
   "cell_type": "code",
   "execution_count": null,
   "metadata": {},
   "outputs": [],
   "source": [
    "#do your work here. At the end, make it print the value of myfirstoutput"
   ]
  },
  {
   "cell_type": "markdown",
   "metadata": {},
   "source": [
    "## Reserved Words\n",
    "\n",
    "In general, you can name your variables whatever you want. However, there is a set of reserved words that are used as part of the core Python functionality. `print` is one of those words. So, I can never create my own variable named `print` and assign it the value of 5:  "
   ]
  },
  {
   "cell_type": "code",
   "execution_count": null,
   "metadata": {},
   "outputs": [],
   "source": [
    "print = 5 #error!"
   ]
  },
  {
   "cell_type": "markdown",
   "metadata": {},
   "source": [
    "Notice the way to distinguish these words is that they turn green and bold when you type them. These reserved words can only be used in the 1 way that Python wants to use them. Other reserved words include: \n",
    "<br /><br />\n",
    "<font color='green'>**if    \n",
    "else   \n",
    "and  \n",
    "or   \n",
    "not   \n",
    "as   \n",
    "class   \n",
    "type   \n",
    "from   \n",
    "while   \n",
    "for   \n",
    "in**</font>   \n",
    "\n",
    "You will learn about all of these in later lessons. \n"
   ]
  },
  {
   "cell_type": "markdown",
   "metadata": {},
   "source": [
    "> Maybe useful to give a link to a list of the basic builtins?: https://docs.python.org/2/library/functions.html"
   ]
  },
  {
   "cell_type": "code",
   "execution_count": null,
   "metadata": {},
   "outputs": [],
   "source": []
  },
  {
   "cell_type": "code",
   "execution_count": null,
   "metadata": {
    "collapsed": true
   },
   "outputs": [],
   "source": []
  }
 ],
 "metadata": {
  "kernelspec": {
   "display_name": "Python 2",
   "language": "python",
   "name": "python2"
  },
  "language_info": {
   "codemirror_mode": {
    "name": "ipython",
    "version": 2
   },
   "file_extension": ".py",
   "mimetype": "text/x-python",
   "name": "python",
   "nbconvert_exporter": "python",
   "pygments_lexer": "ipython2",
   "version": "2.7.13"
  }
 },
 "nbformat": 4,
 "nbformat_minor": 1
}
