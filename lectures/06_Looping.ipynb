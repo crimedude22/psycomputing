{
 "cells": [
  {
   "cell_type": "markdown",
   "metadata": {},
   "source": [
    "## Looping\n",
    "\n",
    "<img width='150px', align='left' src=\"http://www.slate.com/content/dam/slate/blogs/browbeat/2012/looper.gif.CROP.original-original.gif\"> </img>\n",
    "\n",
    "One of the most powerful things you will do in programming is looping. Looping allows you to repeat some bit of code many times. Otherwise, you would have to do a lot of copying and pasting!   \n",
    "\n",
    "There are 2 different types of loops you will encounter in almost any language, **`for`** and **`while`** loops. \n",
    "\n"
   ]
  },
  {
   "cell_type": "markdown",
   "metadata": {},
   "source": [
    "### For Loops\n",
    "\n",
    "`for` loops are much more common and easier to work with. They allow you to specify a certain number of times to perform a computation. Look at the example below. This is the first time you've seen the `range` function. What it does it produce a list of numbers from the first argument, to the second argument minus 1. So `range(1,11)` produces the numbers 1 through 10, and `range(5,100)` produces the numbers 5 through 99. \n",
    "\n"
   ]
  },
  {
   "cell_type": "code",
   "execution_count": 4,
   "metadata": {},
   "outputs": [
    {
     "name": "stdout",
     "output_type": "stream",
     "text": [
      "[1, 2, 3, 4]\n",
      "<type 'list'>\n",
      "[0, 1, 2, 3, 4, 5, 6, 7, 8, 9]\n"
     ]
    }
   ],
   "source": [
    "#First, look at the range function\n",
    "\n",
    "print range(1,5)\n",
    "print type( range(1,5) )\n",
    "\n",
    "#if you leave off the first argument, it starts at zero\n",
    "print range(10)\n"
   ]
  },
  {
   "cell_type": "code",
   "execution_count": 5,
   "metadata": {},
   "outputs": [
    {
     "name": "stdout",
     "output_type": "stream",
     "text": [
      "1\n",
      "2\n",
      "3\n",
      "4\n",
      "5\n",
      "6\n",
      "7\n",
      "8\n",
      "9\n",
      "10\n"
     ]
    }
   ],
   "source": [
    "#now we use it in a loop\n",
    "for i in range(1,11):\n",
    "    print i\n",
    "\n"
   ]
  },
  {
   "cell_type": "markdown",
   "metadata": {},
   "source": [
    "What's going on here? What is `i`? Well, `for` loops need a little throw-away variable to keep track of the current loop value. It's called the *iterator*.\n",
    "\n",
    "After the word \"`in`\" you provide a list. At each loop,`i` takes on the value of one item of the list. You can use `i` to do some computation (or print, like we did above). This will continue until we've gone through all items in the list. \n",
    "\n",
    "Notice we have the same indentation as with `if` statements. Anything that is indented under `for` will be considered part of the loop. \n",
    "\n",
    "The list doesn't have to be an increasing range of numbers either. Any list will do: "
   ]
  },
  {
   "cell_type": "code",
   "execution_count": 7,
   "metadata": {},
   "outputs": [
    {
     "name": "stdout",
     "output_type": "stream",
     "text": [
      "6\n",
      "7\n",
      "5\n",
      "4\n",
      "9\n",
      "200\n",
      "5001\n"
     ]
    }
   ],
   "source": [
    "loopvals = [5, 6, 4, 3, 8, 199, 5000] \n",
    "\n",
    "for i in loopvals:\n",
    "    print i+1\n"
   ]
  },
  {
   "cell_type": "markdown",
   "metadata": {},
   "source": [
    "Lists can also contain text instead of numbers, and you can use that in your loop. "
   ]
  },
  {
   "cell_type": "code",
   "execution_count": null,
   "metadata": {},
   "outputs": [],
   "source": [
    "#lists can also contain text!\n",
    "loopvals = ['Joseph', 'Gordon', 'Levitt']\n",
    "\n",
    "for i in loopvals: \n",
    "    print i"
   ]
  },
  {
   "cell_type": "markdown",
   "metadata": {},
   "source": [
    "By convention, `i` is frequently used at the looping variable name. This probably stands for \"iterator\" because you're *iterating* through values. My guess is that the convention comes from mathematics. But, you don't have to use `i`. Usually a more descriptive variable name is helpful: "
   ]
  },
  {
   "cell_type": "markdown",
   "metadata": {},
   "source": [
    "> The convention to use i is a convention, but the name 'iterator' is meaningful in Python and absolutely worth bringing up here as a unifying concept - what can be used in a for loop? anything that is an iterator (has an __iter__ method defined: https://docs.python.org/2.7/tutorial/classes.html#iterators) "
   ]
  },
  {
   "cell_type": "code",
   "execution_count": 9,
   "metadata": {},
   "outputs": [
    {
     "name": "stdout",
     "output_type": "stream",
     "text": [
      "Joseph\n",
      "Gordon\n",
      "Levitt\n"
     ]
    }
   ],
   "source": [
    "loopvals = ['Joseph', 'Gordon', 'Levitt']\n",
    "\n",
    "for name in loopvals: \n",
    "    print name\n",
    "    \n"
   ]
  },
  {
   "cell_type": "markdown",
   "metadata": {},
   "source": [
    "Sometimes you want to keep track of both the value in your list, and the *position* that you are in. This will become more obvious later. `enumerate` is very helpful for this purpose. It returns the value and the position at each loop. Notice in this case, we can have 2 looping variables, since `enumerate` produces 2 values at each loop. \n",
    "\n"
   ]
  },
  {
   "cell_type": "code",
   "execution_count": 10,
   "metadata": {},
   "outputs": [
    {
     "name": "stdout",
     "output_type": "stream",
     "text": [
      "0\n",
      "Joseph\n",
      "1\n",
      "Gordon\n",
      "2\n",
      "Levitt\n"
     ]
    }
   ],
   "source": [
    "loopvals = ['Joseph', 'Gordon', 'Levitt']\n",
    "\n",
    "for position, name in enumerate(loopvals):\n",
    "    print position\n",
    "    print name\n"
   ]
  },
  {
   "cell_type": "markdown",
   "metadata": {},
   "source": [
    "Loops can also be nested. I frequently use this when programming experiments. Let's say you have an experiment that has 3 blocks, and each block has 10 trials in it. This would be a total of `3*10 = 30` trials. You want some piece of code to be executed on each trial, but something different to happen at the beginning of each block. Here is a tiny example: "
   ]
  },
  {
   "cell_type": "markdown",
   "metadata": {},
   "source": [
    "> Nested for loops are a natural first step in programming, but should definitely be discouraged in Python: https://www.python.org/dev/peps/pep-0020/ . When writing more complicated programs, it's much better to reserve the indentation from nested for-loops for dividing scopes, and nested for-loops are almost always the slowest and hardest to read way of doing multiple iteration. "
   ]
  },
  {
   "cell_type": "code",
   "execution_count": 11,
   "metadata": {},
   "outputs": [
    {
     "name": "stdout",
     "output_type": "stream",
     "text": [
      " \n",
      "Starting Block 1\n",
      "Block: 1, Trial: 1\n",
      "Block: 1, Trial: 2\n",
      "Block: 1, Trial: 3\n",
      "Block: 1, Trial: 4\n",
      "Block: 1, Trial: 5\n",
      "Block: 1, Trial: 6\n",
      "Block: 1, Trial: 7\n",
      "Block: 1, Trial: 8\n",
      "Block: 1, Trial: 9\n",
      "Block: 1, Trial: 10\n",
      " \n",
      "Starting Block 2\n",
      "Block: 2, Trial: 1\n",
      "Block: 2, Trial: 2\n",
      "Block: 2, Trial: 3\n",
      "Block: 2, Trial: 4\n",
      "Block: 2, Trial: 5\n",
      "Block: 2, Trial: 6\n",
      "Block: 2, Trial: 7\n",
      "Block: 2, Trial: 8\n",
      "Block: 2, Trial: 9\n",
      "Block: 2, Trial: 10\n",
      " \n",
      "Starting Block 3\n",
      "Block: 3, Trial: 1\n",
      "Block: 3, Trial: 2\n",
      "Block: 3, Trial: 3\n",
      "Block: 3, Trial: 4\n",
      "Block: 3, Trial: 5\n",
      "Block: 3, Trial: 6\n",
      "Block: 3, Trial: 7\n",
      "Block: 3, Trial: 8\n",
      "Block: 3, Trial: 9\n",
      "Block: 3, Trial: 10\n"
     ]
    }
   ],
   "source": [
    "numblocks = 3\n",
    "numtrials = 10\n",
    "\n",
    "for block in range(1,numblocks+1):\n",
    "    \n",
    "    print \" \" #extra space\n",
    "    print \"Starting Block \"+ str(block) \n",
    "    \n",
    "    for trial in range(1,numtrials+1):\n",
    "        print \"Block: \" + str(block) + \", Trial: \" + str(trial) \n"
   ]
  },
  {
   "cell_type": "markdown",
   "metadata": {},
   "source": [
    "Alternatively, Python has a builtin module 'itertools' that provides extremely efficient objects for more complicated iteration. For example:"
   ]
  },
  {
   "cell_type": "code",
   "execution_count": 4,
   "metadata": {},
   "outputs": [
    {
     "name": "stdout",
     "output_type": "stream",
     "text": [
      "Block: 0, Trial: 0\n",
      "Block: 0, Trial: 1\n",
      "Block: 0, Trial: 2\n",
      "Block: 0, Trial: 3\n",
      "Block: 0, Trial: 4\n",
      "Block: 0, Trial: 5\n",
      "Block: 0, Trial: 6\n",
      "Block: 0, Trial: 7\n",
      "Block: 0, Trial: 8\n",
      "Block: 0, Trial: 9\n",
      "Block: 1, Trial: 0\n",
      "Block: 1, Trial: 1\n",
      "Block: 1, Trial: 2\n",
      "Block: 1, Trial: 3\n",
      "Block: 1, Trial: 4\n",
      "Block: 1, Trial: 5\n",
      "Block: 1, Trial: 6\n",
      "Block: 1, Trial: 7\n",
      "Block: 1, Trial: 8\n",
      "Block: 1, Trial: 9\n",
      "Block: 2, Trial: 0\n",
      "Block: 2, Trial: 1\n",
      "Block: 2, Trial: 2\n",
      "Block: 2, Trial: 3\n",
      "Block: 2, Trial: 4\n",
      "Block: 2, Trial: 5\n",
      "Block: 2, Trial: 6\n",
      "Block: 2, Trial: 7\n",
      "Block: 2, Trial: 8\n",
      "Block: 2, Trial: 9\n"
     ]
    },
    {
     "data": {
      "text/plain": [
       "['Block: 1, Trial: 1',\n",
       " 'Block: 1, Trial: 2',\n",
       " 'Block: 1, Trial: 3',\n",
       " 'Block: 1, Trial: 4',\n",
       " 'Block: 1, Trial: 5',\n",
       " 'Block: 1, Trial: 6',\n",
       " 'Block: 1, Trial: 7',\n",
       " 'Block: 1, Trial: 8',\n",
       " 'Block: 1, Trial: 9',\n",
       " 'Block: 1, Trial: 10',\n",
       " 'Block: 2, Trial: 1',\n",
       " 'Block: 2, Trial: 2',\n",
       " 'Block: 2, Trial: 3',\n",
       " 'Block: 2, Trial: 4',\n",
       " 'Block: 2, Trial: 5',\n",
       " 'Block: 2, Trial: 6',\n",
       " 'Block: 2, Trial: 7',\n",
       " 'Block: 2, Trial: 8',\n",
       " 'Block: 2, Trial: 9',\n",
       " 'Block: 2, Trial: 10',\n",
       " 'Block: 3, Trial: 1',\n",
       " 'Block: 3, Trial: 2',\n",
       " 'Block: 3, Trial: 3',\n",
       " 'Block: 3, Trial: 4',\n",
       " 'Block: 3, Trial: 5',\n",
       " 'Block: 3, Trial: 6',\n",
       " 'Block: 3, Trial: 7',\n",
       " 'Block: 3, Trial: 8',\n",
       " 'Block: 3, Trial: 9',\n",
       " 'Block: 3, Trial: 10']"
      ]
     },
     "execution_count": 4,
     "metadata": {},
     "output_type": "execute_result"
    }
   ],
   "source": [
    "from itertools import product\n",
    "\n",
    "# We can instantiate product and call the .next() function in a single for-loop \n",
    "# although (this would be more useful with deeper nesting)\n",
    "blocks_trials = product(range(3), range(10))\n",
    "for blk, trl in blocks_trials:\n",
    "    print(\"Block: {}, Trial: {}\".format(blk, trl))\n",
    "\n",
    "# or as a one-liner just for fun (and to make the people reading our code cringe)\n",
    "['Block: {}, Trial: {}'.format(blk+1, trl+1) for (blk, trl) in product(range(3), range(10))]\n"
   ]
  },
  {
   "cell_type": "markdown",
   "metadata": {},
   "source": [
    "It's generally a good idea to check, whenever you think you are doing something that must be fundamental to a programming language, whether it has already been done - to this end a browse of the python standard library may be useful: https://docs.python.org/2/library/index.html"
   ]
  },
  {
   "cell_type": "markdown",
   "metadata": {},
   "source": [
    "### While loops\n",
    "\n",
    "The other type of loop in Python is a **`while`** loop. `for` loops are generally easier to use, and are perfect when you know exactly how many times you want to loop. But sometimes you don't know how many times you want to loop. Each loop happens almost instantaneously. What happens if you want to loop for a certain amount of time? Or until some unpredictable event occurs? This is where `while` loops shine.  \n",
    "\n",
    "First, any `for` loop can also be expressed as a `while` loop. We just have to do extra work to make our own variables:"
   ]
  },
  {
   "cell_type": "code",
   "execution_count": null,
   "metadata": {},
   "outputs": [],
   "source": [
    "\n",
    "i = 1\n",
    "\n",
    "while i < 11:\n",
    "    print i\n",
    "    i += 1\n",
    "    "
   ]
  },
  {
   "cell_type": "markdown",
   "metadata": {},
   "source": [
    "> += is faster, more elegant."
   ]
  },
  {
   "cell_type": "markdown",
   "metadata": {},
   "source": [
    "Just like `if` statements, we use a *conditional* statement for a `while` loop. That is, a statement that evaluates to either `True` or `False`. The loop will continue until as long as the statement is still true. The dangerous part is that you can end up with an infinite loop. Consider the code below: \n",
    "\n",
    "```python\n",
    "i = 5   \n",
    "while i > 0:   \n",
    "    print i   \n",
    "    i = i+1\n",
    "```\n",
    "    \n",
    "This loop would go forever, because `i` starts out greater than 0, and only gets bigger, so the statement `i > 0` will *always* be True. We can protect against this with the `break` statement, which will \"break\" out of a loop that might be infinite. \n",
    "\n",
    "**Note:** if you ever find yourself in the middle of an infinite loop, don't fret. Just click \"Kernel -> Interrupt\" above, and it will cut off the computation.\n",
    "\n"
   ]
  },
  {
   "cell_type": "code",
   "execution_count": null,
   "metadata": {
    "collapsed": true
   },
   "outputs": [],
   "source": []
  },
  {
   "cell_type": "code",
   "execution_count": null,
   "metadata": {},
   "outputs": [],
   "source": [
    "i = 5   \n",
    "\n",
    "while i > 0:   \n",
    "    if i==300:\n",
    "        break #if we get to 300, then the loop will stop\n",
    "    \n",
    "    #otherwise, go normally\n",
    "    print i   \n",
    "    i = i+1\n",
    "    \n",
    "   \n",
    "    "
   ]
  },
  {
   "cell_type": "markdown",
   "metadata": {},
   "source": [
    "`while` loops are useful if things are unpredictable, or if we want to wait a certain amount of *time* rather than a number of loops. Let's make a loop that draws a random number, and keeps doing it until the number reaches a certain value. Notice that we don't know how many times Python had to loop in order to get the right answer. Try increasing the range of random numbers, to see if it takes longer to reach our desired value."
   ]
  },
  {
   "cell_type": "code",
   "execution_count": 12,
   "metadata": {},
   "outputs": [
    {
     "name": "stdout",
     "output_type": "stream",
     "text": [
      "15\n"
     ]
    }
   ],
   "source": [
    "import random #we need to use the \"random\" package for getting random numbers\n",
    "\n",
    "draw = 0\n",
    "desired_value = 15\n",
    "\n",
    "\n",
    "while draw != desired_value:\n",
    "    draw = random.randint(1,200)\n",
    "\n",
    "\n",
    "#this is outside the loop, because it's not indented!\n",
    "print draw\n",
    "\n"
   ]
  },
  {
   "cell_type": "markdown",
   "metadata": {},
   "source": [
    "Here we loop for a fixed amount of time. "
   ]
  },
  {
   "cell_type": "code",
   "execution_count": 13,
   "metadata": {},
   "outputs": [
    {
     "name": "stdout",
     "output_type": "stream",
     "text": [
      "5.00000095367 seconds have elapsed\n"
     ]
    }
   ],
   "source": [
    "import time\n",
    "\n",
    "start_time = time.time() #this produces a timestamp (in seconds) for right now\n",
    "current_time = time.time() #right now, again\n",
    "\n",
    "#loop for 5 seconds\n",
    "while current_time - start_time <= 5:\n",
    "    current_time = time.time() #get the new \"right now\"\n",
    "\n",
    "\n",
    "\n",
    "print str(current_time - start_time) + \" seconds have elapsed\""
   ]
  },
  {
   "cell_type": "markdown",
   "metadata": {},
   "source": [
    "This is a smoother way to do the same thing. Notice in this example, we call `time.time()` as part of the `while` statement to do our comparison. This is totally fine. Python doesn't like totally blank `while` loops, so we use `pass` to tell it to just keep looping. "
   ]
  },
  {
   "cell_type": "code",
   "execution_count": null,
   "metadata": {},
   "outputs": [],
   "source": [
    "start_time = time.time()\n",
    "\n",
    "while time.time() - start_time <=5:\n",
    "    pass\n",
    "    \n",
    "print str(time.time() - start_time) + \" seconds have elapsed\"    \n"
   ]
  },
  {
   "cell_type": "markdown",
   "metadata": {},
   "source": [
    "Now you try. Let's do it a different way. Make an infinite loop, but break after 5 seconds have elapsed. "
   ]
  },
  {
   "cell_type": "code",
   "execution_count": null,
   "metadata": {},
   "outputs": [],
   "source": [
    "start_time = time.time()\n",
    "\n",
    "#forever loop\n",
    "while True: \n",
    "    pass\n",
    "    #how do we tell Python to stop if 5 seconds have elapsed?\n"
   ]
  },
  {
   "cell_type": "markdown",
   "metadata": {},
   "source": [
    "In the example above, I put `while True:` to make it clear that the loop continues as long as the condition is true. By convention, people use `while 1` instead. This is because `True` and `False` can be expressed as `1` and `0` (remember binary?). Try changing `True` to `1` above and you can see it still works the same. "
   ]
  },
  {
   "cell_type": "markdown",
   "metadata": {},
   "source": [
    "### Try, Except\n",
    "What if we aren't sure whether something exists? Later on we'll see how preparing for people (mis)using our code requires us to handle multiple possible scenarios. In Python, it is usually faster, easier to program, and easier to read to ask for forgiveness rather than permission. For example, say someone has told us to open a file that we're not sure exists. Compare these two approaches:\n",
    "\n"
   ]
  },
  {
   "cell_type": "code",
   "execution_count": null,
   "metadata": {
    "collapsed": true
   },
   "outputs": [],
   "source": [
    "import os\n",
    "\n",
    "dubious_filename = '/home/student/where_my_gold_is_hidden.txt'\n",
    "\n",
    "# Ask permission\n",
    "if os.path.exists(dubious_filename):\n",
    "    with open(dubious_filename, 'r') as df:\n",
    "        gonna_be_rich = df.read()\n",
    "else:\n",
    "    Exception('The Rapscallions fooled us!')\n",
    "    \n",
    "# Ask forgiveness\n",
    "try:\n",
    "    with open(dubious_filename, 'r') as df:\n",
    "        gonna_be_rich = df.read()\n",
    "except IOError:\n",
    "    Exception('The Rapscallions fooled us!')"
   ]
  },
  {
   "cell_type": "markdown",
   "metadata": {},
   "source": [
    "One of those methods, and I bet you can tell which, requires us to import a package and run an extra command, while the other accomplishes the same thing while being more explicit about how it handles the error."
   ]
  }
 ],
 "metadata": {
  "kernelspec": {
   "display_name": "Python 2",
   "language": "python",
   "name": "python2"
  },
  "language_info": {
   "codemirror_mode": {
    "name": "ipython",
    "version": 2
   },
   "file_extension": ".py",
   "mimetype": "text/x-python",
   "name": "python",
   "nbconvert_exporter": "python",
   "pygments_lexer": "ipython2",
   "version": "2.7.13"
  }
 },
 "nbformat": 4,
 "nbformat_minor": 1
}
