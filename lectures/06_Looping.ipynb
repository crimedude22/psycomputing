{
 "cells": [
  {
   "cell_type": "markdown",
   "metadata": {},
   "source": [
    "## Looping\n",
    "\n",
    "<img width='150px', align='left' src=\"http://www.slate.com/content/dam/slate/blogs/browbeat/2012/looper.gif.CROP.original-original.gif\"> </img>\n",
    "\n",
    "One of the most powerful things you will do in programming is looping. Looping allows you to repeat some bit of code many times. Otherwise, you would have to do a lot of copying and pasting!   \n",
    "\n",
    "There are 2 different types of loops you will encounter in almost any language, **`for`** and **`while`** loops. \n",
    "\n"
   ]
  },
  {
   "cell_type": "markdown",
   "metadata": {},
   "source": [
    "### For Loops\n",
    "\n",
    "`for` loops are much more common and easier to work with. They allow you to specify a certain number of times to perform a computation. Look at the example below. This is the first time you've seen the `range` function. What it does it produce a list of numbers from the first argument, to the second argument minus 1. So `range(1,11)` produces the numbers 1 through 10, and `range(5,100)` produces the numbers 5 through 99. \n",
    "\n"
   ]
  },
  {
   "cell_type": "code",
   "execution_count": 4,
   "metadata": {
    "collapsed": false
   },
   "outputs": [
    {
     "name": "stdout",
     "output_type": "stream",
     "text": [
      "[1, 2, 3, 4]\n",
      "<type 'list'>\n",
      "[0, 1, 2, 3, 4, 5, 6, 7, 8, 9]\n"
     ]
    }
   ],
   "source": [
    "#First, look at the range function\n",
    "\n",
    "print range(1,5)\n",
    "print type( range(1,5) )\n",
    "\n",
    "#if you leave off the first argument, it starts at zero\n",
    "print range(10)\n"
   ]
  },
  {
   "cell_type": "code",
   "execution_count": 5,
   "metadata": {
    "collapsed": false
   },
   "outputs": [
    {
     "name": "stdout",
     "output_type": "stream",
     "text": [
      "1\n",
      "2\n",
      "3\n",
      "4\n",
      "5\n",
      "6\n",
      "7\n",
      "8\n",
      "9\n",
      "10\n"
     ]
    }
   ],
   "source": [
    "#now we use it in a loop\n",
    "for i in range(1,11):\n",
    "    print i\n",
    "\n"
   ]
  },
  {
   "cell_type": "markdown",
   "metadata": {},
   "source": [
    "What's going on here? What is `i`? Well, `for` loops need a little throw-away variable to keep track of the current loop value. It's called the *iterator*.\n",
    "\n",
    "After the word \"`in`\" you provide a list. At each loop,`i` takes on the value of one item of the list. You can use `i` to do some computation (or print, like we did above). This will continue until we've gone through all items in the list. \n",
    "\n",
    "Notice we have the same indentation as with `if` statements. Anything that is indented under `for` will be considered part of the loop. \n",
    "\n",
    "The list doesn't have to be an increasing range of numbers either. Any list will do: "
   ]
  },
  {
   "cell_type": "code",
   "execution_count": 7,
   "metadata": {
    "collapsed": false
   },
   "outputs": [
    {
     "name": "stdout",
     "output_type": "stream",
     "text": [
      "6\n",
      "7\n",
      "5\n",
      "4\n",
      "9\n",
      "200\n",
      "5001\n"
     ]
    }
   ],
   "source": [
    "loopvals = [5, 6, 4, 3, 8, 199, 5000] \n",
    "\n",
    "for i in loopvals:\n",
    "    print i+1\n"
   ]
  },
  {
   "cell_type": "markdown",
   "metadata": {},
   "source": [
    "Lists can also contain text instead of numbers, and you can use that in your loop. "
   ]
  },
  {
   "cell_type": "code",
   "execution_count": null,
   "metadata": {
    "collapsed": false
   },
   "outputs": [],
   "source": [
    "#lists can also contain text!\n",
    "loopvals = ['Joseph', 'Gordon', 'Levitt']\n",
    "\n",
    "for i in loopvals: \n",
    "    print i"
   ]
  },
  {
   "cell_type": "markdown",
   "metadata": {},
   "source": [
    "By convention, `i` is frequently used at the looping variable name. This probably stands for \"iterator\" because you're *iterating* through values. My guess is that the convention comes from mathematics. But, you don't have to use `i`. Usually a more descriptive variable name is helpful: "
   ]
  },
  {
   "cell_type": "code",
   "execution_count": 9,
   "metadata": {
    "collapsed": false
   },
   "outputs": [
    {
     "name": "stdout",
     "output_type": "stream",
     "text": [
      "Joseph\n",
      "Gordon\n",
      "Levitt\n"
     ]
    }
   ],
   "source": [
    "loopvals = ['Joseph', 'Gordon', 'Levitt']\n",
    "\n",
    "for name in loopvals: \n",
    "    print name\n",
    "    \n"
   ]
  },
  {
   "cell_type": "markdown",
   "metadata": {},
   "source": [
    "Sometimes you want to keep track of both the value in your list, and the *position* that you are in. This will become more obvious later. `enumerate` is very helpful for this purpose. It returns the value and the position at each loop. Notice in this case, we can have 2 looping variables, since `enumerate` produces 2 values at each loop. \n",
    "\n"
   ]
  },
  {
   "cell_type": "code",
   "execution_count": 10,
   "metadata": {
    "collapsed": false
   },
   "outputs": [
    {
     "name": "stdout",
     "output_type": "stream",
     "text": [
      "0\n",
      "Joseph\n",
      "1\n",
      "Gordon\n",
      "2\n",
      "Levitt\n"
     ]
    }
   ],
   "source": [
    "loopvals = ['Joseph', 'Gordon', 'Levitt']\n",
    "\n",
    "for position, name in enumerate(loopvals):\n",
    "    print position\n",
    "    print name\n"
   ]
  },
  {
   "cell_type": "markdown",
   "metadata": {},
   "source": [
    "Loops can also be nested. I frequently use this when programming experiments. Let's say you have an experiment that has 3 blocks, and each block has 10 trials in it. This would be a total of `3*10 = 30` trials. You want some piece of code to be executed on each trial, but something different to happen at the beginning of each block. Here is a tiny example: "
   ]
  },
  {
   "cell_type": "code",
   "execution_count": 11,
   "metadata": {
    "collapsed": false
   },
   "outputs": [
    {
     "name": "stdout",
     "output_type": "stream",
     "text": [
      " \n",
      "Starting Block 1\n",
      "Block: 1, Trial: 1\n",
      "Block: 1, Trial: 2\n",
      "Block: 1, Trial: 3\n",
      "Block: 1, Trial: 4\n",
      "Block: 1, Trial: 5\n",
      "Block: 1, Trial: 6\n",
      "Block: 1, Trial: 7\n",
      "Block: 1, Trial: 8\n",
      "Block: 1, Trial: 9\n",
      "Block: 1, Trial: 10\n",
      " \n",
      "Starting Block 2\n",
      "Block: 2, Trial: 1\n",
      "Block: 2, Trial: 2\n",
      "Block: 2, Trial: 3\n",
      "Block: 2, Trial: 4\n",
      "Block: 2, Trial: 5\n",
      "Block: 2, Trial: 6\n",
      "Block: 2, Trial: 7\n",
      "Block: 2, Trial: 8\n",
      "Block: 2, Trial: 9\n",
      "Block: 2, Trial: 10\n",
      " \n",
      "Starting Block 3\n",
      "Block: 3, Trial: 1\n",
      "Block: 3, Trial: 2\n",
      "Block: 3, Trial: 3\n",
      "Block: 3, Trial: 4\n",
      "Block: 3, Trial: 5\n",
      "Block: 3, Trial: 6\n",
      "Block: 3, Trial: 7\n",
      "Block: 3, Trial: 8\n",
      "Block: 3, Trial: 9\n",
      "Block: 3, Trial: 10\n"
     ]
    }
   ],
   "source": [
    "numblocks = 3\n",
    "numtrials = 10\n",
    "\n",
    "for block in range(1,numblocks+1):\n",
    "    \n",
    "    print \" \" #extra space\n",
    "    print \"Starting Block \"+ str(block) \n",
    "    \n",
    "    for trial in range(1,numtrials+1):\n",
    "        print \"Block: \" + str(block) + \", Trial: \" + str(trial) \n"
   ]
  },
  {
   "cell_type": "markdown",
   "metadata": {},
   "source": [
    "### While loops\n",
    "\n",
    "The other type of loop in Python is a **`while`** loop. `for` loops are generally easier to use, and are perfect when you know exactly how many times you want to loop. But sometimes you don't know how many times you want to loop. Each loop happens almost instantaneously. What happens if you want to loop for a certain amount of time? Or until some unpredictable event occurs? This is where `while` loops shine.  \n",
    "\n",
    "First, any `for` loop can also be expressed as a `while` loop. We just have to do extra work to make our own variables:"
   ]
  },
  {
   "cell_type": "code",
   "execution_count": null,
   "metadata": {
    "collapsed": false
   },
   "outputs": [],
   "source": [
    "\n",
    "i = 1\n",
    "\n",
    "while i < 11:\n",
    "    print i\n",
    "    i = i+1\n",
    "    "
   ]
  },
  {
   "cell_type": "markdown",
   "metadata": {},
   "source": [
    "Just like `if` statements, we use a *conditional* statement for a `while` loop. That is, a statement that evaluates to either `True` or `False`. The loop will continue until as long as the statement is still true. The dangerous part is that you can end up with an infinite loop. Consider the code below: \n",
    "\n",
    "```python\n",
    "i = 5   \n",
    "while i > 0:   \n",
    "    print i   \n",
    "    i = i+1\n",
    "```\n",
    "    \n",
    "This loop would go forever, because `i` starts out greater than 0, and only gets bigger, so the statement `i > 0` will *always* be True. We can protect against this with the `break` statement, which will \"break\" out of a loop that might be infinite. \n",
    "\n",
    "**Note:** if you ever find yourself in the middle of an infinite loop, don't fret. Just click \"Kernel -> Interrupt\" above, and it will cut off the computation.\n",
    "\n"
   ]
  },
  {
   "cell_type": "code",
   "execution_count": null,
   "metadata": {
    "collapsed": false
   },
   "outputs": [],
   "source": [
    "i = 5   \n",
    "\n",
    "while i > 0:   \n",
    "    if i==300:\n",
    "        break #if we get to 300, then the loop will stop\n",
    "    \n",
    "    #otherwise, go normally\n",
    "    print i   \n",
    "    i = i+1\n",
    "    \n",
    "   \n",
    "    "
   ]
  },
  {
   "cell_type": "markdown",
   "metadata": {},
   "source": [
    "`while` loops are useful if things are unpredictable, or if we want to wait a certain amount of *time* rather than a number of loops. Let's make a loop that draws a random number, and keeps doing it until the number reaches a certain value. Notice that we don't know how many times Python had to loop in order to get the right answer. Try increasing the range of random numbers, to see if it takes longer to reach our desired value."
   ]
  },
  {
   "cell_type": "code",
   "execution_count": 12,
   "metadata": {
    "collapsed": false
   },
   "outputs": [
    {
     "name": "stdout",
     "output_type": "stream",
     "text": [
      "15\n"
     ]
    }
   ],
   "source": [
    "import random #we need to use the \"random\" package for getting random numbers\n",
    "\n",
    "draw = 0\n",
    "desired_value = 15\n",
    "\n",
    "\n",
    "while draw != desired_value:\n",
    "    draw = random.randint(1,200)\n",
    "\n",
    "\n",
    "#this is outside the loop, because it's not indented!\n",
    "print draw\n",
    "\n"
   ]
  },
  {
   "cell_type": "markdown",
   "metadata": {},
   "source": [
    "Here we loop for a fixed amount of time. "
   ]
  },
  {
   "cell_type": "code",
   "execution_count": 13,
   "metadata": {
    "collapsed": false
   },
   "outputs": [
    {
     "name": "stdout",
     "output_type": "stream",
     "text": [
      "5.00000095367 seconds have elapsed\n"
     ]
    }
   ],
   "source": [
    "import time\n",
    "\n",
    "start_time = time.time() #this produces a timestamp (in seconds) for right now\n",
    "current_time = time.time() #right now, again\n",
    "\n",
    "#loop for 5 seconds\n",
    "while current_time - start_time <= 5:\n",
    "    current_time = time.time() #get the new \"right now\"\n",
    "\n",
    "\n",
    "\n",
    "print str(current_time - start_time) + \" seconds have elapsed\""
   ]
  },
  {
   "cell_type": "markdown",
   "metadata": {},
   "source": [
    "This is a smoother way to do the same thing. Notice in this example, we call `time.time()` as part of the `while` statement to do our comparison. This is totally fine. Python doesn't like totally blank `while` loops, so we use `pass` to tell it to just keep looping. "
   ]
  },
  {
   "cell_type": "code",
   "execution_count": null,
   "metadata": {
    "collapsed": false
   },
   "outputs": [],
   "source": [
    "start_time = time.time()\n",
    "\n",
    "while time.time() - start_time <=5:\n",
    "    pass\n",
    "    \n",
    "print str(time.time() - start_time) + \" seconds have elapsed\"    \n"
   ]
  },
  {
   "cell_type": "markdown",
   "metadata": {},
   "source": [
    "Now you try. Let's do it a different way. Make an infinite loop, but break after 5 seconds have elapsed. "
   ]
  },
  {
   "cell_type": "code",
   "execution_count": null,
   "metadata": {
    "collapsed": false
   },
   "outputs": [],
   "source": [
    "start_time = time.time()\n",
    "\n",
    "#forever loop\n",
    "while True: \n",
    "    pass\n",
    "    #how do we tell Python to stop if 5 seconds have elapsed?\n"
   ]
  },
  {
   "cell_type": "markdown",
   "metadata": {},
   "source": [
    "In the example above, I put `while True:` to make it clear that the loop continues as long as the condition is true. By convention, people use `while 1` instead. This is because `True` and `False` can be expressed as `1` and `0` (remember binary?). Try changing `True` to `1` above and you can see it still works the same. "
   ]
  }
 ],
 "metadata": {
  "kernelspec": {
   "display_name": "Python 2",
   "language": "python",
   "name": "python2"
  },
  "language_info": {
   "codemirror_mode": {
    "name": "ipython",
    "version": 2
   },
   "file_extension": ".py",
   "mimetype": "text/x-python",
   "name": "python",
   "nbconvert_exporter": "python",
   "pygments_lexer": "ipython2",
   "version": "2.7.11"
  }
 },
 "nbformat": 4,
 "nbformat_minor": 0
}
