{
 "cells": [
  {
   "cell_type": "markdown",
   "metadata": {},
   "source": [
    "# Arrays and Matrices\n",
    "\n",
    "Now we know that lists are great at holding a lot of information. This is very useful, for instance, if we have text data (a list of names, sentences from a story, etc.). It can also be useful for doing math. Instead of doing math with single numbers, sometimes we want to do math with many numbers at once. This can be accomplished with a list, but the problem is, we have to loop through the list to make it work. And, if you have long lists (tens of thousands of elements) then it can be pretty slow too. \n",
    "\n",
    "If we have a python list and want to add 5 to every number in that list, we can do it 2 different ways: \n",
    "```python\n",
    "#looping way\n",
    "mylist = range(1,51)\n",
    "newlist = []\n",
    "\n",
    "for i in mylist:\n",
    "    newlist.append(i+5)\n",
    "\n",
    "#list comprehension\n",
    "newlist = [x+5 for x in mylist]\n",
    "\n",
    "```\n",
    "While neither solution is still pretty brief, it feels like a lot of work for just adding 5 to some numbers.\n",
    "\n",
    "The folks who created **Numpy** are trying to solve this problem. This package allows you to do all kinds of math on many numbers at once in a very concise way: \n",
    "\n",
    "```python\n",
    "import numpy\n",
    "#arange is the same as range, but for numpy arrays\n",
    "myarray = numpy.arange(1,51)\n",
    "\n",
    "#the numpy way\n",
    "newarray = myarray + 5\n",
    "```\n",
    "\n",
    "\n",
    "Notice we don't need any loops! We can treat `myarray` as a single number. Saying `myarray + 5` adds 5 to every number in it. Let's see an actual example to play with:"
   ]
  },
  {
   "cell_type": "code",
   "execution_count": 132,
   "metadata": {
    "collapsed": false
   },
   "outputs": [
    {
     "name": "stdout",
     "output_type": "stream",
     "text": [
      "<type 'numpy.ndarray'>\n",
      "50\n",
      "[ 1  2  3  4  5  6  7  8  9 10]\n",
      "[ 6  7  8  9 10 11 12 13 14 15]\n"
     ]
    }
   ],
   "source": [
    "import numpy\n",
    "\n",
    "myarray = numpy.arange(1,51)\n",
    "print type(myarray)\n",
    "print len(myarray)\n",
    "print myarray[:10]\n",
    "\n",
    "newarray = myarray+5\n",
    "print newarray[:10]\n"
   ]
  },
  {
   "cell_type": "markdown",
   "metadata": {},
   "source": [
    "This works for other math operations too:"
   ]
  },
  {
   "cell_type": "code",
   "execution_count": null,
   "metadata": {
    "collapsed": false
   },
   "outputs": [],
   "source": [
    "shortarray = numpy.arange(1,11)\n",
    "print shortarray\n",
    "print shortarray - 1\n",
    "print shortarray * 2\n",
    "print shortarray / 2\n",
    "print shortarray **2"
   ]
  },
  {
   "cell_type": "markdown",
   "metadata": {},
   "source": [
    "If we want to do more complicated things, like square root, we can't use the built-in `sqrt` function on numpy arrays:"
   ]
  },
  {
   "cell_type": "code",
   "execution_count": null,
   "metadata": {
    "collapsed": false
   },
   "outputs": [],
   "source": [
    "sqrt(shortarray) #error!"
   ]
  },
  {
   "cell_type": "markdown",
   "metadata": {},
   "source": [
    "Don't worry, `numpy` has all the same functions that know how to work with arrays. We just have to use the function from the numpy package, not the built-in python one. You can find a list of them in their [documentation](http://docs.scipy.org/doc/numpy/reference/routines.math.html)"
   ]
  },
  {
   "cell_type": "code",
   "execution_count": null,
   "metadata": {
    "collapsed": false
   },
   "outputs": [],
   "source": [
    "print numpy.sqrt(shortarray)\n",
    "print numpy.abs(shortarray*-1)\n"
   ]
  },
  {
   "cell_type": "markdown",
   "metadata": {},
   "source": []
  },
  {
   "cell_type": "code",
   "execution_count": null,
   "metadata": {
    "collapsed": true
   },
   "outputs": [],
   "source": []
  },
  {
   "cell_type": "markdown",
   "metadata": {},
   "source": [
    "There are also functions for summarizing the numbers withinin an array. For instance, we can take the sum, mean, median, or product of an array. This example also shows how to make an array of any numbers you want."
   ]
  },
  {
   "cell_type": "code",
   "execution_count": null,
   "metadata": {
    "collapsed": false
   },
   "outputs": [],
   "source": [
    "#we can create an array of numbers like this: \n",
    "myarray = numpy.array([3,4,7,9,-4,6,15])\n",
    "\n",
    "print numpy.mean(myarray) #mean\n",
    "print numpy.sum(myarray) #add them up\n",
    "print numpy.median(myarray) #median\n",
    "print numpy.prod(myarray) #multiply all of them\n",
    "\n"
   ]
  },
  {
   "cell_type": "markdown",
   "metadata": {},
   "source": [
    "Since we have to use the functions so much, by convention people rename `numpy` to `np`: "
   ]
  },
  {
   "cell_type": "code",
   "execution_count": null,
   "metadata": {
    "collapsed": false
   },
   "outputs": [],
   "source": [
    "import numpy as np\n",
    "np.mean(myarray)"
   ]
  },
  {
   "cell_type": "markdown",
   "metadata": {},
   "source": [
    "### Differences between numpy arrays and Python lists\n",
    "\n",
    "So far arrays seem just like Python lists, except you can do math with them. But, there are a couple of big differnces. \n",
    "\n",
    "First, Python lists can have a mixture of different kinds of data (text, numbers, more lists, etc.). Numpy arrays can only contain the same datatype. So, if you want integers, you have to have all integers. If you want floats, it has to be all floats. They can even hold strings, although there isn't much point most of the time. \n",
    "\n",
    "When you create an array, numpy will try to guess what the datatype is, based on what you input. You can check what the datatype is by using the `dtype` property of your array. When you create the array, you can also use the `dtype` argument to tell it what kind of data you want. Numpy has several different types of integers and floating point numbers <http://docs.scipy.org/doc/numpy-1.10.1/user/basics.types.html>. You only need to care about this if you need huuuge numbers, or if you have huuuge arrays and want to save memory. "
   ]
  },
  {
   "cell_type": "code",
   "execution_count": null,
   "metadata": {
    "collapsed": false
   },
   "outputs": [],
   "source": [
    "myarray = np.array([1,3,4,5])\n",
    "print myarray.dtype #int64 (integers, 64 bit)\n",
    "\n",
    "myotherarray = np.array([4,7,6,0,3,2],dtype='float64')\n",
    "print myotherarray.dtype"
   ]
  },
  {
   "cell_type": "markdown",
   "metadata": {},
   "source": [
    "The other big difference is that arrays (unlike Python lists) can have more than 1 dimension. So, you can have rows and columns! This means you can have entire tables of numbers you can do math on, as easily as you can do single numbers. If you have rows and columns, you call it a \"matrix\". Numpy can also have arrays with 3,4,5, or 100 dimensions. Those are called \"N-Dimensional arrays\" or `ndarray`. \n",
    "\n",
    "To create a matrix, you can specify each row inside of square brackets `[]` like a list. You just have to enclose them all in another set of brackets. Think of it as 1 list, where each element is another list, which is a row in your matrix. Below we create a matrix that looks like this: \n",
    "\n",
    "|1|2|3|\n",
    "|---|---|---|\n",
    "|4|5|6|\n",
    "|7|8|9|"
   ]
  },
  {
   "cell_type": "code",
   "execution_count": null,
   "metadata": {
    "collapsed": false
   },
   "outputs": [],
   "source": [
    "mymatrix = np.array( [ [1,2,3], [4,5,6], [7,8,9] ] )\n",
    "print mymatrix"
   ]
  },
  {
   "cell_type": "code",
   "execution_count": null,
   "metadata": {
    "collapsed": true
   },
   "outputs": [],
   "source": []
  },
  {
   "cell_type": "markdown",
   "metadata": {},
   "source": [
    "### Indexing\n",
    "\n",
    "Indexing from numpy arrays is similar to python lists. You use square brackets `[]`, and you can either ask for a single position, or a range of positions (slicing). Here are several examples. These are all exactly the same way you'd index a Python list. "
   ]
  },
  {
   "cell_type": "code",
   "execution_count": null,
   "metadata": {
    "collapsed": false
   },
   "outputs": [],
   "source": [
    "myarray = np.array([0,1,2,3,4,5,6,7,8,9])\n",
    "\n",
    "print myarray[0]\n",
    "print myarray[0:3]\n",
    "print myarray[:4]\n",
    "print myarray[3:]\n",
    "print myarray[::2]\n",
    "print myarray[::-1]"
   ]
  },
  {
   "cell_type": "markdown",
   "metadata": {},
   "source": [
    "### Indexing Matrices\n",
    "\n",
    "What if you have a matrix? How do you pull out information? Well, you have to specify both the rows and the columns that you want to pull from. You can specify a single index or a range, just like in the examples above. The only difference is that you specify the row index, then a comma, then the column index. \n",
    "\n",
    "mymatrix looks like this: \n",
    "\n",
    "|1|2|3|\n",
    "|---|---|---|\n",
    "|4|5|6|\n",
    "|7|8|9|\n",
    "\n",
    "```python\n",
    "mymatrix = np.array([[1,2,3],[4,5,6],[7,8,9]])\n",
    "\n",
    "mymatrix[0,0] #1 - first row, first column\n",
    "mymatrix[2,1] #5 - third row, second column\n",
    "```\n",
    "You can specify a range of indexes for the rows or columns. If you want to include all numbers from a row or a column, just include a colon `:`\n",
    "\n",
    "```python\n",
    "mymatrix[0,:] #[1,2,3] - entire first row (first row, all columns)\n",
    "mymatrix[:,0] #[1,4,7] - entire first column (all rows, first column)\n",
    "\n",
    "mymatrix[:2,:] # first 2 rows \n",
    "```\n",
    "Now you try. See if you can pull the following information from `mylist`\n",
    "\n",
    "* The middle column\n",
    "* The last 2 rows\n",
    "* The diagonal items (you'll need 3 different statements)\n",
    "\n",
    "\n"
   ]
  },
  {
   "cell_type": "code",
   "execution_count": null,
   "metadata": {
    "collapsed": false
   },
   "outputs": [],
   "source": [
    "mymatrix = np.array([[1,2,3],[4,5,6],[7,8,9]])\n",
    "\n",
    "\n"
   ]
  },
  {
   "cell_type": "markdown",
   "metadata": {},
   "source": [
    "### Boolean indexing\n",
    "\n",
    "Another really handy thing that numpy arrays can do is \"boolean\" indexing. This allows you to pull out information from your array based on its *value*, instead of its position. \n",
    "\n",
    "First, let's see what happens if we take an array and use it as part of a conditional statment: "
   ]
  },
  {
   "cell_type": "code",
   "execution_count": null,
   "metadata": {
    "collapsed": false
   },
   "outputs": [],
   "source": [
    "myarray = np.arange(10)\n",
    "print myarray\n",
    "print myarray>4"
   ]
  },
  {
   "cell_type": "markdown",
   "metadata": {},
   "source": [
    "What's going on here? Notice that this creates a new array, and each item is either `True` or `False`, so the datatype is boolean. Notice that the boolean array has 10 elements, just like `myarray`. Also notice that for every element in `myarray` that's greater than 4, the correponding element in the other array is `True`. \n",
    "\n",
    "If we use a boolean array to index your array, then numpy will pull only the elements where the boolean array is `True`, like so:"
   ]
  },
  {
   "cell_type": "code",
   "execution_count": null,
   "metadata": {
    "collapsed": false
   },
   "outputs": [],
   "source": [
    "bool_array = myarray>4\n",
    "\n",
    "myarray[bool_array]"
   ]
  },
  {
   "cell_type": "markdown",
   "metadata": {},
   "source": [
    "Notice that we get a new array with only 5 elements, and all those elements are greater than 4. Usually, we don't create a new variable like `bool_array`, and we put our conditional statement inside the brackets.\n",
    "\n",
    "Also try changing the conditional statement (using `>,<,==,!=`) to see what results you get."
   ]
  },
  {
   "cell_type": "code",
   "execution_count": null,
   "metadata": {
    "collapsed": false
   },
   "outputs": [],
   "source": [
    "myarray[myarray>4] #give me only the elements of myarray that are greater than 4. "
   ]
  },
  {
   "cell_type": "markdown",
   "metadata": {},
   "source": [
    "It may seem funny to use `myarray` twice like this, but there's a good reason. The boolean array you put inside the brackets doesn't have to come from the original array. You can use 1 array to index another one. \n",
    "\n",
    "Let's imagine we have an array of reaction times (RTs) from a Psychology experiment. We also have another array that specifies the Block number from the experiment. We know that the first block is considered practice, so we only want the RTs from the non-practice blocks. So, we index our `RT` array using the values form `Block` to only include where Block>1:"
   ]
  },
  {
   "cell_type": "code",
   "execution_count": null,
   "metadata": {
    "collapsed": false
   },
   "outputs": [],
   "source": [
    "Block = np.repeat([1,2,3,4],10) #another handy function, creates array with 1,1,1,1...2,2,2,2..\n",
    "print Block\n",
    "RT = np.random.rand(40) #just fake data\n",
    "print RT\n",
    "print len(RT) #40\n",
    "\n",
    "\n",
    "#boolean indexing. Read it like this:\n",
    "#'Give me all the elements of RT, wherever Block is greater than 1'\n",
    "realRT = RT[Block>1] \n",
    "\n",
    "print len(realRT) #30"
   ]
  },
  {
   "cell_type": "markdown",
   "metadata": {},
   "source": [
    "So we can use any boolean array for indexing. The only requirement is that it's the same size as the array you are indexing from. If `Block` was shorter or longer than `RT`, the cell above would not work. Now that you know you can use any array, then the statment: \n",
    "```python\n",
    "myarray[myarray>4]\n",
    "```\n",
    "Should look a little less funny. "
   ]
  },
  {
   "cell_type": "markdown",
   "metadata": {},
   "source": [
    "### Filling arrays\n",
    "\n",
    "Numpy has some convenient functions for creating matrices of a certain size. For instance, you can create matrices of random numbers using `numpy.random.rand`. You just need to specify the number of rows and columns, and it will make a matrix of that size, where each element is a decimal number between 0 and 1. "
   ]
  },
  {
   "cell_type": "code",
   "execution_count": null,
   "metadata": {
    "collapsed": false
   },
   "outputs": [],
   "source": [
    "randoms = np.random.rand(3,4)\n",
    "\n",
    "print randoms"
   ]
  },
  {
   "cell_type": "markdown",
   "metadata": {},
   "source": [
    "You can always figure out the number of rows and columns of a matrix (or array) using the `shape` property. This will give you a tuple that tells you the number of rows, columns, and other dimensions. "
   ]
  },
  {
   "cell_type": "code",
   "execution_count": null,
   "metadata": {
    "collapsed": false
   },
   "outputs": [],
   "source": [
    "randoms.shape #(3,4)"
   ]
  },
  {
   "cell_type": "markdown",
   "metadata": {},
   "source": [
    "The `shape` for an array will have only 1 dimension "
   ]
  },
  {
   "cell_type": "code",
   "execution_count": null,
   "metadata": {
    "collapsed": false
   },
   "outputs": [],
   "source": [
    "myarray.shape #(10,) 10 rows, no columns"
   ]
  },
  {
   "cell_type": "markdown",
   "metadata": {},
   "source": [
    "### `zeros`,  `ones`, and `empty`\n",
    "\n",
    "It is often useful to generate arrays of all zeros, all ones, or just empty arrays with no numbers that you fill later. Numpy has a function of each of these. You have to specify the number of rows and columns between two square brackets: "
   ]
  },
  {
   "cell_type": "code",
   "execution_count": null,
   "metadata": {
    "collapsed": false
   },
   "outputs": [],
   "source": [
    "print np.zeros([5,3]) #5 rows, 3 columns\n",
    "print np.ones([3,2]) #3 rows, 2 columns\n",
    "print np.empty([4,4]) #4 rows, 4 columns\n"
   ]
  },
  {
   "cell_type": "markdown",
   "metadata": {},
   "source": [
    "Notice the empty array isn't really empty, The numbers you see are in scientific notation. They are reaaaly small numbers. This is because the array has to be filled with *something*, so numpy just fills it with very small numbers close to 0. "
   ]
  },
  {
   "cell_type": "markdown",
   "metadata": {},
   "source": [
    "### Changing values using indexing\n",
    "\n",
    "Just like in Python lists, we can use indexing to both pull information from arrays, and to *change* information in them. If we specify a single number, it will set multiple elements to that single number: "
   ]
  },
  {
   "cell_type": "code",
   "execution_count": null,
   "metadata": {
    "collapsed": false
   },
   "outputs": [],
   "source": [
    "\n",
    "allones = np.ones([5,5])\n",
    "print allones\n",
    "\n",
    "print \"\"\n",
    "allones[:,0] = 3 #change the first column to all 3's\n",
    "\n",
    "print allones\n",
    "\n"
   ]
  },
  {
   "cell_type": "markdown",
   "metadata": {},
   "source": [
    "What if we want to change multiple elements to different values? We can do it just fine, as long as we specify the appropriate numbers. Using `allones` above, let's set the first column equal to 10,11,12,13,14. "
   ]
  },
  {
   "cell_type": "code",
   "execution_count": null,
   "metadata": {
    "collapsed": false
   },
   "outputs": [],
   "source": [
    "allones[0,:] = [10,11,12,13,14]\n",
    "print allones"
   ]
  },
  {
   "cell_type": "markdown",
   "metadata": {},
   "source": [
    "This only works if we give it the right amount of numbers. If we want to change the whole row, we need 5 numbers. If we specify less than 5, it doesn't work: "
   ]
  },
  {
   "cell_type": "code",
   "execution_count": null,
   "metadata": {
    "collapsed": false
   },
   "outputs": [],
   "source": [
    "allones[0,:] = [10,11,12,13] #error! we need 5 numbers, but we only gave it 4\n",
    "print allones"
   ]
  },
  {
   "cell_type": "markdown",
   "metadata": {},
   "source": [
    "A nice shortcut if you want to change *all* elements of your matrix is to just specify 1 colon `:`."
   ]
  },
  {
   "cell_type": "code",
   "execution_count": null,
   "metadata": {
    "collapsed": false
   },
   "outputs": [],
   "source": [
    "allones[:] = 2 #change everything to 2\n",
    "\n",
    "print allones\n"
   ]
  },
  {
   "cell_type": "markdown",
   "metadata": {},
   "source": [
    "### Missing values\n",
    "\n",
    "Sometimes you want to specify missing data in an array. Numpy uses the value NaN (\"Not a Number\") to specify missing data. We can take an empty array and fill with all missing data using indexing, like so:  "
   ]
  },
  {
   "cell_type": "code",
   "execution_count": null,
   "metadata": {
    "collapsed": false
   },
   "outputs": [],
   "source": [
    "emptymat = np.empty([4,4]) \n",
    "\n",
    "emptymat[:] = np.nan #notice we say np.nan, not just \"nan\"\n",
    "print emptymat"
   ]
  },
  {
   "cell_type": "markdown",
   "metadata": {},
   "source": [
    "### Changing values based on boolean indexing\n",
    "\n",
    "Now let's put it all together. We'll create an array of random integers between 0 and 10 using `numpy.random.randint` (this takes 3 arguments: a starting value, and ending value, and the dimensions of the matrix you want to generate). "
   ]
  },
  {
   "cell_type": "code",
   "execution_count": null,
   "metadata": {
    "collapsed": false
   },
   "outputs": [],
   "source": [
    "randints = np.random.randint(0,10,[4,4])\n",
    "print randints"
   ]
  },
  {
   "cell_type": "markdown",
   "metadata": {},
   "source": [
    "Now let's change all numbers that are greater than 5 to zero. "
   ]
  },
  {
   "cell_type": "code",
   "execution_count": null,
   "metadata": {
    "collapsed": false
   },
   "outputs": [],
   "source": [
    "print randints\n",
    "print \"\"\n",
    "\n",
    "randints[randints>5] = 0\n",
    "\n",
    "print randints"
   ]
  },
  {
   "cell_type": "markdown",
   "metadata": {},
   "source": [
    "### Replicating arrays and matricies\n",
    "\n",
    "Sometimes we want to start with 1 array and repeat it a certain number of times. Notice I did this in the example above with the array `Block`. I started with a simple array, `[1,2,3,4]` and I wanted to repeat each element 10 times, to reflect that each block has 10 trials in it. I was able to do this with `numpy.repeat`. It takes 2 arguments: an array, and the number of times to repeat the elements. "
   ]
  },
  {
   "cell_type": "code",
   "execution_count": null,
   "metadata": {
    "collapsed": false
   },
   "outputs": [],
   "source": [
    "print np.repeat([1,2,3],5) #repeat each number 5 times\n",
    "\n"
   ]
  },
  {
   "cell_type": "markdown",
   "metadata": {},
   "source": [
    "This works for matrices too. Let's repeat `mymatrix` from above. If you have a matrix, you'll probably want to include a third argument, `axis`. This tells you which dimension you want to repeat (the rows or columns). rows correspond to the 0 axis, columns are 1. This is because when you're indexing, you say `mymatrix[row,column]`, or if you do `mymatrix.shape` then it will say `(3,3)`. So, the number in position 0 corresponds to the number of rows, and in position 1 it corresponds to the number of columns. "
   ]
  },
  {
   "cell_type": "code",
   "execution_count": null,
   "metadata": {
    "collapsed": false
   },
   "outputs": [],
   "source": [
    "print np.repeat(mymatrix,3) #if we exclude axis, then it flattens it to an array\n",
    "print np.repeat(mymatrix,3,axis=0) #repeat each row 3 times\n",
    "print np.repeat(mymatrix,3,axis=1) #repeat each column 3 times\n"
   ]
  },
  {
   "cell_type": "markdown",
   "metadata": {},
   "source": [
    "Sometimes you want to repeat an entire matrix a certain amount of times, and arrange them in a grid. For this you want `np.tile`. You give it a matrix, then a tuple specifying how many times you want to repeat it row-wise and column-wise. Later you'll learn how this is useful for images.  "
   ]
  },
  {
   "cell_type": "code",
   "execution_count": null,
   "metadata": {
    "collapsed": false
   },
   "outputs": [],
   "source": [
    "print np.tile(mymatrix,(2,3)) #repeat 2 times along the rows, 3 times along the columns\n",
    "\n",
    "print np.tile(mymatrix,(3,1)) #repeat 3 times along the rows only"
   ]
  },
  {
   "cell_type": "markdown",
   "metadata": {},
   "source": [
    "### Reshaping arrays\n",
    "\n",
    "Let's say you want a matrix that's 10x10, and you want it to contain the numbers 1 through 100. You could type this by hand, but it would be super annoying! We know that `numpy.arange` can produce the numbers 1 through 100, but it produces just a flat, 1-dimesional array. Don't fret, we can use the `numpy.reshape` function to take that flat array and reshape it into a matrix. We just specify how many rows and how many columns we want it to be, using a tuple:\n"
   ]
  },
  {
   "cell_type": "code",
   "execution_count": 136,
   "metadata": {
    "collapsed": false
   },
   "outputs": [
    {
     "name": "stdout",
     "output_type": "stream",
     "text": [
      "(100,)\n",
      "[[  1   2   3   4   5   6   7   8   9  10]\n",
      " [ 11  12  13  14  15  16  17  18  19  20]\n",
      " [ 21  22  23  24  25  26  27  28  29  30]\n",
      " [ 31  32  33  34  35  36  37  38  39  40]\n",
      " [ 41  42  43  44  45  46  47  48  49  50]\n",
      " [ 51  52  53  54  55  56  57  58  59  60]\n",
      " [ 61  62  63  64  65  66  67  68  69  70]\n",
      " [ 71  72  73  74  75  76  77  78  79  80]\n",
      " [ 81  82  83  84  85  86  87  88  89  90]\n",
      " [ 91  92  93  94  95  96  97  98  99 100]]\n"
     ]
    }
   ],
   "source": [
    "x = np.arange(1,101)\n",
    "print x.shape #(100,)\n",
    "\n",
    "print np.reshape(x,(10,10)) #easy peasy\n",
    "\n"
   ]
  },
  {
   "cell_type": "markdown",
   "metadata": {},
   "source": [
    "This is great, but what if we wanted to the numbers to count down the columns, instead of across rows? We can just change the argument `order` to the value of `F`. The `F` stands for \"Fortran\", because this mirrors how the Fortran programming language produces matrices. It's OK, this is not intuitive, I don't expect you to know that off the top of your head!"
   ]
  },
  {
   "cell_type": "code",
   "execution_count": 140,
   "metadata": {
    "collapsed": false
   },
   "outputs": [
    {
     "name": "stdout",
     "output_type": "stream",
     "text": [
      "[[  1  11  21  31  41  51  61  71  81  91]\n",
      " [  2  12  22  32  42  52  62  72  82  92]\n",
      " [  3  13  23  33  43  53  63  73  83  93]\n",
      " [  4  14  24  34  44  54  64  74  84  94]\n",
      " [  5  15  25  35  45  55  65  75  85  95]\n",
      " [  6  16  26  36  46  56  66  76  86  96]\n",
      " [  7  17  27  37  47  57  67  77  87  97]\n",
      " [  8  18  28  38  48  58  68  78  88  98]\n",
      " [  9  19  29  39  49  59  69  79  89  99]\n",
      " [ 10  20  30  40  50  60  70  80  90 100]]\n"
     ]
    }
   ],
   "source": [
    "print np.reshape(x,(10,10),order='F')"
   ]
  },
  {
   "cell_type": "markdown",
   "metadata": {},
   "source": [
    "### Just the beginning\n",
    "\n",
    "This is just scratching the surface of what numpy can do. We could literally spend a whole term just focusing on numpy. I just want to familiarize you with the basics. You'll learn later that numpy is used in conjunction with a lot of different packages, and is particularly relevant for plotting and for images. Numpy is a fundamental package which lots of other packages depend on, so it's good to know the basic functionality. \n",
    "\n",
    "This also introduces you to the concept of thinking in terms of arrays and matrices. This is a very powerful way of doing math. You can literally take thousands or millions of numbers at once, and treat them just like 1 number. If you are familiar with Matlab, this is now Matlab does most things by default."
   ]
  }
 ],
 "metadata": {
  "kernelspec": {
   "display_name": "Python 2",
   "language": "python",
   "name": "python2"
  },
  "language_info": {
   "codemirror_mode": {
    "name": "ipython",
    "version": 2
   },
   "file_extension": ".py",
   "mimetype": "text/x-python",
   "name": "python",
   "nbconvert_exporter": "python",
   "pygments_lexer": "ipython2",
   "version": "2.7.11"
  }
 },
 "nbformat": 4,
 "nbformat_minor": 0
}
