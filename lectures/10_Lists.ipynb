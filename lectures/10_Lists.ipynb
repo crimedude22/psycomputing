{
 "cells": [
  {
   "cell_type": "markdown",
   "metadata": {},
   "source": [
    "## Lists\n",
    "\n",
    "There is only so much you can do with single values for variables. Most of your heavy-duty programming will involve collections of values. This is accomplished with the `list` data type. There are also a number of helper functions (methods) for lists that help you do common operations. \n",
    "\n",
    "a `list` can be created in 2 ways: first, by enclosing values in square brackets `[]` with commas between them, or by calling the function `list`. Here the second method is redundant, but there are other situations where you need it.   "
   ]
  },
  {
   "cell_type": "code",
   "execution_count": null,
   "metadata": {},
   "outputs": [],
   "source": [
    "mylist = [8,6,7,5,3,0,9]\n",
    "\n",
    "print mylist\n",
    "print type(mylist)"
   ]
  },
  {
   "cell_type": "code",
   "execution_count": null,
   "metadata": {},
   "outputs": [],
   "source": [
    "mylist2 = list([8,6,7,5,3,0,9])"
   ]
  },
  {
   "cell_type": "code",
   "execution_count": null,
   "metadata": {},
   "outputs": [],
   "source": [
    "mylist==mylist2"
   ]
  },
  {
   "cell_type": "markdown",
   "metadata": {},
   "source": [
    "Many of our favorite functions return lists as outputs, like `range`"
   ]
  },
  {
   "cell_type": "code",
   "execution_count": null,
   "metadata": {},
   "outputs": [],
   "source": [
    "mylist = range(1,11)\n",
    "\n",
    "print mylist\n",
    "print type(mylist)"
   ]
  },
  {
   "cell_type": "markdown",
   "metadata": {},
   "source": [
    "`len` is a very useful function that tells us the length of a list:"
   ]
  },
  {
   "cell_type": "code",
   "execution_count": null,
   "metadata": {},
   "outputs": [],
   "source": [
    "len(mylist)"
   ]
  },
  {
   "cell_type": "code",
   "execution_count": null,
   "metadata": {},
   "outputs": [],
   "source": [
    "len(range(1,100001))"
   ]
  },
  {
   "cell_type": "markdown",
   "metadata": {},
   "source": [
    "## Indexing and Slicing\n",
    "\n",
    "Often times, we want to access particular elements within our list, this is called *indexing*. We do this using the square brakets with the position that we want to access inside of them. An important detail is that in Python, the very first item is index 0. This is different from Matlab and R, which start at 1. "
   ]
  },
  {
   "cell_type": "code",
   "execution_count": null,
   "metadata": {},
   "outputs": [],
   "source": [
    "x = range(1,11)\n",
    "index = range(0,10) #just for illustrative purposes\n",
    "\n",
    "print x\n",
    "print index #just for illustrative purposes\n",
    "\n",
    "\n",
    "print x[0]\n",
    "print x[1]\n",
    "print x[9]\n",
    "\n"
   ]
  },
  {
   "cell_type": "markdown",
   "metadata": {},
   "source": [
    "Other times, you need to select a range of values from your list. This is called 'slicing'. Slicing is done using the colon `:` to specify a range of indexes. We use the notation \"start:end\". \n",
    "\n",
    "This can get slightly confusing because the position starts at 0, and also because Python will give you the position \"end\" minus 1. \n",
    "\n",
    "So, if I say x[4:10], that is from *index* 4 to *index* 9. Index 4 is actually the 5th item in the list. Index 9 is the 10th item in the list. Arrgh Python!\n",
    "\n",
    "You can think of it as: **\"start at index 4, and go to the 10th one\".** \n"
   ]
  },
  {
   "cell_type": "code",
   "execution_count": null,
   "metadata": {},
   "outputs": [],
   "source": [
    "x = range(1,21) #the numbers 1 through 20\n",
    "\n",
    "print x[5:15] #from index 5 (so the 6th element) to the 15th element\n",
    "print x[15:20] #from index 15 (the 16th element) to the 20th element\n"
   ]
  },
  {
   "cell_type": "markdown",
   "metadata": {},
   "source": [
    "Slicing produces a new list with only the elements you asked for. You can save that smaller list as a new variable. "
   ]
  },
  {
   "cell_type": "code",
   "execution_count": null,
   "metadata": {},
   "outputs": [],
   "source": [
    "x = range(1,51) #the numbers 1 through 50\n",
    "y = x[5:9]\n",
    "\n",
    "print len(x) #50\n",
    "print len(y) #4\n",
    "\n"
   ]
  },
  {
   "cell_type": "markdown",
   "metadata": {},
   "source": [
    "If we do not include a number to the left of the colon that means \"from the very first element up until the nth\"\n",
    "\n",
    "If you do not include a number to the *right* of the colon, that means \"from the nth element to the very last element\" "
   ]
  },
  {
   "cell_type": "code",
   "execution_count": null,
   "metadata": {},
   "outputs": [],
   "source": [
    "print x[:5] #the first 5 elements\n",
    "print x[40:] #the last 10 elements\n"
   ]
  },
  {
   "cell_type": "markdown",
   "metadata": {},
   "source": [
    "We can also select a specific element starting from the end of the list. If we put a minus in front of the index, we are saying \"start at the end, and count back n elements\""
   ]
  },
  {
   "cell_type": "code",
   "execution_count": null,
   "metadata": {},
   "outputs": [],
   "source": [
    "print x[-1] #the last element\n",
    "print x[-2] #the second-from-last, \n",
    "print x[-10] #the tenth-from-last, including the last element"
   ]
  },
  {
   "cell_type": "markdown",
   "metadata": {},
   "source": [
    "One handy thing is to get every nth element from a list (also called the \"step size\"). We do this using the double colon `::`. So `x[::2]` starts at the beginning and gets every 2 elements, while `x[3::4]` starts at element 3 and grabs every 4th element. \n",
    "\n",
    "If we use a negative number as the step size, it counts backwards from the end of the list. `x[::-1]` will give you the list in reverse order, while `x[::-2]` will give every 2nd element from the list, in reverse order. "
   ]
  },
  {
   "cell_type": "code",
   "execution_count": null,
   "metadata": {},
   "outputs": [],
   "source": [
    "print x\n",
    "print x[::2]\n",
    "print x[5::3]\n",
    "print x[::-1]\n",
    "print x[::-3]"
   ]
  },
  {
   "cell_type": "code",
   "execution_count": null,
   "metadata": {
    "collapsed": true
   },
   "outputs": [],
   "source": []
  },
  {
   "cell_type": "markdown",
   "metadata": {},
   "source": [
    "We can use variables instead of numbers to index lists. Try changing the values of `start` and `end` to see how it works"
   ]
  },
  {
   "cell_type": "code",
   "execution_count": null,
   "metadata": {},
   "outputs": [],
   "source": [
    "start = 5\n",
    "end = 10\n",
    "\n",
    "x[start:end]"
   ]
  },
  {
   "cell_type": "markdown",
   "metadata": {},
   "source": [
    "This is useful if we want to access values from a list within a `for` loop. Here we generate some random numbers, then we make them all negative by multiplying them by -1"
   ]
  },
  {
   "cell_type": "code",
   "execution_count": null,
   "metadata": {},
   "outputs": [],
   "source": [
    "import random\n",
    "\n",
    "#draw 10 random integers from the range 1-500\n",
    "randnums = random.sample(range(1,501),10)\n",
    "\n",
    "print randnums\n",
    "\n",
    "for i in range(10): #notice we don't need the first argument if it's zero\n",
    "    randnums[i] = randnums[i]*(-1)\n",
    "    \n",
    "\n",
    "print randnums\n",
    "\n"
   ]
  },
  {
   "cell_type": "markdown",
   "metadata": {},
   "source": [
    "Notice that the cell above is not very flexible. Try grabbing 20 random numbers for `randnums` and running it. Notice only the first 10 numbers get turned negative. That's because our `for` loop is only set for 10 loops. What we want to do is loop once for every item in `randnums`. We can just modify our `for` loop to do it. "
   ]
  },
  {
   "cell_type": "code",
   "execution_count": null,
   "metadata": {},
   "outputs": [],
   "source": [
    "import random\n",
    "\n",
    "#draw 10 random integers from the range 1-500\n",
    "randnums = random.sample(range(1,501),20)\n",
    "\n",
    "print randnums\n",
    "\n",
    "for i in range(len(randnums)): #now we loop however many times we need to fill randnums\n",
    "    randnums[i] = randnums[i]*(-1)\n",
    "    \n",
    "\n",
    "print randnums\n"
   ]
  },
  {
   "cell_type": "markdown",
   "metadata": {
    "collapsed": true
   },
   "source": [
    "Now it doesn't matter if our list is 5 elements or 5000, it will always loop the right number of times"
   ]
  },
  {
   "cell_type": "markdown",
   "metadata": {},
   "source": [
    "## List Methods\n",
    "\n",
    "By design, lists are very flexible (\"mutable\"). They are made for adding, removing, and moving items within them. This is accomplished with a number of *methods* that are specific to lists. Methods are different because you call them by putting them at the end of your variable, like this (remember string methods work like this too): "
   ]
  },
  {
   "cell_type": "code",
   "execution_count": null,
   "metadata": {},
   "outputs": [],
   "source": [
    "mylist = range(1,11)\n",
    "\n",
    "print mylist\n",
    "\n",
    "mylist.append(777)\n",
    "print mylist"
   ]
  },
  {
   "cell_type": "markdown",
   "metadata": {},
   "source": [
    "The syntax is a little funny. Notice that this alters `mylist` withough us doing an assignment with the `=` sign. So far, we have changed values like this: \n",
    "\n",
    "```python\n",
    "x = x + 1\n",
    "```\n",
    "\n",
    "But when you use a method at the end of a variable, you are saying \"I'm going to alter this variable, using this method.\" If you keep running the cell above, you'll notice that mylist gets larger and larger. \n",
    "\n",
    "`append` is for appending some value (or list) to the end of a list. It is particularly useful if you want to start with an empty list, and fill in values over the course of a `for` loop. "
   ]
  },
  {
   "cell_type": "code",
   "execution_count": null,
   "metadata": {},
   "outputs": [],
   "source": [
    "\n",
    "mylist = [] #start with an empty list\n",
    "\n",
    "for i in range(1,51):\n",
    "    mylist.append(i) #append the value of i to mylist at each loop\n",
    "    \n",
    "\n",
    "print mylist\n"
   ]
  },
  {
   "cell_type": "markdown",
   "metadata": {},
   "source": [
    "the `pop` method is almost the opposite of `append`. It removes the last element from the list, and returns that value. The list gets smaller each time you call `pop`"
   ]
  },
  {
   "cell_type": "code",
   "execution_count": null,
   "metadata": {},
   "outputs": [],
   "source": [
    "mylist = range(1,11)\n",
    "print mylist\n",
    "\n",
    "lastitem = mylist.pop()\n",
    "\n",
    "print lastitem\n",
    "print mylist #notice mylist is smaller now"
   ]
  },
  {
   "cell_type": "code",
   "execution_count": null,
   "metadata": {},
   "outputs": [],
   "source": [
    "mylist = range(1,11)\n",
    "\n",
    "for i in range(len(mylist)):\n",
    "    print mylist.pop()\n",
    "\n",
    "    \n",
    "print mylist #now mylist is empty!"
   ]
  },
  {
   "cell_type": "markdown",
   "metadata": {},
   "source": [
    "`pop` takes an optional argument-- an index of the item to remove. By default it removes the last item, but maybe you want it to remove the first item. You do this by saying `.pop(0)` Notice the output below is in the reverse order compared to the one above. "
   ]
  },
  {
   "cell_type": "code",
   "execution_count": null,
   "metadata": {},
   "outputs": [],
   "source": [
    "mylist = range(1,11)\n",
    "\n",
    "for i in range(0,len(mylist)):\n",
    "    print mylist.pop(0)"
   ]
  },
  {
   "cell_type": "code",
   "execution_count": null,
   "metadata": {
    "collapsed": true
   },
   "outputs": [],
   "source": []
  },
  {
   "cell_type": "markdown",
   "metadata": {},
   "source": [
    "`count` will count the number of occurrences of a certain value in a list. "
   ]
  },
  {
   "cell_type": "code",
   "execution_count": null,
   "metadata": {},
   "outputs": [],
   "source": [
    "mylist = [1,1,1,3,4,4,2,2,2,2,2,6]\n",
    "\n",
    "print mylist.count(1)\n",
    "print mylist.count(2)"
   ]
  },
  {
   "cell_type": "code",
   "execution_count": null,
   "metadata": {},
   "outputs": [],
   "source": [
    "#it's a little more intuitive with text lists\n",
    "mylist = ['apple', 'banana','banana','banana','tomato','apple']\n",
    "\n",
    "print mylist.count('apple')\n",
    "print mylist.count('banana')"
   ]
  },
  {
   "cell_type": "markdown",
   "metadata": {},
   "source": [
    "We can use `index` to figure out the index of the first occurrence of a value in your list. It is kind of like the `find` method for strings. "
   ]
  },
  {
   "cell_type": "code",
   "execution_count": null,
   "metadata": {},
   "outputs": [],
   "source": [
    "mylist.index('tomato')"
   ]
  },
  {
   "cell_type": "markdown",
   "metadata": {},
   "source": [
    "`remove` will remove some value from your list "
   ]
  },
  {
   "cell_type": "code",
   "execution_count": null,
   "metadata": {},
   "outputs": [],
   "source": [
    "mylist.remove('tomato')\n",
    "\n",
    "print mylist"
   ]
  },
  {
   "cell_type": "markdown",
   "metadata": {},
   "source": [
    "`insert` will insert some value at the position you want"
   ]
  },
  {
   "cell_type": "code",
   "execution_count": null,
   "metadata": {},
   "outputs": [],
   "source": [
    "mylist.insert(0,'tomato') #put at the beginning of the list\n",
    "print mylist\n",
    "\n",
    "mylist.insert(2,'papaya') #put as the 3rd element of the list (index 2)\n",
    "print mylist"
   ]
  },
  {
   "cell_type": "markdown",
   "metadata": {},
   "source": [
    "If we want to create a larger list from 2 lists, we use `extend`"
   ]
  },
  {
   "cell_type": "code",
   "execution_count": null,
   "metadata": {},
   "outputs": [],
   "source": [
    "list1= [1,2,3]\n",
    "list2 = [4,5,6]\n",
    "\n",
    "print list1\n",
    "print list2\n",
    "\n",
    "list1.extend(list2)\n",
    "\n",
    "print list1"
   ]
  },
  {
   "cell_type": "markdown",
   "metadata": {},
   "source": [
    "We can rearrange list elements with `sort` and `reverse`"
   ]
  },
  {
   "cell_type": "code",
   "execution_count": null,
   "metadata": {},
   "outputs": [],
   "source": [
    "mylist.sort()\n",
    "\n",
    "print mylist\n",
    "\n",
    "mylist.reverse()\n",
    "\n",
    "print mylist"
   ]
  },
  {
   "cell_type": "markdown",
   "metadata": {},
   "source": [
    "## Lists within lists\n",
    "\n",
    "<img align='left', width='200px' src='http://www.moviesonline.ca/wp-content/uploads/2010/10/Inception-Movie.jpg'></img>\n",
    "\n",
    "Lists can hold any type of information. They can hold numbers and text together, and they can also hold *other lists* as elements. "
   ]
  },
  {
   "cell_type": "code",
   "execution_count": null,
   "metadata": {},
   "outputs": [],
   "source": [
    "\n",
    "mylist = [ [1,2,3], [4,5], 6, [7,8,9,10]]\n",
    "\n",
    "print mylist\n",
    "\n",
    "print len(mylist)\n",
    "\n"
   ]
  },
  {
   "cell_type": "markdown",
   "metadata": {},
   "source": [
    "There are 10 numbers, so why does it say there are only 4 elements? Let's index each element:"
   ]
  },
  {
   "cell_type": "code",
   "execution_count": null,
   "metadata": {},
   "outputs": [],
   "source": [
    "print mylist[0]\n",
    "print mylist[1]\n",
    "print mylist[2]\n",
    "print mylist[3]"
   ]
  },
  {
   "cell_type": "markdown",
   "metadata": {},
   "source": [
    "Notice that the first, second, and fourth elements are lists themselves. If we wanted to access the number 9 from this list, how would we do it? See if you can figure it out. "
   ]
  },
  {
   "cell_type": "code",
   "execution_count": null,
   "metadata": {
    "collapsed": true
   },
   "outputs": [],
   "source": []
  },
  {
   "cell_type": "markdown",
   "metadata": {},
   "source": [
    "Having nested lists points out a key distinction between `append` and `extend`"
   ]
  },
  {
   "cell_type": "code",
   "execution_count": null,
   "metadata": {},
   "outputs": [],
   "source": [
    "list1 = [1,2,3]\n",
    "list2 = ['apple','banana','tomato']\n",
    "\n",
    "list1.append(list2)\n",
    "\n",
    "print list1\n",
    "print len(list1)"
   ]
  },
  {
   "cell_type": "code",
   "execution_count": null,
   "metadata": {},
   "outputs": [],
   "source": [
    "list1 = [1,2,3]\n",
    "list2 = ['apple','banana','tomato']\n",
    "\n",
    "list1.extend(list2)\n",
    "\n",
    "print list1\n",
    "print len(list1)"
   ]
  },
  {
   "cell_type": "markdown",
   "metadata": {},
   "source": [
    "Can you explain what's going on here? "
   ]
  },
  {
   "cell_type": "markdown",
   "metadata": {},
   "source": [
    "## Tuples\n",
    "\n",
    "A `tuple` is not an obvious thing for beginners. It is a lot like a list, except you create it using parentheses () instead of square brakets. The main difference is that a `tuple` is *immutable*. Once you create it, the elements cannot be modified. Usually you will only encounter a tuple if a certain function returns multiple values. "
   ]
  },
  {
   "cell_type": "code",
   "execution_count": null,
   "metadata": {},
   "outputs": [],
   "source": [
    "mytuple = (1,2,3)\n",
    "\n",
    "print mytuple"
   ]
  },
  {
   "cell_type": "markdown",
   "metadata": {},
   "source": [
    "Usually tuples only have 2-3 elements. We can index tuples like lists though: "
   ]
  },
  {
   "cell_type": "code",
   "execution_count": null,
   "metadata": {},
   "outputs": [],
   "source": [
    "print mytuple[1]\n",
    "print mytuple[1:3]"
   ]
  },
  {
   "cell_type": "markdown",
   "metadata": {},
   "source": [
    "Tuples tend to be short because they lack the handy methods that lists have for rearranging, adding, and removing items. By definition, you can't do any of those things. If you have to rearrange 100 items, you want a list, not a tuple. "
   ]
  },
  {
   "cell_type": "code",
   "execution_count": null,
   "metadata": {},
   "outputs": [],
   "source": [
    "mytuple.remove(2) #error!"
   ]
  },
  {
   "cell_type": "markdown",
   "metadata": {},
   "source": [
    "There will be cases where you need to use tuples, but it's usually when an existing function requires it as an input, or produces it as an output. If you need to organize lots of information, lists are the way to go! "
   ]
  },
  {
   "cell_type": "code",
   "execution_count": null,
   "metadata": {},
   "outputs": [],
   "source": []
  }
 ],
 "metadata": {
  "kernelspec": {
   "display_name": "Python 2",
   "language": "python",
   "name": "python2"
  },
  "language_info": {
   "codemirror_mode": {
    "name": "ipython",
    "version": 2
   },
   "file_extension": ".py",
   "mimetype": "text/x-python",
   "name": "python",
   "nbconvert_exporter": "python",
   "pygments_lexer": "ipython2",
   "version": "2.7.13"
  }
 },
 "nbformat": 4,
 "nbformat_minor": 1
}
