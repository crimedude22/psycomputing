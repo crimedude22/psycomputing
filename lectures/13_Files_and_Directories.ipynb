{
 "cells": [
  {
   "cell_type": "markdown",
   "metadata": {},
   "source": [
    "# Files and Directories\n",
    "\n",
    "Your computer is full of files. These files are contained in different folders. Often times, you will need to move, copy, rename, create, or delete these files and directories. Python provides a number of functions for doing this. \n",
    "\n",
    "Even if you don't realize it, your notebook is always \"running\" in a particular folder on your computer. This always starts as the folder that the file is saved in. You can use one of the IPython \"magic\" functions, `%pwd` to see what your \"Present Working Directory\" is. Just run the cell below. "
   ]
  },
  {
   "cell_type": "code",
   "execution_count": null,
   "metadata": {
    "collapsed": false,
    "scrolled": true
   },
   "outputs": [],
   "source": [
    "%pwd"
   ]
  },
  {
   "cell_type": "markdown",
   "metadata": {},
   "source": [
    "## File Paths\n",
    "\n",
    "You may be unfamiliar with the way this prints out. The idea is, your folders are organized in a hierarchical structure. You have 1 big \"root\" folder, with subfolders inside of it, and subfolders inside of that. In Windows, if you click on the Start button, then \"Computer\", you can double-click on the C drive, which is the \"root\" folder of your system. But the system can have other drives, like the R drive, which we've been using for this class.  \n",
    "\n",
    "On Mac, you navigate through your folders using the Finder. If you open the Finder, it might start in a different folder (like your Home folder, which matches your username). You might have a link on the left that points to the highest level. It will be something like \"Bob's Macbook Pro\". If you click on that, then you will see \"Macintosh HD\" which is your hard drive. This is the \"root\" folder for your system. Here's another trick: whatever folder you're in, you can move \"up\" in the hierarchy by pressing Cmd+[up arrow]. Just keep doing it until you see the link to the Macintosh HD. \n",
    "\n",
    "Each time you double-click on a folder name, you are moving inside of that folder, and seeing what's inside of it. This will usually be a mixture of files and other folders. You can represent your current location in this hierarchy using a **path**. It's a way to show you where you are in the system, starting from the root directory. Each folder name is separated by a slash. In Windows, this is a backslash \\, in Mac and Linux, it's a forward slash /. So, if my path is: \n",
    "\n",
    "**R:\\Psy407_9\\Class_Data\\homework**\n",
    "\n",
    "I can navigate to that folder by clicking the Start button, then \"R\", \"Psy407_9\", \"Class_Data\", then \"homework\"\n",
    "\n",
    "On a Mac, your path might look like:\n",
    "\n",
    "**/Volumes/Psy407_9/Class_Data/homework**\n",
    "\n",
    "On Windows, all paths start with a drive as the starting point. C is the default where everything is kept, and each drive connected to the computer is given another letter (like R). \n",
    "\n",
    "On Mac, **all** paths start with the root folder / . If you connect a different hard drive, or connect to a remote drive (like you do for the class), then those are kept under the Volumes subfolder under /. When you are clicking around in the Finder, you can't see the \"Volumes\" folder, because it hides it, but it's there. \n",
    "\n",
    "\n",
    "## Listing files and Changing Folders in Python\n",
    "\n",
    "Now let's see what's inside of our present working directory. If we just want to look at them (and not use them for our script), we can use the `%ls` magic function. This \"lists\" everything inside of the current folder. Run the cell below, then outside of Jupyter try to navigate to the same folder and see if it is listing the same files. Notice that any folders are printed in blue and have a slash by their name. "
   ]
  },
  {
   "cell_type": "code",
   "execution_count": null,
   "metadata": {
    "collapsed": false,
    "scrolled": true
   },
   "outputs": [],
   "source": [
    "%ls"
   ]
  },
  {
   "cell_type": "markdown",
   "metadata": {},
   "source": [
    "Now let's move our working directory to a different folder. Let's try to move to **R:\\Psy407_9\\Class_Data\\homework**.\n",
    "\n",
    "This can be accomplished using the `os` package (it stands for Operating System). There is a function called `chdir` that allows you to change directories. "
   ]
  },
  {
   "cell_type": "code",
   "execution_count": null,
   "metadata": {
    "collapsed": false,
    "scrolled": true
   },
   "outputs": [],
   "source": [
    "import os\n",
    "\n",
    "os.chdir('R:\\Psy407_9\\Class_Data\\homework')\n",
    "%pwd\n"
   ]
  },
  {
   "cell_type": "markdown",
   "metadata": {},
   "source": [
    "## Folder shortcuts: `.` and `..`\n",
    "\n",
    "There are 2 useful shortcuts for moving between folders. Whatever folder you are currently in, you can represent it using the `.` character. Your system understands this as \"my current folder\". So, if you want to start in the current folder, and go to a subfolder called \"answers\", you can type: \n",
    "\n",
    "```python\n",
    "os.chdir('./answers')\n",
    "\n",
    "```\n",
    "This means \"start wherever I happen to be, and move to the subfolder \"answers\". The benefit of this is that it is portable. If I copy this whole folder to a different location, like the C drive instead of the R drive, then it still works. If I moved the files then tried to move to \"R:\\Psy407_9\\Class_Data\\homework\\answers\" then it wouldn't work. \n",
    "\n",
    "\n",
    "Another useful shortcut is `..`, which translates to \"move 1 folder up from wherever I am now\". So if we want to go *back* up to R:\\Psy407_9\\Class_Data\\homework, then all we have to do is: \n",
    "\n",
    "```python\n",
    "os.chdir('..')\n",
    "\n",
    "```\n",
    "\n",
    "You can chain the `..` characters together to keep moving up through the hierarchy. So if you want to move up by 3 folders, you can do: \n",
    "\n",
    "```python\n",
    "os.chdir('../../../')\n",
    "\n",
    "```\n",
    "\n",
    "Run the cells below and see if you understand what's going on. "
   ]
  },
  {
   "cell_type": "code",
   "execution_count": null,
   "metadata": {
    "collapsed": false,
    "scrolled": true
   },
   "outputs": [],
   "source": [
    "os.chdir('R:\\Psy407_9\\Class_Data\\homework')\n",
    "%pwd\n",
    "\n"
   ]
  },
  {
   "cell_type": "code",
   "execution_count": null,
   "metadata": {
    "collapsed": false,
    "scrolled": true
   },
   "outputs": [],
   "source": [
    "os.chdir('./answers') #go to the subfolder\n",
    "%pwd"
   ]
  },
  {
   "cell_type": "code",
   "execution_count": null,
   "metadata": {
    "collapsed": false,
    "scrolled": true
   },
   "outputs": [],
   "source": [
    "os.chdir('..') #go back where you started\n",
    "%pwd"
   ]
  },
  {
   "cell_type": "code",
   "execution_count": null,
   "metadata": {
    "collapsed": false,
    "scrolled": true
   },
   "outputs": [],
   "source": [
    "os.chdir('../../') #now go up TWO levels \n",
    "%pwd\n"
   ]
  },
  {
   "cell_type": "markdown",
   "metadata": {},
   "source": [
    "The nice thing about paths is that they're just strings! We can then construct paths using different string functions, and direct Python wherever we want. There are a number of functions inside the `os.path` package that make this convenient, although we could do it using things like `split` and `join` if we wanted. \n",
    "\n",
    "Notice that the argument we give `os.chdir` is just a string. That string happens to be a path. Remember, wherever we use a string or number, we can use a variable instead!"
   ]
  },
  {
   "cell_type": "code",
   "execution_count": null,
   "metadata": {
    "collapsed": false,
    "scrolled": true
   },
   "outputs": [],
   "source": [
    "mypath = 'R:\\Psy407_9\\Class_Data\\homework'\n",
    "\n",
    "os.chdir(mypath)\n",
    "%pwd"
   ]
  },
  {
   "cell_type": "markdown",
   "metadata": {},
   "source": [
    "The `join` function from `os.path` is great for creating a file path based on a bunch of folder and file names. It inserts the appropriate slash characters between them (and will change to forward or backslash if you're on a mac or pc). "
   ]
  },
  {
   "cell_type": "code",
   "execution_count": null,
   "metadata": {
    "collapsed": false,
    "scrolled": true
   },
   "outputs": [],
   "source": [
    "\n",
    "mypath = os.path.join('R:\\\\','Psy407_9','Class_Data','homework','answers')\n",
    "print mypath\n",
    "\n",
    "os.chdir(mypath)\n",
    "%pwd"
   ]
  },
  {
   "cell_type": "markdown",
   "metadata": {},
   "source": [
    "We can check if a file or directory exists using `os.path.exists`. This is great for `if` statements. "
   ]
  },
  {
   "cell_type": "code",
   "execution_count": null,
   "metadata": {
    "collapsed": false,
    "scrolled": true
   },
   "outputs": [],
   "source": [
    "os.path.exists(mypath)"
   ]
  },
  {
   "cell_type": "markdown",
   "metadata": {},
   "source": [
    "There are a number of other useful functions, which are listed below, and on this page: <https://docs.python.org/2/library/os.path.html> . I will let you study these on your own"
   ]
  },
  {
   "cell_type": "code",
   "execution_count": null,
   "metadata": {
    "collapsed": false,
    "scrolled": true
   },
   "outputs": [],
   "source": [
    "\n",
    "print os.path.split(mypath) #useful for separating a file from the folder it is in\n",
    "print os.path.basename(mypath) #a more straightforward method of doing the same thing\n",
    "print os.path.isdir(mypath)\n",
    "print os.path.isfile(mypath)\n"
   ]
  },
  {
   "cell_type": "markdown",
   "metadata": {},
   "source": [
    "### Saving File and directory names into a list\n",
    "\n",
    "The `glob` function from the `glob` package is great if you want to list the files in the current working directory and save the names of those files into a Python list. Why would you want to do this? Well, maybe you have a folder full of text files, and you want to loop through each one and read it into Python. \n",
    "\n",
    "`glob` can use a wildcard character `*`, which means \"anything\". For instance, if we wanted to list all files in the current folder and save them as a list, we would just do: "
   ]
  },
  {
   "cell_type": "code",
   "execution_count": null,
   "metadata": {
    "collapsed": false,
    "scrolled": true
   },
   "outputs": [],
   "source": [
    "from glob import glob #otherwise we have to say glob.glob every time\n",
    "\n",
    "allfiles= glob('*') #list all files\n",
    "\n",
    "allfiles"
   ]
  },
  {
   "cell_type": "markdown",
   "metadata": {},
   "source": [
    "If we wanted to list all files and directories that start with the letter h, we could do it like this: "
   ]
  },
  {
   "cell_type": "code",
   "execution_count": null,
   "metadata": {
    "collapsed": false,
    "scrolled": true
   },
   "outputs": [],
   "source": [
    "hfiles = glob('h*') #lowercase h, followed by anything else\n",
    "hfiles"
   ]
  },
  {
   "cell_type": "markdown",
   "metadata": {},
   "source": [
    "This is great if you only want certain file types. File types are specified by the file extension (.txt, .csv, .ipynb, .docx, and so on). So, if we wanted to see just the jupyter notebooks in the current directory, we would search for anything that ends in `.ipynb`"
   ]
  },
  {
   "cell_type": "code",
   "execution_count": null,
   "metadata": {
    "collapsed": false,
    "scrolled": true
   },
   "outputs": [],
   "source": [
    "notebooks = glob('*.ipynb')\n",
    "notebooks"
   ]
  },
  {
   "cell_type": "markdown",
   "metadata": {},
   "source": [
    "The output is just a list, and each element in the list is a string. There is nothing special about this output, except it corresponds to filenames. We can then use that information to load files into python. \n",
    "\n",
    "Let's say we want to list all .txt files and load one of them in. Before, we always specified a filename based on a string, but remember, we can use a variable anywhere we use a string: "
   ]
  },
  {
   "cell_type": "code",
   "execution_count": null,
   "metadata": {
    "collapsed": false,
    "scrolled": true
   },
   "outputs": [],
   "source": [
    "\n",
    "os.chdir('./datasets/') #move to datasets folder\n",
    "txtfiles = glob('*.txt') #list all txt files\n",
    "print txtfiles #print all of them\n",
    "\n",
    "print txtfiles[0] #print just the first\n",
    "\n"
   ]
  },
  {
   "cell_type": "code",
   "execution_count": null,
   "metadata": {
    "collapsed": false,
    "scrolled": true
   },
   "outputs": [],
   "source": [
    "\n",
    "with open(txtfiles[0]) as f: #take the first text file and read it in\n",
    "    lines = f.readlines()\n",
    "    \n",
    "    \n",
    "print lines[:10] #print out the first 10 lines\n",
    "\n"
   ]
  },
  {
   "cell_type": "markdown",
   "metadata": {},
   "source": [
    "The `%pwd` function is nice for telling you what folder you're in, but you can't use that information in your script. If you want to save the current working directory as a string, so you can use it, then use the function `os.getcwd`"
   ]
  },
  {
   "cell_type": "code",
   "execution_count": null,
   "metadata": {
    "collapsed": false,
    "scrolled": true
   },
   "outputs": [],
   "source": [
    "current_path = os.getcwd()\n",
    "\n",
    "print current_path"
   ]
  },
  {
   "cell_type": "markdown",
   "metadata": {},
   "source": [
    "The nice thing, is we can use this with `os.path.join` to create a full path to one of our text files:"
   ]
  },
  {
   "cell_type": "code",
   "execution_count": null,
   "metadata": {
    "collapsed": false,
    "scrolled": true
   },
   "outputs": [],
   "source": [
    "\n",
    "print os.path.join(current_path,txtfiles[0])\n",
    "\n"
   ]
  },
  {
   "cell_type": "markdown",
   "metadata": {},
   "source": [
    "A nice shortcut, though, is to use `os.path.abspath` to get the \"absolute path\" to a file"
   ]
  },
  {
   "cell_type": "code",
   "execution_count": null,
   "metadata": {
    "collapsed": false,
    "scrolled": true
   },
   "outputs": [],
   "source": [
    "print os.path.abspath(txtfiles[0])"
   ]
  }
 ],
 "metadata": {
  "kernelspec": {
   "display_name": "Python 2",
   "language": "python",
   "name": "python2"
  },
  "language_info": {
   "codemirror_mode": {
    "name": "ipython",
    "version": 2
   },
   "file_extension": ".py",
   "mimetype": "text/x-python",
   "name": "python",
   "nbconvert_exporter": "python",
   "pygments_lexer": "ipython2",
   "version": "2.7.11"
  }
 },
 "nbformat": 4,
 "nbformat_minor": 0
}
