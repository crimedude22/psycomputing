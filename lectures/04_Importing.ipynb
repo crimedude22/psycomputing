{
 "cells": [
  {
   "cell_type": "markdown",
   "metadata": {},
   "source": [
    "## Importing Basics\n",
    "\n",
    "Stock Python is useful for a lot of things, but the beauty of Python is that you can expand its functionality by installing \"packages\". These packages are like \"apps\" for Python that allow it to do new things. There are 2 steps to using pacakges. First, they must be installed on your system so they're available (you use the command `pip install <packagename>` to do this on your own computer), then when you're writing your script, you need to tell python which package you're using. This is done with the `import` function. "
   ]
  },
  {
   "cell_type": "code",
   "execution_count": null,
   "metadata": {
    "collapsed": false
   },
   "outputs": [],
   "source": [
    "x = 7\n",
    "\n",
    "sin(x) #we can't compute sine without the math package, so this crashes"
   ]
  },
  {
   "cell_type": "code",
   "execution_count": null,
   "metadata": {
    "collapsed": false
   },
   "outputs": [],
   "source": [
    "import math\n",
    "\n",
    "math.sin(x) #this works!"
   ]
  },
  {
   "cell_type": "markdown",
   "metadata": {},
   "source": [
    "Notice the way that we typed `math.sin(x)`. What we're really saying is \"I am using the `sin` function from the `math` package\". More specifically, we say that the `sin` function can be found in the `math` \"namespace\". If we type `math.` then hit `Tab` it will show all the functions that are available in that namespace. "
   ]
  },
  {
   "cell_type": "code",
   "execution_count": null,
   "metadata": {
    "collapsed": false
   },
   "outputs": [],
   "source": [
    "#do it here. type math. then hit TAB"
   ]
  },
  {
   "cell_type": "markdown",
   "metadata": {},
   "source": [
    "### Use the Tab key!\n",
    "\n",
    "In general, you can use the Tab key to save yourself a lot of typing. When you're typing folder names, hitting Tab will try to finish the folder name. Or, if you're typing a variable name, if you hit Tab after the first few characters, it will try to finish it. Try it below. First, run the cell once. Then type in \"myreal\" and hit Tab. It should finish typing the name for you. "
   ]
  },
  {
   "cell_type": "code",
   "execution_count": null,
   "metadata": {
    "collapsed": true
   },
   "outputs": [],
   "source": [
    "myreallylongvariablename = 5\n",
    "\n"
   ]
  },
  {
   "cell_type": "markdown",
   "metadata": {},
   "source": [
    "### Different ways of importing\n",
    "\n",
    "The `math.sin` syntax isn't too bad in this case, but sometimes it can get tedious. What if the package's name was `supercomputation`? Then you'd have to type `supercomputation.somefunction(x)` a bunch of times in your script. That's too much typing!\n",
    "\n",
    "Luckily there are a couple options. First, `math` has lots of functions, and maybe we only need some of them. We can import specific functions into our \"global namespace\". It's a fancy way of saying that we make them available without having to type \"math.\" in front of them. "
   ]
  },
  {
   "cell_type": "code",
   "execution_count": null,
   "metadata": {
    "collapsed": false
   },
   "outputs": [],
   "source": [
    "from math import sin\n",
    "\n",
    "sin(x) #goodbye \"math.\" !"
   ]
  },
  {
   "cell_type": "code",
   "execution_count": null,
   "metadata": {
    "collapsed": false
   },
   "outputs": [],
   "source": [
    "#this also works for multiple functions: \n",
    "from math import sin,cos,tan\n",
    "\n",
    "print sin(x), cos(x), tan(x)"
   ]
  },
  {
   "cell_type": "markdown",
   "metadata": {},
   "source": [
    "Notice that we can now drop the \"math.\" for the functions we imported (`sin`, `cos`, and `tan`). If we try to use the function `pi` (which just returns the value of pi) without the \"math.\" it doesn't work:"
   ]
  },
  {
   "cell_type": "code",
   "execution_count": null,
   "metadata": {
    "collapsed": false
   },
   "outputs": [],
   "source": [
    "pi #crashy"
   ]
  },
  {
   "cell_type": "code",
   "execution_count": null,
   "metadata": {
    "collapsed": false
   },
   "outputs": [],
   "source": [
    "math.pi #works fine"
   ]
  },
  {
   "cell_type": "markdown",
   "metadata": {},
   "source": [
    "If we really wanted to use *all* the `math` functions without typing \"math.\" we can do that using `*` like the example below. You will learn that the asterisk (`*`) is a universal symbol meaning \"everything\".  "
   ]
  },
  {
   "cell_type": "code",
   "execution_count": null,
   "metadata": {
    "collapsed": true
   },
   "outputs": [],
   "source": [
    "from math import *  #import everything from the math package"
   ]
  },
  {
   "cell_type": "code",
   "execution_count": null,
   "metadata": {
    "collapsed": false
   },
   "outputs": [],
   "source": [
    "pi #now it works!"
   ]
  },
  {
   "cell_type": "markdown",
   "metadata": {},
   "source": [
    "What is the significance of this? Well, we have basically moved all the functions from the `math` namespace to the \"global namespace\". In plain English, we have made it so Python can find those functions without telling it which package to look inside of. \n",
    "\n",
    "So why don't we do this all the time? It saves a lot of typing, right? Well, there's a reason Python has these separate namespaces. Some functions may have names that have different meantings for different packages. \n",
    "\n",
    "What if I made a package called `devil`, that had a function called `sin`?\n",
    "\n",
    "```python\n",
    "\n",
    "from devil import *\n",
    "\n",
    "person = 'Bob'\n",
    "sin(Bob)\n",
    "\n",
    "Bob killed somebody\n",
    "\n",
    "```\n"
   ]
  },
  {
   "cell_type": "markdown",
   "metadata": {},
   "source": [
    "Later in my script, when I want to compute the sine of x, and I type `sin(x)`, how does Python know whether I want to compute the sine, or make `x` perform a sin? Which package should it be looking for? \n",
    "\n",
    "This is a silly example, but there are real-world situations where the same function name is used in multiple packages. That's why having the `package.function` syntax is much safer to use. So how do we avoid typing too much? \n",
    "\n",
    "There's yet *another* way to import in Python that allows us to abbreviate the package name, using **`as`**: "
   ]
  },
  {
   "cell_type": "code",
   "execution_count": null,
   "metadata": {
    "collapsed": false
   },
   "outputs": [],
   "source": [
    "import math as ma\n",
    "\n",
    "ma.sin(x)"
   ]
  },
  {
   "cell_type": "markdown",
   "metadata": {},
   "source": [
    "Now we get the advantages of using the separate namespaces without typing too much! This is the method that I would recommend for most situations, unless the package has a small name to begin with, or you really only need 1 function from the package. You will notice that people have developed conventions for particular packages. For instance, the `numpy` package (which we will cover later) is almost always abbreviated as `np`"
   ]
  },
  {
   "cell_type": "code",
   "execution_count": null,
   "metadata": {
    "collapsed": false
   },
   "outputs": [],
   "source": [
    "import numpy as np\n",
    "\n",
    "np.arange(10)"
   ]
  },
  {
   "cell_type": "code",
   "execution_count": null,
   "metadata": {
    "collapsed": true
   },
   "outputs": [],
   "source": []
  },
  {
   "cell_type": "code",
   "execution_count": null,
   "metadata": {
    "collapsed": true
   },
   "outputs": [],
   "source": []
  }
 ],
 "metadata": {
  "kernelspec": {
   "display_name": "Python 2",
   "language": "python",
   "name": "python2"
  },
  "language_info": {
   "codemirror_mode": {
    "name": "ipython",
    "version": 2
   },
   "file_extension": ".py",
   "mimetype": "text/x-python",
   "name": "python",
   "nbconvert_exporter": "python",
   "pygments_lexer": "ipython2",
   "version": "2.7.11"
  }
 },
 "nbformat": 4,
 "nbformat_minor": 0
}
