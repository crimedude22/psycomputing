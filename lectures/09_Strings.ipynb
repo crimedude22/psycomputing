{
 "cells": [
  {
   "cell_type": "markdown",
   "metadata": {},
   "source": [
    "## String Operations\n",
    "\n",
    "\n",
    "Python has lots of built-in ways for dealing with text data. This can be tremendously useful if you need to search through text data, or if you need to manipulate text.\n",
    "\n",
    "There are a whole host of methods, but I will show you just some of the basics. First, let's make a couple of string variables:\n"
   ]
  },
  {
   "cell_type": "code",
   "execution_count": null,
   "metadata": {
    "collapsed": true
   },
   "outputs": [],
   "source": [
    "\n",
    "str1 = 'Jason Hubbard'\n",
    "str2 = 'That is what my name is, you know. What is your name?'\n"
   ]
  },
  {
   "cell_type": "markdown",
   "metadata": {},
   "source": [
    "### Methods\n",
    "\n",
    "Many of the string operations are done with `methods`. You will see this with lists too. Methods are functions too, except you tag them to the end of a variable name with a dot `.` \n",
    "\n",
    "This is because methods are meant to operate on certain types of objects (data types). It's hard to wrap your head around at first, but you'll get the hang of it!\n",
    "\n",
    "### Startswith/Endswith\n",
    "\n",
    "\n",
    "Two handy methods are `startswith` and `endswidth`, which tell you whether or not (you guessed it) the string starts or ends with some character. The function returns `True` or `False`. "
   ]
  },
  {
   "cell_type": "markdown",
   "metadata": {},
   "source": [
    "> When I've taught programming before, I've found that people can understand objects pretty easily if they're introduced first. It's easy to think about anthropomorphisms like \"Businessman objects know the method of stealing from the poor, and have the attribute of a full wallet.\" More importantly though, It's deep in the nature of Python and makes a lot of the confusing parts of the language self-evident. "
   ]
  },
  {
   "cell_type": "code",
   "execution_count": null,
   "metadata": {},
   "outputs": [],
   "source": [
    "print str1.startswith('J')\n",
    "\n",
    "print str1.startswith('Jas')\n",
    "\n",
    "print str2.startswith('That')\n",
    "print str1.startswith('That')"
   ]
  },
  {
   "cell_type": "markdown",
   "metadata": {},
   "source": [
    "This is handy for `if` statments. For instance, we could check if a string is a question by checking if the last character is a question mark. "
   ]
  },
  {
   "cell_type": "code",
   "execution_count": null,
   "metadata": {},
   "outputs": [],
   "source": [
    "\n",
    "def is_question(somestring):\n",
    "    if somestring.endswith('?'):\n",
    "        answer = 'yes!'\n",
    "    else:\n",
    "        answer = 'no'\n",
    "    \n",
    "    return(answer)\n",
    "\n",
    "\n",
    "print is_question(str1)\n",
    "print is_question(str2)"
   ]
  },
  {
   "cell_type": "markdown",
   "metadata": {},
   "source": [
    "### Find\n",
    "\n",
    "What if we care about stuff in the middle of the string? No problemo. That's what `find` is for:"
   ]
  },
  {
   "cell_type": "code",
   "execution_count": null,
   "metadata": {},
   "outputs": [],
   "source": [
    "\n",
    "str3 = 'No Problemo, that is what find is for'\n",
    "\n",
    "str3.find('Problemo')\n",
    "\n"
   ]
  },
  {
   "cell_type": "markdown",
   "metadata": {},
   "source": [
    "What is the number for? Well, it tells you the *position* that the string starts at. Notice that \"Problemo\" starts as the 3rd character in the string. If we search for something that isn't there, then we get an answer of -1"
   ]
  },
  {
   "cell_type": "code",
   "execution_count": null,
   "metadata": {},
   "outputs": [],
   "source": [
    "str3.find('potato')"
   ]
  },
  {
   "cell_type": "markdown",
   "metadata": {},
   "source": [
    "The position is useful, because we can index (grab) certain characters from the string based on their position. We just use square brackets `[]` with the position number in between. In Python, position numbers start at zero.\n",
    "\n",
    "We can get a range of positions by using the colon `:` between the starting and ending range. \n",
    "We can also use the `len` function to get the length of the string. "
   ]
  },
  {
   "cell_type": "code",
   "execution_count": null,
   "metadata": {},
   "outputs": [],
   "source": [
    "str3 = 'No Problemo, that is what find is for'\n",
    "\n",
    "\n",
    "print str3[0] #the very first character\n",
    "print str3[0:2] #the first TWO characters\n",
    "print str3[5:9] #the sixth to the 9th character\n",
    "\n",
    "search_string = 'Problemo'\n",
    "numchars = len(search_string)\n",
    "print numchars\n",
    "\n",
    "# Perfect example of the objective nature of Python. \n",
    "# len() is actually a wrapper for the string object's __len__ method.\n",
    "# We could have equivalently called\n",
    "\n",
    "print(search_string.__len__())\n"
   ]
  },
  {
   "cell_type": "markdown",
   "metadata": {},
   "source": []
  },
  {
   "cell_type": "code",
   "execution_count": null,
   "metadata": {
    "collapsed": true
   },
   "outputs": [],
   "source": []
  },
  {
   "cell_type": "markdown",
   "metadata": {},
   "source": [
    "From `find` we can find the start of \"Problemo\", and based on the length (`numchars`), we know the end point. Let's see if you get get the whole word \"Problemo\" out of `str3` using `find` and indexing:"
   ]
  },
  {
   "cell_type": "code",
   "execution_count": null,
   "metadata": {
    "collapsed": true
   },
   "outputs": [],
   "source": [
    "\n"
   ]
  },
  {
   "cell_type": "markdown",
   "metadata": {},
   "source": [
    "### Replace\n",
    "\n",
    "The `replace` method is a nice way of replacing a certain string with another string. Let's say I have the string below, and I want to replace \"worst\" with \"blurst\". "
   ]
  },
  {
   "cell_type": "code",
   "execution_count": null,
   "metadata": {},
   "outputs": [],
   "source": [
    "\n",
    "excerpt = 'It was the best of times, it was the worst of times'\n",
    "\n",
    "print excerpt\n",
    "\n",
    "print excerpt.replace('worst','blurst') \n",
    "\n"
   ]
  },
  {
   "cell_type": "markdown",
   "metadata": {},
   "source": [
    "`replace` can also be used to remove strings from your list. Just replace a string with an empty string. You specify nothing using two quotes `''` with no spaces or anything. Let's remove the comma from `excerpt`"
   ]
  },
  {
   "cell_type": "code",
   "execution_count": null,
   "metadata": {},
   "outputs": [],
   "source": [
    "\n",
    "excerpt.replace(',','')\n",
    "\n"
   ]
  },
  {
   "cell_type": "markdown",
   "metadata": {},
   "source": [
    "### Upper and Lower\n",
    "\n",
    "Other handy methods are `upper` and `lower` for changing the text:"
   ]
  },
  {
   "cell_type": "code",
   "execution_count": null,
   "metadata": {},
   "outputs": [],
   "source": [
    "regular_email = 'Hey how are you?'\n",
    "\n",
    "mom_email = regular_email.upper() + '!!!!'\n",
    "\n",
    "print mom_email\n",
    "\n",
    "print mom_email.lower()\n"
   ]
  },
  {
   "cell_type": "markdown",
   "metadata": {},
   "source": [
    "### Count\n",
    "\n",
    "We can count the occurrences of certain characters using `count`"
   ]
  },
  {
   "cell_type": "code",
   "execution_count": null,
   "metadata": {},
   "outputs": [],
   "source": [
    "mom_email.count('!') #way too many\n",
    "\n"
   ]
  },
  {
   "cell_type": "markdown",
   "metadata": {},
   "source": [
    "### Join\n",
    "\n",
    "The method `join` is useful for putting a character between all elements of a string. Notice we can do it with a variable as the separator, or just the string itself."
   ]
  },
  {
   "cell_type": "code",
   "execution_count": 1,
   "metadata": {},
   "outputs": [
    {
     "name": "stdout",
     "output_type": "stream",
     "text": [
      "U-n-i-v-e-r-s-i-t-y-o-f-O-r-e-g-o-n\n",
      "U--n--i--v--e--r--s--i--t--y--o--f--O--r--e--g--o--n\n",
      "1-potato-2-potato-3\n"
     ]
    }
   ],
   "source": [
    "separator = '-'\n",
    "\n",
    "print separator.join('UniversityofOregon')\n",
    "\n",
    "print '--'.join('UniversityofOregon')\n",
    "\n",
    "print '-potato-'.join('123')"
   ]
  },
  {
   "cell_type": "markdown",
   "metadata": {},
   "source": [
    "`join` is most useful if you have a list of items, rather than just a string. It's great for inserting spaces between each element of your list. This is because .join() exploits the iterable nature of strings, by wrapping the string in a list, the call to __iter__ will yield whole words rather than individual characters."
   ]
  },
  {
   "cell_type": "code",
   "execution_count": null,
   "metadata": {},
   "outputs": [],
   "source": [
    "print '-'.join(['University', 'of', 'Oregon'])\n",
    "print ' '.join(['University', 'of', 'Oregon'])"
   ]
  },
  {
   "cell_type": "markdown",
   "metadata": {},
   "source": [
    "### Strip\n",
    "\n",
    "The function `strip` becomes useful when you're reading in files. Often times, there will be spaces hidden in your text file that are difficult to find. Later in your script, it will mess up because you're expecting just a word/sentence. `strip` removes all whitespace surrounding a string.The nice thing is that it doesn't remove all spaces, only the ones at the beginning and end. It will also remove other hidden characters like tab (\\t) and newline (\\n). You will learn more about these later. "
   ]
  },
  {
   "cell_type": "code",
   "execution_count": null,
   "metadata": {},
   "outputs": [],
   "source": [
    "\n",
    "pesky_text = '   hello there     '\n",
    "\n",
    "print pesky_text.strip() #notice the space we want is still there!\n",
    "\n",
    "\n",
    "pesky_text2 = '   hello there\\t   \\n\\n' #tabs and newline characters\n",
    "\n",
    "print pesky_text2.strip()"
   ]
  },
  {
   "cell_type": "markdown",
   "metadata": {},
   "source": [
    "### Split\n",
    "\n",
    "In the next lesson we will learn about lists, which are very powerful. Often times, you will read in a line of text from a file, and you want to split that text into a list, so you can look at each item individually. The `split` method will take a string, and split it up into a list, based on the character you specify (the separator). It basically is the exact opposite of `join`. "
   ]
  },
  {
   "cell_type": "code",
   "execution_count": null,
   "metadata": {},
   "outputs": [],
   "source": [
    "\n",
    "#Here is the first name, last name, age, eye color, and hair color for someone\n",
    "#each bit of data = separated by a comma. \n",
    "mydata = 'Bob,Smith,45,blue,blonde'\n",
    "\n",
    "\n",
    "datalist= mydata.split(',')\n",
    "\n",
    "print datalist\n",
    "\n",
    "#First and Last name\n",
    "datalist[0:2]\n",
    "\n",
    "#eye color \n",
    "datalist[3]\n",
    "\n"
   ]
  },
  {
   "cell_type": "markdown",
   "metadata": {},
   "source": [
    "`split` works nicely if you want to get each word of a sentence as a separate element in a list. Often times, you will use it in conjunction with `strip`, otherwise, you end up with extra stuff at the end. "
   ]
  },
  {
   "cell_type": "code",
   "execution_count": null,
   "metadata": {},
   "outputs": [],
   "source": [
    "\n",
    "mystring = '   It was the best of times, it was the blurst of times   \\n'\n",
    "\n",
    "mystring.split(' ') #there is a space in there!\n",
    "\n"
   ]
  },
  {
   "cell_type": "markdown",
   "metadata": {},
   "source": [
    "Notice that we have 3 extra spaces at the beginning, and 2 spaces and a newline character at the end. Let's clean it up first:"
   ]
  },
  {
   "cell_type": "code",
   "execution_count": null,
   "metadata": {},
   "outputs": [],
   "source": [
    "mystring = '   It was the best of times, it was the blurst of times   \\n'\n",
    "\n",
    "mystring_stripped = mystring.strip()\n",
    "print mystring_stripped\n",
    "\n",
    "print mystring_stripped.split(' ') #nice!"
   ]
  },
  {
   "cell_type": "markdown",
   "metadata": {},
   "source": [
    "### Chaining Methods Together\n",
    "\n",
    "Notice that I had an intermediate step, and I saved a different variable, `mystring_stripped`. The nice thing is, we don't need to do this in python. We can chain our different steps together. If we want to strip the text, then split it, then we just write it like so: "
   ]
  },
  {
   "cell_type": "code",
   "execution_count": null,
   "metadata": {},
   "outputs": [],
   "source": [
    "mystring = '   It was the best of times, it was the blurst of times   \\n'\n",
    "\n",
    "mystring.strip().split(' ')\n"
   ]
  },
  {
   "cell_type": "markdown",
   "metadata": {},
   "source": [
    "We can chain together as many as we want on 1 line. Just remember, at a certain point it makes your head hurt. "
   ]
  },
  {
   "cell_type": "code",
   "execution_count": null,
   "metadata": {},
   "outputs": [],
   "source": [
    "mystring.strip().replace('blurst','worst').replace(',','').upper().split()"
   ]
  },
  {
   "cell_type": "markdown",
   "metadata": {},
   "source": [
    "## String Formatting\n",
    "\n",
    "We've seen this before, but let's revisit it. Sometimes you want to manipulate strings by inserting information in them. Often this is for printing some output to the user. So far you have done it using the `+` operator and converting numbers to strings with `str` like this:\n",
    "\n",
    "```python\n",
    "print \"the value of x is: \"+ str(x)\n",
    "```\n",
    "\n",
    "This works fine if the number is at the end, but gets very tedious when you're inserting multiple bits of information that are embedded in the middle of a sentence. Consider the example below. What if I wanted to print a sentence like, **\"This person is named [name], they are [age] years old. They also have [haircolor] hair and [eyecolor] eyes. That's all I know about [name]\"**"
   ]
  },
  {
   "cell_type": "code",
   "execution_count": 2,
   "metadata": {
    "collapsed": true
   },
   "outputs": [],
   "source": [
    "name = 'Bob'\n",
    "age = 45\n",
    "haircolor = 'blonde'\n",
    "eyecolor = 'green'\n",
    "\n"
   ]
  },
  {
   "cell_type": "markdown",
   "metadata": {},
   "source": [
    "First, we insert placeholders into our string using a funny syntax. We use different placeholders for different types of variables. For string variables, we always use `%s` (s for string). For integers, we use `%d` (d for digit). Then, at the end of the string, we use the `%` operator (I know, it's confusing because Python also uses it for the modulus function). After the `%` we list the variables in the order they appear. If there are multiple variables, you have to surround them with parentheses, which makes them a tuple.   "
   ]
  },
  {
   "cell_type": "code",
   "execution_count": 3,
   "metadata": {},
   "outputs": [
    {
     "name": "stdout",
     "output_type": "stream",
     "text": [
      "This person is named Bob, they are 45 years old. They also have blonde hair and green eyes.\n",
      "This person is named blonde, they are 45 years old. They also have Bob hair and green eyes.\n",
      "This person is named Bob, they are 45 years old. They also have Bob hair and Bob eyes.\n"
     ]
    }
   ],
   "source": [
    "message = 'This person is named %s, they are %d years old. They also have %s hair and %s eyes.'\n",
    "\n",
    "print message %(name,age,haircolor,eyecolor)\n",
    "\n",
    "#notice that order is important. If I make a mistake, my message comes out wrong\n",
    "print message %(haircolor,age,name,eyecolor)\n",
    "\n",
    "#if we want to repeat the same information multiple times, we need to list it multiple times\n",
    "print message %(name,age,name,name)\n"
   ]
  },
  {
   "cell_type": "markdown",
   "metadata": {},
   "source": [
    "Much simpler is the .format() method of strings:"
   ]
  },
  {
   "cell_type": "code",
   "execution_count": 6,
   "metadata": {},
   "outputs": [
    {
     "name": "stdout",
     "output_type": "stream",
     "text": [
      "This person is named Bob, they are 45 years old. They also have blonde hair and green eyes.\n",
      "This person is named Bob, they are 45 years old. They also have blonde hair and green eyes.\n",
      "This person is named Bob, they are Bob years old. They also have Bob hair and Bob eyes.\n"
     ]
    }
   ],
   "source": [
    "message = 'This person is named {}, they are {} years old. They also have {} hair and {} eyes.'\n",
    "print(message.format(name, age, haircolor, eyecolor))\n",
    "\n",
    "# Or if we don't want to depend on the order of our arguments\n",
    "message = 'This person is named {name}, they are {age} years old. They also have {hcolor} hair and {ecolor} eyes.'\n",
    "print(message.format(age=age,\n",
    "                     hcolor=haircolor,\n",
    "                     ecolor=eyecolor,\n",
    "                     name=name))\n",
    "\n",
    "# Or repeat things multiple times\n",
    "message = 'This person is named {name}, they are {name} years old. They also have {name} hair and {name} eyes.'\n",
    "print(message.format(name=name))"
   ]
  },
  {
   "cell_type": "markdown",
   "metadata": {},
   "source": [
    "The `float` datatype is a little different. First, we use the `%f` placeholder. Often times, we have to specify how many digits we want to appear after the decimal point. First a simple example:"
   ]
  },
  {
   "cell_type": "code",
   "execution_count": null,
   "metadata": {},
   "outputs": [],
   "source": [
    "from math import pi\n",
    "\n",
    "#6 digits after the decimal point\n",
    "print 'the value of pi is %f' % pi\n",
    "\n",
    "#12 digits after the decimal point\n",
    "print 'the value of pi is %.12f' %pi\n",
    "\n"
   ]
  },
  {
   "cell_type": "markdown",
   "metadata": {},
   "source": [
    "Notice we can specify the number of digits after the placeholder using `%.Xf` where X is the number of places. \n",
    "\n",
    "This is particularly relevant if we want to display amounts of money. When Python does a computation, it may include a lot of digits after the decimal point, but we only care about the first two. "
   ]
  },
  {
   "cell_type": "code",
   "execution_count": null,
   "metadata": {},
   "outputs": [],
   "source": [
    "\n",
    "total = 45.65\n",
    "payment = 50.\n",
    "change = payment-total\n",
    "\n",
    "print 'your change is %f' % change #weird\n",
    "\n",
    "print 'your change is $%.2f' %change #much better!\n",
    "\n"
   ]
  },
  {
   "cell_type": "markdown",
   "metadata": {},
   "source": [
    "The other thing you might want to do is add leading zeros to a number. You will realize later that this is useful for finding files. We can add leading zeros to an integer by saying `%Xd` where X is the total width of the number:"
   ]
  },
  {
   "cell_type": "code",
   "execution_count": null,
   "metadata": {},
   "outputs": [],
   "source": [
    "\n",
    "myint = 4\n",
    "\n",
    "print 'Here it is with 6 total places: %06d' % myint\n"
   ]
  },
  {
   "cell_type": "markdown",
   "metadata": {},
   "source": [
    "There is a whole new method of string formatting using the `format` function. It is outlined here <https://pyformat.info/>. I won't teach it to you in this class, only because it's more complicated. It is also generally better and more flexible, but less intuitive. You of course are free to use that method in your assignments if you wish. \n",
    "\n",
    "There are also various other things you can do using our \"old\" method, but I have shown you the most common cases that will come up. "
   ]
  },
  {
   "cell_type": "code",
   "execution_count": null,
   "metadata": {
    "collapsed": true
   },
   "outputs": [],
   "source": []
  },
  {
   "cell_type": "code",
   "execution_count": null,
   "metadata": {
    "collapsed": true
   },
   "outputs": [],
   "source": []
  }
 ],
 "metadata": {
  "kernelspec": {
   "display_name": "Python 2",
   "language": "python",
   "name": "python2"
  },
  "language_info": {
   "codemirror_mode": {
    "name": "ipython",
    "version": 2
   },
   "file_extension": ".py",
   "mimetype": "text/x-python",
   "name": "python",
   "nbconvert_exporter": "python",
   "pygments_lexer": "ipython2",
   "version": "2.7.13"
  }
 },
 "nbformat": 4,
 "nbformat_minor": 1
}
