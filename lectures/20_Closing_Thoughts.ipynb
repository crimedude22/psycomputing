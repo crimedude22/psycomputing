{
 "cells": [
  {
   "cell_type": "markdown",
   "metadata": {},
   "source": [
    "## Closing Thoughts\n",
    "\n",
    "Congratulations, you survived this programming class! It's been a journey-- we laughed, we cried, we learned a little bit about Python. \n",
    "\n",
    "What did we learn, exactly? Let's go back to the very first day, where we talked about 2 basic concepts: \n",
    "\n",
    "* Representation\n",
    "* Abstraction\n",
    "\n",
    "\n",
    "### Representation\n",
    "\n",
    "We learned that information can be represented in multiple ways. Let's say we want to represent some information about our friend Bob. We could do this using lists, like so: "
   ]
  },
  {
   "cell_type": "code",
   "execution_count": 52,
   "metadata": {
    "collapsed": false
   },
   "outputs": [
    {
     "name": "stdout",
     "output_type": "stream",
     "text": [
      "['name', 'eyecolor', 'haircolor', 'height', 'weight']\n",
      "Bob\n",
      "blue\n",
      "200lbs\n"
     ]
    }
   ],
   "source": [
    "values = ['Bob', 'blue','black','6ft0in','200lbs']\n",
    "attributes = ['name','eyecolor','haircolor','height','weight']\n",
    "\n",
    "print attributes\n",
    "# print values\n",
    "\n",
    "print values[0] #name\n",
    "print values[1] #eye color\n",
    "print values[4] #weight"
   ]
  },
  {
   "cell_type": "markdown",
   "metadata": {},
   "source": [
    "Or we can represent the same exact information as a dictionary. This is the same information, but in a more intuitive format for humans to use, since we can refer to attributes by name. "
   ]
  },
  {
   "cell_type": "code",
   "execution_count": 43,
   "metadata": {
    "collapsed": false
   },
   "outputs": [
    {
     "name": "stdout",
     "output_type": "stream",
     "text": [
      "Bob\n",
      "blue\n",
      "200lbs\n"
     ]
    }
   ],
   "source": [
    "personD = dict(zip(attributes,values))\n",
    "\n",
    "print personD['name']\n",
    "print personD['eyecolor']\n",
    "print personD['weight']"
   ]
  },
  {
   "cell_type": "markdown",
   "metadata": {},
   "source": [
    "We also learned about special datatypes like `numpy` arrays and `pandas` DataFrames for representing mathematical and other information, and we learned how to create visual representations of these numbers using `matplotlib`. \n",
    "\n",
    "**In all cases, we take information from the real world, and we represent it on a computer. Once we do that, we can manipulate it and make use of it**\n",
    "\n",
    "The different datatypes have different costs and benefits. You as the programmer need to decide which one is most appropriate for the situation. Sometimes it's just personal preference. There are always multiple ways to solve problems!"
   ]
  },
  {
   "cell_type": "markdown",
   "metadata": {},
   "source": [
    "### Abstraction\n",
    "\n",
    "We also learned a lot about abstraction. Abstraction basically means: how much you have to deal with tedious, low-level details. Remember loading in data using the `csv` package? Here we load in a file, and grab just the RT column, and compute the mean. Notice we have to do a lot of looping and converting of data. "
   ]
  },
  {
   "cell_type": "code",
   "execution_count": 44,
   "metadata": {
    "collapsed": false
   },
   "outputs": [
    {
     "name": "stdout",
     "output_type": "stream",
     "text": [
      "[['ID', 'Block', 'Trial', 'Task', 'Accuracy', 'RT'], ['801', '1', '1', '2', '1', '1752.04'], ['801', '1', '2', '2', '1', '823.718'], ['801', '1', '3', '2', '1', '646.493'], ['801', '1', '4', '2', '1', '592.449'], ['801', '1', '5', '2', '1', '679.79'], ['801', '1', '6', '2', '1', '761.609'], ['801', '1', '7', '2', '0', '555.387'], ['801', '1', '8', '2', '1', '1020.5'], ['801', '1', '9', '2', '1', '1090.44'], ['801', '1', '10', '2', '1', '2086.91'], ['801', '1', '11', '2', '1', '688.475'], ['801', '1', '12', '2', '1', '682.268'], ['801', '1', '13', '2', '0', '1228.09'], ['801', '1', '14', '2', '1', '964.625'], ['801', '1', '15', '2', '1', '832.73'], ['801', '1', '16', '2', '1', '692.578'], ['801', '1', '17', '2', '1', '929.221'], ['801', '1', '18', '2', '1', '642.677'], ['801', '1', '19', '2', '1', '775.196'], ['801', '1', '20', '2', '1', '691.337'], ['801', '2', '1', '1', '1', '9886.39'], ['801', '2', '2', '1', '1', '1587.63'], ['801', '2', '3', '1', '1', '1104.97'], ['801', '2', '4', '1', '1', '1143.48']]\n",
      "808.224224375\n"
     ]
    }
   ],
   "source": [
    "import csv\n",
    "import numpy as np\n",
    "\n",
    "data = []\n",
    "\n",
    "with open('./datasets/behavioral.csv','r') as f:\n",
    "    reader = csv.reader(f,delimiter=',')\n",
    "    \n",
    "    for row in reader:\n",
    "        data.append(row)\n",
    "\n",
    "        \n",
    "RTs = [] \n",
    "\n",
    "#grab just the RT \"column\"\n",
    "for row in data[1:]:\n",
    "    rt = row[5]\n",
    "    rt = float(rt)\n",
    "    RTs.append(rt)\n",
    "    \n",
    "print data[:25] #a list of lists\n",
    "print np.mean(RTs)\n",
    "        "
   ]
  },
  {
   "cell_type": "markdown",
   "metadata": {},
   "source": [
    "`numpy` abstracts some of the details for us, so we can read the csv file with 1 line of code. They have taken care of the tedious details for us.  \n",
    "\n",
    "Notice, though, that we need to figure out which column is the RT column (in this case, it's the 6th one). Numpy requires the programmer to figure it out for him/herself. "
   ]
  },
  {
   "cell_type": "code",
   "execution_count": 45,
   "metadata": {
    "collapsed": false
   },
   "outputs": [
    {
     "name": "stdout",
     "output_type": "stream",
     "text": [
      "[[  8.01000000e+02   1.00000000e+00   1.00000000e+00   2.00000000e+00\n",
      "    1.00000000e+00   1.75204000e+03]\n",
      " [  8.01000000e+02   1.00000000e+00   2.00000000e+00   2.00000000e+00\n",
      "    1.00000000e+00   8.23718000e+02]\n",
      " [  8.01000000e+02   1.00000000e+00   3.00000000e+00   2.00000000e+00\n",
      "    1.00000000e+00   6.46493000e+02]\n",
      " [  8.01000000e+02   1.00000000e+00   4.00000000e+00   2.00000000e+00\n",
      "    1.00000000e+00   5.92449000e+02]\n",
      " [  8.01000000e+02   1.00000000e+00   5.00000000e+00   2.00000000e+00\n",
      "    1.00000000e+00   6.79790000e+02]\n",
      " [  8.01000000e+02   1.00000000e+00   6.00000000e+00   2.00000000e+00\n",
      "    1.00000000e+00   7.61609000e+02]\n",
      " [  8.01000000e+02   1.00000000e+00   7.00000000e+00   2.00000000e+00\n",
      "    0.00000000e+00   5.55387000e+02]\n",
      " [  8.01000000e+02   1.00000000e+00   8.00000000e+00   2.00000000e+00\n",
      "    1.00000000e+00   1.02050000e+03]\n",
      " [  8.01000000e+02   1.00000000e+00   9.00000000e+00   2.00000000e+00\n",
      "    1.00000000e+00   1.09044000e+03]\n",
      " [  8.01000000e+02   1.00000000e+00   1.00000000e+01   2.00000000e+00\n",
      "    1.00000000e+00   2.08691000e+03]\n",
      " [  8.01000000e+02   1.00000000e+00   1.10000000e+01   2.00000000e+00\n",
      "    1.00000000e+00   6.88475000e+02]\n",
      " [  8.01000000e+02   1.00000000e+00   1.20000000e+01   2.00000000e+00\n",
      "    1.00000000e+00   6.82268000e+02]\n",
      " [  8.01000000e+02   1.00000000e+00   1.30000000e+01   2.00000000e+00\n",
      "    0.00000000e+00   1.22809000e+03]\n",
      " [  8.01000000e+02   1.00000000e+00   1.40000000e+01   2.00000000e+00\n",
      "    1.00000000e+00   9.64625000e+02]\n",
      " [  8.01000000e+02   1.00000000e+00   1.50000000e+01   2.00000000e+00\n",
      "    1.00000000e+00   8.32730000e+02]\n",
      " [  8.01000000e+02   1.00000000e+00   1.60000000e+01   2.00000000e+00\n",
      "    1.00000000e+00   6.92578000e+02]\n",
      " [  8.01000000e+02   1.00000000e+00   1.70000000e+01   2.00000000e+00\n",
      "    1.00000000e+00   9.29221000e+02]\n",
      " [  8.01000000e+02   1.00000000e+00   1.80000000e+01   2.00000000e+00\n",
      "    1.00000000e+00   6.42677000e+02]\n",
      " [  8.01000000e+02   1.00000000e+00   1.90000000e+01   2.00000000e+00\n",
      "    1.00000000e+00   7.75196000e+02]\n",
      " [  8.01000000e+02   1.00000000e+00   2.00000000e+01   2.00000000e+00\n",
      "    1.00000000e+00   6.91337000e+02]\n",
      " [  8.01000000e+02   2.00000000e+00   1.00000000e+00   1.00000000e+00\n",
      "    1.00000000e+00   9.88639000e+03]\n",
      " [  8.01000000e+02   2.00000000e+00   2.00000000e+00   1.00000000e+00\n",
      "    1.00000000e+00   1.58763000e+03]\n",
      " [  8.01000000e+02   2.00000000e+00   3.00000000e+00   1.00000000e+00\n",
      "    1.00000000e+00   1.10497000e+03]\n",
      " [  8.01000000e+02   2.00000000e+00   4.00000000e+00   1.00000000e+00\n",
      "    1.00000000e+00   1.14348000e+03]\n",
      " [  8.01000000e+02   2.00000000e+00   5.00000000e+00   1.00000000e+00\n",
      "    1.00000000e+00   1.05086000e+03]]\n"
     ]
    },
    {
     "data": {
      "text/plain": [
       "808.22422437500006"
      ]
     },
     "execution_count": 45,
     "metadata": {},
     "output_type": "execute_result"
    }
   ],
   "source": [
    "data = np.genfromtxt('./datasets/behavioral.csv',delimiter=',',skip_header=1)\n",
    "\n",
    "print data[:25,:]\n",
    "np.mean(data[:,5])\n"
   ]
  },
  {
   "cell_type": "markdown",
   "metadata": {},
   "source": [
    "`pandas` makes it even easier! Here we read the file with 1 line, and we can access the column name by just saying `df.RT`. Pandas has *abstracted* away from the tedious details of reading, lopping through, and converting the data like we did in the above examples. \n",
    "\n",
    "This is only possible because someone else wrote the code. Somewhere in the code for the pandas package, there is a loop very similar to the one we created above."
   ]
  },
  {
   "cell_type": "code",
   "execution_count": 46,
   "metadata": {
    "collapsed": false
   },
   "outputs": [
    {
     "name": "stdout",
     "output_type": "stream",
     "text": [
      "0     1752.040\n",
      "1      823.718\n",
      "2      646.493\n",
      "3      592.449\n",
      "4      679.790\n",
      "5      761.609\n",
      "6      555.387\n",
      "7     1020.500\n",
      "8     1090.440\n",
      "9     2086.910\n",
      "10     688.475\n",
      "11     682.268\n",
      "12    1228.090\n",
      "13     964.625\n",
      "14     832.730\n",
      "15     692.578\n",
      "16     929.221\n",
      "17     642.677\n",
      "18     775.196\n",
      "19     691.337\n",
      "20    9886.390\n",
      "21    1587.630\n",
      "22    1104.970\n",
      "23    1143.480\n",
      "24    1050.860\n",
      "Name: RT, dtype: float64\n",
      "808.224224375\n"
     ]
    }
   ],
   "source": [
    "from pandas import DataFrame\n",
    "\n",
    "df = DataFrame.from_csv('./datasets/behavioral.csv',index_col=False)\n",
    "\n",
    "print df.RT[:25]\n",
    "print df.RT.mean()"
   ]
  },
  {
   "cell_type": "markdown",
   "metadata": {},
   "source": [
    "As the solutions get more abstract, we need to worry about less details, and we can do the same stuff with fewer lines of code. That is what abstraction is all about. \n",
    "\n",
    "### Abstraction and Generalizability\n",
    "\n",
    "There's another way to think about abstraction. Imagine we want to load in a file and compute the mean of the RT column. The script above works for exactly 1 situation-- computing the mean of the RTs for the specific file, behavioral.csv. Throughout the term, I urged you to first come up with these specific solutions, then modify them so they're more general-purpose. So, with 1 small change, I can make this work for any file that I name:\n"
   ]
  },
  {
   "cell_type": "code",
   "execution_count": 47,
   "metadata": {
    "collapsed": false
   },
   "outputs": [
    {
     "name": "stdout",
     "output_type": "stream",
     "text": [
      "0     1752.040\n",
      "1      823.718\n",
      "2      646.493\n",
      "3      592.449\n",
      "4      679.790\n",
      "5      761.609\n",
      "6      555.387\n",
      "7     1020.500\n",
      "8     1090.440\n",
      "9     2086.910\n",
      "10     688.475\n",
      "11     682.268\n",
      "12    1228.090\n",
      "13     964.625\n",
      "14     832.730\n",
      "15     692.578\n",
      "16     929.221\n",
      "17     642.677\n",
      "18     775.196\n",
      "19     691.337\n",
      "20    9886.390\n",
      "21    1587.630\n",
      "22    1104.970\n",
      "23    1143.480\n",
      "24    1050.860\n",
      "Name: RT, dtype: float64\n",
      "809.366770066\n"
     ]
    }
   ],
   "source": [
    "\n",
    "filename = './datasets/behavioral_shorter.csv'\n",
    "\n",
    "\n",
    "df = DataFrame.from_csv(filename,index_col=False)\n",
    "\n",
    "print df.RT[:25]\n",
    "print df.RT.mean()"
   ]
  },
  {
   "cell_type": "markdown",
   "metadata": {},
   "source": [
    "But I can take it even further. How about I take a list of file names, and have it perform the same thing on each file? Now my solution is more general. It will work the same for 2 files or 2000 files. This is another way to think about abstraction-- going from a very concrete solution (loading 1 particular file) to a more general one (loading many files). "
   ]
  },
  {
   "cell_type": "code",
   "execution_count": 48,
   "metadata": {
    "collapsed": false
   },
   "outputs": [
    {
     "name": "stdout",
     "output_type": "stream",
     "text": [
      "0     1752.040\n",
      "1      823.718\n",
      "2      646.493\n",
      "3      592.449\n",
      "4      679.790\n",
      "5      761.609\n",
      "6      555.387\n",
      "7     1020.500\n",
      "8     1090.440\n",
      "9     2086.910\n",
      "10     688.475\n",
      "11     682.268\n",
      "12    1228.090\n",
      "13     964.625\n",
      "14     832.730\n",
      "15     692.578\n",
      "16     929.221\n",
      "17     642.677\n",
      "18     775.196\n",
      "19     691.337\n",
      "20    9886.390\n",
      "21    1587.630\n",
      "22    1104.970\n",
      "23    1143.480\n",
      "24    1050.860\n",
      "Name: RT, dtype: float64\n",
      "808.224224375\n",
      "0     1752.040\n",
      "1      823.718\n",
      "2      646.493\n",
      "3      592.449\n",
      "4      679.790\n",
      "5      761.609\n",
      "6      555.387\n",
      "7     1020.500\n",
      "8     1090.440\n",
      "9     2086.910\n",
      "10     688.475\n",
      "11     682.268\n",
      "12    1228.090\n",
      "13     964.625\n",
      "14     832.730\n",
      "15     692.578\n",
      "16     929.221\n",
      "17     642.677\n",
      "18     775.196\n",
      "19     691.337\n",
      "20    9886.390\n",
      "21    1587.630\n",
      "22    1104.970\n",
      "23    1143.480\n",
      "24    1050.860\n",
      "Name: RT, dtype: float64\n",
      "809.366770066\n"
     ]
    }
   ],
   "source": [
    "file_list = ['./datasets/behavioral.csv','./datasets/behavioral_shorter.csv']\n",
    "\n",
    "for filename in file_list:\n",
    "    df = DataFrame.from_csv(filename,index_col=False)\n",
    "\n",
    "    print df.RT[:25]\n",
    "    print df.RT.mean()"
   ]
  },
  {
   "cell_type": "markdown",
   "metadata": {},
   "source": [
    "But wait, there's more! Let's make our code into a function that can load in any list of files, and compute the mean of any column. With a couple small tweaks, it's even more general. Also, we can now refer to this solution by name: `calc_means`. I could bundle this code into a Python package and share it with someone else. They don't need to know about pandas or anything, I just tell them, \"use `calc_means`, it'll do what you want!\" I have abstracted away from the tedious details. We go from several lines of code to just 1 line. "
   ]
  },
  {
   "cell_type": "code",
   "execution_count": 49,
   "metadata": {
    "collapsed": true
   },
   "outputs": [],
   "source": [
    "#function definition, we do this just once\n",
    "def calc_means(file_list,column_name):\n",
    "\n",
    "    allmeans = []\n",
    "    \n",
    "    for filename in file_list:\n",
    "        df = DataFrame.from_csv(filename,index_col=False)\n",
    "        allmeans.append(df[column_name].mean())\n",
    "    \n",
    "    return(allmeans)\n",
    "        "
   ]
  },
  {
   "cell_type": "code",
   "execution_count": 50,
   "metadata": {
    "collapsed": false
   },
   "outputs": [
    {
     "data": {
      "text/plain": [
       "[808.2242243750001, 809.3667700657912]"
      ]
     },
     "execution_count": 50,
     "metadata": {},
     "output_type": "execute_result"
    }
   ],
   "source": [
    "#...then we can use calc_means as many times as we want!\n",
    "calc_means(file_list,'RT')"
   ]
  },
  {
   "cell_type": "markdown",
   "metadata": {},
   "source": [
    "### Life Lesson: Programming is Problem Solving!\n",
    "\n",
    "I emphasized this point at the beginning of the term. Programming is not magical, and it's not really about computers, it's about *solving problems*. Programming is just a set of tools for problem-solving. I have tried to show you how to solve a wide range of problems using some of the tools that Python provides (e.g., lists, dictionaries, arrays, DataFrames). Different packages provide different tools for representing and manipulating information. Likewise, different programming languages will give you different tools. \n",
    "\n",
    "**80% of programming is deciding how to divide up your problem and represent it on the computer**\n",
    "\n",
    "**The other 20% is dealing with the peculiarities of your language (do I use brackets or parentheses? Where do the commas go?)**\n",
    "\n",
    "Remember that there are multiple ways of solving any problem, because there are multiple ways of combinging the tools that are available. As you get more experienced, you'll notice that you'll encounter the same types of problems over and over, and the solutions will be the same. This is a challenge, separating the *structure* of your problem from the *content* of what it represents. Once you master it, programming becomes much easier. \n",
    "\n",
    "\n",
    "### Other languages\n",
    "\n",
    "I encourage you to learn other languages too! [R](https://cran.r-project.org) is my favorite for doing statistics. [Matlab](www.mathworks.com) is great for signal-processing and plotting complex data. [Julia](http://julialang.org/) is a promising new language that combines the best parts of Matlab, Python, and R. \n",
    "\n",
    "Don't worry, most of what you learned here will translate easily to other languages. In Matlab, lists are called cell arrays, and dictionaries are called structures. But they're basically the same thing! Things like looping and indexing are pretty universal, and you will encounter them in other languages. As you learn more, you'll notice more similarities \n",
    "\n",
    "\n",
    "\n",
    "### Moving Forward\n",
    "\n",
    "I know you are not experts yet, but you've gotten a taste of the tools that are available to you. Going forward, you will learn about newer tools or more sophisiticated ways of using the existing tools for solving your problems. As I mentioned above, you will get better at recognizing different types of problems, and applying particular solutions to them. \n",
    "\n",
    "The goal of this class was to teach you how to read the language and to master a few of the basics. Now you can go out into the world and seek out the help you need, and the solutions you find will not be complete gibberish! Don't worry if you're still feeling confused, that's totally normal. You are all leaving this class knowing more about Python than when you started. You have already succeeded. \n",
    "\n"
   ]
  }
 ],
 "metadata": {
  "kernelspec": {
   "display_name": "Python 2",
   "language": "python",
   "name": "python2"
  },
  "language_info": {
   "codemirror_mode": {
    "name": "ipython",
    "version": 2
   },
   "file_extension": ".py",
   "mimetype": "text/x-python",
   "name": "python",
   "nbconvert_exporter": "python",
   "pygments_lexer": "ipython2",
   "version": "2.7.11"
  }
 },
 "nbformat": 4,
 "nbformat_minor": 0
}
