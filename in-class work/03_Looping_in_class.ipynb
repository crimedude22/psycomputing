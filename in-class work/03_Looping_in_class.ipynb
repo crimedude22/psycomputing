{
 "cells": [
  {
   "cell_type": "markdown",
   "metadata": {},
   "source": [
    "## Looping in-class\n",
    "\n"
   ]
  },
  {
   "cell_type": "markdown",
   "metadata": {},
   "source": [
    "### Problem 1\n",
    "\n",
    "Let's explore the `range` function. Range takes 1-3 arguments, (optionall) a starting point, an ending point, and (optionally) a step size. It produces a list of numbers that go from start to (end-1). If you don't provide a starting point, it uses 0 as a default. Similarly, if you don't provide a step size, it uses 1 by default. See if you can use `range` to produce the following lists:\n",
    "\n",
    "* The numbers 1 to 10\n",
    "* The numbers 0 to 9\n",
    "* The even numbers from 0 to 20\n",
    "\n"
   ]
  },
  {
   "cell_type": "code",
   "execution_count": null,
   "metadata": {
    "collapsed": true
   },
   "outputs": [],
   "source": []
  },
  {
   "cell_type": "code",
   "execution_count": null,
   "metadata": {
    "collapsed": false
   },
   "outputs": [],
   "source": []
  },
  {
   "cell_type": "markdown",
   "metadata": {},
   "source": [
    "### Problem 2\n",
    "\n",
    "* a.  Start with a basic `for` loop. Make a loop that loops 20 times, and prints the loop number at each point. \n",
    "* b.\tCreate a small loop that prints the numbers 5 through 25\n",
    "* c.\tCreate another loop that prints only the even numbers from 0 to 100 (hint: zero is an even number). \n",
    "* d.\tCreate another loop that prints only the odd numbers from 0 to 100\n"
   ]
  },
  {
   "cell_type": "code",
   "execution_count": 5,
   "metadata": {
    "collapsed": true
   },
   "outputs": [],
   "source": [
    "#a"
   ]
  },
  {
   "cell_type": "code",
   "execution_count": 6,
   "metadata": {
    "collapsed": true
   },
   "outputs": [],
   "source": [
    "#b"
   ]
  },
  {
   "cell_type": "code",
   "execution_count": 7,
   "metadata": {
    "collapsed": true
   },
   "outputs": [],
   "source": [
    "#c"
   ]
  },
  {
   "cell_type": "code",
   "execution_count": 8,
   "metadata": {
    "collapsed": true
   },
   "outputs": [],
   "source": [
    "#d"
   ]
  },
  {
   "cell_type": "markdown",
   "metadata": {},
   "source": [
    "### Problem 3\n",
    "\n",
    "Recreate the same behavior as problem 2c, except with a single loop. Create a variable called “odd” that sits outside your loop. You will assign odd the value of 0 or 1. If it’s 1, then your loop should print only the odd numbers from 0 to 100. If it’s 0, your loop should print the even numbers. Hint: you can use the modulus % operator to identify even numbers—when you divide an even number by 2, the remainder is always 0. \n"
   ]
  },
  {
   "cell_type": "code",
   "execution_count": null,
   "metadata": {
    "collapsed": true
   },
   "outputs": [],
   "source": []
  },
  {
   "cell_type": "markdown",
   "metadata": {},
   "source": [
    "### Problem 4\n",
    "\n",
    "Make a loop that loops 1000 times. At each loop, you will draw a random number (num) between 1 and 100. You will count the number of times num is greater than 50. Save this into a variable called “total” that you print after the loop is done.  \n"
   ]
  },
  {
   "cell_type": "code",
   "execution_count": null,
   "metadata": {
    "collapsed": true
   },
   "outputs": [],
   "source": []
  },
  {
   "cell_type": "markdown",
   "metadata": {},
   "source": [
    "### Problem 5\n",
    "\n",
    "Make a loop that loops the same number of times as a variable you call `num_loops`. At each loop, it should say \"Loop X\" where X is the loop number. Test this by setting `num_loops` to 20"
   ]
  },
  {
   "cell_type": "code",
   "execution_count": null,
   "metadata": {
    "collapsed": true
   },
   "outputs": [],
   "source": []
  },
  {
   "cell_type": "markdown",
   "metadata": {},
   "source": [
    "Now make a loop where the iterator variable skips ahead by 5 (0,5,10, and so on...). Make it so you can specify the highest number it counts to. At each loop, have it print the *loop number* and the *value* of your iterator"
   ]
  },
  {
   "cell_type": "code",
   "execution_count": null,
   "metadata": {
    "collapsed": true
   },
   "outputs": [],
   "source": []
  },
  {
   "cell_type": "markdown",
   "metadata": {
    "collapsed": true
   },
   "source": [
    "Now see if you can reproduce this same behavior with a `while` loop. "
   ]
  },
  {
   "cell_type": "code",
   "execution_count": null,
   "metadata": {
    "collapsed": true
   },
   "outputs": [],
   "source": []
  },
  {
   "cell_type": "code",
   "execution_count": null,
   "metadata": {
    "collapsed": true
   },
   "outputs": [],
   "source": []
  },
  {
   "cell_type": "markdown",
   "metadata": {},
   "source": [
    "### Problem 6\n",
    "\n",
    "Let's make a very simple game of craps (with dice...). The `random` package has a function called `randint` for returning a random integer within some range. First, make it so python rolls 2 virtual dice, and print the result like this: \n",
    "\n",
    "`dice1: 5`<br>\n",
    "`dice2: 3`<br>\n",
    "`total: 8`\n",
    "\n"
   ]
  },
  {
   "cell_type": "code",
   "execution_count": null,
   "metadata": {
    "collapsed": false
   },
   "outputs": [],
   "source": [
    "\n"
   ]
  },
  {
   "cell_type": "markdown",
   "metadata": {},
   "source": [
    "Now make it print \"Snake eyes!\" if the sum is 2. Hint: to test that this works, maybe you shouldn't rely on the random number generator (or you might be here all day). "
   ]
  },
  {
   "cell_type": "code",
   "execution_count": null,
   "metadata": {
    "collapsed": true
   },
   "outputs": [],
   "source": []
  },
  {
   "cell_type": "markdown",
   "metadata": {},
   "source": [
    "Lastly, make a loop that keeps rolling the dice, until you get 2, or 7. If you get 2, then it should say \"Snake Eyes\" and stop rolling. If you get 7, it should say \"7 is a Winner!\" and also stop rolling. "
   ]
  },
  {
   "cell_type": "code",
   "execution_count": null,
   "metadata": {
    "collapsed": false
   },
   "outputs": [],
   "source": []
  },
  {
   "cell_type": "markdown",
   "metadata": {},
   "source": [
    "This is nice, but notice it runs really quickly. We don't know if Python rolled the dice 2 or 2000 times. Modify your script above so it also counts the number of times it had to roll before winning or losing. "
   ]
  },
  {
   "cell_type": "code",
   "execution_count": null,
   "metadata": {
    "collapsed": true
   },
   "outputs": [],
   "source": []
  },
  {
   "cell_type": "markdown",
   "metadata": {},
   "source": [
    "### Problem 7\n",
    "\n",
    "Let's gamble some more. Time to make a roulette wheel: <br><br>\n",
    "\n",
    "<img width = '250px',align='right',src='http://www.moonlightfuncasinos.co.uk/wp-content/uploads/2013/04/Moonlight-Roulette-Wheel.jpg'></img>\n",
    "\n",
    "Here is basic breakdown of the setup: \n",
    "\n",
    "* The pockets of the roulette wheel are numbered from 0 to 36.\n",
    "* In number ranges from 1 to 10 and 19 to 28, odd numbers are red and even are black.\n",
    "* In ranges from 11 to 18 and 29 to 36, odd numbers are black and even are red.\n",
    "* 0 is green\n",
    "\n",
    "Make a virtual roulette wheel that you can bet on (Hint: a roulette wheel just draws a random number, like rolling dice). Create a variable called `bet` that you can either set to a number (1,2,3 etc) *or* a color ('red' or 'black', 'green'). Your virtual roulette will land on a particular number, and your script should determine whether it's a winner. Each play, it should print:\n",
    "\n",
    "* \"Bet: X\"\n",
    "* \"Roulette landed on: XX\"\n",
    "* \"WINNER!\" if you won, \"YOU LOSE!\" if you lost"
   ]
  },
  {
   "cell_type": "code",
   "execution_count": null,
   "metadata": {
    "collapsed": false
   },
   "outputs": [],
   "source": []
  },
  {
   "cell_type": "code",
   "execution_count": null,
   "metadata": {
    "collapsed": false
   },
   "outputs": [],
   "source": []
  }
 ],
 "metadata": {
  "kernelspec": {
   "display_name": "Python 2",
   "language": "python",
   "name": "python2"
  },
  "language_info": {
   "codemirror_mode": {
    "name": "ipython",
    "version": 2
   },
   "file_extension": ".py",
   "mimetype": "text/x-python",
   "name": "python",
   "nbconvert_exporter": "python",
   "pygments_lexer": "ipython2",
   "version": "2.7.11"
  }
 },
 "nbformat": 4,
 "nbformat_minor": 0
}
