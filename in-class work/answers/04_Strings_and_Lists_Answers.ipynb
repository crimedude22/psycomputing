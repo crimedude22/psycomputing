{
 "cells": [
  {
   "cell_type": "markdown",
   "metadata": {
    "collapsed": true
   },
   "source": [
    "## In-class work 04 - Strings and Lists - ANSWERS\n",
    "\n",
    "Let's start with some of the string operations. Take the strings below and make them both uppercase using `upper`. \n"
   ]
  },
  {
   "cell_type": "code",
   "execution_count": null,
   "metadata": {
    "collapsed": false
   },
   "outputs": [],
   "source": [
    "\n",
    "string1 = 'Hello There'\n",
    "string2 = 'HELLO there'\n",
    "\n",
    "string1 =  string1.upper()\n",
    "string2 = string2.upper()\n",
    "\n",
    "print string1,string2\n",
    "\n"
   ]
  },
  {
   "cell_type": "markdown",
   "metadata": {},
   "source": [
    "Now see what happens when you use the `swapcase` function (you haven't seen this before)"
   ]
  },
  {
   "cell_type": "code",
   "execution_count": null,
   "metadata": {
    "collapsed": false
   },
   "outputs": [],
   "source": [
    "print string1.swapcase()"
   ]
  },
  {
   "cell_type": "markdown",
   "metadata": {
    "collapsed": true
   },
   "source": [
    "Let's make some code that takes a word and produces the plural for it. First, here is the basic version that just adds an \"s\" to the end of a word. "
   ]
  },
  {
   "cell_type": "code",
   "execution_count": null,
   "metadata": {
    "collapsed": false
   },
   "outputs": [],
   "source": [
    "\n",
    "word = 'goat'\n",
    "  \n",
    "plural = word+\"s\"\n",
    "\n",
    "print plural\n"
   ]
  },
  {
   "cell_type": "markdown",
   "metadata": {
    "collapsed": true
   },
   "source": [
    "But wait, it doesn't work properly for certain words:"
   ]
  },
  {
   "cell_type": "code",
   "execution_count": null,
   "metadata": {
    "collapsed": false
   },
   "outputs": [],
   "source": [
    "word = 'fish'\n",
    "  \n",
    "plural = word+\"s\"\n",
    "\n",
    "print plural\n",
    "\n"
   ]
  },
  {
   "cell_type": "markdown",
   "metadata": {},
   "source": [
    "Modify the code so it properly handles words that end with \"sh\". "
   ]
  },
  {
   "cell_type": "code",
   "execution_count": null,
   "metadata": {
    "collapsed": false
   },
   "outputs": [],
   "source": [
    "word = 'fish'\n",
    "\n",
    "if word.endswith('sh'):\n",
    "    plural = word+\"es\"\n",
    "else:\n",
    "    plural = word+'s'\n",
    "\n",
    "print word, plural\n"
   ]
  },
  {
   "cell_type": "markdown",
   "metadata": {},
   "source": [
    "What about cases where the word ends in \"s\", like the phrase \"hits and misses\"? Fix the code so it handles those cases too. And while you're at it, make it handle cases where the word ends in \"y\". "
   ]
  },
  {
   "cell_type": "code",
   "execution_count": null,
   "metadata": {
    "collapsed": false
   },
   "outputs": [],
   "source": [
    "word = 'baby' #try \"monkey\" too\n",
    "\n",
    "if word.endswith('sh') or word.endswith('s'):\n",
    "    plural = word+\"es\"\n",
    "elif word.endswith('y') and (word[-2] not in 'aeiou'):\n",
    "    #you can find the decscription for \"y\" here:\n",
    "    #https://howtospell.co.uk/y-to-ies-or-s-plural-rule\n",
    "    plural = word[:-1]+'ies'    \n",
    "else:\n",
    "    plural = word+'s'\n",
    "    \n",
    "print word,plural\n"
   ]
  },
  {
   "cell_type": "markdown",
   "metadata": {},
   "source": [
    "Now let's practice cleaning up some text and organizing it into a list. I'm going to provide some code to read in a file. We'll learn more about this next week. All lines of the file will be saved as an element in the list, `lines`. Print the first 10 lines. What is this? "
   ]
  },
  {
   "cell_type": "code",
   "execution_count": null,
   "metadata": {
    "collapsed": false
   },
   "outputs": [],
   "source": [
    "with open('R:/Class_Data/datasets/geah.txt') as f:\n",
    "    lines = f.readlines()"
   ]
  },
  {
   "cell_type": "code",
   "execution_count": null,
   "metadata": {
    "collapsed": false
   },
   "outputs": [],
   "source": [
    "# #if you copy the .txt file to the same place as your script, then use this:\n",
    "with open('geah.txt') as f:\n",
    "    lines = f.readlines()"
   ]
  },
  {
   "cell_type": "code",
   "execution_count": null,
   "metadata": {
    "collapsed": false
   },
   "outputs": [],
   "source": [
    "print lines[:10]"
   ]
  },
  {
   "cell_type": "markdown",
   "metadata": {},
   "source": [
    "Let's practice some more indexing. See if you can accomplish each of these: \n",
    "\n",
    "<ol type='a'>\n",
    "<li>print the 28th line only</li>\n",
    "<li>print lines 10 through 25</li>\n",
    "<li>print the last 5 lines</li>\n",
    "<li>print every other line</li>\n",
    "<li>print the story backwards</li>\n",
    "</ol>"
   ]
  },
  {
   "cell_type": "code",
   "execution_count": null,
   "metadata": {
    "collapsed": true
   },
   "outputs": [],
   "source": [
    "#do 1 here\n",
    "print lines[27]"
   ]
  },
  {
   "cell_type": "code",
   "execution_count": null,
   "metadata": {
    "collapsed": false
   },
   "outputs": [],
   "source": [
    "#do 2 here\n",
    "print lines[9:25]"
   ]
  },
  {
   "cell_type": "code",
   "execution_count": null,
   "metadata": {
    "collapsed": false
   },
   "outputs": [],
   "source": [
    "#..and so on\n",
    "print lines[-5:]"
   ]
  },
  {
   "cell_type": "code",
   "execution_count": null,
   "metadata": {
    "collapsed": false
   },
   "outputs": [],
   "source": [
    "print lines[::2]"
   ]
  },
  {
   "cell_type": "code",
   "execution_count": null,
   "metadata": {
    "collapsed": false
   },
   "outputs": [],
   "source": [
    "print lines[::-1]"
   ]
  },
  {
   "cell_type": "markdown",
   "metadata": {},
   "source": [
    "Notice that there are a lot of weird characters after each line, like `\\r\\n`, as well as some extra spaces at the end. The \\r\\n are \"newline\" characters. They are characters that tell programs like Microsoft Word, TextEdit, and Notepad that they should start a new line. They are always here, but the programs hide them from you. When you read the file into Python, it includes all characters and doesn't hide anything from you. We want to remove them, though. \n",
    "\n",
    "What if there was some magical function that could clean this up for us? Wait, maybe there is (it's `strip`)... use that function to clean up the first line. "
   ]
  },
  {
   "cell_type": "code",
   "execution_count": null,
   "metadata": {
    "collapsed": false
   },
   "outputs": [],
   "source": [
    "firstline = lines[0]\n",
    "\n",
    "\n",
    "print firstline.strip()"
   ]
  },
  {
   "cell_type": "markdown",
   "metadata": {},
   "source": [
    "Now make a loop that goes through the first 10 lines and uses `strip` to clean it up and prints it. "
   ]
  },
  {
   "cell_type": "code",
   "execution_count": null,
   "metadata": {
    "collapsed": false
   },
   "outputs": [],
   "source": [
    "\n",
    "for i in lines[:10]:\n",
    "    print i.strip()\n"
   ]
  },
  {
   "cell_type": "markdown",
   "metadata": {},
   "source": [
    "This is great, but we want to clean up the entire story and *save* the result. Now write a `for` loop that cleans up each line, and saves it into a new list, called `cleanlines`. "
   ]
  },
  {
   "cell_type": "code",
   "execution_count": null,
   "metadata": {
    "collapsed": true
   },
   "outputs": [],
   "source": [
    "cleanlines = []\n",
    "\n",
    "for l in lines:\n",
    "    l_clean = l.strip()\n",
    "    cleanlines.append(l_clean)"
   ]
  },
  {
   "cell_type": "markdown",
   "metadata": {},
   "source": [
    "Good job! Notice that there is a problem with the text, the word \"i\" is never capitalized. Make a loop that goes through `cleanlines` and fixes it, and save the result. This time, save *back* into your `cleanlines` variable instead of making a new one. Check your result. Look closely-- did it work the way you wanted??"
   ]
  },
  {
   "cell_type": "code",
   "execution_count": null,
   "metadata": {
    "collapsed": false
   },
   "outputs": [],
   "source": [
    "#one way, using just indexing\n",
    "for linenum in range(len(cleanlines)):\n",
    "    cleanlines[linenum] = cleanlines[linenum].replace('i ','I ')\n",
    "\n",
    "#another way, using enumerate\n",
    "for linenum,line in enumerate(cleanlines):\n",
    "    cleanlines[linenum] = line.replace('i ','I ')\n",
    "\n",
    "    \n",
    "print cleanlines #notice it doesn't handle \"Sam-i-am\" correctly!"
   ]
  },
  {
   "cell_type": "markdown",
   "metadata": {},
   "source": [
    "There's another problem with the story. There's at least some point where it says \"spam\" instead of \"ham\". Loop through the story and print only the lines where this is the case. After you get this to work, make it also print the line *numbers* where this occurs. "
   ]
  },
  {
   "cell_type": "code",
   "execution_count": null,
   "metadata": {
    "collapsed": false
   },
   "outputs": [],
   "source": [
    "#print only the \"spam\" lines\n",
    "for line in cleanlines: \n",
    "    if line.find('spam')>=0:\n",
    "        print line"
   ]
  },
  {
   "cell_type": "code",
   "execution_count": null,
   "metadata": {
    "collapsed": false
   },
   "outputs": [],
   "source": [
    "#also print the line numbers using enumerate\n",
    "for linenum,line in enumerate(cleanlines): \n",
    "    if line.find('spam')>=0:\n",
    "        print linenum, line"
   ]
  },
  {
   "cell_type": "markdown",
   "metadata": {},
   "source": [
    "Fix the story so that all occurrences of \"spam\" are replaced with \"ham\". Save the result back into `cleanlines`. "
   ]
  },
  {
   "cell_type": "code",
   "execution_count": null,
   "metadata": {
    "collapsed": true
   },
   "outputs": [],
   "source": [
    "#noticed I just copied-and-pasted from the \"i\" example above!\n",
    "for linenum in range(len(cleanlines)):\n",
    "    cleanlines[linenum] = cleanlines[linenum].replace('spam','ham')\n",
    "\n",
    "#you can check if it worked by re-running the cell above. It should print nothing!"
   ]
  },
  {
   "cell_type": "markdown",
   "metadata": {},
   "source": [
    "Now let's produce a vegetarian version of the story. Loop through all the lines and replace the word \"ham\" with \"yams\", and save the result into `veggie_lines` "
   ]
  },
  {
   "cell_type": "code",
   "execution_count": null,
   "metadata": {
    "collapsed": false
   },
   "outputs": [],
   "source": [
    "veggie_lines = []\n",
    "\n",
    "for line in cleanlines:\n",
    "    veg_line = line.replace('ham','yams')\n",
    "    veggie_lines.append(veg_line)\n",
    "    \n",
    "print veggie_lines\n",
    "\n"
   ]
  },
  {
   "cell_type": "markdown",
   "metadata": {},
   "source": [
    "Using `veggie_lines`, print all lines that end with \"house\" or \"mouse\". "
   ]
  },
  {
   "cell_type": "code",
   "execution_count": null,
   "metadata": {
    "collapsed": false
   },
   "outputs": [],
   "source": [
    "\n",
    "for line in veggie_lines: \n",
    "    if line.endswith('house.') or line.endswith('mouse.'): #notice you need the period\n",
    "        print line\n"
   ]
  },
  {
   "cell_type": "markdown",
   "metadata": {},
   "source": [
    "Let's say we want to see how many words are on each line. Write a loop that calculates the length of each line. What result do you get? Does it seem accurate? Why or why not? "
   ]
  },
  {
   "cell_type": "code",
   "execution_count": null,
   "metadata": {
    "collapsed": false
   },
   "outputs": [],
   "source": [
    "#I was vague about which variable to use. cleanlines or veggie_lines is fine\n",
    "#the word count will be the same!\n",
    "for line in cleanlines:\n",
    "    print line,len(line)\n",
    "    \n",
    "#the lengths are too long, it says \"I am Sam\" has a length of 8"
   ]
  },
  {
   "cell_type": "markdown",
   "metadata": {},
   "source": [
    "Notice that each line is a single string. The `len` of a string will count the number of *characters*, including all spaces and everything. Let's organize our data so we can count the words on each line.\n",
    "\n",
    "To do this, we want a list where every element is a line (like we already have) BUT, each line is *also* a list, containing each unique word as an elements. So it would be something like this: \n",
    "\n",
    "```python\n",
    "[ ['I', 'do','not','like','green','eggs','and','ham'],\n",
    "  ['I', 'do','not','like','them','Sam-I-am'],\n",
    "  ...\n",
    " ]\n",
    "```\n",
    "\n",
    "Create this new list, calling it `wordlines`. Hint: the `split` function will be helpful. Using the `type` function, confirm that each element of `wordlines` is a `list`, and that each element of `lines` is a `str`. "
   ]
  },
  {
   "cell_type": "code",
   "execution_count": 176,
   "metadata": {
    "collapsed": true
   },
   "outputs": [],
   "source": [
    "wordlines = []\n",
    "\n",
    "for line in cleanlines:\n",
    "    linelist = line.split()\n",
    "    wordlines.append(linelist)"
   ]
  },
  {
   "cell_type": "code",
   "execution_count": null,
   "metadata": {
    "collapsed": true
   },
   "outputs": [],
   "source": [
    "#look at the datatype for each line in wordlines\n",
    "for line in wordlines: \n",
    "    print type(line)"
   ]
  },
  {
   "cell_type": "code",
   "execution_count": null,
   "metadata": {
    "collapsed": false
   },
   "outputs": [],
   "source": [
    "#do the same for our original lines variable\n",
    "for line in lines: \n",
    "    print type(line)"
   ]
  },
  {
   "cell_type": "markdown",
   "metadata": {},
   "source": [
    "*Now* try to count the number of words on each line. Did it work? Print the longest line(s) in the story. "
   ]
  },
  {
   "cell_type": "code",
   "execution_count": null,
   "metadata": {
    "collapsed": false
   },
   "outputs": [],
   "source": [
    "lengths = []\n",
    "\n",
    "for line in wordlines: \n",
    "     lengths.append(len(line))\n",
    "\n",
    "print lengths\n",
    "\n",
    "longest = max(lengths)\n",
    "print longest\n",
    "\n",
    "for line in wordlines:\n",
    "    if len(line)==longest:\n",
    "        print line"
   ]
  },
  {
   "cell_type": "markdown",
   "metadata": {},
   "source": [
    "Let's choose a random line, the 46th one. Print that line below. Notice that it prints as a list, but we want it to print out like a sentence. We want it to be a list because the list gives us the power to count words and other stuff, but when we print, we want to display it like the original story. \n",
    "\n",
    "See if you can use the `join` method to make it print line 46 like normal. "
   ]
  },
  {
   "cell_type": "code",
   "execution_count": null,
   "metadata": {
    "collapsed": false
   },
   "outputs": [],
   "source": [
    "line46 = wordlines[45]\n",
    "print line46 #list\n",
    "\n",
    "print ' '.join(line46) #sentence!\n"
   ]
  },
  {
   "cell_type": "markdown",
   "metadata": {},
   "source": [
    "Use the function `in` to loop through `wordlines` and print only the lines that contain the word \"eat\". Make them print nicely using `join`"
   ]
  },
  {
   "cell_type": "code",
   "execution_count": null,
   "metadata": {
    "collapsed": false
   },
   "outputs": [],
   "source": [
    "\n",
    "for line in wordlines:\n",
    "    if \"eat\" in line: #in is useful for searching within lists!\n",
    "        print ' '.join(line) #print as a sentence\n",
    "\n"
   ]
  },
  {
   "cell_type": "markdown",
   "metadata": {},
   "source": [
    "Use the `count` method to count the number of times the word \"I\" appears in the *entire story*. "
   ]
  },
  {
   "cell_type": "code",
   "execution_count": null,
   "metadata": {
    "collapsed": false
   },
   "outputs": [],
   "source": [
    "\n",
    "total_I = 0\n",
    "\n",
    "for line in wordlines:\n",
    "    total_I = total_I + line.count('I') #There was a typo--we should look for uppercase I, not lowercase. \n",
    "\n",
    "print total_I"
   ]
  },
  {
   "cell_type": "code",
   "execution_count": null,
   "metadata": {
    "collapsed": true
   },
   "outputs": [],
   "source": []
  },
  {
   "cell_type": "markdown",
   "metadata": {},
   "source": [
    "Now let's manipulate the lists a bit. Use the `insert` method to insert your name at the beginnning of each line. Then try to add the phrase \", you know\" to the end of each line. \n",
    "\n",
    "Which method works better for adding to the end? `append` or `extend`? You should pull out a random line and test out on that one before you try modifying the whole list. \n",
    "\n",
    "When you're done, print out the whole story. "
   ]
  },
  {
   "cell_type": "code",
   "execution_count": null,
   "metadata": {
    "collapsed": false
   },
   "outputs": [],
   "source": [
    "randline = wordlines[10]\n",
    "\n",
    "#let's test adding stuff to the end using append\n",
    "randline.append([', you know']) #notice this is not what we want!\n",
    "print randline\n",
    "randline.pop() #this will remove what I just added\n",
    "print randline"
   ]
  },
  {
   "cell_type": "code",
   "execution_count": null,
   "metadata": {
    "collapsed": false
   },
   "outputs": [],
   "source": [
    "#now using extend\n",
    "randline.extend([', you know']) #that's better!\n",
    "print randline\n",
    "randline = randline[:-1] #this will undo what we just did\n",
    "print randline"
   ]
  },
  {
   "cell_type": "code",
   "execution_count": null,
   "metadata": {
    "collapsed": false
   },
   "outputs": [],
   "source": [
    "randline.insert(0,'Jason')\n",
    "print randline\n",
    "randline.pop(0) #undo it- remove the first element\n"
   ]
  },
  {
   "cell_type": "code",
   "execution_count": 177,
   "metadata": {
    "collapsed": false
   },
   "outputs": [
    {
     "name": "stdout",
     "output_type": "stream",
     "text": [
      "Jason I am Sam , you know\n",
      "Jason Sam I am , you know\n",
      "Jason , you know\n",
      "Jason That Sam-i-am! , you know\n",
      "Jason That Sam-i-am! , you know\n",
      "Jason I do not like that Sam-i-am! , you know\n",
      "Jason , you know\n",
      "Jason Do you like , you know\n",
      "Jason green eggs and ham? , you know\n",
      "Jason I do not like them, Sam-i-am. , you know\n",
      "Jason I do not like , you know\n",
      "Jason green eggs and ham. , you know\n",
      "Jason , you know\n",
      "Jason Would you like them , you know\n",
      "Jason here or there? , you know\n",
      "Jason , you know\n",
      "Jason I would not like them , you know\n",
      "Jason here or there. , you know\n",
      "Jason I would not like them anywhere. , you know\n",
      "Jason , you know\n",
      "Jason I do not like , you know\n",
      "Jason green eggs and ham. , you know\n",
      "Jason I do not like them, Sam-i-am. , you know\n",
      "Jason , you know\n",
      "Jason Would you like them in a house? , you know\n",
      "Jason Would you like them with a mouse? , you know\n",
      "Jason , you know\n",
      "Jason I do not like them , you know\n",
      "Jason in a house. , you know\n",
      "Jason I do not like them , you know\n",
      "Jason with a mouse. , you know\n",
      "Jason I do not like them , you know\n",
      "Jason here or there. , you know\n",
      "Jason I do not like them , you know\n",
      "Jason anywhere. , you know\n",
      "Jason I do not like , you know\n",
      "Jason green eggs and ham. , you know\n",
      "Jason I do not like them, , you know\n",
      "Jason Sam-i-am. , you know\n",
      "Jason , you know\n",
      "Jason Would you eat them , you know\n",
      "Jason in a box? , you know\n",
      "Jason Would you eat them , you know\n",
      "Jason with a fox? , you know\n",
      "Jason , you know\n",
      "Jason Not in a box. , you know\n",
      "Jason Not with a fox. , you know\n",
      "Jason Not in a house. , you know\n",
      "Jason Not with a mouse. , you know\n",
      "Jason I would not eat them , you know\n",
      "Jason here or there. , you know\n",
      "Jason I would not eat them anywhere. , you know\n",
      "Jason I would not eat green eggs and ham. , you know\n",
      "Jason I do not like them, Sam-i-am. , you know\n",
      "Jason , you know\n",
      "Jason Would you? Could you? in a car? , you know\n",
      "Jason Eat them! Eat them! Here they are. , you know\n",
      "Jason I would not, could not, in a car. , you know\n",
      "Jason , you know\n",
      "Jason You may like them. You will see. , you know\n",
      "Jason You may like them in a tree! , you know\n",
      "Jason , you know\n",
      "Jason I would not, could not in a tree. , you know\n",
      "Jason Not in a car! You let me be. , you know\n",
      "Jason , you know\n",
      "Jason I do not like them in a box. , you know\n",
      "Jason I do not like them with a fox. , you know\n",
      "Jason I do not like them in a house. , you know\n",
      "Jason I do not like them with a mouse. , you know\n",
      "Jason I do not like them here or there. , you know\n",
      "Jason I do not like them anywhere. , you know\n",
      "Jason I do not like green eggs and ham. , you know\n",
      "Jason I do not like them, Sam-i-am. , you know\n",
      "Jason , you know\n",
      "Jason A train! A train! , you know\n",
      "Jason A train! A train! , you know\n",
      "Jason Could you, would you, , you know\n",
      "Jason on a train? , you know\n",
      "Jason , you know\n",
      "Jason Not in a train! Not in a tree! , you know\n",
      "Jason Not in a car! Sam! Let me be! , you know\n",
      "Jason , you know\n",
      "Jason I would not, could not, in a box. , you know\n",
      "Jason I could not, would not, with a fox. , you know\n",
      "Jason I will not eat them with a mouse. , you know\n",
      "Jason I will not eat them in a house. , you know\n",
      "Jason I will not eat them here or there. , you know\n",
      "Jason I will not eat them anywhere. , you know\n",
      "Jason I do not like green eggs and ham. , you know\n",
      "Jason I do not like them, Sam-i-am. , you know\n",
      "Jason , you know\n",
      "Jason Say! in the dark? , you know\n",
      "Jason Here in the dark! , you know\n",
      "Jason Would you, could you, , you know\n",
      "Jason in the dark? , you know\n",
      "Jason , you know\n",
      "Jason I would not, could not, in the dark. , you know\n",
      "Jason , you know\n",
      "Jason Would you, could you, in the rain? , you know\n",
      "Jason , you know\n",
      "Jason I would not, could not, in the rain. , you know\n",
      "Jason Not in the dark. Not on a train. , you know\n",
      "Jason Not in a car. Not in a tree. , you know\n",
      "Jason I do not like them, Sam, you see. , you know\n",
      "Jason Not in a house. Not in a box. , you know\n",
      "Jason Not with a mouse. Not with a fox. , you know\n",
      "Jason I will not eat them here or there. , you know\n",
      "Jason I do not like them anywhere! , you know\n",
      "Jason , you know\n",
      "Jason You do not like , you know\n",
      "Jason green eggs and ham? , you know\n",
      "Jason I do not like them, , you know\n",
      "Jason Sam-i-am. , you know\n",
      "Jason , you know\n",
      "Jason Could you, would you, , you know\n",
      "Jason with a goat? , you know\n",
      "Jason , you know\n",
      "Jason I would not, could not, , you know\n",
      "Jason with a goat! , you know\n",
      "Jason , you know\n",
      "Jason Would you, could you, , you know\n",
      "Jason on a boat? , you know\n",
      "Jason , you know\n",
      "Jason I could not, would not, , you know\n",
      "Jason on a boat. , you know\n",
      "Jason I will not, will not, , you know\n",
      "Jason with a goat. , you know\n",
      "Jason , you know\n",
      "Jason I will not eat them in the rain. , you know\n",
      "Jason I will not eat them on a train. , you know\n",
      "Jason Not in the dark! Not in a tree! , you know\n",
      "Jason Not in a car! You let me be! , you know\n",
      "Jason I do not like them in a box. , you know\n",
      "Jason I do not like them with a fox. , you know\n",
      "Jason I will not eat them in a house. , you know\n",
      "Jason I do not like them with a mouse. , you know\n",
      "Jason I do not like them here or there. , you know\n",
      "Jason I do not like them ANYWHERE! , you know\n",
      "Jason I do not like green eggs and ham! , you know\n",
      "Jason I do not like them, Sam-i-am. , you know\n",
      "Jason , you know\n",
      "Jason You do not like them. So you say. , you know\n",
      "Jason Try them! Try them!And you may. , you know\n",
      "Jason Try them and you may, I say. , you know\n",
      "Jason , you know\n",
      "Jason Sam! if you will let me be, , you know\n",
      "Jason I will try them. You will see. , you know\n",
      "Jason , you know\n",
      "Jason Say! I like green eggs and ham! , you know\n",
      "Jason I do! I like them, Sam-i-am! , you know\n",
      "Jason And I would eat them in a boat. , you know\n",
      "Jason And I would eat them with a goat... , you know\n",
      "Jason , you know\n",
      "Jason And I will eat them in the rain. , you know\n",
      "Jason And in the dark. And on a train. , you know\n",
      "Jason And in a car. And in a tree. , you know\n",
      "Jason They are so good, so good, you see! , you know\n",
      "Jason , you know\n",
      "Jason So I will eat them in a box. , you know\n",
      "Jason And I will eat them with a fox. , you know\n",
      "Jason And I will eat them in a house. , you know\n",
      "Jason And I will eat them with a mouse. , you know\n",
      "Jason And I will eat them here and there. , you know\n",
      "Jason Say! I will eat them ANYWHERE! , you know\n",
      "Jason I do so like , you know\n",
      "Jason green eggs and ham! , you know\n",
      "Jason Thank you! , you know\n",
      "Jason Thank you, Sam-i-am! , you know\n"
     ]
    }
   ],
   "source": [
    "#now let's do the whole story: \n",
    "\n",
    "for line in wordlines:\n",
    "    line.insert(0,'Jason')\n",
    "    line.extend([', you know'])\n",
    "\n",
    "#now print the story - yes we could have done this with a single loop\n",
    "for line in wordlines:\n",
    "    print ' '.join(line)"
   ]
  },
  {
   "cell_type": "code",
   "execution_count": null,
   "metadata": {
    "collapsed": false
   },
   "outputs": [],
   "source": []
  },
  {
   "cell_type": "markdown",
   "metadata": {},
   "source": [
    "We don't like this version. Let's put it back to normal. Use the `pop` method to remove \"you know\" from the end of each line. Then use the `remove` method to remove your name from each line. Confirm that it's back to normal. "
   ]
  },
  {
   "cell_type": "code",
   "execution_count": 178,
   "metadata": {
    "collapsed": false
   },
   "outputs": [
    {
     "name": "stdout",
     "output_type": "stream",
     "text": [
      "I am Sam\n",
      "Sam I am\n",
      "\n",
      "That Sam-i-am!\n",
      "That Sam-i-am!\n",
      "I do not like that Sam-i-am!\n",
      "\n",
      "Do you like\n",
      "green eggs and ham?\n",
      "I do not like them, Sam-i-am.\n",
      "I do not like\n",
      "green eggs and ham.\n",
      "\n",
      "Would you like them\n",
      "here or there?\n",
      "\n",
      "I would not like them\n",
      "here or there.\n",
      "I would not like them anywhere.\n",
      "\n",
      "I do not like\n",
      "green eggs and ham.\n",
      "I do not like them, Sam-i-am.\n",
      "\n",
      "Would you like them in a house?\n",
      "Would you like them with a mouse?\n",
      "\n",
      "I do not like them\n",
      "in a house.\n",
      "I do not like them\n",
      "with a mouse.\n",
      "I do not like them\n",
      "here or there.\n",
      "I do not like them\n",
      "anywhere.\n",
      "I do not like\n",
      "green eggs and ham.\n",
      "I do not like them,\n",
      "Sam-i-am.\n",
      "\n",
      "Would you eat them\n",
      "in a box?\n",
      "Would you eat them\n",
      "with a fox?\n",
      "\n",
      "Not in a box.\n",
      "Not with a fox.\n",
      "Not in a house.\n",
      "Not with a mouse.\n",
      "I would not eat them\n",
      "here or there.\n",
      "I would not eat them anywhere.\n",
      "I would not eat green eggs and ham.\n",
      "I do not like them, Sam-i-am.\n",
      "\n",
      "Would you? Could you? in a car?\n",
      "Eat them! Eat them! Here they are.\n",
      "I would not, could not, in a car.\n",
      "\n",
      "You may like them. You will see.\n",
      "You may like them in a tree!\n",
      "\n",
      "I would not, could not in a tree.\n",
      "Not in a car! You let me be.\n",
      "\n",
      "I do not like them in a box.\n",
      "I do not like them with a fox.\n",
      "I do not like them in a house.\n",
      "I do not like them with a mouse.\n",
      "I do not like them here or there.\n",
      "I do not like them anywhere.\n",
      "I do not like green eggs and ham.\n",
      "I do not like them, Sam-i-am.\n",
      "\n",
      "A train! A train!\n",
      "A train! A train!\n",
      "Could you, would you,\n",
      "on a train?\n",
      "\n",
      "Not in a train! Not in a tree!\n",
      "Not in a car! Sam! Let me be!\n",
      "\n",
      "I would not, could not, in a box.\n",
      "I could not, would not, with a fox.\n",
      "I will not eat them with a mouse.\n",
      "I will not eat them in a house.\n",
      "I will not eat them here or there.\n",
      "I will not eat them anywhere.\n",
      "I do not like green eggs and ham.\n",
      "I do not like them, Sam-i-am.\n",
      "\n",
      "Say! in the dark?\n",
      "Here in the dark!\n",
      "Would you, could you,\n",
      "in the dark?\n",
      "\n",
      "I would not, could not, in the dark.\n",
      "\n",
      "Would you, could you, in the rain?\n",
      "\n",
      "I would not, could not, in the rain.\n",
      "Not in the dark. Not on a train.\n",
      "Not in a car. Not in a tree.\n",
      "I do not like them, Sam, you see.\n",
      "Not in a house. Not in a box.\n",
      "Not with a mouse. Not with a fox.\n",
      "I will not eat them here or there.\n",
      "I do not like them anywhere!\n",
      "\n",
      "You do not like\n",
      "green eggs and ham?\n",
      "I do not like them,\n",
      "Sam-i-am.\n",
      "\n",
      "Could you, would you,\n",
      "with a goat?\n",
      "\n",
      "I would not, could not,\n",
      "with a goat!\n",
      "\n",
      "Would you, could you,\n",
      "on a boat?\n",
      "\n",
      "I could not, would not,\n",
      "on a boat.\n",
      "I will not, will not,\n",
      "with a goat.\n",
      "\n",
      "I will not eat them in the rain.\n",
      "I will not eat them on a train.\n",
      "Not in the dark! Not in a tree!\n",
      "Not in a car! You let me be!\n",
      "I do not like them in a box.\n",
      "I do not like them with a fox.\n",
      "I will not eat them in a house.\n",
      "I do not like them with a mouse.\n",
      "I do not like them here or there.\n",
      "I do not like them ANYWHERE!\n",
      "I do not like green eggs and ham!\n",
      "I do not like them, Sam-i-am.\n",
      "\n",
      "You do not like them. So you say.\n",
      "Try them! Try them!And you may.\n",
      "Try them and you may, I say.\n",
      "\n",
      "Sam! if you will let me be,\n",
      "I will try them. You will see.\n",
      "\n",
      "Say! I like green eggs and ham!\n",
      "I do! I like them, Sam-i-am!\n",
      "And I would eat them in a boat.\n",
      "And I would eat them with a goat...\n",
      "\n",
      "And I will eat them in the rain.\n",
      "And in the dark. And on a train.\n",
      "And in a car. And in a tree.\n",
      "They are so good, so good, you see!\n",
      "\n",
      "So I will eat them in a box.\n",
      "And I will eat them with a fox.\n",
      "And I will eat them in a house.\n",
      "And I will eat them with a mouse.\n",
      "And I will eat them here and there.\n",
      "Say! I will eat them ANYWHERE!\n",
      "I do so like\n",
      "green eggs and ham!\n",
      "Thank you!\n",
      "Thank you, Sam-i-am!\n"
     ]
    }
   ],
   "source": [
    "\n",
    "for line in wordlines:\n",
    "    line.remove('Jason') #remove based on text\n",
    "    line.pop() #remove the last element ', you know'\n",
    "    print ' '.join(line)\n",
    "    \n"
   ]
  },
  {
   "cell_type": "code",
   "execution_count": null,
   "metadata": {
    "collapsed": false
   },
   "outputs": [],
   "source": []
  },
  {
   "cell_type": "code",
   "execution_count": null,
   "metadata": {
    "collapsed": true
   },
   "outputs": [],
   "source": []
  },
  {
   "cell_type": "markdown",
   "metadata": {},
   "source": [
    "Let's reorganize again. Loop through `wordlines`, but make a new list `justwords` that contains just each individual word. So `justwords` will no longer be a nested list, it will be a list where each element is a word. While you're at it, make all the words uppercase. "
   ]
  },
  {
   "cell_type": "code",
   "execution_count": 179,
   "metadata": {
    "collapsed": false
   },
   "outputs": [
    {
     "name": "stdout",
     "output_type": "stream",
     "text": [
      "['I', 'AM', 'SAM', 'SAM', 'I', 'AM', 'THAT', 'SAM-I-AM!', 'THAT', 'SAM-I-AM!', 'I', 'DO', 'NOT', 'LIKE', 'THAT', 'SAM-I-AM!', 'DO', 'YOU', 'LIKE', 'GREEN', 'EGGS', 'AND', 'HAM?', 'I', 'DO', 'NOT', 'LIKE', 'THEM,', 'SAM-I-AM.', 'I', 'DO', 'NOT', 'LIKE', 'GREEN', 'EGGS', 'AND', 'HAM.', 'WOULD', 'YOU', 'LIKE', 'THEM', 'HERE', 'OR', 'THERE?', 'I', 'WOULD', 'NOT', 'LIKE', 'THEM', 'HERE', 'OR', 'THERE.', 'I', 'WOULD', 'NOT', 'LIKE', 'THEM', 'ANYWHERE.', 'I', 'DO', 'NOT', 'LIKE', 'GREEN', 'EGGS', 'AND', 'HAM.', 'I', 'DO', 'NOT', 'LIKE', 'THEM,', 'SAM-I-AM.', 'WOULD', 'YOU', 'LIKE', 'THEM', 'IN', 'A', 'HOUSE?', 'WOULD', 'YOU', 'LIKE', 'THEM', 'WITH', 'A', 'MOUSE?', 'I', 'DO', 'NOT', 'LIKE', 'THEM', 'IN', 'A', 'HOUSE.', 'I', 'DO', 'NOT', 'LIKE', 'THEM', 'WITH', 'A', 'MOUSE.', 'I', 'DO', 'NOT', 'LIKE', 'THEM', 'HERE', 'OR', 'THERE.', 'I', 'DO', 'NOT', 'LIKE', 'THEM', 'ANYWHERE.', 'I', 'DO', 'NOT', 'LIKE', 'GREEN', 'EGGS', 'AND', 'HAM.', 'I', 'DO', 'NOT', 'LIKE', 'THEM,', 'SAM-I-AM.', 'WOULD', 'YOU', 'EAT', 'THEM', 'IN', 'A', 'BOX?', 'WOULD', 'YOU', 'EAT', 'THEM', 'WITH', 'A', 'FOX?', 'NOT', 'IN', 'A', 'BOX.', 'NOT', 'WITH', 'A', 'FOX.', 'NOT', 'IN', 'A', 'HOUSE.', 'NOT', 'WITH', 'A', 'MOUSE.', 'I', 'WOULD', 'NOT', 'EAT', 'THEM', 'HERE', 'OR', 'THERE.', 'I', 'WOULD', 'NOT', 'EAT', 'THEM', 'ANYWHERE.', 'I', 'WOULD', 'NOT', 'EAT', 'GREEN', 'EGGS', 'AND', 'HAM.', 'I', 'DO', 'NOT', 'LIKE', 'THEM,', 'SAM-I-AM.', 'WOULD', 'YOU?', 'COULD', 'YOU?', 'IN', 'A', 'CAR?', 'EAT', 'THEM!', 'EAT', 'THEM!', 'HERE', 'THEY', 'ARE.', 'I', 'WOULD', 'NOT,', 'COULD', 'NOT,', 'IN', 'A', 'CAR.', 'YOU', 'MAY', 'LIKE', 'THEM.', 'YOU', 'WILL', 'SEE.', 'YOU', 'MAY', 'LIKE', 'THEM', 'IN', 'A', 'TREE!', 'I', 'WOULD', 'NOT,', 'COULD', 'NOT', 'IN', 'A', 'TREE.', 'NOT', 'IN', 'A', 'CAR!', 'YOU', 'LET', 'ME', 'BE.', 'I', 'DO', 'NOT', 'LIKE', 'THEM', 'IN', 'A', 'BOX.', 'I', 'DO', 'NOT', 'LIKE', 'THEM', 'WITH', 'A', 'FOX.', 'I', 'DO', 'NOT', 'LIKE', 'THEM', 'IN', 'A', 'HOUSE.', 'I', 'DO', 'NOT', 'LIKE', 'THEM', 'WITH', 'A', 'MOUSE.', 'I', 'DO', 'NOT', 'LIKE', 'THEM', 'HERE', 'OR', 'THERE.', 'I', 'DO', 'NOT', 'LIKE', 'THEM', 'ANYWHERE.', 'I', 'DO', 'NOT', 'LIKE', 'GREEN', 'EGGS', 'AND', 'HAM.', 'I', 'DO', 'NOT', 'LIKE', 'THEM,', 'SAM-I-AM.', 'A', 'TRAIN!', 'A', 'TRAIN!', 'A', 'TRAIN!', 'A', 'TRAIN!', 'COULD', 'YOU,', 'WOULD', 'YOU,', 'ON', 'A', 'TRAIN?', 'NOT', 'IN', 'A', 'TRAIN!', 'NOT', 'IN', 'A', 'TREE!', 'NOT', 'IN', 'A', 'CAR!', 'SAM!', 'LET', 'ME', 'BE!', 'I', 'WOULD', 'NOT,', 'COULD', 'NOT,', 'IN', 'A', 'BOX.', 'I', 'COULD', 'NOT,', 'WOULD', 'NOT,', 'WITH', 'A', 'FOX.', 'I', 'WILL', 'NOT', 'EAT', 'THEM', 'WITH', 'A', 'MOUSE.', 'I', 'WILL', 'NOT', 'EAT', 'THEM', 'IN', 'A', 'HOUSE.', 'I', 'WILL', 'NOT', 'EAT', 'THEM', 'HERE', 'OR', 'THERE.', 'I', 'WILL', 'NOT', 'EAT', 'THEM', 'ANYWHERE.', 'I', 'DO', 'NOT', 'LIKE', 'GREEN', 'EGGS', 'AND', 'HAM.', 'I', 'DO', 'NOT', 'LIKE', 'THEM,', 'SAM-I-AM.', 'SAY!', 'IN', 'THE', 'DARK?', 'HERE', 'IN', 'THE', 'DARK!', 'WOULD', 'YOU,', 'COULD', 'YOU,', 'IN', 'THE', 'DARK?', 'I', 'WOULD', 'NOT,', 'COULD', 'NOT,', 'IN', 'THE', 'DARK.', 'WOULD', 'YOU,', 'COULD', 'YOU,', 'IN', 'THE', 'RAIN?', 'I', 'WOULD', 'NOT,', 'COULD', 'NOT,', 'IN', 'THE', 'RAIN.', 'NOT', 'IN', 'THE', 'DARK.', 'NOT', 'ON', 'A', 'TRAIN.', 'NOT', 'IN', 'A', 'CAR.', 'NOT', 'IN', 'A', 'TREE.', 'I', 'DO', 'NOT', 'LIKE', 'THEM,', 'SAM,', 'YOU', 'SEE.', 'NOT', 'IN', 'A', 'HOUSE.', 'NOT', 'IN', 'A', 'BOX.', 'NOT', 'WITH', 'A', 'MOUSE.', 'NOT', 'WITH', 'A', 'FOX.', 'I', 'WILL', 'NOT', 'EAT', 'THEM', 'HERE', 'OR', 'THERE.', 'I', 'DO', 'NOT', 'LIKE', 'THEM', 'ANYWHERE!', 'YOU', 'DO', 'NOT', 'LIKE', 'GREEN', 'EGGS', 'AND', 'HAM?', 'I', 'DO', 'NOT', 'LIKE', 'THEM,', 'SAM-I-AM.', 'COULD', 'YOU,', 'WOULD', 'YOU,', 'WITH', 'A', 'GOAT?', 'I', 'WOULD', 'NOT,', 'COULD', 'NOT,', 'WITH', 'A', 'GOAT!', 'WOULD', 'YOU,', 'COULD', 'YOU,', 'ON', 'A', 'BOAT?', 'I', 'COULD', 'NOT,', 'WOULD', 'NOT,', 'ON', 'A', 'BOAT.', 'I', 'WILL', 'NOT,', 'WILL', 'NOT,', 'WITH', 'A', 'GOAT.', 'I', 'WILL', 'NOT', 'EAT', 'THEM', 'IN', 'THE', 'RAIN.', 'I', 'WILL', 'NOT', 'EAT', 'THEM', 'ON', 'A', 'TRAIN.', 'NOT', 'IN', 'THE', 'DARK!', 'NOT', 'IN', 'A', 'TREE!', 'NOT', 'IN', 'A', 'CAR!', 'YOU', 'LET', 'ME', 'BE!', 'I', 'DO', 'NOT', 'LIKE', 'THEM', 'IN', 'A', 'BOX.', 'I', 'DO', 'NOT', 'LIKE', 'THEM', 'WITH', 'A', 'FOX.', 'I', 'WILL', 'NOT', 'EAT', 'THEM', 'IN', 'A', 'HOUSE.', 'I', 'DO', 'NOT', 'LIKE', 'THEM', 'WITH', 'A', 'MOUSE.', 'I', 'DO', 'NOT', 'LIKE', 'THEM', 'HERE', 'OR', 'THERE.', 'I', 'DO', 'NOT', 'LIKE', 'THEM', 'ANYWHERE!', 'I', 'DO', 'NOT', 'LIKE', 'GREEN', 'EGGS', 'AND', 'HAM!', 'I', 'DO', 'NOT', 'LIKE', 'THEM,', 'SAM-I-AM.', 'YOU', 'DO', 'NOT', 'LIKE', 'THEM.', 'SO', 'YOU', 'SAY.', 'TRY', 'THEM!', 'TRY', 'THEM!AND', 'YOU', 'MAY.', 'TRY', 'THEM', 'AND', 'YOU', 'MAY,', 'I', 'SAY.', 'SAM!', 'IF', 'YOU', 'WILL', 'LET', 'ME', 'BE,', 'I', 'WILL', 'TRY', 'THEM.', 'YOU', 'WILL', 'SEE.', 'SAY!', 'I', 'LIKE', 'GREEN', 'EGGS', 'AND', 'HAM!', 'I', 'DO!', 'I', 'LIKE', 'THEM,', 'SAM-I-AM!', 'AND', 'I', 'WOULD', 'EAT', 'THEM', 'IN', 'A', 'BOAT.', 'AND', 'I', 'WOULD', 'EAT', 'THEM', 'WITH', 'A', 'GOAT...', 'AND', 'I', 'WILL', 'EAT', 'THEM', 'IN', 'THE', 'RAIN.', 'AND', 'IN', 'THE', 'DARK.', 'AND', 'ON', 'A', 'TRAIN.', 'AND', 'IN', 'A', 'CAR.', 'AND', 'IN', 'A', 'TREE.', 'THEY', 'ARE', 'SO', 'GOOD,', 'SO', 'GOOD,', 'YOU', 'SEE!', 'SO', 'I', 'WILL', 'EAT', 'THEM', 'IN', 'A', 'BOX.', 'AND', 'I', 'WILL', 'EAT', 'THEM', 'WITH', 'A', 'FOX.', 'AND', 'I', 'WILL', 'EAT', 'THEM', 'IN', 'A', 'HOUSE.', 'AND', 'I', 'WILL', 'EAT', 'THEM', 'WITH', 'A', 'MOUSE.', 'AND', 'I', 'WILL', 'EAT', 'THEM', 'HERE', 'AND', 'THERE.', 'SAY!', 'I', 'WILL', 'EAT', 'THEM', 'ANYWHERE!', 'I', 'DO', 'SO', 'LIKE', 'GREEN', 'EGGS', 'AND', 'HAM!', 'THANK', 'YOU!', 'THANK', 'YOU,', 'SAM-I-AM!']\n"
     ]
    }
   ],
   "source": [
    "\n",
    "justwords = []\n",
    "\n",
    "for line in wordlines:\n",
    "    for word in line: #nested loop!\n",
    "        justwords.append(word.upper())\n",
    "\n",
    "print justwords    "
   ]
  },
  {
   "cell_type": "markdown",
   "metadata": {},
   "source": [
    "What does this buy us? Now we can easily see how many unique words are in our story. Make a new list called `uniquewords` that contains only the unique set of words in the story. Use the `sort` method to alphabetize it. Print the list, and the number of words. "
   ]
  },
  {
   "cell_type": "code",
   "execution_count": 180,
   "metadata": {
    "collapsed": false
   },
   "outputs": [
    {
     "name": "stdout",
     "output_type": "stream",
     "text": [
      "['I', 'AM', 'SAM', 'THAT', 'SAM-I-AM!', 'DO', 'NOT', 'LIKE', 'YOU', 'GREEN', 'EGGS', 'AND', 'HAM?', 'THEM,', 'SAM-I-AM.', 'HAM.', 'WOULD', 'THEM', 'HERE', 'OR', 'THERE?', 'THERE.', 'ANYWHERE.', 'IN', 'A', 'HOUSE?', 'WITH', 'MOUSE?', 'HOUSE.', 'MOUSE.', 'EAT', 'BOX?', 'FOX?', 'BOX.', 'FOX.', 'YOU?', 'COULD', 'CAR?', 'THEM!', 'THEY', 'ARE.', 'NOT,', 'CAR.', 'MAY', 'THEM.', 'WILL', 'SEE.', 'TREE!', 'TREE.', 'CAR!', 'LET', 'ME', 'BE.', 'TRAIN!', 'YOU,', 'ON', 'TRAIN?', 'SAM!', 'BE!', 'SAY!', 'THE', 'DARK?', 'DARK!', 'DARK.', 'RAIN?', 'RAIN.', 'TRAIN.', 'SAM,', 'ANYWHERE!', 'GOAT?', 'GOAT!', 'BOAT?', 'BOAT.', 'GOAT.', 'HAM!', 'SO', 'SAY.', 'TRY', 'THEM!AND', 'MAY.', 'MAY,', 'IF', 'BE,', 'DO!', 'GOAT...', 'ARE', 'GOOD,', 'SEE!', 'THANK', 'YOU!'] 90\n"
     ]
    }
   ],
   "source": [
    "uniquewords = []\n",
    "\n",
    "for word in justwords:\n",
    "    if word not in uniquewords: #if the word isn't already in there\n",
    "        uniquewords.append(word) #add it!\n",
    "\n",
    "print uniquewords, len(uniquewords)\n"
   ]
  },
  {
   "cell_type": "markdown",
   "metadata": {},
   "source": [
    "Notice there's a problem. It considers the punctuation as part of the word. So it says that \"fox.\" and \"fox?\" are different words. Let's remove all punctuation from `justwords`, then find the unique words again.\n",
    "\n",
    "We can do multiple calls to `replace` to make this work. I started it for you below. See if you can finish the code. \n",
    "\n",
    "After you run it, re-run the code to find the unique words in `cleanwords`, and see how many you get.  "
   ]
  },
  {
   "cell_type": "code",
   "execution_count": 183,
   "metadata": {
    "collapsed": false
   },
   "outputs": [
    {
     "name": "stdout",
     "output_type": "stream",
     "text": [
      "['I', 'AM', 'SAM', 'THAT', 'SAM-I-AM', 'DO', 'NOT', 'LIKE', 'YOU', 'GREEN', 'EGGS', 'AND', 'HAM', 'THEM', 'WOULD', 'HERE', 'OR', 'THERE', 'ANYWHERE', 'IN', 'A', 'HOUSE', 'WITH', 'MOUSE', 'EAT', 'BOX', 'FOX', 'COULD', 'CAR', 'THEY', 'ARE', 'MAY', 'WILL', 'SEE', 'TREE', 'LET', 'ME', 'BE', 'TRAIN', 'ON', 'SAY', 'THE', 'DARK', 'RAIN', 'GOAT', 'BOAT', 'SO', 'TRY', 'THEMAND', 'IF', 'GOOD', 'THANK'] 52\n"
     ]
    }
   ],
   "source": [
    "\n",
    "cleanwords = []\n",
    "uniquewords = []\n",
    "\n",
    "for word in justwords:\n",
    "    newword = word.replace('?','')\n",
    "    newword = newword.replace('!','')\n",
    "    newword = newword.replace('.','')\n",
    "    newword = newword.replace(',','')\n",
    "    \n",
    "    cleanwords.append(newword)\n",
    "    \n",
    "    if newword not in uniquewords:\n",
    "        uniquewords.append(newword)\n",
    "    \n",
    "    \n",
    "    \n",
    "print uniquewords, len(uniquewords)\n"
   ]
  },
  {
   "cell_type": "code",
   "execution_count": null,
   "metadata": {
    "collapsed": true
   },
   "outputs": [],
   "source": []
  },
  {
   "cell_type": "code",
   "execution_count": null,
   "metadata": {
    "collapsed": true
   },
   "outputs": [],
   "source": []
  },
  {
   "cell_type": "markdown",
   "metadata": {},
   "source": [
    "As another summary, let's determine how many times each of these unique words appear in the story. Loop through all the unique words, and use the `count` method to see how many times they appear in the story. Save the result of each in a list called `wordcounts`. Each element of `wordcounts` should represent how many times the corresponding element in `uniquewords` appeared in the original story. "
   ]
  },
  {
   "cell_type": "code",
   "execution_count": 187,
   "metadata": {
    "collapsed": false
   },
   "outputs": [
    {
     "name": "stdout",
     "output_type": "stream",
     "text": [
      "['I', 'AM', 'SAM', 'THAT', 'SAM-I-AM', 'DO', 'NOT', 'LIKE', 'YOU', 'GREEN', 'EGGS', 'AND', 'HAM', 'THEM', 'WOULD', 'HERE', 'OR', 'THERE', 'ANYWHERE', 'IN', 'A', 'HOUSE', 'WITH', 'MOUSE', 'EAT', 'BOX', 'FOX', 'COULD', 'CAR', 'THEY', 'ARE', 'MAY', 'WILL', 'SEE', 'TREE', 'LET', 'ME', 'BE', 'TRAIN', 'ON', 'SAY', 'THE', 'DARK', 'RAIN', 'GOAT', 'BOAT', 'SO', 'TRY', 'THEMAND', 'IF', 'GOOD', 'THANK']\n",
      "[71, 2, 5, 3, 13, 37, 84, 45, 34, 11, 11, 24, 11, 60, 26, 11, 8, 9, 8, 41, 59, 8, 19, 8, 24, 7, 7, 14, 7, 2, 2, 4, 21, 4, 6, 4, 4, 4, 9, 6, 5, 11, 7, 4, 4, 3, 5, 4, 1, 1, 2, 2]\n"
     ]
    },
    {
     "data": {
      "text/plain": [
       "True"
      ]
     },
     "execution_count": 187,
     "metadata": {},
     "output_type": "execute_result"
    }
   ],
   "source": [
    "wordcounts = []\n",
    "\n",
    "for word in uniquewords:\n",
    "    num_occurrences = cleanwords.count(word)\n",
    "    wordcounts.append(num_occurrences)\n",
    "    \n",
    "print uniquewords\n",
    "print wordcounts\n",
    "\n",
    "len(uniquewords)==len(wordcounts) #just to show you that they're the same length\n",
    "\n",
    "\n"
   ]
  },
  {
   "cell_type": "markdown",
   "metadata": {},
   "source": [
    "This is a nice summary, but it would be more elegant to store it in a Python dictionary. We will make a dictionary called `dwordcounts` where each key is a word from `uniquewords` and the value is the corresponding value in `wordcounts`. \n",
    "\n",
    "Try to make this dictionary using a `for` loop. "
   ]
  },
  {
   "cell_type": "code",
   "execution_count": null,
   "metadata": {
    "collapsed": false
   },
   "outputs": [],
   "source": []
  },
  {
   "cell_type": "markdown",
   "metadata": {},
   "source": [
    "Now see if you can do it in 1 line using the `zip` function. This time, when you print out the dictionary, use the `pprint` function from the `pprint` package to make it print out more nicely. "
   ]
  },
  {
   "cell_type": "code",
   "execution_count": null,
   "metadata": {
    "collapsed": false
   },
   "outputs": [],
   "source": []
  },
  {
   "cell_type": "code",
   "execution_count": null,
   "metadata": {
    "collapsed": true
   },
   "outputs": [],
   "source": []
  },
  {
   "cell_type": "code",
   "execution_count": null,
   "metadata": {
    "collapsed": true
   },
   "outputs": [],
   "source": []
  },
  {
   "cell_type": "code",
   "execution_count": null,
   "metadata": {
    "collapsed": true
   },
   "outputs": [],
   "source": []
  }
 ],
 "metadata": {
  "kernelspec": {
   "display_name": "Python 2",
   "language": "python",
   "name": "python2"
  },
  "language_info": {
   "codemirror_mode": {
    "name": "ipython",
    "version": 2
   },
   "file_extension": ".py",
   "mimetype": "text/x-python",
   "name": "python",
   "nbconvert_exporter": "python",
   "pygments_lexer": "ipython2",
   "version": "2.7.11"
  }
 },
 "nbformat": 4,
 "nbformat_minor": 0
}
