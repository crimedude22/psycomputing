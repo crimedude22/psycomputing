{
 "cells": [
  {
   "cell_type": "markdown",
   "metadata": {},
   "source": [
    "## In-Class Work: Pandas DataFrames\n",
    "\n",
    "Pandas DataFrames are great for dealing with tabular data. Last time we worked with numpy arrays to plot some eyetracking data. Now we're going to use Pandas to plot some running data. \n",
    "\n",
    "First, let's load in the same file that was used in the lecture, it's located at: **R:\\Psy407_9\\Class_Data\\datasets\\20runs.csv** . Use the `from_csv` method from DataFrame to load it into a DataFrame called `df1`. "
   ]
  },
  {
   "cell_type": "code",
   "execution_count": null,
   "metadata": {
    "collapsed": false
   },
   "outputs": [],
   "source": []
  },
  {
   "cell_type": "markdown",
   "metadata": {},
   "source": [
    "Print the first 50 rows using `head` and the last 50 using `tail`. "
   ]
  },
  {
   "cell_type": "code",
   "execution_count": null,
   "metadata": {
    "collapsed": false
   },
   "outputs": [],
   "source": []
  },
  {
   "cell_type": "code",
   "execution_count": null,
   "metadata": {
    "collapsed": false
   },
   "outputs": [],
   "source": []
  },
  {
   "cell_type": "markdown",
   "metadata": {},
   "source": [
    "Now load the file **R:\\Psy407_9\\Class_Data\\datasets\\10moreruns.csv** and save it as `df2`"
   ]
  },
  {
   "cell_type": "code",
   "execution_count": null,
   "metadata": {
    "collapsed": true
   },
   "outputs": [],
   "source": []
  },
  {
   "cell_type": "markdown",
   "metadata": {},
   "source": [
    "Now concatenate the two DataFrames together into a single one called `df`. "
   ]
  },
  {
   "cell_type": "code",
   "execution_count": null,
   "metadata": {
    "collapsed": false
   },
   "outputs": [],
   "source": []
  },
  {
   "cell_type": "markdown",
   "metadata": {},
   "source": [
    "Let's start where we left off in the lecture. Let's plot the altitude from all 30 runs in `df`. I'll help you out with the importing"
   ]
  },
  {
   "cell_type": "code",
   "execution_count": 93,
   "metadata": {
    "collapsed": false
   },
   "outputs": [],
   "source": [
    "%matplotlib inline\n",
    "import matplotlib.pyplot as plt\n",
    "import matplotlib\n",
    "matplotlib.rcParams['figure.figsize'] = (15.0, 10.0) #make larger default figure size\n",
    "\n"
   ]
  },
  {
   "cell_type": "markdown",
   "metadata": {},
   "source": [
    "Note that overall the altitude is hovering around 130 feet, but there are some high points that go above 160 feet and higher. Let's try to visualize these points. Use Boolean indexing to create a subset of your data, called `highruns` that contains only the rows where altitude is greater than 150. How many rows does this have?  "
   ]
  },
  {
   "cell_type": "code",
   "execution_count": null,
   "metadata": {
    "collapsed": false
   },
   "outputs": [],
   "source": []
  },
  {
   "cell_type": "markdown",
   "metadata": {},
   "source": [
    "User the `gmap_with_path` function to plot these points on a map. "
   ]
  },
  {
   "cell_type": "code",
   "execution_count": null,
   "metadata": {
    "collapsed": false
   },
   "outputs": [],
   "source": [
    "from googlemaps_helper import gmap_with_path\n",
    "\n"
   ]
  },
  {
   "cell_type": "markdown",
   "metadata": {},
   "source": [
    "Notice this looks a little strange. There are some spots on Skinner's Butte, but also a couple spots on the other side of town. And we have these big lines connecting them. Did these people fly directly to the top of Skinner's Butte like superman? Probably not. Print the first 100 rows of `highruns` and pay attention to the `routenum` column. "
   ]
  },
  {
   "cell_type": "code",
   "execution_count": null,
   "metadata": {
    "collapsed": false
   },
   "outputs": [],
   "source": []
  },
  {
   "cell_type": "markdown",
   "metadata": {},
   "source": [
    "Notice that routenum 3 only has a few rows, and routenum 4 has a lot. Remember, these are multiple routes all in 1 dataset. When we filtered our the lower elevations, it left only the points that were higher than 150 feet. When we plot the latitude and longitude, then our map function treats it like it's 1 big route! So, we are connecting pieces of individual routes together like they're a single route. That's how we get the big straight lines. \n",
    "\n",
    "Instead, let's do this: figure out what points are above 150 feet. Then, grab the *entire routes* that contain any of these points. Then we'll make a separate map for each route. \n",
    "\n",
    "The first step is to figure out the *unique* individual routes that are in `highroutes`. Print those below. How many are there? "
   ]
  },
  {
   "cell_type": "code",
   "execution_count": null,
   "metadata": {
    "collapsed": false
   },
   "outputs": [],
   "source": []
  },
  {
   "cell_type": "markdown",
   "metadata": {},
   "source": [
    "Let's illustrate what I mean using the maps. \n",
    "\n",
    "Using Boolean indexing, select only routenum 10 from `highruns`. Plot that route on the map using `gmap_with_path`"
   ]
  },
  {
   "cell_type": "code",
   "execution_count": null,
   "metadata": {
    "collapsed": false
   },
   "outputs": [],
   "source": []
  },
  {
   "cell_type": "markdown",
   "metadata": {},
   "source": [
    "Not much of a route, is it? That's because we're only plotting the *piece* of route 10 that's higher than 150 feet. \n",
    "\n",
    "Now, select the entire route from *df* and plot it on the map"
   ]
  },
  {
   "cell_type": "code",
   "execution_count": null,
   "metadata": {
    "collapsed": false
   },
   "outputs": [],
   "source": []
  },
  {
   "cell_type": "markdown",
   "metadata": {},
   "source": [
    "That looks more impressive. The part that was above 150 ft was just a small part of a pretty sizeable run. Let's see how long this run was. The `deltaDistance` column just tells you how much distance there is between the current point and the previous one (in miles). If we take the sum of that column, we get the entire distance of that route. Print the total distance below (refer to the lecture to see how to get the sum of the deltaDistance column). "
   ]
  },
  {
   "cell_type": "code",
   "execution_count": null,
   "metadata": {
    "collapsed": false
   },
   "outputs": [],
   "source": []
  },
  {
   "cell_type": "markdown",
   "metadata": {},
   "source": [
    "Now we want to repeat this process for all our routes that contain high points (above 150 feet). Let's try a different kind of Boolean indexing using the `isin` function. Below I create a Boolean array that is `True` if the routenum is 1,2, or 5. \n",
    "\n",
    "See if you can adapt this so that we can quickly index out only the routes that contain high points (remember, we found all the unique routes above). You should produce a new DataFrame called `highroutes_full`"
   ]
  },
  {
   "cell_type": "code",
   "execution_count": null,
   "metadata": {
    "collapsed": false
   },
   "outputs": [],
   "source": [
    "df.routenum.isin([1,2,5])"
   ]
  },
  {
   "cell_type": "code",
   "execution_count": null,
   "metadata": {
    "collapsed": false
   },
   "outputs": [],
   "source": []
  },
  {
   "cell_type": "markdown",
   "metadata": {},
   "source": [
    "Use the `groupby` method to create a grouped DataFrame called `high_grouped` that is groups highroutes_full by `routenum`."
   ]
  },
  {
   "cell_type": "code",
   "execution_count": null,
   "metadata": {
    "collapsed": true
   },
   "outputs": [],
   "source": []
  },
  {
   "cell_type": "markdown",
   "metadata": {},
   "source": [
    "Now loop through the different groups using a `for` loop. At each loop, print the route number and the sum of `deltaDistance` for that route. "
   ]
  },
  {
   "cell_type": "code",
   "execution_count": null,
   "metadata": {
    "collapsed": false
   },
   "outputs": [],
   "source": []
  },
  {
   "cell_type": "markdown",
   "metadata": {},
   "source": [
    "We could have done this in a more straightforward way without looping too. Look at the lecture and see if you can produce the sum of deltaDistance for all the routes in `high_grouped` without looping. Note that we get the same numbers. Also note that there are some outliers. I'm pretty sure that the 12,000 mile route is not right. We can ignore this for now. "
   ]
  },
  {
   "cell_type": "code",
   "execution_count": null,
   "metadata": {
    "collapsed": false
   },
   "outputs": [],
   "source": []
  },
  {
   "cell_type": "code",
   "execution_count": null,
   "metadata": {
    "collapsed": true
   },
   "outputs": [],
   "source": []
  },
  {
   "cell_type": "markdown",
   "metadata": {},
   "source": [
    "Now copy-and-paste your `for` loop from above. Inside of your loop, plot the route on a map using `gmap_with_path`. Some of the plots will not be produced. This is because Google puts a limit on how many points you can plot on a map. We will try to remedy this issue in a future assignment."
   ]
  },
  {
   "cell_type": "code",
   "execution_count": null,
   "metadata": {
    "collapsed": false
   },
   "outputs": [],
   "source": []
  },
  {
   "cell_type": "markdown",
   "metadata": {},
   "source": [
    "Nice! Now plot the routes using `matplotlib` in the same manner. See what happens if you call `plt.show()` inside the loop vs. after the loop. What's the difference? Also play around with `linewidth` and `alpha` and maybe `color` to make the plot look nicer. "
   ]
  },
  {
   "cell_type": "code",
   "execution_count": null,
   "metadata": {
    "collapsed": false
   },
   "outputs": [],
   "source": []
  }
 ],
 "metadata": {
  "kernelspec": {
   "display_name": "Python 2",
   "language": "python",
   "name": "python2"
  },
  "language_info": {
   "codemirror_mode": {
    "name": "ipython",
    "version": 2
   },
   "file_extension": ".py",
   "mimetype": "text/x-python",
   "name": "python",
   "nbconvert_exporter": "python",
   "pygments_lexer": "ipython2",
   "version": "2.7.11"
  }
 },
 "nbformat": 4,
 "nbformat_minor": 0
}
