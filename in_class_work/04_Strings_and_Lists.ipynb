{
 "cells": [
  {
   "cell_type": "markdown",
   "metadata": {
    "collapsed": true
   },
   "source": [
    "## In-class work 04 - Strings and Lists\n",
    "\n",
    "Let's start with some of the string operations. Take the strings below and make them both uppercase using `upper`. \n"
   ]
  },
  {
   "cell_type": "code",
   "execution_count": null,
   "metadata": {
    "collapsed": true
   },
   "outputs": [],
   "source": [
    "\n",
    "string1 = 'Hello There'\n",
    "string2 = 'HELLO there'\n"
   ]
  },
  {
   "cell_type": "markdown",
   "metadata": {},
   "source": [
    "Now see what happens when you use the `swapcase` function (you haven't seen this before)"
   ]
  },
  {
   "cell_type": "code",
   "execution_count": null,
   "metadata": {
    "collapsed": false
   },
   "outputs": [],
   "source": []
  },
  {
   "cell_type": "markdown",
   "metadata": {
    "collapsed": true
   },
   "source": [
    "Let's make some code that takes a word and produces the plural for it. First, here is the basic version that just adds an \"s\" to the end of a word. "
   ]
  },
  {
   "cell_type": "code",
   "execution_count": null,
   "metadata": {
    "collapsed": false
   },
   "outputs": [],
   "source": [
    "\n",
    "word = 'goat'\n",
    "  \n",
    "plural = word+\"s\"\n",
    "\n",
    "print plural\n"
   ]
  },
  {
   "cell_type": "markdown",
   "metadata": {
    "collapsed": true
   },
   "source": [
    "But wait, it doesn't work properly for certain words:"
   ]
  },
  {
   "cell_type": "code",
   "execution_count": null,
   "metadata": {
    "collapsed": false
   },
   "outputs": [],
   "source": [
    "word = 'fish'\n",
    "  \n",
    "plural = word+\"s\"\n",
    "\n",
    "print plural\n",
    "\n"
   ]
  },
  {
   "cell_type": "markdown",
   "metadata": {},
   "source": [
    "Modify the code so it properly handles words that end with \"sh\". "
   ]
  },
  {
   "cell_type": "code",
   "execution_count": null,
   "metadata": {
    "collapsed": true
   },
   "outputs": [],
   "source": []
  },
  {
   "cell_type": "markdown",
   "metadata": {},
   "source": [
    "What about cases where the word ends in \"s\", like the phrase \"hits and misses\"? Fix the code so it handles those cases too. And while you're at it, make it handle cases where the word ends in \"y\". "
   ]
  },
  {
   "cell_type": "code",
   "execution_count": null,
   "metadata": {
    "collapsed": true
   },
   "outputs": [],
   "source": []
  },
  {
   "cell_type": "markdown",
   "metadata": {},
   "source": [
    "Now let's practice cleaning up some text and organizing it into a list. I'm going to provide some code to read in a file. We'll learn more about this next week. All lines of the file will be saved as an element in the list, `lines`. Print the first 10 lines. What is this? "
   ]
  },
  {
   "cell_type": "code",
   "execution_count": null,
   "metadata": {
    "collapsed": false
   },
   "outputs": [],
   "source": [
    "with open('R:/Class_Data/datasets/geah.txt') as f:\n",
    "    lines = f.readlines()"
   ]
  },
  {
   "cell_type": "code",
   "execution_count": null,
   "metadata": {
    "collapsed": false
   },
   "outputs": [],
   "source": [
    "# #if you copy the .txt file to the same place as your script, then use this:\n",
    "# with open('geah.txt') as f:\n",
    "#     lines = f.readlines()"
   ]
  },
  {
   "cell_type": "code",
   "execution_count": null,
   "metadata": {
    "collapsed": false
   },
   "outputs": [],
   "source": []
  },
  {
   "cell_type": "markdown",
   "metadata": {},
   "source": [
    "Let's practice some more indexing. See if you can accomplish each of these: \n",
    "\n",
    "<ol type='a'>\n",
    "<li>print the 28th line only</li>\n",
    "<li>print lines 10 through 25</li>\n",
    "<li>print the last 5 lines</li>\n",
    "<li>print every other line</li>\n",
    "<li>print the story backwards</li>\n",
    "</ol>"
   ]
  },
  {
   "cell_type": "code",
   "execution_count": null,
   "metadata": {
    "collapsed": true
   },
   "outputs": [],
   "source": [
    "#do 1 here"
   ]
  },
  {
   "cell_type": "code",
   "execution_count": null,
   "metadata": {
    "collapsed": true
   },
   "outputs": [],
   "source": [
    "#do 2 here"
   ]
  },
  {
   "cell_type": "code",
   "execution_count": null,
   "metadata": {
    "collapsed": false
   },
   "outputs": [],
   "source": [
    "#..and so on"
   ]
  },
  {
   "cell_type": "code",
   "execution_count": null,
   "metadata": {
    "collapsed": true
   },
   "outputs": [],
   "source": []
  },
  {
   "cell_type": "code",
   "execution_count": null,
   "metadata": {
    "collapsed": true
   },
   "outputs": [],
   "source": []
  },
  {
   "cell_type": "markdown",
   "metadata": {},
   "source": [
    "Notice that there are a lot of weird characters after each line, like `\\r\\n`, as well as some extra spaces at the end. The \\r\\n are \"newline\" characters. They are characters that tell programs like Microsoft Word, TextEdit, and Notepad that they should start a new line. They are always here, but the programs hide them from you. When you read the file into Python, it includes all characters and doesn't hide anything from you. We want to remove them, though. \n",
    "\n",
    "What if there was some magical function that could clean this up for us? Wait, maybe there is (it's `strip`)... use that function to clean up the first line. "
   ]
  },
  {
   "cell_type": "code",
   "execution_count": null,
   "metadata": {
    "collapsed": true
   },
   "outputs": [],
   "source": []
  },
  {
   "cell_type": "markdown",
   "metadata": {},
   "source": [
    "Now make a loop that goes through the first 10 lines and uses `strip` to clean it up and prints it. "
   ]
  },
  {
   "cell_type": "code",
   "execution_count": null,
   "metadata": {
    "collapsed": true
   },
   "outputs": [],
   "source": []
  },
  {
   "cell_type": "markdown",
   "metadata": {},
   "source": [
    "This is great, but we want to clean up the entire story and *save* the result. Now write a `for` loop that cleans up each line, and saves it into a new list, called `cleanlines`. "
   ]
  },
  {
   "cell_type": "code",
   "execution_count": null,
   "metadata": {
    "collapsed": true
   },
   "outputs": [],
   "source": []
  },
  {
   "cell_type": "markdown",
   "metadata": {},
   "source": [
    "Good job! Notice that there is a problem with the text, the word \"i\" is never capitalized. Make a loop that goes through `cleanlines` and fixes it, and save the result. This time, save *back* into your `cleanlines` variable instead of making a new one. Check your result. Look closely-- did it work the way you wanted??"
   ]
  },
  {
   "cell_type": "code",
   "execution_count": null,
   "metadata": {
    "collapsed": true
   },
   "outputs": [],
   "source": []
  },
  {
   "cell_type": "markdown",
   "metadata": {},
   "source": [
    "There's another problem with the story. There's at least some point where it says \"spam\" instead of \"ham\". Loop through the story and print only the lines where this is the case. After you get this to work, make it also print the line *numbers* where this occurs. "
   ]
  },
  {
   "cell_type": "code",
   "execution_count": null,
   "metadata": {
    "collapsed": false
   },
   "outputs": [],
   "source": []
  },
  {
   "cell_type": "markdown",
   "metadata": {},
   "source": [
    "Fix the story so that all occurrences of \"spam\" are replaced with \"ham\". Save the result back into `cleanlines`. "
   ]
  },
  {
   "cell_type": "code",
   "execution_count": null,
   "metadata": {
    "collapsed": true
   },
   "outputs": [],
   "source": []
  },
  {
   "cell_type": "markdown",
   "metadata": {},
   "source": [
    "Now let's produce a vegetarian version of the story. Loop through all the lines and replace the word \"ham\" with \"yams\", and save the result into `veggie_lines` "
   ]
  },
  {
   "cell_type": "code",
   "execution_count": null,
   "metadata": {
    "collapsed": false
   },
   "outputs": [],
   "source": []
  },
  {
   "cell_type": "markdown",
   "metadata": {},
   "source": [
    "Using `veggie_lines`, print all lines that end with \"house\" or \"mouse\". "
   ]
  },
  {
   "cell_type": "code",
   "execution_count": null,
   "metadata": {
    "collapsed": false
   },
   "outputs": [],
   "source": []
  },
  {
   "cell_type": "markdown",
   "metadata": {},
   "source": [
    "Let's say we want to see how many words are on each line. Write a loop that calculates the length of each line. What result do you get? Does it seem accurate? Why or why not? "
   ]
  },
  {
   "cell_type": "code",
   "execution_count": null,
   "metadata": {
    "collapsed": true
   },
   "outputs": [],
   "source": []
  },
  {
   "cell_type": "markdown",
   "metadata": {},
   "source": [
    "Notice that each line is a single string. The `len` of a string will count the number of *characters*, including all spaces and everything. Let's organize our data so we can count the words on each line.\n",
    "\n",
    "To do this, we want a list where every element is a line (like we already have) BUT, each line is *also* a list, containing each unique word as an elements. So it would be something like this: \n",
    "\n",
    "```python\n",
    "[ ['I', 'do','not','like','green','eggs','and','ham'],\n",
    "  ['I', 'do','not','like','them','Sam-I-am'],\n",
    "  ...\n",
    " ]\n",
    "```\n",
    "\n",
    "Create this new list, calling it `wordlines`. Hint: the `split` function will be helpful. Using the `type` function, confirm that each element of `wordlines` is a `list`, and that each element of `lines` is a `str`. "
   ]
  },
  {
   "cell_type": "code",
   "execution_count": null,
   "metadata": {
    "collapsed": false
   },
   "outputs": [],
   "source": []
  },
  {
   "cell_type": "markdown",
   "metadata": {},
   "source": [
    "*Now* try to count the number of words on each line. Did it work? Print the longest line in the story. "
   ]
  },
  {
   "cell_type": "code",
   "execution_count": null,
   "metadata": {
    "collapsed": true
   },
   "outputs": [],
   "source": []
  },
  {
   "cell_type": "markdown",
   "metadata": {},
   "source": [
    "Let's choose a random line, the 46th one. Print that line below. Notice that it prints as a list, but we want it to print out like a sentence. We want it to be a list because the list gives us the power to count words and other stuff, but when we print, we want to display it like the original story. \n",
    "\n",
    "See if you can use the `join` method to make it print line 46 like normal. "
   ]
  },
  {
   "cell_type": "code",
   "execution_count": null,
   "metadata": {
    "collapsed": false
   },
   "outputs": [],
   "source": []
  },
  {
   "cell_type": "markdown",
   "metadata": {},
   "source": [
    "Use the function `in` to loop through `wordlines` and print only the lines that contain the word \"eat\". Make them print nicely using `join`"
   ]
  },
  {
   "cell_type": "code",
   "execution_count": null,
   "metadata": {
    "collapsed": false
   },
   "outputs": [],
   "source": []
  },
  {
   "cell_type": "markdown",
   "metadata": {},
   "source": [
    "Use the `count` method to count the number of times the word \"i\" appears in the *entire story*. "
   ]
  },
  {
   "cell_type": "code",
   "execution_count": null,
   "metadata": {
    "collapsed": true
   },
   "outputs": [],
   "source": []
  },
  {
   "cell_type": "code",
   "execution_count": null,
   "metadata": {
    "collapsed": true
   },
   "outputs": [],
   "source": []
  },
  {
   "cell_type": "markdown",
   "metadata": {},
   "source": [
    "Now let's manipulate the lists a bit. Use the `insert` method to insert your name at the beginnning of each line. Then try to add the phrase \", you know\" to the end of each line. \n",
    "\n",
    "Which method works better for adding to the end? `append` or `extend`? You should pull out a random line and test out on that one before you try modifying the whole list. \n",
    "\n",
    "When you're done, print out the whole story. "
   ]
  },
  {
   "cell_type": "code",
   "execution_count": null,
   "metadata": {
    "collapsed": true
   },
   "outputs": [],
   "source": []
  },
  {
   "cell_type": "code",
   "execution_count": null,
   "metadata": {
    "collapsed": true
   },
   "outputs": [],
   "source": []
  },
  {
   "cell_type": "code",
   "execution_count": null,
   "metadata": {
    "collapsed": true
   },
   "outputs": [],
   "source": []
  },
  {
   "cell_type": "markdown",
   "metadata": {},
   "source": [
    "We don't like this version. Let's put it back to normal. Use the `pop` method to remove \"you know\" from the end of each line. Then use the `remove` method to remove your name from each line. Confirm that it's back to normal. "
   ]
  },
  {
   "cell_type": "code",
   "execution_count": null,
   "metadata": {
    "collapsed": true
   },
   "outputs": [],
   "source": []
  },
  {
   "cell_type": "code",
   "execution_count": null,
   "metadata": {
    "collapsed": true
   },
   "outputs": [],
   "source": []
  },
  {
   "cell_type": "code",
   "execution_count": null,
   "metadata": {
    "collapsed": true
   },
   "outputs": [],
   "source": []
  },
  {
   "cell_type": "markdown",
   "metadata": {},
   "source": [
    "Let's reorganize again. Loop through `wordlines`, but make a new list `justwords` that contains just each individual word. So `justwords` will no longer be a nested list, it will be a list where each element is a word. While you're at it, make all the words uppercase. "
   ]
  },
  {
   "cell_type": "code",
   "execution_count": null,
   "metadata": {
    "collapsed": false
   },
   "outputs": [],
   "source": []
  },
  {
   "cell_type": "markdown",
   "metadata": {},
   "source": [
    "What does this buy us? Now we can easily see how many unique words are in our story. Make a new list called `uniquewords` that contains only the unique set of words in the story. Use the `sort` method to alphabetize it. Print the list, and the number of words. "
   ]
  },
  {
   "cell_type": "code",
   "execution_count": null,
   "metadata": {
    "collapsed": false
   },
   "outputs": [],
   "source": []
  },
  {
   "cell_type": "markdown",
   "metadata": {},
   "source": [
    "Notice there's a problem. It considers the punctuation as part of the word. So it says that \"fox.\" and \"fox?\" are different words. Let's remove all punctuation from `justwords`, then find the unique words again.\n",
    "\n",
    "We can do multiple calls to `replace` to make this work. I started it for you below. See if you can finish the code. \n",
    "\n",
    "After you run it, re-run the code to find the unique words in `cleanwords`, and see how many you get.  "
   ]
  },
  {
   "cell_type": "code",
   "execution_count": null,
   "metadata": {
    "collapsed": false
   },
   "outputs": [],
   "source": [
    "\n",
    "cleanwords = []\n",
    "\n",
    "for word in justwords:\n",
    "    newword = word.replace('?','')\n",
    "    #do your magic!\n"
   ]
  },
  {
   "cell_type": "code",
   "execution_count": null,
   "metadata": {
    "collapsed": true
   },
   "outputs": [],
   "source": []
  },
  {
   "cell_type": "code",
   "execution_count": null,
   "metadata": {
    "collapsed": true
   },
   "outputs": [],
   "source": []
  },
  {
   "cell_type": "markdown",
   "metadata": {},
   "source": [
    "As another summary, let's determine how many times each of these unique words appear in the story. Loop through all the unique words, and use the `count` method to see how many times they appear in the story. Save the result of each in a list called `wordcounts`. Each element of `wordcounts` should represent how many times the corresponding element in `uniquewords` appeared in the original story. "
   ]
  },
  {
   "cell_type": "code",
   "execution_count": null,
   "metadata": {
    "collapsed": false
   },
   "outputs": [],
   "source": []
  },
  {
   "cell_type": "markdown",
   "metadata": {},
   "source": [
    "This is a nice summary, but it would be more elegant to store it in a Python dictionary. We will make a dictionary called `dwordcounts` where each key is a word from `uniquewords` and the value is the corresponding value in `wordcounts`. \n",
    "\n",
    "Try to make this dictionary using a `for` loop. "
   ]
  },
  {
   "cell_type": "code",
   "execution_count": null,
   "metadata": {
    "collapsed": false
   },
   "outputs": [],
   "source": []
  },
  {
   "cell_type": "markdown",
   "metadata": {},
   "source": [
    "Now see if you can do it in 1 line using the `zip` function. This time, when you print out the dictionary, use the `pprint` function from the `pprint` package to make it print out more nicely. "
   ]
  },
  {
   "cell_type": "code",
   "execution_count": null,
   "metadata": {
    "collapsed": false
   },
   "outputs": [],
   "source": []
  },
  {
   "cell_type": "code",
   "execution_count": null,
   "metadata": {
    "collapsed": true
   },
   "outputs": [],
   "source": []
  },
  {
   "cell_type": "code",
   "execution_count": null,
   "metadata": {
    "collapsed": true
   },
   "outputs": [],
   "source": []
  },
  {
   "cell_type": "code",
   "execution_count": null,
   "metadata": {
    "collapsed": true
   },
   "outputs": [],
   "source": []
  }
 ],
 "metadata": {
  "kernelspec": {
   "display_name": "Python 2",
   "language": "python",
   "name": "python2"
  },
  "language_info": {
   "codemirror_mode": {
    "name": "ipython",
    "version": 2
   },
   "file_extension": ".py",
   "mimetype": "text/x-python",
   "name": "python",
   "nbconvert_exporter": "python",
   "pygments_lexer": "ipython2",
   "version": "2.7.11"
  }
 },
 "nbformat": 4,
 "nbformat_minor": 0
}
