{
 "cells": [
  {
   "cell_type": "markdown",
   "metadata": {},
   "source": [
    "## 05 More lists and Dictionaries\n",
    "\n",
    "Last week taught us a lot about creating lists and manipulating strings. Here we will get some more practice manipulating lists and organizing information with dictionaries. \n",
    "\n",
    "Let's start with a more grown-up dataset. With the recent passing of David Bowie, we want to make a fitting playlist of his entire catalog of albums. I will load in a file that contains information from each David Bowie album. This was obtained through a Python script pulling information from the MusicBrainz <https://musicbrainz.org/> database. It is stored in a JSON (JavaScript Object Notation) file, which we will learn about soon. "
   ]
  },
  {
   "cell_type": "code",
   "execution_count": null,
   "metadata": {
    "collapsed": false
   },
   "outputs": [],
   "source": [
    "import json\n",
    "\n",
    "with open('../../datasets/bowie_trackdata.json') as f:\n",
    "    bowie_all = json.load(f)"
   ]
  },
  {
   "cell_type": "markdown",
   "metadata": {},
   "source": [
    "First, figure out how this information is organized. What is the data type? If it has multiple elements in it, what is the data type of each element? Use the `type` and `len` functions to investigate. "
   ]
  },
  {
   "cell_type": "code",
   "execution_count": null,
   "metadata": {
    "collapsed": false
   },
   "outputs": [],
   "source": [
    "print type(bowie_all)\n",
    "\n",
    "print len(bowie_all)\n",
    "print type(bowie_all[0])\n",
    "print bowie_all[:5]\n"
   ]
  },
  {
   "cell_type": "markdown",
   "metadata": {},
   "source": [
    "It looks like we have a list where each element is a dictionary. Write a small loop to print the keys for each element in `bowie_all`. Then write another one that prints all the values. "
   ]
  },
  {
   "cell_type": "code",
   "execution_count": null,
   "metadata": {
    "collapsed": false
   },
   "outputs": [],
   "source": [
    "for i in bowie_all:\n",
    "    print i.keys()\n",
    "\n",
    "for i in bowie_all:\n",
    "    print i.values()\n"
   ]
  },
  {
   "cell_type": "markdown",
   "metadata": {},
   "source": [
    "What can you conclude about the structure of `bowie_all`? What information does it hold, and how? Answer in the plain text box below. It won't interpret your answer as code, just text. (FYI, you can change a cell to plain text by clicking Cell -> Cell Type -> Raw NBConvert)"
   ]
  },
  {
   "cell_type": "raw",
   "metadata": {},
   "source": [
    "Answer here: \n",
    "Each dictionary contains the keys: album, artist, title, tracknum, length, and year\n",
    "The corresponding values are for each individual song in our database\n"
   ]
  },
  {
   "cell_type": "markdown",
   "metadata": {},
   "source": [
    "As a first step, try to print the album for each element of `bowie_all` using a loop. "
   ]
  },
  {
   "cell_type": "code",
   "execution_count": null,
   "metadata": {
    "collapsed": false
   },
   "outputs": [],
   "source": [
    "for i in bowie_all:\n",
    "    print i['album']"
   ]
  },
  {
   "cell_type": "markdown",
   "metadata": {},
   "source": [
    "Notice that each album is repeated many times. This is because each dictionary contains information for a single song. Create a list `bowie_albums` that has only the unique Bowie albums. How many does he have?  "
   ]
  },
  {
   "cell_type": "code",
   "execution_count": null,
   "metadata": {
    "collapsed": false
   },
   "outputs": [],
   "source": [
    "\n",
    "bowie_albums = []\n",
    "\n",
    "for i in bowie_all:\n",
    "    album = i['album']\n",
    "    \n",
    "    if album not in bowie_albums:\n",
    "        bowie_albums.append(album)\n",
    "        \n",
    "        \n",
    "print len(bowie_albums)\n",
    "    \n",
    "\n"
   ]
  },
  {
   "cell_type": "markdown",
   "metadata": {},
   "source": [
    "Now make a loop that prints the track number and tracks from the album \"Heroes\" only."
   ]
  },
  {
   "cell_type": "code",
   "execution_count": null,
   "metadata": {
    "collapsed": false
   },
   "outputs": [],
   "source": [
    "\n",
    "for i in bowie_all:\n",
    "    \n",
    "    if i['album']=='Heroes':\n",
    "        print i['tracknum'], i['title']"
   ]
  },
  {
   "cell_type": "markdown",
   "metadata": {},
   "source": [
    "Notice it's a bit awkward to have the organization this way. What we *really* want is a hierarchical structure, where we can select \"Artist\" then \"Album\" to get all the tracks for a particular album. So to get all tracks for \"Heroes\" we would just do: \n",
    "\n",
    "```python\n",
    "mymusic['David Bowie']['Heroes']\n",
    "```\n",
    "\n",
    "Let's try to make this dictionary from the work we did above. Make a dictionary `mymusic` that has 1 field named 'David Bowie'. That field will also be a dictionary, with a single field called 'Heroes'. This will be a list of all the track names. You will notice that the track names are repeated. This is because the database has duplicate copies of the album, because it was re-released a number of times. We will deal with these duplicates later. Here is a quick way to get only the unique elements: \n",
    "\n",
    "```python\n",
    "set(mymusic['David Bowie']['Heroes'])\n",
    "```\n",
    "\n",
    "`set` is a data type I haven't shown you yet. It is a bit more complicated. It is like a list, except it only allows unique items in, no repeats. After you fill in the track list, change `mymusic['David Bowie']['Heroes']` to be a `set` so it only lists the unique tracks. "
   ]
  },
  {
   "cell_type": "code",
   "execution_count": null,
   "metadata": {
    "collapsed": false
   },
   "outputs": [],
   "source": [
    "mymusic = {} # \" Make a dictionary mymusic...\"\n",
    "mymusic['David Bowie'] = {} #\"...  that has 1 field named 'David Bowie'. That field will also be a dictionary\"\n",
    "mymusic['David Bowie']['Heroes'] = [] # with a single field called 'Heroes'. This will be a list...\n",
    "\n",
    "#same code as above\n",
    "for i in bowie_all:\n",
    "    \n",
    "    if i['album']=='Heroes':\n",
    "        mymusic['David Bowie']['Heroes'].append(i['title']) #if it's in the album, append to our list!\n",
    "\n",
    "mymusic['David Bowie']['Heroes'] = set(mymusic['David Bowie']['Heroes'])  #get rid of duplicates\n",
    "\n",
    "print mymusic['David Bowie']['Heroes']"
   ]
  },
  {
   "cell_type": "markdown",
   "metadata": {},
   "source": [
    "Notice we gave up some information. We can't get the album-level information, like the year. Make it so we can do this: \n",
    "\n",
    "```python\n",
    "mymusic['David Bowie']['Heroes']['year']\n",
    "mymusic['David Bowie']['Heroes']['tracks']\n",
    "```\n"
   ]
  },
  {
   "cell_type": "code",
   "execution_count": null,
   "metadata": {
    "collapsed": false
   },
   "outputs": [],
   "source": [
    "mymusic = {} \n",
    "mymusic['David Bowie'] = {} \n",
    "mymusic['David Bowie']['Heroes'] = {} \n",
    "\n",
    "\n",
    "tracks = []\n",
    "years = []\n",
    "\n",
    "\n",
    "for track in bowie_all:\n",
    "    \n",
    "    if track['album']=='Heroes':\n",
    "        tracks.append(track['title']) \n",
    "        years.append(track['year'])\n",
    "        \n",
    "\n",
    "tracks = set(tracks) #removing duplicates\n",
    "year = years[0] #just grab the first one\n",
    "\n",
    "\n",
    "mymusic['David Bowie']['Heroes']['tracks'] = tracks\n",
    "mymusic['David Bowie']['Heroes']['year'] = year\n",
    "\n",
    "\n",
    "print mymusic['David Bowie']['Heroes']['tracks']\n",
    "print mymusic['David Bowie']['Heroes']['year']"
   ]
  },
  {
   "cell_type": "markdown",
   "metadata": {},
   "source": [
    "We want even *more* organization though. Make a new dictionary called `mymusic2`. Now we want it get all albums from `mymusic2` like so: \n",
    "\n",
    "```python\n",
    "mymusic2['David Bowie']['Albums']\n",
    "```\n",
    "\n",
    "This should return a `list`. Each element in the list should be a dictionary. That dictionary should have the fields `title` and `tracks`. First, just fill it with information from the Heroes album. Confirm that it works by printing the results of:\n",
    "\n",
    "```python \n",
    "mymusic2['David Bowie']['Albums'][0]['title']\n",
    "mymusic2['David Bowie']['Albums'][0]['tracks']\n",
    "```"
   ]
  },
  {
   "cell_type": "code",
   "execution_count": null,
   "metadata": {
    "collapsed": false
   },
   "outputs": [],
   "source": [
    "mymusic2 = {}\n",
    "\n",
    "mymusic2['David Bowie'] = {}\n",
    "mymusic2['David Bowie']['Albums'] = []\n",
    "mymusic2['David Bowie']['Albums'].append({'title': '','tracks': []})\n",
    "\n",
    "\n",
    "for track in bowie_all:\n",
    "    album = track['album']\n",
    "\n",
    "    if track['album']=='Heroes':\n",
    "        mymusic2['David Bowie']['Albums'][0]['tracks'].append(track['title'])\n",
    "        mymusic2['David Bowie']['Albums'][0]['title'] = track['album']\n",
    "        mymusic2['David Bowie']['Albums'][0]['year'] = track['year']\n",
    "\n",
    "#optional - get rid of duplicates\n",
    "mymusic2['David Bowie']['Albums'][0]['tracks'] = set(mymusic2['David Bowie']['Albums'][0]['tracks'])\n",
    "\n",
    "print mymusic2['David Bowie']['Albums'][0]['title']\n",
    "print mymusic2['David Bowie']['Albums'][0]['tracks']"
   ]
  },
  {
   "cell_type": "code",
   "execution_count": null,
   "metadata": {
    "collapsed": true
   },
   "outputs": [],
   "source": []
  },
  {
   "cell_type": "markdown",
   "metadata": {},
   "source": [
    "Now see if you can loop through all of `bowie_all` and organize the information in this way. Make sure that you also have fields for `album_id` and `year`. You can skip `tracknum` and `length` for now. \n",
    "\n",
    "The hardest part will be keeping track of the changes in the album as you're looping through each individual song. You should have a variable called `previous_album` and another one called `current_album`. These should be updated as you loop through `bowie_all`. If the album changes, you should make a new entry in `mymusic2`, otherwise, you should be adding the individual tracks to `mymusic2['David Bowie']['Albums'][<album number>]['tracks']`"
   ]
  },
  {
   "cell_type": "code",
   "execution_count": null,
   "metadata": {
    "collapsed": false
   },
   "outputs": [],
   "source": [
    "from pprint import pprint\n",
    "\n",
    "\n",
    "#this loops through bowie_all and orgnanizes the information\n",
    "\n",
    "mymusic2 = {}\n",
    "mymusic2['David Bowie'] = {}\n",
    "mymusic2['David Bowie']['Albums'] = []\n",
    "\n",
    "previous_album = ''\n",
    "album_num = -1\n",
    "\n",
    "for track in bowie_all:\n",
    "    if track['album'] != previous_album: #if the album changed\n",
    "        album_num = album_num + 1\n",
    "        previous_album = track['album'] #call the current one the new \"previous album\"\n",
    "        mymusic2['David Bowie']['Albums'].append({}) #set up a blank dictionary\n",
    "        mymusic2['David Bowie']['Albums'][album_num]['tracks'] = []\n",
    "        mymusic2['David Bowie']['Albums'][album_num]['title'] = track['album'] #fill in album info\n",
    "        mymusic2['David Bowie']['Albums'][album_num]['year'] = track['year']\n",
    "       \n",
    "    \n",
    "    else:\n",
    "        #othwerwise, just add the new tracks to the \"tracks\" key\n",
    "        mymusic2['David Bowie']['Albums'][album_num]['tracks'].append(track['title']) \n",
    "        \n",
    "    \n",
    "        \n",
    "pprint(mymusic2)"
   ]
  },
  {
   "cell_type": "code",
   "execution_count": null,
   "metadata": {
    "collapsed": false
   },
   "outputs": [],
   "source": [
    "print mymusic2['David Bowie']['Albums'][0]['title']\n",
    "print mymusic2['David Bowie']['Albums'][0]['tracks']"
   ]
  },
  {
   "cell_type": "markdown",
   "metadata": {},
   "source": [
    "With this new organization, see if you can create a list of the titles of all David Bowie albums. Start with a variable you call `artist`, that you set equal to `mymusic2['David Bowie']` and loop through it. Save the list of albums as the variable `all_albums`\n"
   ]
  },
  {
   "cell_type": "code",
   "execution_count": null,
   "metadata": {
    "collapsed": false
   },
   "outputs": [],
   "source": [
    "artist = mymusic2['David Bowie'] #instructions should have said \"mymusic2\"\n",
    "\n",
    "allalbums = []\n",
    "    \n",
    "for album in artist['Albums']:\n",
    "    allalbums.append(album['title'])\n",
    "\n",
    "print allalbums"
   ]
  },
  {
   "cell_type": "code",
   "execution_count": null,
   "metadata": {
    "collapsed": true
   },
   "outputs": [],
   "source": []
  },
  {
   "cell_type": "markdown",
   "metadata": {},
   "source": [
    "Now make some code that takes the `artist` variable and an album name (a string). From that information it should produce a list of the track names for that album. If it cannot find the album, that list will be empty. "
   ]
  },
  {
   "cell_type": "code",
   "execution_count": null,
   "metadata": {
    "collapsed": false
   },
   "outputs": [],
   "source": [
    "tracklist = []\n",
    "  \n",
    "album = 'Heroes' #change this to anything   \n",
    "    \n",
    "for i in artist['Albums']:\n",
    "    if i['title']==album:\n",
    "        tracklist = i['tracks']\n",
    "\n",
    "print tracklist"
   ]
  },
  {
   "cell_type": "markdown",
   "metadata": {},
   "source": [
    "Why are we doing all this work? Simple-- so you can make me a script that generates a David Bowie playlist. Copy-and-paste you code above, see if you can generate a list 30 random Bowie songs. It should do this by selecting 10 albums at random, and pulling 3 random tracks from each one.  "
   ]
  },
  {
   "cell_type": "code",
   "execution_count": null,
   "metadata": {
    "collapsed": false
   },
   "outputs": [],
   "source": [
    "#NOTE: this will occasionally fail. I think that some albums have very few songs, so it breaks\n",
    "#when you try to pull 3 random songs from a list that's less than 3. \n",
    "#it's OK, just re-run it. \n",
    "\n",
    "import random\n",
    "\n",
    "\n",
    "num_albums = 10\n",
    "num_tracks = 3\n",
    "\n",
    "tracklist = [] #list to hold our random tracks\n",
    "\n",
    "\n",
    "#code for all albums\n",
    "artist = mymusic2['David Bowie'] #instructions should have said \"mymusic2\"\n",
    "\n",
    "allalbums = []\n",
    "    \n",
    "for album in artist['Albums']:\n",
    "    allalbums.append(album['title'])\n",
    "\n",
    "\n",
    "randalbums = random.sample(allalbums,num_albums)\n",
    "\n",
    "tracklist = []\n",
    "\n",
    "for album in randalbums:\n",
    "    \n",
    "    alltracks = []\n",
    "       \n",
    "    for i in artist['Albums']:\n",
    "        if i['title']==album:\n",
    "            alltracks = i['tracks']\n",
    "\n",
    "\n",
    "    randtracks = random.sample(alltracks,num_tracks) #grab random tracks\n",
    "    tracklist.extend(randtracks) #add to our tracklist\n",
    "\n",
    "random.shuffle(tracklist) #so albums aren't grouped together\n",
    "\n",
    "print tracklist\n"
   ]
  }
 ],
 "metadata": {
  "kernelspec": {
   "display_name": "Python 2",
   "language": "python",
   "name": "python2"
  },
  "language_info": {
   "codemirror_mode": {
    "name": "ipython",
    "version": 2
   },
   "file_extension": ".py",
   "mimetype": "text/x-python",
   "name": "python",
   "nbconvert_exporter": "python",
   "pygments_lexer": "ipython2",
   "version": "2.7.11"
  }
 },
 "nbformat": 4,
 "nbformat_minor": 0
}
