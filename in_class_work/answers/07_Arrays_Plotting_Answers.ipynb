{
 "cells": [
  {
   "cell_type": "markdown",
   "metadata": {},
   "source": [
    "# Arrays and Plotting Practice\n",
    "\n",
    "Let's get just a little practice dealing with numpy arrays and with plotting data. We start by importing data from a csv file the way that we already know how, using the `csv` package. \n"
   ]
  },
  {
   "cell_type": "code",
   "execution_count": 5,
   "metadata": {
    "collapsed": false
   },
   "outputs": [
    {
     "name": "stdout",
     "output_type": "stream",
     "text": [
      "['ID', 'Block', 'Trial', 'Task', 'Accuracy', 'RT']\n",
      "['801', '1', '1', '2', '1', '1752.04']\n",
      "['801', '1', '2', '2', '1', '823.718']\n",
      "['801', '1', '3', '2', '1', '646.493']\n",
      "['801', '1', '4', '2', '1', '592.449']\n",
      "['801', '1', '5', '2', '1', '679.79']\n",
      "['801', '1', '6', '2', '1', '761.609']\n",
      "['801', '1', '7', '2', '0', '555.387']\n",
      "['801', '1', '8', '2', '1', '1020.5']\n",
      "['801', '1', '9', '2', '1', '1090.44']\n"
     ]
    }
   ],
   "source": [
    "import csv\n",
    "\n",
    "allrows = []\n",
    "\n",
    "\n",
    "with open('../../datasets/behavioral.csv','r') as f: #open the file\n",
    "    csvreader = csv.reader(f,delimiter=',') #create our csv reader \"machine\"\n",
    "    \n",
    "    for row in csvreader: #loop through all rows\n",
    "        allrows.append(row) #append to our list\n",
    "\n",
    "#now we print the first 10 rows 1 at a time (this formats more nicely than print allrows[:10])\n",
    "\n",
    "for i in allrows[:10]:\n",
    "    print i\n",
    "\n"
   ]
  },
  {
   "cell_type": "markdown",
   "metadata": {},
   "source": [
    "This is a set of behavioral data from an experiment in our lab. You should open the file with Excel to see what it looks like. Notice we have 6 columns, and they're all numbers. BUT, notice that all the numbers have little quotes around them. `csv.reader` converted everything to a string. So we have to convert it all to `int` or `float` in order to do any math with this. Notice that each row of the data is a separate list too. We we want to get all the RTs, we would have to loop, like this: \n",
    "\n",
    "```python\n",
    "allRT = []\n",
    "\n",
    "for i in allrows:\n",
    "    allRT.append(float(i[5]))\n",
    "    \n",
    "#OR with list comprehension\n",
    "allRT = [float(i[5]) for i in allrows]\n",
    "```\n",
    "\n",
    "This is doable, but clunky. Our ultimate goal is to get the average RT for each Task and to produce some plots in the process. Having this organization is not ideal for that goal. `Numpy` arrays to the rescue!\n",
    "\n",
    "First we read in the *same file* straight into a numpy array using the `genfromtxt` method, like this: "
   ]
  },
  {
   "cell_type": "code",
   "execution_count": 6,
   "metadata": {
    "collapsed": false
   },
   "outputs": [
    {
     "name": "stdout",
     "output_type": "stream",
     "text": [
      "<type 'numpy.ndarray'>\n",
      "(12801, 6)\n"
     ]
    }
   ],
   "source": [
    "import numpy as np #get used to renaming it to \"np\"\n",
    "\n",
    "alldata = np.genfromtxt('../../datasets/behavioral.csv',delimiter=',') #read csv file as a numpy array\n",
    "\n",
    "print type(alldata)\n",
    "print alldata.shape #how many (rows, columns)?"
   ]
  },
  {
   "cell_type": "markdown",
   "metadata": {},
   "source": [
    "Notice we have produced a numpy array, and if we look at `alldata.shape` it has 12,801 rows and 6 columns. Let's start by printing the first 10 rows of `alldata`"
   ]
  },
  {
   "cell_type": "code",
   "execution_count": 7,
   "metadata": {
    "collapsed": false
   },
   "outputs": [
    {
     "name": "stdout",
     "output_type": "stream",
     "text": [
      "[[             nan              nan              nan              nan\n",
      "               nan              nan]\n",
      " [  8.01000000e+02   1.00000000e+00   1.00000000e+00   2.00000000e+00\n",
      "    1.00000000e+00   1.75204000e+03]\n",
      " [  8.01000000e+02   1.00000000e+00   2.00000000e+00   2.00000000e+00\n",
      "    1.00000000e+00   8.23718000e+02]\n",
      " [  8.01000000e+02   1.00000000e+00   3.00000000e+00   2.00000000e+00\n",
      "    1.00000000e+00   6.46493000e+02]\n",
      " [  8.01000000e+02   1.00000000e+00   4.00000000e+00   2.00000000e+00\n",
      "    1.00000000e+00   5.92449000e+02]\n",
      " [  8.01000000e+02   1.00000000e+00   5.00000000e+00   2.00000000e+00\n",
      "    1.00000000e+00   6.79790000e+02]\n",
      " [  8.01000000e+02   1.00000000e+00   6.00000000e+00   2.00000000e+00\n",
      "    1.00000000e+00   7.61609000e+02]\n",
      " [  8.01000000e+02   1.00000000e+00   7.00000000e+00   2.00000000e+00\n",
      "    0.00000000e+00   5.55387000e+02]\n",
      " [  8.01000000e+02   1.00000000e+00   8.00000000e+00   2.00000000e+00\n",
      "    1.00000000e+00   1.02050000e+03]\n",
      " [  8.01000000e+02   1.00000000e+00   9.00000000e+00   2.00000000e+00\n",
      "    1.00000000e+00   1.09044000e+03]]\n"
     ]
    }
   ],
   "source": [
    "print alldata[:10,:] #notice the second colon, which means \"all columns\""
   ]
  },
  {
   "cell_type": "markdown",
   "metadata": {},
   "source": [
    "Why are those `nan` things there? In numpy, `nan` is a special value that means \"not a number\", but you should think of it as \"missing data\". Why is the first row missing data? If we look at the file in Excel, or when we read it in using `csv.reader`, there is a header at the top of the file (the column names). Numpy arrays are for holding numerical data. When it tries to read in that first row, it cannot convert the text (like \"ID\",\"Block\") into a number, so it fills in missing data instead. \n",
    "\n",
    "We want to tell numpy to skip the first header row, since it does not contain numerical data.\n",
    "\n",
    "Use the argument `skip_header=1` to tell `np.genfromtxt` to skip the first row. You can see the full documentation here: http://docs.scipy.org/doc/numpy/reference/generated/numpy.genfromtxt.html . Note: if we put a higher number, then we can skip as many rows as we want, not just the first one. \n",
    "\n",
    "Print the first 10 rows again. "
   ]
  },
  {
   "cell_type": "code",
   "execution_count": 8,
   "metadata": {
    "collapsed": false
   },
   "outputs": [
    {
     "name": "stdout",
     "output_type": "stream",
     "text": [
      "<type 'numpy.ndarray'>\n",
      "(12800, 6)\n"
     ]
    }
   ],
   "source": [
    "alldata = np.genfromtxt('../../datasets/behavioral.csv',delimiter=',',skip_header=1) #read csv file as a numpy array\n",
    "\n",
    "print type(alldata)\n",
    "print alldata.shape #how many (rows, columns)?"
   ]
  },
  {
   "cell_type": "markdown",
   "metadata": {},
   "source": [
    "The column names are helpful for us, though. Here is a list of the column names, so you know what each one is. You don't *have* to use this variable in the following problems, it's just listed here in case you need it. "
   ]
  },
  {
   "cell_type": "code",
   "execution_count": 9,
   "metadata": {
    "collapsed": false
   },
   "outputs": [],
   "source": [
    "column_names = ['ID','Block','Trial','Task','Accuracy','RT']"
   ]
  },
  {
   "cell_type": "markdown",
   "metadata": {},
   "source": [
    "### Basic Indexing\n",
    "\n",
    "Time to practice indexing. Notice we can grab entire columns of data without looping now. Make python print the following: \n",
    "\n",
    "* a. The first 20 rows of the RT column\n",
    "* b. The last 20 rows of the Block column\n",
    "* c. The first 50 rows of the first 3 columns (ID, Block, Trial)\n",
    "* d. The first 20 rows of the columns: ID, Block, and RT"
   ]
  },
  {
   "cell_type": "code",
   "execution_count": 10,
   "metadata": {
    "collapsed": false
   },
   "outputs": [
    {
     "name": "stdout",
     "output_type": "stream",
     "text": [
      "[ 1752.04    823.718   646.493   592.449   679.79    761.609   555.387\n",
      "  1020.5    1090.44   2086.91    688.475   682.268  1228.09    964.625\n",
      "   832.73    692.578   929.221   642.677   775.196   691.337]\n"
     ]
    }
   ],
   "source": [
    "#a\n",
    "\n",
    "print alldata[:20,5]\n"
   ]
  },
  {
   "cell_type": "code",
   "execution_count": 11,
   "metadata": {
    "collapsed": false
   },
   "outputs": [
    {
     "name": "stdout",
     "output_type": "stream",
     "text": [
      "[ 32.  32.  32.  32.  32.  32.  32.  32.  32.  32.  32.  32.  32.  32.  32.\n",
      "  32.  32.  32.  32.  32.]\n"
     ]
    }
   ],
   "source": [
    "#b\n",
    "\n",
    "print alldata[-20:,1]"
   ]
  },
  {
   "cell_type": "code",
   "execution_count": 12,
   "metadata": {
    "collapsed": false
   },
   "outputs": [
    {
     "name": "stdout",
     "output_type": "stream",
     "text": [
      "[[ 801.    1.    1.]\n",
      " [ 801.    1.    2.]\n",
      " [ 801.    1.    3.]\n",
      " [ 801.    1.    4.]\n",
      " [ 801.    1.    5.]\n",
      " [ 801.    1.    6.]\n",
      " [ 801.    1.    7.]\n",
      " [ 801.    1.    8.]\n",
      " [ 801.    1.    9.]\n",
      " [ 801.    1.   10.]\n",
      " [ 801.    1.   11.]\n",
      " [ 801.    1.   12.]\n",
      " [ 801.    1.   13.]\n",
      " [ 801.    1.   14.]\n",
      " [ 801.    1.   15.]\n",
      " [ 801.    1.   16.]\n",
      " [ 801.    1.   17.]\n",
      " [ 801.    1.   18.]\n",
      " [ 801.    1.   19.]\n",
      " [ 801.    1.   20.]\n",
      " [ 801.    2.    1.]\n",
      " [ 801.    2.    2.]\n",
      " [ 801.    2.    3.]\n",
      " [ 801.    2.    4.]\n",
      " [ 801.    2.    5.]\n",
      " [ 801.    2.    6.]\n",
      " [ 801.    2.    7.]\n",
      " [ 801.    2.    8.]\n",
      " [ 801.    2.    9.]\n",
      " [ 801.    2.   10.]\n",
      " [ 801.    2.   11.]\n",
      " [ 801.    2.   12.]\n",
      " [ 801.    2.   13.]\n",
      " [ 801.    2.   14.]\n",
      " [ 801.    2.   15.]\n",
      " [ 801.    2.   16.]\n",
      " [ 801.    2.   17.]\n",
      " [ 801.    2.   18.]\n",
      " [ 801.    2.   19.]\n",
      " [ 801.    2.   20.]\n",
      " [ 801.    3.    1.]\n",
      " [ 801.    3.    2.]\n",
      " [ 801.    3.    3.]\n",
      " [ 801.    3.    4.]\n",
      " [ 801.    3.    5.]\n",
      " [ 801.    3.    6.]\n",
      " [ 801.    3.    7.]\n",
      " [ 801.    3.    8.]\n",
      " [ 801.    3.    9.]\n",
      " [ 801.    3.   10.]]\n"
     ]
    }
   ],
   "source": [
    "#c\n",
    "\n",
    "print alldata[:50,[0,1,2]]\n"
   ]
  },
  {
   "cell_type": "code",
   "execution_count": 13,
   "metadata": {
    "collapsed": false
   },
   "outputs": [
    {
     "data": {
      "text/plain": [
       "array([[  8.01000000e+02,   1.00000000e+00,   1.75204000e+03],\n",
       "       [  8.01000000e+02,   1.00000000e+00,   8.23718000e+02],\n",
       "       [  8.01000000e+02,   1.00000000e+00,   6.46493000e+02],\n",
       "       [  8.01000000e+02,   1.00000000e+00,   5.92449000e+02],\n",
       "       [  8.01000000e+02,   1.00000000e+00,   6.79790000e+02],\n",
       "       [  8.01000000e+02,   1.00000000e+00,   7.61609000e+02],\n",
       "       [  8.01000000e+02,   1.00000000e+00,   5.55387000e+02],\n",
       "       [  8.01000000e+02,   1.00000000e+00,   1.02050000e+03],\n",
       "       [  8.01000000e+02,   1.00000000e+00,   1.09044000e+03],\n",
       "       [  8.01000000e+02,   1.00000000e+00,   2.08691000e+03],\n",
       "       [  8.01000000e+02,   1.00000000e+00,   6.88475000e+02],\n",
       "       [  8.01000000e+02,   1.00000000e+00,   6.82268000e+02],\n",
       "       [  8.01000000e+02,   1.00000000e+00,   1.22809000e+03],\n",
       "       [  8.01000000e+02,   1.00000000e+00,   9.64625000e+02],\n",
       "       [  8.01000000e+02,   1.00000000e+00,   8.32730000e+02],\n",
       "       [  8.01000000e+02,   1.00000000e+00,   6.92578000e+02],\n",
       "       [  8.01000000e+02,   1.00000000e+00,   9.29221000e+02],\n",
       "       [  8.01000000e+02,   1.00000000e+00,   6.42677000e+02],\n",
       "       [  8.01000000e+02,   1.00000000e+00,   7.75196000e+02],\n",
       "       [  8.01000000e+02,   1.00000000e+00,   6.91337000e+02]])"
      ]
     },
     "execution_count": 13,
     "metadata": {},
     "output_type": "execute_result"
    }
   ],
   "source": [
    "#d\n",
    "\n",
    "alldata[:20,[0,1,5]]"
   ]
  },
  {
   "cell_type": "markdown",
   "metadata": {},
   "source": [
    "### Boolean Indexing\n",
    "\n",
    "Now let's practice boolean indexing. This means that you select items from your array based on its *value*, not its position. See what happens when you run the cell below. "
   ]
  },
  {
   "cell_type": "code",
   "execution_count": 14,
   "metadata": {
    "collapsed": false
   },
   "outputs": [
    {
     "name": "stdout",
     "output_type": "stream",
     "text": [
      "[ 1752.04    823.718   646.493   592.449   679.79    761.609   555.387\n",
      "  1020.5    1090.44   2086.91    688.475   682.268  1228.09    964.625\n",
      "   832.73    692.578   929.221   642.677   775.196   691.337  9886.39\n",
      "  1587.63   1104.97   1143.48   1050.86    998.798  1247.94    984.778\n",
      "   975.207   917.912   999.167  1056.32    964.294   869.387   879.062\n",
      "   981.748   953.537   858.807   935.006  1027.01   1989.05   1033.52\n",
      "   882.657   844.132   853.618   892.677   795.111   956.678   846.036\n",
      "  1063.55 ]\n",
      "[False False  True  True  True  True  True False False False  True  True\n",
      " False False False  True False  True  True  True False False False False\n",
      " False False False False False False False False False False False False\n",
      " False False False False False False False False False False  True False\n",
      " False False]\n"
     ]
    }
   ],
   "source": [
    "\n",
    "justRT = alldata[:,5] #grab just the 5th column\n",
    "\n",
    "print justRT[:50] #print the first 50 rows\n",
    "\n",
    "fastRTs = justRT<=800\n",
    "\n",
    "print fastRTs[:50]"
   ]
  },
  {
   "cell_type": "markdown",
   "metadata": {},
   "source": [
    "Think about what fastRTs is. What is the data type of each element? You can check using `dtype`. Also look at the shape of this array. Is it the same as `justRT`?"
   ]
  },
  {
   "cell_type": "code",
   "execution_count": 15,
   "metadata": {
    "collapsed": false
   },
   "outputs": [
    {
     "name": "stdout",
     "output_type": "stream",
     "text": [
      "bool\n",
      "(12800,)\n"
     ]
    }
   ],
   "source": [
    "print fastRTs.dtype\n",
    "print fastRTs.shape\n",
    "\n",
    "#it's an array of Trues and Falses. It has the same number of rows as our original data\n",
    "#remember, it's a filter!"
   ]
  },
  {
   "cell_type": "markdown",
   "metadata": {},
   "source": [
    "Now watch this: "
   ]
  },
  {
   "cell_type": "code",
   "execution_count": 16,
   "metadata": {
    "collapsed": false
   },
   "outputs": [
    {
     "name": "stdout",
     "output_type": "stream",
     "text": [
      "(12800,)\n",
      "(7599,)\n"
     ]
    }
   ],
   "source": [
    "new_array = justRT[fastRTs]\n",
    "\n",
    "print justRT.shape\n",
    "print new_array.shape"
   ]
  },
  {
   "cell_type": "markdown",
   "metadata": {},
   "source": [
    "What happened? Well, we used the fastRTs array (which is all `True` and `False`) to index elements from `justRT`. Notice that `new_array` is smaller. `new_array` only contains the elements from `justRT` where `fastRTs` is equal to `True`. Everywhere it is equal to `False`, the numbers get thrown away. \n",
    "\n",
    "We can check if it worked using `max` function from the numpy pacakge: "
   ]
  },
  {
   "cell_type": "code",
   "execution_count": 17,
   "metadata": {
    "collapsed": false
   },
   "outputs": [
    {
     "name": "stdout",
     "output_type": "stream",
     "text": [
      "28548.1\n",
      "799.986\n"
     ]
    }
   ],
   "source": [
    "print np.max(justRT) #the maximum RT in the full array\n",
    "print np.max(new_array) #the maximum RT after logical indexing. Notice it's less than 800!"
   ]
  },
  {
   "cell_type": "markdown",
   "metadata": {},
   "source": [
    "In English, a statement like this: \n",
    "```python\n",
    "justRT[justRT<800]\n",
    "```\n",
    "\n",
    "translates to: **\"Give me only the rows were justRT is less than 800\"**\n",
    "\n",
    "Notice I say \"rows\". This means that we could index from our `alldata` matrix in a similar way, returning only the rows where RT is less than 800. We just have to indicate which columns we want (in this case, all of them): \n"
   ]
  },
  {
   "cell_type": "code",
   "execution_count": 18,
   "metadata": {
    "collapsed": false
   },
   "outputs": [
    {
     "name": "stdout",
     "output_type": "stream",
     "text": [
      "(12800,)\n",
      "(12800, 6)\n",
      "(7599, 6)\n"
     ]
    }
   ],
   "source": [
    "\n",
    "fastdata = alldata[justRT<800,:] #the rows where justRT<800, and all columns\n",
    "\n",
    "print justRT.shape\n",
    "print alldata.shape\n",
    "print fastdata.shape #less rows!"
   ]
  },
  {
   "cell_type": "markdown",
   "metadata": {},
   "source": [
    "This only works because `justRT` has the same number of rows as `alldata`. We could also get the same result this way, but it's a bit harder to read. Just look how we created the `justRT` variable in the first place, and it will make sense: "
   ]
  },
  {
   "cell_type": "code",
   "execution_count": 19,
   "metadata": {
    "collapsed": false
   },
   "outputs": [
    {
     "name": "stdout",
     "output_type": "stream",
     "text": [
      "(7599, 6)\n",
      "True\n"
     ]
    }
   ],
   "source": [
    "fastdata2 = alldata[ alldata[:,5]<800, : ] #\"Give me only the rows where the numbers in the 6th column are less than 800\"\n",
    "\n",
    "print fastdata2.shape\n",
    "print np.all(fastdata2==fastdata) #checks if every element is equal to each other. "
   ]
  },
  {
   "cell_type": "markdown",
   "metadata": {},
   "source": [
    "### Boolean indexing with multiple conditions\n",
    "\n",
    "If we want to get rows that satisfy multiple statements, we can use the `&` and `|` symbols just like in `if` statements. The trick is that we have to put each statement in parentheses, and we can only used the symbols, not the words `and`/`or`. This statements corresponds to the rows where RT < 800 AND Block==1:"
   ]
  },
  {
   "cell_type": "code",
   "execution_count": 20,
   "metadata": {
    "collapsed": false
   },
   "outputs": [
    {
     "data": {
      "text/plain": [
       "array([False, False,  True, ..., False, False, False], dtype=bool)"
      ]
     },
     "execution_count": 20,
     "metadata": {},
     "output_type": "execute_result"
    }
   ],
   "source": [
    "(alldata[:,5]<800) & (alldata[:,1]==1) #rt is less than 800 and Block==1"
   ]
  },
  {
   "cell_type": "markdown",
   "metadata": {},
   "source": [
    "Use the statement above to select only those rows from `alldata`. Save into a new matrix called `block1data`. "
   ]
  },
  {
   "cell_type": "code",
   "execution_count": 21,
   "metadata": {
    "collapsed": false
   },
   "outputs": [
    {
     "name": "stdout",
     "output_type": "stream",
     "text": [
      "[[ 801.       1.       3.       2.       1.     646.493]\n",
      " [ 801.       1.       4.       2.       1.     592.449]\n",
      " [ 801.       1.       5.       2.       1.     679.79 ]\n",
      " [ 801.       1.       6.       2.       1.     761.609]\n",
      " [ 801.       1.       7.       2.       0.     555.387]\n",
      " [ 801.       1.      11.       2.       1.     688.475]\n",
      " [ 801.       1.      12.       2.       1.     682.268]\n",
      " [ 801.       1.      16.       2.       1.     692.578]\n",
      " [ 801.       1.      18.       2.       1.     642.677]\n",
      " [ 801.       1.      19.       2.       1.     775.196]\n",
      " [ 801.       1.      20.       2.       1.     691.337]\n",
      " [ 802.       1.       1.       1.       0.     530.58 ]\n",
      " [ 802.       1.      18.       1.       1.     660.744]\n",
      " [ 803.       1.       6.       2.       1.     679.726]\n",
      " [ 803.       1.      12.       2.       1.     710.527]\n",
      " [ 803.       1.      13.       2.       1.     773.5  ]\n",
      " [ 803.       1.      14.       2.       1.     681.99 ]\n",
      " [ 803.       1.      15.       2.       1.     651.697]\n",
      " [ 803.       1.      17.       2.       1.     777.017]\n",
      " [ 803.       1.      19.       2.       1.     649.542]]\n"
     ]
    }
   ],
   "source": [
    "block1data = alldata[(alldata[:,5]<800) & (alldata[:,1]==1),:] #filter goes inside the brackets!\n",
    "print block1data[:20,:]"
   ]
  },
  {
   "cell_type": "markdown",
   "metadata": {},
   "source": [
    "Now let's select our data for computing averages. Start with `alldata`, but select only the rows where Accuracy==1 (correct trials) and RT<=2000. Save into the variable `good_data`. "
   ]
  },
  {
   "cell_type": "code",
   "execution_count": 22,
   "metadata": {
    "collapsed": false
   },
   "outputs": [
    {
     "name": "stdout",
     "output_type": "stream",
     "text": [
      "[[  8.01000000e+02   1.00000000e+00   1.00000000e+00   2.00000000e+00\n",
      "    1.00000000e+00   1.75204000e+03]\n",
      " [  8.01000000e+02   1.00000000e+00   2.00000000e+00   2.00000000e+00\n",
      "    1.00000000e+00   8.23718000e+02]\n",
      " [  8.01000000e+02   1.00000000e+00   3.00000000e+00   2.00000000e+00\n",
      "    1.00000000e+00   6.46493000e+02]\n",
      " [  8.01000000e+02   1.00000000e+00   4.00000000e+00   2.00000000e+00\n",
      "    1.00000000e+00   5.92449000e+02]\n",
      " [  8.01000000e+02   1.00000000e+00   5.00000000e+00   2.00000000e+00\n",
      "    1.00000000e+00   6.79790000e+02]\n",
      " [  8.01000000e+02   1.00000000e+00   6.00000000e+00   2.00000000e+00\n",
      "    1.00000000e+00   7.61609000e+02]\n",
      " [  8.01000000e+02   1.00000000e+00   8.00000000e+00   2.00000000e+00\n",
      "    1.00000000e+00   1.02050000e+03]\n",
      " [  8.01000000e+02   1.00000000e+00   9.00000000e+00   2.00000000e+00\n",
      "    1.00000000e+00   1.09044000e+03]\n",
      " [  8.01000000e+02   1.00000000e+00   1.10000000e+01   2.00000000e+00\n",
      "    1.00000000e+00   6.88475000e+02]\n",
      " [  8.01000000e+02   1.00000000e+00   1.20000000e+01   2.00000000e+00\n",
      "    1.00000000e+00   6.82268000e+02]\n",
      " [  8.01000000e+02   1.00000000e+00   1.40000000e+01   2.00000000e+00\n",
      "    1.00000000e+00   9.64625000e+02]\n",
      " [  8.01000000e+02   1.00000000e+00   1.50000000e+01   2.00000000e+00\n",
      "    1.00000000e+00   8.32730000e+02]\n",
      " [  8.01000000e+02   1.00000000e+00   1.60000000e+01   2.00000000e+00\n",
      "    1.00000000e+00   6.92578000e+02]\n",
      " [  8.01000000e+02   1.00000000e+00   1.70000000e+01   2.00000000e+00\n",
      "    1.00000000e+00   9.29221000e+02]\n",
      " [  8.01000000e+02   1.00000000e+00   1.80000000e+01   2.00000000e+00\n",
      "    1.00000000e+00   6.42677000e+02]\n",
      " [  8.01000000e+02   1.00000000e+00   1.90000000e+01   2.00000000e+00\n",
      "    1.00000000e+00   7.75196000e+02]\n",
      " [  8.01000000e+02   1.00000000e+00   2.00000000e+01   2.00000000e+00\n",
      "    1.00000000e+00   6.91337000e+02]\n",
      " [  8.01000000e+02   2.00000000e+00   2.00000000e+00   1.00000000e+00\n",
      "    1.00000000e+00   1.58763000e+03]\n",
      " [  8.01000000e+02   2.00000000e+00   3.00000000e+00   1.00000000e+00\n",
      "    1.00000000e+00   1.10497000e+03]\n",
      " [  8.01000000e+02   2.00000000e+00   4.00000000e+00   1.00000000e+00\n",
      "    1.00000000e+00   1.14348000e+03]]\n"
     ]
    }
   ],
   "source": [
    "good_data = alldata[(alldata[:,4]==1) & (alldata[:,5]<=2000),:]\n",
    "print good_data[:20,:]"
   ]
  },
  {
   "cell_type": "markdown",
   "metadata": {},
   "source": [
    "## Summarizing and Plotting\n",
    "\n",
    "Now we want to get the RTs from `good_data` and summarize and plot them. Our 4th column corresponds to \"Task\". People performed 2 different tasks in this experiment, and they respond more quickly to one of them. Create 2 variables, `task1RT` and `task2RT` that contain only the RTs for task==1 and task==2, respectively. "
   ]
  },
  {
   "cell_type": "code",
   "execution_count": 23,
   "metadata": {
    "collapsed": false
   },
   "outputs": [],
   "source": [
    "task1RT = alldata[alldata[:,3]==1,5]\n",
    "task2RT = alldata[alldata[:,3]==2,5]\n",
    "\n"
   ]
  },
  {
   "cell_type": "markdown",
   "metadata": {},
   "source": [
    "### Histogram\n",
    "\n",
    "Now use the `matplotlib` package to produce a histogram for `task1RT` and one for `task2RT`. Make 1 of them red, and the other one blue. Make sure they both use 50 bins. I'll get you started with importing: "
   ]
  },
  {
   "cell_type": "code",
   "execution_count": 24,
   "metadata": {
    "collapsed": false
   },
   "outputs": [],
   "source": [
    "#make plots inline, instead of a new window\n",
    "%matplotlib inline \n",
    "\n",
    "import matplotlib.pyplot as plt\n",
    "import numpy as np\n",
    "\n",
    "numbins= 50 #adding this to make it explicit"
   ]
  },
  {
   "cell_type": "code",
   "execution_count": 25,
   "metadata": {
    "collapsed": false
   },
   "outputs": [
    {
     "data": {
      "image/png": "[encoded data removed]",
      "text/plain": [
       "<matplotlib.figure.Figure at 0x10c6669d0>"
      ]
     },
     "metadata": {},
     "output_type": "display_data"
    }
   ],
   "source": [
    "#task 1 histogram\n",
    "# the histogram of the task1 RTs\n",
    "plt.hist(task1RT, numbins, normed=True, facecolor='r', alpha=0.5)\n",
    "plt.show()"
   ]
  },
  {
   "cell_type": "code",
   "execution_count": 26,
   "metadata": {
    "collapsed": false
   },
   "outputs": [
    {
     "data": {
      "image/png": "[encoded data removed]",
      "text/plain": [
       "<matplotlib.figure.Figure at 0x10ebe37d0>"
      ]
     },
     "metadata": {},
     "output_type": "display_data"
    }
   ],
   "source": [
    "#task 2 histogram\n",
    "\n",
    "# the histogram of the task2 RTs\n",
    "plt.hist(task2RT, numbins, normed=True, facecolor='b', alpha=0.5)\n",
    "plt.show()"
   ]
  },
  {
   "cell_type": "markdown",
   "metadata": {},
   "source": [
    "### Scatterplot\n",
    "\n",
    "Now make a scatterplot that has the first 1000 elements form `task1RT` on the x axis, and the first 1000 elments of `task2RT` on the y axis. "
   ]
  },
  {
   "cell_type": "code",
   "execution_count": 27,
   "metadata": {
    "collapsed": false
   },
   "outputs": [
    {
     "data": {
      "image/png": "[encoded data removed]",
      "text/plain": [
       "<matplotlib.figure.Figure at 0x10f53dd10>"
      ]
     },
     "metadata": {},
     "output_type": "display_data"
    }
   ],
   "source": [
    "# task1-task2 scatterplot here\n",
    "\n",
    "plt.scatter(task1RT[:1000],task2RT[:1000])\n",
    "plt.show()"
   ]
  },
  {
   "cell_type": "markdown",
   "metadata": {},
   "source": [
    "Now use the `np.mean` function to compute the mean of `task1RT` and `task2RT`. Save the result into a little list with 2 elements: the mean of the task1RT, then the mean of the task2RT"
   ]
  },
  {
   "cell_type": "code",
   "execution_count": 28,
   "metadata": {
    "collapsed": true
   },
   "outputs": [],
   "source": [
    "task1mean = np.mean(task1RT)\n",
    "task2mean = np.mean(task2RT)\n",
    "\n",
    "means = [task1mean, task2mean]"
   ]
  },
  {
   "cell_type": "markdown",
   "metadata": {},
   "source": [
    "### Bar Plot\n",
    "\n",
    "Finally, make a bar plot that plots both of the means. Make sure you label your x-axis with \"Task 1\" and \"Task2\", and make the bars green. Also make sure there is space inside the plot area (you don't want your bars touching any of the edges). \n",
    "\n",
    "Which task has higher RTs (i.e., slower responses)?"
   ]
  },
  {
   "cell_type": "code",
   "execution_count": 29,
   "metadata": {
    "collapsed": false
   },
   "outputs": [
    {
     "data": {
      "image/png": "[encoded data removed]",
      "text/plain": [
       "<matplotlib.figure.Figure at 0x10f60aa50>"
      ]
     },
     "metadata": {},
     "output_type": "display_data"
    }
   ],
   "source": [
    "xdata = [1,2] #arbitrary! Just need 2 numbers\n",
    "ydata = means\n",
    "width = 0.5\n",
    "\n",
    "fig, ax = plt.subplots() #create 1 blank plot\n",
    "ax.bar(xdata,ydata,width,color='g',align='center') #create the bar plot\n",
    "ax.axis([0,3,0,max(means)+100]) #change the axis limits\n",
    "\n",
    "#change some of the labels\n",
    "ax.set_ylabel('mean RT')\n",
    "ax.set_title('Mean RT for each Task')\n",
    "ax.set_xticks(xdata)\n",
    "ax.set_xticklabels(('Task1','Task2'))\n",
    "\n",
    "plt.show()"
   ]
  },
  {
   "cell_type": "code",
   "execution_count": null,
   "metadata": {
    "collapsed": true
   },
   "outputs": [],
   "source": []
  }
 ],
 "metadata": {
  "kernelspec": {
   "display_name": "Python 2",
   "language": "python",
   "name": "python2"
  },
  "language_info": {
   "codemirror_mode": {
    "name": "ipython",
    "version": 2
   },
   "file_extension": ".py",
   "mimetype": "text/x-python",
   "name": "python",
   "nbconvert_exporter": "python",
   "pygments_lexer": "ipython2",
   "version": "2.7.11"
  }
 },
 "nbformat": 4,
 "nbformat_minor": 0
}
