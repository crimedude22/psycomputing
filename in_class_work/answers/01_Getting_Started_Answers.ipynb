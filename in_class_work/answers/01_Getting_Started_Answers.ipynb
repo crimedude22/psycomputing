{
 "cells": [
  {
   "cell_type": "markdown",
   "metadata": {},
   "source": [
    "## In-class work, Day 1\n",
    "\n",
    "Ok, let's start with some Python basics. There are cells below where you can insert your code. \n",
    "\n",
    "1. Create variables `x`,`y`, and `z`. Assign them the values 3, 7, and 12, respectively. Then, have Python print: \n",
    "    * The sum of x and y\n",
    "    * The product of y and z\n",
    "    * x raised to the y power\n",
    "    * y divided by z\n",
    "    * the remainder when doing x divided by z\n",
    "<br><br>\n",
    "   \n",
    "2. Show me 2 different ways to access the help documentation for the function `sum`   \n",
    "<br><br>\n",
    "3. Make Python print the phrase \"Hello World\" \n",
    "<br><br>\n",
    "4. Create a variable called `name`, assign it the value \"Jason\", and make Python print the phrase \"Hello, Jason\" using that variable. "
   ]
  },
  {
   "cell_type": "code",
   "execution_count": 5,
   "metadata": {
    "collapsed": false
   },
   "outputs": [
    {
     "name": "stdout",
     "output_type": "stream",
     "text": [
      "10\n",
      "84\n",
      "4\n",
      "0\n",
      "3\n"
     ]
    }
   ],
   "source": [
    "#Do Problem 1 here\n",
    "\n",
    "x = 3\n",
    "y = 7\n",
    "z = 12\n",
    "\n",
    "print x+y\n",
    "print y*z\n",
    "print x^y\n",
    "print y/z\n",
    "print x%z\n",
    "\n"
   ]
  },
  {
   "cell_type": "code",
   "execution_count": 6,
   "metadata": {
    "collapsed": false
   },
   "outputs": [
    {
     "name": "stdout",
     "output_type": "stream",
     "text": [
      "Help on built-in function sum in module __builtin__:\n",
      "\n",
      "sum(...)\n",
      "    sum(sequence[, start]) -> value\n",
      "    \n",
      "    Return the sum of a sequence of numbers (NOT strings) plus the value\n",
      "    of parameter 'start' (which defaults to 0).  When the sequence is\n",
      "    empty, return start.\n",
      "\n"
     ]
    }
   ],
   "source": [
    "#Do Problem 2 here\n",
    "help(sum)\n",
    "sum?"
   ]
  },
  {
   "cell_type": "code",
   "execution_count": 7,
   "metadata": {
    "collapsed": false
   },
   "outputs": [
    {
     "name": "stdout",
     "output_type": "stream",
     "text": [
      "Hello World\n"
     ]
    }
   ],
   "source": [
    "#Do Problem 3 here\n",
    "print \"Hello World\""
   ]
  },
  {
   "cell_type": "code",
   "execution_count": 8,
   "metadata": {
    "collapsed": false
   },
   "outputs": [
    {
     "name": "stdout",
     "output_type": "stream",
     "text": [
      "Hello, Jason\n"
     ]
    }
   ],
   "source": [
    "name = \"Jason\"\n",
    "\n",
    "print \"Hello, \"+name"
   ]
  }
 ],
 "metadata": {
  "kernelspec": {
   "display_name": "Python 2",
   "language": "python",
   "name": "python2"
  },
  "language_info": {
   "codemirror_mode": {
    "name": "ipython",
    "version": 2
   },
   "file_extension": ".py",
   "mimetype": "text/x-python",
   "name": "python",
   "nbconvert_exporter": "python",
   "pygments_lexer": "ipython2",
   "version": "2.7.11"
  }
 },
 "nbformat": 4,
 "nbformat_minor": 0
}
