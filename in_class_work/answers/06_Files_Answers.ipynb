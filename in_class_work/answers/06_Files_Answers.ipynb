{
 "cells": [
  {
   "cell_type": "markdown",
   "metadata": {},
   "source": [
    "## Reading and Writing Files \n",
    "\n",
    "Let's practice reading and writing files with Python. Let's use a csv file that I downloaded from here: <https://www.ssa.gov/oact/babynames/limits.html>. It's a database of (almost) all the baby names in the US since the year 1880. First, we will load a file from 2012 and examine the information in it. \n",
    "\n",
    "The full file path is: R:\\Psy407_9\\Class_Data\\datasets\\baby_names_2012.txt\n",
    "\n",
    "Read the file into Python using `with` and the `readlines` method. Save all lines into a variable called `lines`. What is the data type of `lines`? Print the first 10 lines. "
   ]
  },
  {
   "cell_type": "code",
   "execution_count": 1,
   "metadata": {
    "collapsed": false
   },
   "outputs": [
    {
     "name": "stdout",
     "output_type": "stream",
     "text": [
      "['name    count_2012\\r\\n', 'Aabha   13\\r\\n', 'Aabriella   5\\r\\n', 'Aaden   5\\r\\n', 'Aadhira 6\\r\\n', 'Aadhya  218\\r\\n', 'Aadi    10\\r\\n', 'Aadison 11\\r\\n', 'Aaditri 10\\r\\n', 'Aadya   292\\r\\n']\n"
     ]
    }
   ],
   "source": [
    "\n",
    "#you would have to do the full path R:\\Psy407_9\\Class_Data\\datasets\\baby_names_2012.txt\n",
    "with open('../../datasets/baby_names_2012.txt') as f:\n",
    "    lines = f.readlines()\n",
    "    \n",
    "    \n",
    "print lines[:10]"
   ]
  },
  {
   "cell_type": "markdown",
   "metadata": {
    "collapsed": true
   },
   "source": [
    "Ugh, messy, right? Let's try to clean it up. Remember when we cleaned up the data from the story? Use the `strip` method to clean up all elements in `lines`. Save the result in `cleanlines`. "
   ]
  },
  {
   "cell_type": "code",
   "execution_count": 2,
   "metadata": {
    "collapsed": false
   },
   "outputs": [
    {
     "name": "stdout",
     "output_type": "stream",
     "text": [
      "['name    count_2012', 'Aabha   13', 'Aabriella   5', 'Aaden   5', 'Aadhira 6', 'Aadhya  218', 'Aadi    10', 'Aadison 11', 'Aaditri 10', 'Aadya   292']\n"
     ]
    }
   ],
   "source": [
    "cleanlines = []\n",
    "\n",
    "for l in lines:\n",
    "    cleanlines.append(l.strip())\n",
    "\n",
    "print cleanlines[:10]"
   ]
  },
  {
   "cell_type": "markdown",
   "metadata": {
    "collapsed": true
   },
   "source": [
    "Notice that each element consists of 2 bits of text, separated by some spaces. The first bit of text is a name, and the second bit is a number. The number corresponds to the frequency that the name occurred in the year 2012. \n",
    "\n",
    "Let's figure out how this file is configured. We can tell it's not a csv file because things aren't separated by commas. Maybe there are a certain number of spaces between the name and the frequency? We can use the `count` method to count the number of space characters in each element. Give it a try. Loop through `cleanlines` and count the number of spaces occur. Save the result into `spaces`. Do we have the same number of spaces between the pieces of information? (check the first 20 elements)"
   ]
  },
  {
   "cell_type": "code",
   "execution_count": 3,
   "metadata": {
    "collapsed": false
   },
   "outputs": [
    {
     "name": "stdout",
     "output_type": "stream",
     "text": [
      "[4, 3, 3, 3, 1, 2, 4, 1, 1, 3, 3, 1, 3, 2, 4, 3, 3, 4, 1, 3]\n"
     ]
    }
   ],
   "source": [
    "spaces = []\n",
    "\n",
    "for l in cleanlines:\n",
    "    spaces.append(l.count(' ')) #notice the space!\n",
    "    \n",
    "print spaces[:20]\n"
   ]
  },
  {
   "cell_type": "code",
   "execution_count": null,
   "metadata": {
    "collapsed": false
   },
   "outputs": [],
   "source": []
  },
  {
   "cell_type": "markdown",
   "metadata": {
    "collapsed": true
   },
   "source": [
    "Nope! We have a different number of spaces between them. Why don't you open the file with Notepad++ and take a look at it. Does it look like a delimited file? "
   ]
  },
  {
   "cell_type": "code",
   "execution_count": 4,
   "metadata": {
    "collapsed": true
   },
   "outputs": [],
   "source": [
    "#No, it's just a name, some spaces (which are variable), and a number on each line"
   ]
  },
  {
   "cell_type": "markdown",
   "metadata": {
    "collapsed": true
   },
   "source": [
    "It turns out this is a weird file that doesn't match a predefined format. Try opening it in Excel. What happens?\n",
    "\n",
    "We can work with it in Python, but let's save it as a standard format so we can use it in other programs. Let's process the data and save it as a .csv file.\n",
    "\n",
    "Even though each line has varying number of spaces, I bet that the `split` function can split the names from the frequencies. Give it a try!"
   ]
  },
  {
   "cell_type": "code",
   "execution_count": 5,
   "metadata": {
    "collapsed": false
   },
   "outputs": [
    {
     "name": "stdout",
     "output_type": "stream",
     "text": [
      "[['name', 'count_2012'], ['Aabha', '13'], ['Aabriella', '5'], ['Aaden', '5'], ['Aadhira', '6'], ['Aadhya', '218'], ['Aadi', '10'], ['Aadison', '11'], ['Aaditri', '10'], ['Aadya', '292']]\n"
     ]
    }
   ],
   "source": [
    "#Excel doesn't format it well either. \n",
    "\n",
    "splitlines = []\n",
    "\n",
    "for l in cleanlines:\n",
    "    splitlines.append(l.split()) #with no arguments, it defaults to spaces\n",
    "\n",
    "print splitlines[:10]\n",
    "\n"
   ]
  },
  {
   "cell_type": "code",
   "execution_count": null,
   "metadata": {
    "collapsed": false
   },
   "outputs": [],
   "source": []
  },
  {
   "cell_type": "markdown",
   "metadata": {},
   "source": [
    "Now use the `csv` package and `csv.writer` to write the file to your folder. Save it here: \n",
    "\n",
    "R:\\Psy407_9\\Student_Data\\MYDUCKID\\baby_names_2012.csv\n",
    "\n",
    "After it's done, open it with Excel and see if it worked the way you want. "
   ]
  },
  {
   "cell_type": "code",
   "execution_count": 6,
   "metadata": {
    "collapsed": false
   },
   "outputs": [],
   "source": [
    "import csv\n",
    "\n",
    "with open('baby_names_2012.csv','wb') as f:\n",
    "    writer = csv.writer(f,delimiter=',')\n",
    "    \n",
    "    writer.writerow(splitlines[0]) #write the header!\n",
    "    \n",
    "    for row in splitlines[1:]: #skip the first line (the header)\n",
    "        writer.writerow(row)"
   ]
  },
  {
   "cell_type": "code",
   "execution_count": null,
   "metadata": {
    "collapsed": false
   },
   "outputs": [],
   "source": []
  },
  {
   "cell_type": "markdown",
   "metadata": {},
   "source": [
    "Let's organize our information a different way, using a Python dictionary. Here we will make a dictionary where each key is a name, and its corresponding value is the frequency. Call the new dictionary `dnames`. You'll notice a problem, though. Some of the names don't have matching frequencies (I'm not sure why this is-- this is what you get with real data!). Give these ones the value of `None`, which is a special Python data type that means \"null\" or \"missing\". Also make sure to: \n",
    "\n",
    "* Captialize the names\n",
    "* Save the frequency as an integer, not a string!\n",
    "\n",
    "Careful, if you just to `print dnames` to check your work, it will be very slow! It's a huge list! Try printing just the first few keys, and the first few values"
   ]
  },
  {
   "cell_type": "code",
   "execution_count": 7,
   "metadata": {
    "collapsed": false
   },
   "outputs": [
    {
     "name": "stdout",
     "output_type": "stream",
     "text": [
      "['KARMELA', 'KOLLEEN', 'LEONARA', 'SANGITA', 'EMMAROSE', 'JOHNNY', 'DYANDRA', 'THALASSA', 'DANELLA', 'GENECIS']\n",
      "[108, 2621, 58, 187, 353, 13668, 41, 12, 2101, 170]\n"
     ]
    }
   ],
   "source": [
    "\n",
    "dnames = {}\n",
    "\n",
    "for row in splitlines[1:]: #skipping the header!\n",
    "    name = row[0].upper()\n",
    "    \n",
    "    if len(row)<2:\n",
    "        freq = None\n",
    "    else:\n",
    "        freq = int(row[1])\n",
    "       \n",
    "    dnames[name] = freq\n",
    "    \n",
    "    \n",
    "keys = dnames.keys()\n",
    "values = dnames.values()\n",
    "\n",
    "print keys[:10]\n",
    "print values[:10]\n",
    "\n"
   ]
  },
  {
   "cell_type": "markdown",
   "metadata": {
    "collapsed": false
   },
   "source": [
    "Now let's save the data for later. Remember, it's a dictionary, so a JSON file will work nicely. Use the `json.dump` function to save it to the file: \n",
    "\n",
    "R:\\Psy407_9\\Student_Data\\MYDUCKID\\baby_names_2012.json\n",
    "\n",
    "Then look at the file in Notepad++ to see what it looks like. \n",
    "\n"
   ]
  },
  {
   "cell_type": "code",
   "execution_count": 8,
   "metadata": {
    "collapsed": false
   },
   "outputs": [],
   "source": [
    "import json\n",
    "#obviously the file path will correspond to your own folder\n",
    "with open('baby_names_2012.json','w') as f:\n",
    "    json.dump(dnames,f)"
   ]
  },
  {
   "cell_type": "markdown",
   "metadata": {},
   "source": [
    "Now try reading the same json file using `json.load`, and saving it into a variable `dnames2`. Using `==`, see if dnames and dnames2 are the same"
   ]
  },
  {
   "cell_type": "code",
   "execution_count": 9,
   "metadata": {
    "collapsed": false
   },
   "outputs": [
    {
     "data": {
      "text/plain": [
       "True"
      ]
     },
     "execution_count": 9,
     "metadata": {},
     "output_type": "execute_result"
    }
   ],
   "source": [
    "with open('baby_names_2012.json','r') as f:\n",
    "    dnames2 = json.load(f)\n",
    "    \n",
    "    \n",
    "dnames==dnames2"
   ]
  },
  {
   "cell_type": "markdown",
   "metadata": {},
   "source": [
    "Now let's come full circle and take our dictionary that we loaded from the JSON file, and save it as a csv file. We can do this using part of the csv package, using csv.writer and writerow(). Use the `items` method to loop through the dictionary to write each row.\n",
    "\n",
    "Save the new file as:\n",
    "\n",
    "R:\\Psy407_9\\Student_Data\\MYDUCKID\\baby_names_2012_capital.csv"
   ]
  },
  {
   "cell_type": "code",
   "execution_count": 10,
   "metadata": {
    "collapsed": false
   },
   "outputs": [],
   "source": [
    "with open('baby_names_2012_capital.csv', 'wb') as f:\n",
    "    writer = csv.writer(f,delimiter=',')\n",
    "    \n",
    "    for key,value in dnames2.items():\n",
    "        writer.writerow([key,value])\n"
   ]
  }
 ],
 "metadata": {
  "kernelspec": {
   "display_name": "Python 2",
   "language": "python",
   "name": "python2"
  },
  "language_info": {
   "codemirror_mode": {
    "name": "ipython",
    "version": 2
   },
   "file_extension": ".py",
   "mimetype": "text/x-python",
   "name": "python",
   "nbconvert_exporter": "python",
   "pygments_lexer": "ipython2",
   "version": "2.7.11"
  }
 },
 "nbformat": 4,
 "nbformat_minor": 0
}
