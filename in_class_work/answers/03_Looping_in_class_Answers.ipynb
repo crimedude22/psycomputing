{
 "cells": [
  {
   "cell_type": "markdown",
   "metadata": {},
   "source": [
    "## Looping in-class\n",
    "\n"
   ]
  },
  {
   "cell_type": "markdown",
   "metadata": {},
   "source": [
    "### Problem 1\n",
    "\n",
    "Let's explore the `range` function. Range takes 1-3 arguments, (optionall) a starting point, an ending point, and (optionally) a step size. It produces a list of numbers that go from start to (end-1). If you don't provide a starting point, it uses 0 as a default. Similarly, if you don't provide a step size, it uses 1 by default. See if you can use `range` to produce the following lists:\n",
    "\n",
    "* The numbers 1 to 10\n",
    "* The numbers 0 to 9\n",
    "* The even numbers from 0 to 20\n",
    "\n"
   ]
  },
  {
   "cell_type": "code",
   "execution_count": 1,
   "metadata": {
    "collapsed": false
   },
   "outputs": [
    {
     "name": "stdout",
     "output_type": "stream",
     "text": [
      "[1, 2, 3, 4, 5, 6, 7, 8, 9, 10]\n",
      "[0, 1, 2, 3, 4, 5, 6, 7, 8, 9]\n",
      "[0, 1, 2, 3, 4, 5, 6, 7, 8, 9, 10, 11, 12, 13, 14, 15, 16, 17, 18, 19, 20]\n"
     ]
    }
   ],
   "source": [
    "print range(1,11)\n",
    "print range(10) #OR range(0,10)\n",
    "print range(21)"
   ]
  },
  {
   "cell_type": "code",
   "execution_count": null,
   "metadata": {
    "collapsed": false
   },
   "outputs": [],
   "source": []
  },
  {
   "cell_type": "markdown",
   "metadata": {},
   "source": [
    "### Problem 2\n",
    "\n",
    "* a.  Start with a basic `for` loop. Make a loop that loops 20 times, and prints the loop number at each point. \n",
    "* b.\tCreate a small loop that prints the numbers 5 through 25\n",
    "* c.\tCreate another loop that prints only the even numbers from 0 to 100 (hint: zero is an even number). \n",
    "* d.\tCreate another loop that prints only the odd numbers from 0 to 100\n"
   ]
  },
  {
   "cell_type": "code",
   "execution_count": 2,
   "metadata": {
    "collapsed": false
   },
   "outputs": [
    {
     "name": "stdout",
     "output_type": "stream",
     "text": [
      "0\n",
      "1\n",
      "2\n",
      "3\n",
      "4\n",
      "5\n",
      "6\n",
      "7\n",
      "8\n",
      "9\n",
      "10\n",
      "11\n",
      "12\n",
      "13\n",
      "14\n",
      "15\n",
      "16\n",
      "17\n",
      "18\n",
      "19\n"
     ]
    }
   ],
   "source": [
    "#a\n",
    "for i in range(20):\n",
    "    print i"
   ]
  },
  {
   "cell_type": "code",
   "execution_count": 3,
   "metadata": {
    "collapsed": false
   },
   "outputs": [
    {
     "name": "stdout",
     "output_type": "stream",
     "text": [
      "5\n",
      "6\n",
      "7\n",
      "8\n",
      "9\n",
      "10\n",
      "11\n",
      "12\n",
      "13\n",
      "14\n",
      "15\n",
      "16\n",
      "17\n",
      "18\n",
      "19\n",
      "20\n",
      "21\n",
      "22\n",
      "23\n",
      "24\n",
      "25\n"
     ]
    }
   ],
   "source": [
    "#b\n",
    "for i in range(5,26):\n",
    "    print i"
   ]
  },
  {
   "cell_type": "code",
   "execution_count": 4,
   "metadata": {
    "collapsed": false
   },
   "outputs": [
    {
     "name": "stdout",
     "output_type": "stream",
     "text": [
      "0\n",
      "2\n",
      "4\n",
      "6\n",
      "8\n",
      "10\n",
      "12\n",
      "14\n",
      "16\n",
      "18\n",
      "20\n",
      "22\n",
      "24\n",
      "26\n",
      "28\n",
      "30\n",
      "32\n",
      "34\n",
      "36\n",
      "38\n",
      "40\n",
      "42\n",
      "44\n",
      "46\n",
      "48\n",
      "50\n",
      "52\n",
      "54\n",
      "56\n",
      "58\n",
      "60\n",
      "62\n",
      "64\n",
      "66\n",
      "68\n",
      "70\n",
      "72\n",
      "74\n",
      "76\n",
      "78\n",
      "80\n",
      "82\n",
      "84\n",
      "86\n",
      "88\n",
      "90\n",
      "92\n",
      "94\n",
      "96\n",
      "98\n",
      "100\n"
     ]
    }
   ],
   "source": [
    "#c\n",
    "for i in range(0,101,2):\n",
    "    print i"
   ]
  },
  {
   "cell_type": "code",
   "execution_count": 5,
   "metadata": {
    "collapsed": false
   },
   "outputs": [
    {
     "name": "stdout",
     "output_type": "stream",
     "text": [
      "1\n",
      "3\n",
      "5\n",
      "7\n",
      "9\n",
      "11\n",
      "13\n",
      "15\n",
      "17\n",
      "19\n",
      "21\n",
      "23\n",
      "25\n",
      "27\n",
      "29\n",
      "31\n",
      "33\n",
      "35\n",
      "37\n",
      "39\n",
      "41\n",
      "43\n",
      "45\n",
      "47\n",
      "49\n",
      "51\n",
      "53\n",
      "55\n",
      "57\n",
      "59\n",
      "61\n",
      "63\n",
      "65\n",
      "67\n",
      "69\n",
      "71\n",
      "73\n",
      "75\n",
      "77\n",
      "79\n",
      "81\n",
      "83\n",
      "85\n",
      "87\n",
      "89\n",
      "91\n",
      "93\n",
      "95\n",
      "97\n",
      "99\n"
     ]
    }
   ],
   "source": [
    "#d\n",
    "for i in range(1,101,2):\n",
    "    print i"
   ]
  },
  {
   "cell_type": "markdown",
   "metadata": {},
   "source": [
    "### Problem 3\n",
    "\n",
    "Recreate the same behavior as problem 2c, except with a single loop. Create a variable called “odd” that sits outside your loop. You will assign odd the value of 0 or 1. If it’s 1, then your loop should print only the odd numbers from 0 to 100. If it’s 0, your loop should print the even numbers. Hint: you can use the modulus % operator to identify even numbers—when you divide an even number by 2, the remainder is always 0. \n"
   ]
  },
  {
   "cell_type": "code",
   "execution_count": 6,
   "metadata": {
    "collapsed": false
   },
   "outputs": [
    {
     "name": "stdout",
     "output_type": "stream",
     "text": [
      "0\n",
      "2\n",
      "4\n",
      "6\n",
      "8\n",
      "10\n",
      "12\n",
      "14\n",
      "16\n",
      "18\n",
      "20\n",
      "22\n",
      "24\n",
      "26\n",
      "28\n",
      "30\n",
      "32\n",
      "34\n",
      "36\n",
      "38\n",
      "40\n",
      "42\n",
      "44\n",
      "46\n",
      "48\n",
      "50\n",
      "52\n",
      "54\n",
      "56\n",
      "58\n",
      "60\n",
      "62\n",
      "64\n",
      "66\n",
      "68\n",
      "70\n",
      "72\n",
      "74\n",
      "76\n",
      "78\n",
      "80\n",
      "82\n",
      "84\n",
      "86\n",
      "88\n",
      "90\n",
      "92\n",
      "94\n",
      "96\n",
      "98\n",
      "100\n"
     ]
    }
   ],
   "source": [
    "odd = 0\n",
    "\n",
    "for i in range(101):\n",
    "    if odd==0 and i%2==0:\n",
    "        print i\n",
    "    elif odd==1 and i%2==1:\n",
    "        print i"
   ]
  },
  {
   "cell_type": "code",
   "execution_count": 7,
   "metadata": {
    "collapsed": false
   },
   "outputs": [
    {
     "name": "stdout",
     "output_type": "stream",
     "text": [
      "0\n",
      "2\n",
      "4\n",
      "6\n",
      "8\n",
      "10\n",
      "12\n",
      "14\n",
      "16\n",
      "18\n",
      "20\n",
      "22\n",
      "24\n",
      "26\n",
      "28\n",
      "30\n",
      "32\n",
      "34\n",
      "36\n",
      "38\n",
      "40\n",
      "42\n",
      "44\n",
      "46\n",
      "48\n",
      "50\n",
      "52\n",
      "54\n",
      "56\n",
      "58\n",
      "60\n",
      "62\n",
      "64\n",
      "66\n",
      "68\n",
      "70\n",
      "72\n",
      "74\n",
      "76\n",
      "78\n",
      "80\n",
      "82\n",
      "84\n",
      "86\n",
      "88\n",
      "90\n",
      "92\n",
      "94\n",
      "96\n",
      "98\n",
      "100\n"
     ]
    }
   ],
   "source": [
    "#alternative method:\n",
    "for i in range(odd,101,2):\n",
    "    print i"
   ]
  },
  {
   "cell_type": "markdown",
   "metadata": {},
   "source": [
    "### Problem 4\n",
    "\n",
    "Make a loop that loops 1000 times. At each loop, you will draw a random number (num) between 1 and 100. You will count the number of times num is greater than 50. Save this into a variable called “total” that you print after the loop is done.  \n"
   ]
  },
  {
   "cell_type": "code",
   "execution_count": 8,
   "metadata": {
    "collapsed": false
   },
   "outputs": [
    {
     "name": "stdout",
     "output_type": "stream",
     "text": [
      "513\n"
     ]
    }
   ],
   "source": [
    "import random \n",
    "\n",
    "total = 0 \n",
    "\n",
    "for i in range(1000):\n",
    "    num = random.randint(1,100) #draw a new random number\n",
    "    \n",
    "    if num>50:\n",
    "        total = total+1 #add to total if num > 50\n",
    "\n",
    "print total\n",
    "    \n"
   ]
  },
  {
   "cell_type": "markdown",
   "metadata": {},
   "source": [
    "### Problem 5\n",
    "\n",
    "Make a loop that loops the same number of times as a variable you call `num_loops`. At each loop, it should say \"Loop X\" where X is the loop number. Test this by setting `num_loops` to 20"
   ]
  },
  {
   "cell_type": "code",
   "execution_count": 9,
   "metadata": {
    "collapsed": false
   },
   "outputs": [
    {
     "name": "stdout",
     "output_type": "stream",
     "text": [
      "Loop 1\n",
      "Loop 2\n",
      "Loop 3\n",
      "Loop 4\n",
      "Loop 5\n",
      "Loop 6\n",
      "Loop 7\n",
      "Loop 8\n",
      "Loop 9\n",
      "Loop 10\n",
      "Loop 11\n",
      "Loop 12\n",
      "Loop 13\n",
      "Loop 14\n",
      "Loop 15\n",
      "Loop 16\n",
      "Loop 17\n",
      "Loop 18\n",
      "Loop 19\n",
      "Loop 20\n"
     ]
    }
   ],
   "source": [
    "\n",
    "num_loops = 20\n",
    "\n",
    "for i in range(1,num_loops+1): #note the +1 because of the way range works!\n",
    "    print \"Loop \" + str(i)\n",
    "\n"
   ]
  },
  {
   "cell_type": "markdown",
   "metadata": {},
   "source": [
    "Now make a loop where the iterator variable skips ahead by 5 (0,5,10, and so on...). Make it so you can specify the highest number it counts to. At each loop, have it print the *loop number* and the *value* of your iterator"
   ]
  },
  {
   "cell_type": "code",
   "execution_count": 10,
   "metadata": {
    "collapsed": false
   },
   "outputs": [
    {
     "name": "stdout",
     "output_type": "stream",
     "text": [
      "Loop numer: 0\n",
      "Value: 0\n",
      "Loop numer: 1\n",
      "Value: 5\n",
      "Loop numer: 2\n",
      "Value: 10\n",
      "Loop numer: 3\n",
      "Value: 15\n",
      "Loop numer: 4\n",
      "Value: 20\n"
     ]
    }
   ],
   "source": [
    "highest_num = 20\n",
    "loopvals = range(0,highest_num+1,5)\n",
    "\n",
    "#if we want the value and position (loop number), we use enumerate!\n",
    "\n",
    "for loopnum,current_num in enumerate(loopvals):\n",
    "    print \"Loop numer: \" + str(loopnum)\n",
    "    print \"Value: \" + str(current_num)\n",
    "\n",
    "\n",
    "\n",
    "\n",
    "\n"
   ]
  },
  {
   "cell_type": "markdown",
   "metadata": {
    "collapsed": true
   },
   "source": [
    "Now see if you can reproduce this same behavior with a `while` loop. "
   ]
  },
  {
   "cell_type": "code",
   "execution_count": 11,
   "metadata": {
    "collapsed": false
   },
   "outputs": [
    {
     "name": "stdout",
     "output_type": "stream",
     "text": [
      "Loop numer: 1\n",
      "Value: 0\n",
      "Loop numer: 2\n",
      "Value: 5\n",
      "Loop numer: 3\n",
      "Value: 10\n",
      "Loop numer: 4\n",
      "Value: 15\n",
      "Loop numer: 5\n",
      "Value: 20\n"
     ]
    }
   ],
   "source": [
    "highest_num = 20\n",
    "current_num = 0 #we need to keep track of the value...\n",
    "loopnum = 1 #...and the loop number\n",
    "\n",
    "while current_num <= highest_num:\n",
    "    print \"Loop numer: \" + str(loopnum)\n",
    "    print \"Value: \" + str(current_num)\n",
    "    \n",
    "    loopnum = loopnum+1 #increment the loop number by 1\n",
    "    current_num = current_num + 5 #increment the value by 5\n",
    "\n",
    "\n",
    "\n"
   ]
  },
  {
   "cell_type": "code",
   "execution_count": null,
   "metadata": {
    "collapsed": true
   },
   "outputs": [],
   "source": []
  },
  {
   "cell_type": "markdown",
   "metadata": {},
   "source": [
    "### Problem 6\n",
    "\n",
    "Let's make a very simple game of craps (with dice...). The `random` package has a function called `randint` for returning a random integer within some range. First, make it so python rolls 2 virtual dice, and print the result like this: \n",
    "\n",
    "`dice1: 5`<br>\n",
    "`dice2: 3`<br>\n",
    "`total: 8`\n",
    "\n"
   ]
  },
  {
   "cell_type": "code",
   "execution_count": 12,
   "metadata": {
    "collapsed": false
   },
   "outputs": [
    {
     "name": "stdout",
     "output_type": "stream",
     "text": [
      "dice1: 2\n",
      "dice2: 3\n",
      "total: 5\n"
     ]
    }
   ],
   "source": [
    "import random\n",
    "\n",
    "dice1 = random.randint(1,6) #roll the dice!\n",
    "dice2 = random.randint(1,6)\n",
    "\n",
    "total = dice1+dice2 #get the total\n",
    "\n",
    "#print it out!\n",
    "print \"dice1: \" + str(dice1)\n",
    "print \"dice2: \" + str(dice2)\n",
    "print \"total: \" + str(total)"
   ]
  },
  {
   "cell_type": "markdown",
   "metadata": {},
   "source": [
    "Now make it print \"Snake eyes!\" if the sum is 2. Hint: to test that this works, maybe you shouldn't rely on the random number generator (or you might be here all day). "
   ]
  },
  {
   "cell_type": "code",
   "execution_count": 13,
   "metadata": {
    "collapsed": false
   },
   "outputs": [
    {
     "name": "stdout",
     "output_type": "stream",
     "text": [
      "dice1: 3\n",
      "dice2: 3\n",
      "total: 6\n"
     ]
    }
   ],
   "source": [
    "import random\n",
    "\n",
    "dice1 = random.randint(1,6) #roll the dice!\n",
    "dice2 = random.randint(1,6)\n",
    "\n",
    "total = dice1+dice2 #get the total\n",
    "\n",
    "#print it out!\n",
    "print \"dice1: \" + str(dice1)\n",
    "print \"dice2: \" + str(dice2)\n",
    "print \"total: \" + str(total)\n",
    "\n",
    "# total = 2 #uncomment this line to test out your script!\n",
    "\n",
    "if total==2:\n",
    "    print \"Snake Eyes!\"\n",
    "elif total==7:\n",
    "    print \"7 is a Winner!\""
   ]
  },
  {
   "cell_type": "markdown",
   "metadata": {},
   "source": [
    "Lastly, make a loop that keeps rolling the dice, until you get 2, or 7. If you get 2, then it should say \"Snake Eyes\" and stop rolling. If you get 7, it should say \"7 is a Winner!\" and also stop rolling. "
   ]
  },
  {
   "cell_type": "code",
   "execution_count": 14,
   "metadata": {
    "collapsed": false
   },
   "outputs": [
    {
     "name": "stdout",
     "output_type": "stream",
     "text": [
      "7 is a Winner!\n"
     ]
    }
   ],
   "source": [
    "total = 0\n",
    "\n",
    "while (total != 2) and (total !=7):\n",
    "    dice1 = random.randint(1,6) #roll the dice!\n",
    "    dice2 = random.randint(1,6)\n",
    "    total = dice1+ dice2\n",
    "    \n",
    "    if total==2:\n",
    "        print \"Snake Eyes!\"\n",
    "    elif total==7:\n",
    "        print \"7 is a Winner!\"\n"
   ]
  },
  {
   "cell_type": "markdown",
   "metadata": {},
   "source": [
    "This is nice, but notice it runs really quickly. We don't know if Python rolled the dice 2 or 2000 times. Modify your script above so it also counts the number of times it had to roll before winning or losing. "
   ]
  },
  {
   "cell_type": "code",
   "execution_count": 15,
   "metadata": {
    "collapsed": false
   },
   "outputs": [
    {
     "name": "stdout",
     "output_type": "stream",
     "text": [
      "7 is a Winner!\n",
      "Number of tries: 7\n"
     ]
    }
   ],
   "source": [
    "total = 0\n",
    "numrolls = 0 #just add 1 more variable\n",
    "\n",
    "while (total != 2) and (total !=7):\n",
    "    dice1 = random.randint(1,6) #roll the dice!\n",
    "    dice2 = random.randint(1,6)\n",
    "    total = dice1+ dice2\n",
    "    numrolls = numrolls+1 #increment the number of rolls\n",
    "    \n",
    "    if total==2:\n",
    "        print \"Snake Eyes!\"\n",
    "        break\n",
    "    elif total==7:\n",
    "        print \"7 is a Winner!\"\n",
    "        break\n",
    "    \n",
    "    \n",
    "    \n",
    "print \"Number of tries: \" + str(numrolls) #and print it out!\n",
    "    "
   ]
  },
  {
   "cell_type": "markdown",
   "metadata": {},
   "source": [
    "### Problem 7\n",
    "\n",
    "Let's gamble some more. Time to make a roulette wheel: <br><br>\n",
    "\n",
    "<img width = '250px',align='right',src='http://www.moonlightfuncasinos.co.uk/wp-content/uploads/2013/04/Moonlight-Roulette-Wheel.jpg'></img>\n",
    "\n",
    "Here is basic breakdown of the setup: \n",
    "\n",
    "* The pockets of the roulette wheel are numbered from 0 to 36.\n",
    "* In number ranges from 1 to 10 and 19 to 28, odd numbers are red and even are black.\n",
    "* In ranges from 11 to 18 and 29 to 36, odd numbers are black and even are red.\n",
    "* 0 is green\n",
    "\n",
    "Make a virtual roulette wheel that you can bet on (Hint: a roulette wheel just draws a random number, like rolling dice). Create a variable called `bet` that you can either set to a number (1,2,3 etc) *or* a color ('red' or 'black', 'green'). Your virtual roulette will land on a particular number, and your script should determine whether it's a winner. Each play, it should print:\n",
    "\n",
    "* \"Bet: X\"\n",
    "* \"Roulette landed on: XX\"\n",
    "* \"WINNER!\" if you won, \"YOU LOSE!\" if you lost"
   ]
  },
  {
   "cell_type": "code",
   "execution_count": 16,
   "metadata": {
    "collapsed": false
   },
   "outputs": [
    {
     "name": "stdout",
     "output_type": "stream",
     "text": [
      "Bet: red\n",
      "Roulette landed on: 14\n",
      "Color is: red\n",
      "WINNER!\n"
     ]
    }
   ],
   "source": [
    "import random\n",
    "\n",
    "#bet can be 'red','black','green',or a number\n",
    "bet = 'red'\n",
    "\n",
    "spin = random.randint(0,36)\n",
    "\n",
    "#determine the color of the spin\n",
    "if spin==0: #0 is green\n",
    "    color = 'green'\n",
    "\n",
    "elif (spin >=1 and spin<=10) or (spin>=19 and spin <=28): \n",
    "    if spin%2==0: #if even\n",
    "        color = 'black' #then it's black\n",
    "    else:\n",
    "        color = 'red' #otherwise it's red\n",
    "\n",
    "elif (spin >=11 and spin<=18) or (spin>=29 and spin <=36): \n",
    "    if spin%2==0: #if even\n",
    "        color = 'red' #then it's red\n",
    "    else:\n",
    "        color = 'black' #otherwise it's black\n",
    "\n",
    "\n",
    "\n",
    "#print the bet, and what the roulette landed on\n",
    "print \"Bet: \" + str(bet)\n",
    "print \"Roulette landed on: \" + str(spin)\n",
    "print \"Color is: \" + color\n",
    "\n",
    "if spin==bet: #if you bet a single number, check for this first\n",
    "    print 'WINNER!'\n",
    "elif color==bet: #if the bet matched the color, you also win\n",
    "    print 'WINNER!'\n",
    "else: #otherwise, you lost\n",
    "    print 'YOU LOSE!'\n"
   ]
  },
  {
   "cell_type": "code",
   "execution_count": 17,
   "metadata": {
    "collapsed": false
   },
   "outputs": [
    {
     "name": "stdout",
     "output_type": "stream",
     "text": [
      "red\n"
     ]
    }
   ],
   "source": [
    "#NOTE: we could have flipped things around to figure out the color.\n",
    "#First, we check for even vs. odd, then we check for the value\n",
    "#it produces the same result!\n",
    "\n",
    "#determine the color of the spin\n",
    "if spin==0: #0 is green\n",
    "    color = 'green'\n",
    "\n",
    "elif spin%2==0: #if it's even\n",
    "    #and within these ranges\n",
    "    if (spin >=1 and spin<=10) or (spin>=19 and spin <=28): \n",
    "        color = 'black' #then it's black\n",
    "    else:\n",
    "        color = 'red' #otherwise it's red\n",
    "\n",
    "elif spin%2==1: #if it's odd\n",
    "    #and within these ranges\n",
    "    if (spin >=11 and spin<=18) or (spin>=29 and spin <=36):\n",
    "        color = 'black' #then it's black\n",
    "    else:\n",
    "        color = 'red' #otherwise it's red\n",
    "\n",
    "\n",
    "print color"
   ]
  },
  {
   "cell_type": "code",
   "execution_count": null,
   "metadata": {
    "collapsed": false
   },
   "outputs": [],
   "source": []
  }
 ],
 "metadata": {
  "kernelspec": {
   "display_name": "Python 2",
   "language": "python",
   "name": "python2"
  },
  "language_info": {
   "codemirror_mode": {
    "name": "ipython",
    "version": 2
   },
   "file_extension": ".py",
   "mimetype": "text/x-python",
   "name": "python",
   "nbconvert_exporter": "python",
   "pygments_lexer": "ipython2",
   "version": "2.7.11"
  }
 },
 "nbformat": 4,
 "nbformat_minor": 0
}
