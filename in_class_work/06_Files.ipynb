{
 "cells": [
  {
   "cell_type": "markdown",
   "metadata": {},
   "source": [
    "## Reading and Writing Files \n",
    "\n",
    "Let's practice reading and writing files with Python. Let's use a csv file that I downloaded from here: <https://www.ssa.gov/oact/babynames/limits.html>. It's a database of (almost) all the baby names in the US since the year 1880. First, we will load a file from 2012 and examine the information in it. \n",
    "\n",
    "The full file path is: R:\\Psy407_9\\Class_Data\\datasets\\baby_names_2012.txt\n",
    "\n",
    "Read the file into Python using `with` and the `readlines` method. Save all lines into a variable called `lines`. What is the data type of `lines`? Print the first 10 lines. "
   ]
  },
  {
   "cell_type": "code",
   "execution_count": null,
   "metadata": {
    "collapsed": false
   },
   "outputs": [],
   "source": []
  },
  {
   "cell_type": "markdown",
   "metadata": {
    "collapsed": true
   },
   "source": [
    "Ugh, messy, right? Let's try to clean it up. Remember when we cleaned up the data from the story? Use the `strip` method to clean up all elements in `lines`. Save the result in `cleanlines`. "
   ]
  },
  {
   "cell_type": "code",
   "execution_count": null,
   "metadata": {
    "collapsed": false
   },
   "outputs": [],
   "source": []
  },
  {
   "cell_type": "markdown",
   "metadata": {
    "collapsed": true
   },
   "source": [
    "Notice that each element consists of 2 bits of text, separated by some spaces. The first bit of text is a name, and the second bit is a number. The number corresponds to the frequency that the name occurred in the year 2012. \n",
    "\n",
    "Let's figure out how this file is configured. We can tell it's not a csv file because things aren't separated by commas. Maybe there are a certain number of spaces between the name and the frequency? We can use the `count` method to count the number of space characters in each element. Give it a try. Loop through `cleanlines` and count the number of spaces occur. Save the result into `spaces`. Do we have the same number of spaces between the pieces of information? (check the first 20 elements)"
   ]
  },
  {
   "cell_type": "code",
   "execution_count": null,
   "metadata": {
    "collapsed": false
   },
   "outputs": [],
   "source": []
  },
  {
   "cell_type": "code",
   "execution_count": null,
   "metadata": {
    "collapsed": false
   },
   "outputs": [],
   "source": []
  },
  {
   "cell_type": "markdown",
   "metadata": {
    "collapsed": true
   },
   "source": [
    "Nope! We have a different number of spaces between them. Why don't you open the file with Notepad++ and take a look at it. Does it look like a delimited file? "
   ]
  },
  {
   "cell_type": "code",
   "execution_count": null,
   "metadata": {
    "collapsed": true
   },
   "outputs": [],
   "source": []
  },
  {
   "cell_type": "markdown",
   "metadata": {
    "collapsed": true
   },
   "source": [
    "It turns out this is a weird file that doesn't match a predefined format. Try opening it in Excel. What happens?\n",
    "\n",
    "We can work with it in Python, but let's save it as a standard format so we can use it in other programs. Let's process the data and save it as a .csv file.\n",
    "\n",
    "Even though each line has varying number of spaces, I bet that the `split` function can split the names from the frequencies. Give it a try!"
   ]
  },
  {
   "cell_type": "code",
   "execution_count": null,
   "metadata": {
    "collapsed": true
   },
   "outputs": [],
   "source": []
  },
  {
   "cell_type": "code",
   "execution_count": null,
   "metadata": {
    "collapsed": false
   },
   "outputs": [],
   "source": []
  },
  {
   "cell_type": "markdown",
   "metadata": {},
   "source": [
    "Now use the `csv` package and `csv.writer` to write the file to your folder. Save it here: \n",
    "\n",
    "R:\\Psy407_9\\Student_Data\\MYDUCKID\\baby_names_2012.csv\n",
    "\n",
    "After it's done, open it with Excel and see if it worked the way you want. "
   ]
  },
  {
   "cell_type": "code",
   "execution_count": null,
   "metadata": {
    "collapsed": true
   },
   "outputs": [],
   "source": []
  },
  {
   "cell_type": "code",
   "execution_count": null,
   "metadata": {
    "collapsed": false
   },
   "outputs": [],
   "source": []
  },
  {
   "cell_type": "markdown",
   "metadata": {},
   "source": [
    "Let's organize our information a different way, using a Python dictionary. Here we will make a dictionary where each key is a name, and its corresponding value is the frequency. Call the new dictionary `dnames`. You'll notice a problem, though. Some of the names don't have matching frequencies (I'm not sure why this is-- this is what you get with real data!). Give these ones the value of `None`, which is a special Python data type that means \"null\" or \"missing\". Also make sure to: \n",
    "\n",
    "* Captialize the names\n",
    "* Save the frequency as an integer, not a string!\n",
    "\n",
    "Careful, if you just to `print dnames` to check your work, it will be very slow! It's a huge list! Try printing just the first few keys, and the first few values"
   ]
  },
  {
   "cell_type": "code",
   "execution_count": null,
   "metadata": {
    "collapsed": false
   },
   "outputs": [],
   "source": []
  },
  {
   "cell_type": "markdown",
   "metadata": {
    "collapsed": false
   },
   "source": [
    "Now let's save the data for later. Remember, it's a dictionary, so a JSON file will work nicely. Use the `json.dump` function to save it to the file: \n",
    "\n",
    "R:\\Psy407_9\\Student_Data\\MYDUCKID\\baby_names_2012.json\n",
    "\n",
    "Then look at the file in Notepad++ to see what it looks like. \n",
    "\n"
   ]
  },
  {
   "cell_type": "code",
   "execution_count": null,
   "metadata": {
    "collapsed": false
   },
   "outputs": [],
   "source": []
  },
  {
   "cell_type": "markdown",
   "metadata": {},
   "source": [
    "Now try reading the sampe json file using `json.load`, and saving it into a variable `dnames2`. Using `==`, see if dnames and dnames2 are the same"
   ]
  },
  {
   "cell_type": "code",
   "execution_count": null,
   "metadata": {
    "collapsed": true
   },
   "outputs": [],
   "source": []
  },
  {
   "cell_type": "markdown",
   "metadata": {},
   "source": [
    "Now let's come full circle and take our dictionary that we loaded from the JSON file, and save it as a csv file. We can do this using part of the csv package, using csv.writer and writerow(). Use the `items` method to loop through the dictionary to write each row.\n",
    "\n",
    "Save the new file as:\n",
    "\n",
    "R:\\Psy407_9\\Student_Data\\MYDUCKID\\baby_names_2012_capital.csv"
   ]
  },
  {
   "cell_type": "code",
   "execution_count": null,
   "metadata": {
    "collapsed": false
   },
   "outputs": [],
   "source": []
  },
  {
   "cell_type": "code",
   "execution_count": null,
   "metadata": {
    "collapsed": true
   },
   "outputs": [],
   "source": []
  },
  {
   "cell_type": "code",
   "execution_count": null,
   "metadata": {
    "collapsed": false
   },
   "outputs": [],
   "source": []
  }
 ],
 "metadata": {
  "kernelspec": {
   "display_name": "Python 2",
   "language": "python",
   "name": "python2"
  },
  "language_info": {
   "codemirror_mode": {
    "name": "ipython",
    "version": 2
   },
   "file_extension": ".py",
   "mimetype": "text/x-python",
   "name": "python",
   "nbconvert_exporter": "python",
   "pygments_lexer": "ipython2",
   "version": "2.7.11"
  }
 },
 "nbformat": 4,
 "nbformat_minor": 0
}
