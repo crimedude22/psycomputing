{
 "cells": [
  {
   "cell_type": "markdown",
   "metadata": {},
   "source": [
    "## Homework2  (DIY Class)\n",
    "\n",
    "Let's get a handle on importing functions. Today we will do some geometry. For this, we will need some functions from the `math` package.\n",
    "\n",
    "### Problem 1\n",
    "\n",
    "In the cell below, import the math package, and print out the value of `pi` which is part of that package. \n"
   ]
  },
  {
   "cell_type": "code",
   "execution_count": null,
   "metadata": {
    "collapsed": false
   },
   "outputs": [],
   "source": []
  },
  {
   "cell_type": "markdown",
   "metadata": {},
   "source": [
    "Now import just the `pi` variable from `math`, so you can refer to it as just `pi`. "
   ]
  },
  {
   "cell_type": "code",
   "execution_count": null,
   "metadata": {
    "collapsed": true
   },
   "outputs": [],
   "source": []
  },
  {
   "cell_type": "markdown",
   "metadata": {},
   "source": [
    "Now import so we can refer to it as `delicious.pi`"
   ]
  },
  {
   "cell_type": "code",
   "execution_count": null,
   "metadata": {
    "collapsed": false
   },
   "outputs": [],
   "source": []
  },
  {
   "cell_type": "markdown",
   "metadata": {},
   "source": [
    "### Problem 2\n",
    "\n",
    "Let's say I wake up early tomorrow morning and decide to go for a run. I find a running track at an elementary school that is (strangely) perfectly circular. I run 100 laps around the track, but I don't know how long it is. I improvise a solution for measuring it-- I break into the nearest classroom and steal a yardstick. I then use the yardstick to measure the distance from the center of the track to the inner edge of the track. I find that the distance from the center to the edge is 10 yards.\n",
    "\n",
    "\n",
    "How far did I run, in miles? calculate and print your answer below\n",
    "\n",
    "\n",
    "Here are some basic properties of circles, in case you forgot: \n",
    "\n",
    "<img src=\"http://convertxy.com/media/images/circle.gif\"></img>\n",
    "\n",
    "\n",
    "\n",
    "The equation for calculating the area is this:<br>\n",
    "$$area = \\pi r^2$$\n",
    "<br><br>\n",
    "And diameter is:<br>\n",
    "$$C = 2\\pi r$$\n"
   ]
  },
  {
   "cell_type": "code",
   "execution_count": null,
   "metadata": {
    "collapsed": false
   },
   "outputs": [],
   "source": []
  },
  {
   "cell_type": "markdown",
   "metadata": {},
   "source": [
    "Now use the `ceiling` and `floor` functions from the math pacakge to round my distance to the nearest whole mile (rounding up and down, respectively). "
   ]
  },
  {
   "cell_type": "code",
   "execution_count": null,
   "metadata": {
    "collapsed": true
   },
   "outputs": [],
   "source": []
  },
  {
   "cell_type": "code",
   "execution_count": null,
   "metadata": {
    "collapsed": true
   },
   "outputs": [],
   "source": []
  },
  {
   "cell_type": "code",
   "execution_count": null,
   "metadata": {
    "collapsed": true
   },
   "outputs": [],
   "source": []
  },
  {
   "cell_type": "markdown",
   "metadata": {},
   "source": [
    "I like this running track. I want to keep running there, but I'm obsessive-compulsive and can't stand it if the grass is too long. So, I decide to bring my lawnmower next time to mow the entire area inside the track. My mower is not very efficient, so I want to know if I should bring extra gas. How big is the grassy area I need to mow? Calculate and print your answer below. "
   ]
  },
  {
   "cell_type": "code",
   "execution_count": null,
   "metadata": {
    "collapsed": true
   },
   "outputs": [],
   "source": []
  },
  {
   "cell_type": "markdown",
   "metadata": {},
   "source": [
    "My lawnmower can only mow 3 square feet per gallon of gas. How much gas will I need to mow it? How much will it cost me if gas is $2.85 per gallon?"
   ]
  },
  {
   "cell_type": "code",
   "execution_count": null,
   "metadata": {
    "collapsed": true
   },
   "outputs": [],
   "source": []
  },
  {
   "cell_type": "markdown",
   "metadata": {},
   "source": [
    "Now write some code that takes 2 variables, `num_laps`, and `track_radius`, and calculates the total distance run (in miles). Additionally, it will calculate the area I need to mow, and how much it will cost me in gas. Your script should print the answers nicely. "
   ]
  },
  {
   "cell_type": "code",
   "execution_count": null,
   "metadata": {
    "collapsed": false
   },
   "outputs": [],
   "source": [
    "\n"
   ]
  },
  {
   "cell_type": "markdown",
   "metadata": {},
   "source": [
    "Copy-and-paste your script, and add another variable called `total_time`, and have it also calculate my pace (in minutes per mile) given the number of laps and track radius. "
   ]
  },
  {
   "cell_type": "code",
   "execution_count": null,
   "metadata": {
    "collapsed": true
   },
   "outputs": [],
   "source": []
  },
  {
   "cell_type": "markdown",
   "metadata": {},
   "source": [
    "Now modify the script so it changes the output depending on my total distance. \n",
    "* If I run less than 2 miles, it should say \"weak!\"\n",
    "* If I run 2-4 miles, it should say \"Meh\"\n",
    "* If I run 4-6 miles, it should say \"Alight I guess\" \n",
    "* If I run more than 6 miles, it should say \"Acceptable\"\n",
    "\n",
    "The script should also print the actual distance, in addition to the snarky comments. "
   ]
  },
  {
   "cell_type": "code",
   "execution_count": null,
   "metadata": {
    "collapsed": true
   },
   "outputs": [],
   "source": []
  },
  {
   "cell_type": "markdown",
   "metadata": {},
   "source": [
    "Now make a similar script, except it will print all increments of 1 mile that I ran. So if I ran 10 miles, it should print\n",
    "\n",
    "* Greater than 1\n",
    "* Greater than 2\n",
    "* Greater than 3\n",
    "\n",
    "\n",
    "and so on..."
   ]
  },
  {
   "cell_type": "code",
   "execution_count": null,
   "metadata": {
    "collapsed": true
   },
   "outputs": [],
   "source": []
  },
  {
   "cell_type": "markdown",
   "metadata": {
    "collapsed": false
   },
   "source": [
    "### Problem 3\n",
    "\n",
    "Let's make sure you understand conditional statements. I'm going to give you some complicated conditional statements, and you will need to break them step-by-step. Remember, we can use parentheses the same way that we do in algebra, so things inside of the parentheses will get evaluated first. In the example below, I show the original statement, then how each one gets converted to `True` or `False`, at each step. \n",
    "\n",
    "```python\n",
    "x = 4\n",
    "y = -5\n",
    "\n",
    "( (x>3) and (y<0) ) or ( (x==1) or (y>0) ) #original\n",
    "(  (True) and (True)) or ( (False) or (False) ) #simplifying inside the parentheses\n",
    "(        (True)       or          (False)     ) #simplifying again\n",
    "False #final answer\n",
    "```\n",
    "\n",
    "a. Now do the same thing with this statement:\n",
    "\n",
    "```python\n",
    "\n",
    "z = 8\n",
    "r = 105\n",
    "\n",
    "\n",
    "((z==8) or (r < 100)  and ((z <= 8) and (r != 105) ))\n",
    "\n",
    "```\n"
   ]
  },
  {
   "cell_type": "code",
   "execution_count": null,
   "metadata": {
    "collapsed": false
   },
   "outputs": [],
   "source": []
  },
  {
   "cell_type": "markdown",
   "metadata": {},
   "source": [
    "b. And this statement: \n",
    "\n",
    "```python\n",
    "\n",
    "w = 4\n",
    "j = 99\n",
    "\n",
    "( ((w != 3) or (w==4)) or  not( (w==j) or (j<100)  )  )\n",
    "\n",
    "```"
   ]
  },
  {
   "cell_type": "code",
   "execution_count": null,
   "metadata": {
    "collapsed": false
   },
   "outputs": [],
   "source": [
    "\n",
    "\n",
    "\n"
   ]
  },
  {
   "cell_type": "markdown",
   "metadata": {
    "collapsed": true
   },
   "source": [
    "### Problem 5\n",
    "\n",
    "I would like you to attempt to install Python on your own computer following the instructions here: <https://blogs.uoregon.edu/psycomputing/installing-python-at-home/>\n",
    "\n",
    "If you brought your laptop to class, feel free to work on it here. If not, you can do it at home. \n",
    "\n",
    "You do not have to succeed or fully understand what's going on. Just give it a try!\n"
   ]
  },
  {
   "cell_type": "code",
   "execution_count": null,
   "metadata": {
    "collapsed": true
   },
   "outputs": [],
   "source": []
  },
  {
   "cell_type": "code",
   "execution_count": null,
   "metadata": {
    "collapsed": true
   },
   "outputs": [],
   "source": []
  },
  {
   "cell_type": "code",
   "execution_count": null,
   "metadata": {
    "collapsed": true
   },
   "outputs": [],
   "source": []
  },
  {
   "cell_type": "code",
   "execution_count": null,
   "metadata": {
    "collapsed": true
   },
   "outputs": [],
   "source": []
  },
  {
   "cell_type": "code",
   "execution_count": null,
   "metadata": {
    "collapsed": true
   },
   "outputs": [],
   "source": []
  },
  {
   "cell_type": "code",
   "execution_count": null,
   "metadata": {
    "collapsed": true
   },
   "outputs": [],
   "source": []
  }
 ],
 "metadata": {
  "kernelspec": {
   "display_name": "Python 2",
   "language": "python",
   "name": "python2"
  },
  "language_info": {
   "codemirror_mode": {
    "name": "ipython",
    "version": 2
   },
   "file_extension": ".py",
   "mimetype": "text/x-python",
   "name": "python",
   "nbconvert_exporter": "python",
   "pygments_lexer": "ipython2",
   "version": "2.7.11"
  }
 },
 "nbformat": 4,
 "nbformat_minor": 0
}
