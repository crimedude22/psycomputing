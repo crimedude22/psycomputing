{
 "cells": [
  {
   "cell_type": "markdown",
   "metadata": {},
   "source": [
    "## In-class work, Day 1\n",
    "\n",
    "Ok, let's start with some Python basics. There are cells below where you can insert your code. \n",
    "\n",
    "1. Create variables `x`,`y`, and `z`. Assign them the values 3, 7, and 12, respectively. Then, have Python print: \n",
    "    * The sum of x and y\n",
    "    * The product of y and z\n",
    "    * x raised to the y power\n",
    "    * y divided by z\n",
    "    * the remainder when doing x divided by z\n",
    "<br><br>\n",
    "   \n",
    "2. Show me 2 different ways to access the help documentation for the function `sum`   \n",
    "<br><br>\n",
    "3. Make Python print the phrase \"Hello World\" \n",
    "<br><br>\n",
    "4. Create a variable called `name`, assign it the value \"Jason\", and make Python print the phrase \"Hello, Jason\" using that variable. "
   ]
  },
  {
   "cell_type": "code",
   "execution_count": null,
   "metadata": {
    "collapsed": false
   },
   "outputs": [],
   "source": [
    "#Do Problem 1 here"
   ]
  },
  {
   "cell_type": "code",
   "execution_count": null,
   "metadata": {
    "collapsed": true
   },
   "outputs": [],
   "source": [
    "#Do Problem 2 here"
   ]
  },
  {
   "cell_type": "code",
   "execution_count": null,
   "metadata": {
    "collapsed": false
   },
   "outputs": [],
   "source": [
    "#Do Problem 3 here"
   ]
  }
 ],
 "metadata": {
  "kernelspec": {
   "display_name": "Python 2",
   "language": "python",
   "name": "python2"
  },
  "language_info": {
   "codemirror_mode": {
    "name": "ipython",
    "version": 2
   },
   "file_extension": ".py",
   "mimetype": "text/x-python",
   "name": "python",
   "nbconvert_exporter": "python",
   "pygments_lexer": "ipython2",
   "version": "2.7.11"
  }
 },
 "nbformat": 4,
 "nbformat_minor": 0
}
